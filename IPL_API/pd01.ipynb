{
 "cells": [
  {
   "cell_type": "code",
   "execution_count": null,
   "id": "29952fba",
   "metadata": {},
   "outputs": [],
   "source": [
    "import numpy as np\n",
    "import pandas as pd"
   ]
  },
  {
   "cell_type": "markdown",
   "id": "e29870c9",
   "metadata": {},
   "source": []
  },
  {
   "cell_type": "code",
   "execution_count": 4,
   "id": "91a82ecd",
   "metadata": {},
   "outputs": [
    {
     "data": {
      "application/vnd.microsoft.datawrangler.viewer.v0+json": {
       "columns": [
        {
         "name": "index",
         "rawType": "int64",
         "type": "integer"
        },
        {
         "name": "ID",
         "rawType": "int64",
         "type": "integer"
        },
        {
         "name": "City",
         "rawType": "object",
         "type": "string"
        },
        {
         "name": "Date",
         "rawType": "object",
         "type": "string"
        },
        {
         "name": "Season",
         "rawType": "object",
         "type": "string"
        },
        {
         "name": "MatchNumber",
         "rawType": "object",
         "type": "string"
        },
        {
         "name": "Team1",
         "rawType": "object",
         "type": "string"
        },
        {
         "name": "Team2",
         "rawType": "object",
         "type": "string"
        },
        {
         "name": "Venue",
         "rawType": "object",
         "type": "string"
        },
        {
         "name": "TossWinner",
         "rawType": "object",
         "type": "string"
        },
        {
         "name": "TossDecision",
         "rawType": "object",
         "type": "string"
        },
        {
         "name": "SuperOver",
         "rawType": "object",
         "type": "string"
        },
        {
         "name": "WinningTeam",
         "rawType": "object",
         "type": "string"
        },
        {
         "name": "WonBy",
         "rawType": "object",
         "type": "string"
        },
        {
         "name": "Margin",
         "rawType": "float64",
         "type": "float"
        },
        {
         "name": "method",
         "rawType": "object",
         "type": "unknown"
        },
        {
         "name": "Player_of_Match",
         "rawType": "object",
         "type": "string"
        },
        {
         "name": "Team1Players",
         "rawType": "object",
         "type": "string"
        },
        {
         "name": "Team2Players",
         "rawType": "object",
         "type": "string"
        },
        {
         "name": "Umpire1",
         "rawType": "object",
         "type": "string"
        },
        {
         "name": "Umpire2",
         "rawType": "object",
         "type": "string"
        }
       ],
       "ref": "2c176e32-dc57-4d81-bf43-59459da526be",
       "rows": [
        [
         "0",
         "1312200",
         "Ahmedabad",
         "2022-05-29",
         "2022",
         "Final",
         "Rajasthan Royals",
         "Gujarat Titans",
         "Narendra Modi Stadium, Ahmedabad",
         "Rajasthan Royals",
         "bat",
         "N",
         "Gujarat Titans",
         "Wickets",
         "7.0",
         null,
         "HH Pandya",
         "['YBK Jaiswal', 'JC Buttler', 'SV Samson', 'D Padikkal', 'SO Hetmyer', 'R Ashwin', 'R Parag', 'TA Boult', 'OC McCoy', 'M Prasidh Krishna', 'YS Chahal']",
         "['WP Saha', 'Shubman Gill', 'MS Wade', 'HH Pandya', 'DA Miller', 'R Tewatia', 'Rashid Khan', 'R Sai Kishore', 'LH Ferguson', 'Yash Dayal', 'Mohammed Shami']",
         "CB Gaffaney",
         "Nitin Menon"
        ],
        [
         "1",
         "1312199",
         "Ahmedabad",
         "2022-05-27",
         "2022",
         "Qualifier 2",
         "Royal Challengers Bangalore",
         "Rajasthan Royals",
         "Narendra Modi Stadium, Ahmedabad",
         "Rajasthan Royals",
         "field",
         "N",
         "Rajasthan Royals",
         "Wickets",
         "7.0",
         null,
         "JC Buttler",
         "['V Kohli', 'F du Plessis', 'RM Patidar', 'GJ Maxwell', 'MK Lomror', 'KD Karthik', 'Shahbaz Ahmed', 'PWH de Silva', 'HV Patel', 'JR Hazlewood', 'Mohammed Siraj']",
         "['YBK Jaiswal', 'JC Buttler', 'SV Samson', 'D Padikkal', 'SO Hetmyer', 'R Parag', 'R Ashwin', 'TA Boult', 'YS Chahal', 'M Prasidh Krishna', 'OC McCoy']",
         "CB Gaffaney",
         "Nitin Menon"
        ],
        [
         "2",
         "1312198",
         "Kolkata",
         "2022-05-25",
         "2022",
         "Eliminator",
         "Royal Challengers Bangalore",
         "Lucknow Super Giants",
         "Eden Gardens, Kolkata",
         "Lucknow Super Giants",
         "field",
         "N",
         "Royal Challengers Bangalore",
         "Runs",
         "14.0",
         null,
         "RM Patidar",
         "['V Kohli', 'F du Plessis', 'RM Patidar', 'GJ Maxwell', 'MK Lomror', 'KD Karthik', 'Shahbaz Ahmed', 'HV Patel', 'PWH de Silva', 'JR Hazlewood', 'Mohammed Siraj']",
         "['Q de Kock', 'KL Rahul', 'M Vohra', 'DJ Hooda', 'MP Stoinis', 'E Lewis', 'KH Pandya', 'PVD Chameera', 'Mohsin Khan', 'Avesh Khan', 'Ravi Bishnoi']",
         "J Madanagopal",
         "MA Gough"
        ],
        [
         "3",
         "1312197",
         "Kolkata",
         "2022-05-24",
         "2022",
         "Qualifier 1",
         "Rajasthan Royals",
         "Gujarat Titans",
         "Eden Gardens, Kolkata",
         "Gujarat Titans",
         "field",
         "N",
         "Gujarat Titans",
         "Wickets",
         "7.0",
         null,
         "DA Miller",
         "['YBK Jaiswal', 'JC Buttler', 'SV Samson', 'D Padikkal', 'SO Hetmyer', 'R Parag', 'R Ashwin', 'TA Boult', 'YS Chahal', 'M Prasidh Krishna', 'OC McCoy']",
         "['WP Saha', 'Shubman Gill', 'MS Wade', 'HH Pandya', 'DA Miller', 'R Tewatia', 'Rashid Khan', 'R Sai Kishore', 'AS Joseph', 'Yash Dayal', 'Mohammed Shami']",
         "BNJ Oxenford",
         "VK Sharma"
        ],
        [
         "4",
         "1304116",
         "Mumbai",
         "2022-05-22",
         "2022",
         "70",
         "Sunrisers Hyderabad",
         "Punjab Kings",
         "Wankhede Stadium, Mumbai",
         "Sunrisers Hyderabad",
         "bat",
         "N",
         "Punjab Kings",
         "Wickets",
         "5.0",
         null,
         "Harpreet Brar",
         "['PK Garg', 'Abhishek Sharma', 'RA Tripathi', 'AK Markram', 'N Pooran', 'Washington Sundar', 'R Shepherd', 'J Suchith', 'B Kumar', 'Umran Malik', 'Fazalhaq Farooqi']",
         "['JM Bairstow', 'S Dhawan', 'M Shahrukh Khan', 'MA Agarwal', 'LS Livingstone', 'JM Sharma', 'PN Mankad', 'Harpreet Brar', 'K Rabada', 'NT Ellis', 'Arshdeep Singh']",
         "AK Chaudhary",
         "NA Patwardhan"
        ]
       ],
       "shape": {
        "columns": 20,
        "rows": 5
       }
      },
      "text/html": [
       "<div>\n",
       "<style scoped>\n",
       "    .dataframe tbody tr th:only-of-type {\n",
       "        vertical-align: middle;\n",
       "    }\n",
       "\n",
       "    .dataframe tbody tr th {\n",
       "        vertical-align: top;\n",
       "    }\n",
       "\n",
       "    .dataframe thead th {\n",
       "        text-align: right;\n",
       "    }\n",
       "</style>\n",
       "<table border=\"1\" class=\"dataframe\">\n",
       "  <thead>\n",
       "    <tr style=\"text-align: right;\">\n",
       "      <th></th>\n",
       "      <th>ID</th>\n",
       "      <th>City</th>\n",
       "      <th>Date</th>\n",
       "      <th>Season</th>\n",
       "      <th>MatchNumber</th>\n",
       "      <th>Team1</th>\n",
       "      <th>Team2</th>\n",
       "      <th>Venue</th>\n",
       "      <th>TossWinner</th>\n",
       "      <th>TossDecision</th>\n",
       "      <th>SuperOver</th>\n",
       "      <th>WinningTeam</th>\n",
       "      <th>WonBy</th>\n",
       "      <th>Margin</th>\n",
       "      <th>method</th>\n",
       "      <th>Player_of_Match</th>\n",
       "      <th>Team1Players</th>\n",
       "      <th>Team2Players</th>\n",
       "      <th>Umpire1</th>\n",
       "      <th>Umpire2</th>\n",
       "    </tr>\n",
       "  </thead>\n",
       "  <tbody>\n",
       "    <tr>\n",
       "      <th>0</th>\n",
       "      <td>1312200</td>\n",
       "      <td>Ahmedabad</td>\n",
       "      <td>2022-05-29</td>\n",
       "      <td>2022</td>\n",
       "      <td>Final</td>\n",
       "      <td>Rajasthan Royals</td>\n",
       "      <td>Gujarat Titans</td>\n",
       "      <td>Narendra Modi Stadium, Ahmedabad</td>\n",
       "      <td>Rajasthan Royals</td>\n",
       "      <td>bat</td>\n",
       "      <td>N</td>\n",
       "      <td>Gujarat Titans</td>\n",
       "      <td>Wickets</td>\n",
       "      <td>7.0</td>\n",
       "      <td>NaN</td>\n",
       "      <td>HH Pandya</td>\n",
       "      <td>['YBK Jaiswal', 'JC Buttler', 'SV Samson', 'D ...</td>\n",
       "      <td>['WP Saha', 'Shubman Gill', 'MS Wade', 'HH Pan...</td>\n",
       "      <td>CB Gaffaney</td>\n",
       "      <td>Nitin Menon</td>\n",
       "    </tr>\n",
       "    <tr>\n",
       "      <th>1</th>\n",
       "      <td>1312199</td>\n",
       "      <td>Ahmedabad</td>\n",
       "      <td>2022-05-27</td>\n",
       "      <td>2022</td>\n",
       "      <td>Qualifier 2</td>\n",
       "      <td>Royal Challengers Bangalore</td>\n",
       "      <td>Rajasthan Royals</td>\n",
       "      <td>Narendra Modi Stadium, Ahmedabad</td>\n",
       "      <td>Rajasthan Royals</td>\n",
       "      <td>field</td>\n",
       "      <td>N</td>\n",
       "      <td>Rajasthan Royals</td>\n",
       "      <td>Wickets</td>\n",
       "      <td>7.0</td>\n",
       "      <td>NaN</td>\n",
       "      <td>JC Buttler</td>\n",
       "      <td>['V Kohli', 'F du Plessis', 'RM Patidar', 'GJ ...</td>\n",
       "      <td>['YBK Jaiswal', 'JC Buttler', 'SV Samson', 'D ...</td>\n",
       "      <td>CB Gaffaney</td>\n",
       "      <td>Nitin Menon</td>\n",
       "    </tr>\n",
       "    <tr>\n",
       "      <th>2</th>\n",
       "      <td>1312198</td>\n",
       "      <td>Kolkata</td>\n",
       "      <td>2022-05-25</td>\n",
       "      <td>2022</td>\n",
       "      <td>Eliminator</td>\n",
       "      <td>Royal Challengers Bangalore</td>\n",
       "      <td>Lucknow Super Giants</td>\n",
       "      <td>Eden Gardens, Kolkata</td>\n",
       "      <td>Lucknow Super Giants</td>\n",
       "      <td>field</td>\n",
       "      <td>N</td>\n",
       "      <td>Royal Challengers Bangalore</td>\n",
       "      <td>Runs</td>\n",
       "      <td>14.0</td>\n",
       "      <td>NaN</td>\n",
       "      <td>RM Patidar</td>\n",
       "      <td>['V Kohli', 'F du Plessis', 'RM Patidar', 'GJ ...</td>\n",
       "      <td>['Q de Kock', 'KL Rahul', 'M Vohra', 'DJ Hooda...</td>\n",
       "      <td>J Madanagopal</td>\n",
       "      <td>MA Gough</td>\n",
       "    </tr>\n",
       "    <tr>\n",
       "      <th>3</th>\n",
       "      <td>1312197</td>\n",
       "      <td>Kolkata</td>\n",
       "      <td>2022-05-24</td>\n",
       "      <td>2022</td>\n",
       "      <td>Qualifier 1</td>\n",
       "      <td>Rajasthan Royals</td>\n",
       "      <td>Gujarat Titans</td>\n",
       "      <td>Eden Gardens, Kolkata</td>\n",
       "      <td>Gujarat Titans</td>\n",
       "      <td>field</td>\n",
       "      <td>N</td>\n",
       "      <td>Gujarat Titans</td>\n",
       "      <td>Wickets</td>\n",
       "      <td>7.0</td>\n",
       "      <td>NaN</td>\n",
       "      <td>DA Miller</td>\n",
       "      <td>['YBK Jaiswal', 'JC Buttler', 'SV Samson', 'D ...</td>\n",
       "      <td>['WP Saha', 'Shubman Gill', 'MS Wade', 'HH Pan...</td>\n",
       "      <td>BNJ Oxenford</td>\n",
       "      <td>VK Sharma</td>\n",
       "    </tr>\n",
       "    <tr>\n",
       "      <th>4</th>\n",
       "      <td>1304116</td>\n",
       "      <td>Mumbai</td>\n",
       "      <td>2022-05-22</td>\n",
       "      <td>2022</td>\n",
       "      <td>70</td>\n",
       "      <td>Sunrisers Hyderabad</td>\n",
       "      <td>Punjab Kings</td>\n",
       "      <td>Wankhede Stadium, Mumbai</td>\n",
       "      <td>Sunrisers Hyderabad</td>\n",
       "      <td>bat</td>\n",
       "      <td>N</td>\n",
       "      <td>Punjab Kings</td>\n",
       "      <td>Wickets</td>\n",
       "      <td>5.0</td>\n",
       "      <td>NaN</td>\n",
       "      <td>Harpreet Brar</td>\n",
       "      <td>['PK Garg', 'Abhishek Sharma', 'RA Tripathi', ...</td>\n",
       "      <td>['JM Bairstow', 'S Dhawan', 'M Shahrukh Khan',...</td>\n",
       "      <td>AK Chaudhary</td>\n",
       "      <td>NA Patwardhan</td>\n",
       "    </tr>\n",
       "  </tbody>\n",
       "</table>\n",
       "</div>"
      ],
      "text/plain": [
       "        ID       City        Date Season  MatchNumber  \\\n",
       "0  1312200  Ahmedabad  2022-05-29   2022        Final   \n",
       "1  1312199  Ahmedabad  2022-05-27   2022  Qualifier 2   \n",
       "2  1312198    Kolkata  2022-05-25   2022   Eliminator   \n",
       "3  1312197    Kolkata  2022-05-24   2022  Qualifier 1   \n",
       "4  1304116     Mumbai  2022-05-22   2022           70   \n",
       "\n",
       "                         Team1                 Team2  \\\n",
       "0             Rajasthan Royals        Gujarat Titans   \n",
       "1  Royal Challengers Bangalore      Rajasthan Royals   \n",
       "2  Royal Challengers Bangalore  Lucknow Super Giants   \n",
       "3             Rajasthan Royals        Gujarat Titans   \n",
       "4          Sunrisers Hyderabad          Punjab Kings   \n",
       "\n",
       "                              Venue            TossWinner TossDecision  \\\n",
       "0  Narendra Modi Stadium, Ahmedabad      Rajasthan Royals          bat   \n",
       "1  Narendra Modi Stadium, Ahmedabad      Rajasthan Royals        field   \n",
       "2             Eden Gardens, Kolkata  Lucknow Super Giants        field   \n",
       "3             Eden Gardens, Kolkata        Gujarat Titans        field   \n",
       "4          Wankhede Stadium, Mumbai   Sunrisers Hyderabad          bat   \n",
       "\n",
       "  SuperOver                  WinningTeam    WonBy  Margin method  \\\n",
       "0         N               Gujarat Titans  Wickets     7.0    NaN   \n",
       "1         N             Rajasthan Royals  Wickets     7.0    NaN   \n",
       "2         N  Royal Challengers Bangalore     Runs    14.0    NaN   \n",
       "3         N               Gujarat Titans  Wickets     7.0    NaN   \n",
       "4         N                 Punjab Kings  Wickets     5.0    NaN   \n",
       "\n",
       "  Player_of_Match                                       Team1Players  \\\n",
       "0       HH Pandya  ['YBK Jaiswal', 'JC Buttler', 'SV Samson', 'D ...   \n",
       "1      JC Buttler  ['V Kohli', 'F du Plessis', 'RM Patidar', 'GJ ...   \n",
       "2      RM Patidar  ['V Kohli', 'F du Plessis', 'RM Patidar', 'GJ ...   \n",
       "3       DA Miller  ['YBK Jaiswal', 'JC Buttler', 'SV Samson', 'D ...   \n",
       "4   Harpreet Brar  ['PK Garg', 'Abhishek Sharma', 'RA Tripathi', ...   \n",
       "\n",
       "                                        Team2Players        Umpire1  \\\n",
       "0  ['WP Saha', 'Shubman Gill', 'MS Wade', 'HH Pan...    CB Gaffaney   \n",
       "1  ['YBK Jaiswal', 'JC Buttler', 'SV Samson', 'D ...    CB Gaffaney   \n",
       "2  ['Q de Kock', 'KL Rahul', 'M Vohra', 'DJ Hooda...  J Madanagopal   \n",
       "3  ['WP Saha', 'Shubman Gill', 'MS Wade', 'HH Pan...   BNJ Oxenford   \n",
       "4  ['JM Bairstow', 'S Dhawan', 'M Shahrukh Khan',...   AK Chaudhary   \n",
       "\n",
       "         Umpire2  \n",
       "0    Nitin Menon  \n",
       "1    Nitin Menon  \n",
       "2       MA Gough  \n",
       "3      VK Sharma  \n",
       "4  NA Patwardhan  "
      ]
     },
     "execution_count": 4,
     "metadata": {},
     "output_type": "execute_result"
    }
   ],
   "source": [
    "ipl = pd.read_csv(r'F:\\SHIKHER-VS\\DSMP\\02_pandas\\datasets\\datasets-session-17\\ipl-matches.csv')\n",
    "ipl.head(5)\n"
   ]
  },
  {
   "cell_type": "code",
   "execution_count": null,
   "id": "98d9a7af",
   "metadata": {},
   "outputs": [],
   "source": [
    "ipl.columns,ipl.index"
   ]
  },
  {
   "cell_type": "code",
   "execution_count": null,
   "id": "d8ff3a11",
   "metadata": {},
   "outputs": [],
   "source": [
    "ipl.sample(5)"
   ]
  },
  {
   "cell_type": "code",
   "execution_count": null,
   "metadata": {},
   "outputs": [],
   "source": [
    "ipl.describe()"
   ]
  },
  {
   "cell_type": "code",
   "execution_count": null,
   "id": "0fb5e041",
   "metadata": {},
   "outputs": [],
   "source": [
    "ipl.duplicated().sum()"
   ]
  },
  {
   "cell_type": "code",
   "execution_count": null,
   "metadata": {},
   "outputs": [],
   "source": [
    "ipl['Venue'].value_counts()"
   ]
  },
  {
   "cell_type": "code",
   "execution_count": null,
   "id": "259acbfe",
   "metadata": {},
   "outputs": [],
   "source": [
    "ipl.head()"
   ]
  },
  {
   "cell_type": "code",
   "execution_count": null,
   "metadata": {},
   "outputs": [],
   "source": [
    "ipl[['Date','Team1','Team2','WinningTeam']]"
   ]
  },
  {
   "cell_type": "code",
   "execution_count": null,
   "metadata": {},
   "outputs": [],
   "source": [
    "ipl.head(8)"
   ]
  },
  {
   "cell_type": "code",
   "execution_count": null,
   "id": "a98cd4d1",
   "metadata": {},
   "outputs": [],
   "source": [
    "mask = ipl['MatchNumber'] == 'Final'\n",
    "new_df = ipl[mask]\n",
    "new_df[['Season','WinningTeam']]"
   ]
  },
  {
   "cell_type": "code",
   "execution_count": null,
   "id": "fd0f508f",
   "metadata": {},
   "outputs": [],
   "source": [
    "ipl[ipl['MatchNumber'] == 'Final'][['Season','WinningTeam']]"
   ]
  },
  {
   "cell_type": "code",
   "execution_count": null,
   "id": "303c0e78",
   "metadata": {},
   "outputs": [],
   "source": [
    "ipl[ipl['SuperOver'] == 'Y'][['Season','WinningTeam']]\n",
    "(ipl['SuperOver'] == 'Y').sum()"
   ]
  },
  {
   "cell_type": "code",
   "execution_count": null,
   "id": "52cefb1a",
   "metadata": {},
   "outputs": [],
   "source": [
    "ipl.tail(5)"
   ]
  },
  {
   "cell_type": "code",
   "execution_count": null,
   "id": "1bd5189a",
   "metadata": {},
   "outputs": [],
   "source": [
    "ipl[ (ipl['City'] == 'Kolkata') & (('Chennai Super Kings' == ipl[\"Team1\"])  | ('Chennai Super Kings' == ipl[\"Team2\"]))]\n",
    "\n",
    "\n"
   ]
  },
  {
   "cell_type": "code",
   "execution_count": null,
   "id": "a9045692",
   "metadata": {},
   "outputs": [],
   "source": [
    "ipl[ (ipl['City'] == 'Kolkata') & ('Chennai Super Kings' == ipl[\"WinningTeam\"])]\n",
    "\n",
    "((ipl['City'] == 'Kolkata') & ('Chennai Super Kings' == ipl[\"WinningTeam\"])).sum()\n",
    "sum((ipl['City'] == 'Kolkata') & ('Chennai Super Kings' == ipl[\"WinningTeam\"]))\n",
    "\n"
   ]
  },
  {
   "cell_type": "code",
   "execution_count": null,
   "id": "aa8980ab",
   "metadata": {},
   "outputs": [],
   "source": [
    "((ipl[(ipl['TossWinner']==ipl['WinningTeam'])]).shape[0] / ipl.shape[0]) * 100\n",
    "\n"
   ]
  },
  {
   "cell_type": "code",
   "execution_count": null,
   "id": "49f1a958",
   "metadata": {},
   "outputs": [],
   "source": [
    "ipl"
   ]
  },
  {
   "cell_type": "code",
   "execution_count": null,
   "id": "6814f9ed",
   "metadata": {},
   "outputs": [],
   "source": [
    "ipl.info()"
   ]
  },
  {
   "cell_type": "code",
   "execution_count": null,
   "id": "7a84afaa",
   "metadata": {},
   "outputs": [],
   "source": [
    "ipl['ID'] = ipl['ID'].astype('int32')\n",
    "ipl['Season'] = ipl['Season'].astype('category')\n",
    "ipl['Team1'] = ipl['Team1'].astype('category')\n",
    "ipl['Team2'] = ipl['Team2'].astype('category')\n",
    "ipl['TossWinner'] = ipl['TossWinner'].astype('category')\n",
    "ipl['WinningTeam'] = ipl['WinningTeam'].astype('category')\n",
    "\n",
    "ipl['TossDecision'] = ipl['TossDecision'].astype('category')\n",
    "ipl['City'] = ipl['City'].astype('category')\n",
    "ipl['Venue'] = ipl['Venue'].astype('category')\n",
    "ipl['TossDecision'] = ipl['TossDecision'].astype('category')\n",
    "ipl['WonBy'] = ipl['WonBy'].astype('category')\n",
    "ipl['MatchNumber'] = ipl['MatchNumber'].astype('category')\n"
   ]
  },
  {
   "cell_type": "code",
   "execution_count": null,
   "id": "646807d1",
   "metadata": {},
   "outputs": [],
   "source": [
    "ipl.head()"
   ]
  },
  {
   "cell_type": "code",
   "execution_count": null,
   "id": "8c277e1c",
   "metadata": {},
   "outputs": [],
   "source": [
    "T1 = 'Rajasthan Royals'\n",
    "T2 = 'Royal Challengers Bangalore'"
   ]
  },
  {
   "cell_type": "code",
   "execution_count": null,
   "id": "f3928f5f",
   "metadata": {},
   "outputs": [],
   "source": [
    "temp_df = ipl[((ipl['Team1'] == T1) & (ipl['Team2'] == T2) ) | ((ipl['Team1'] == T2) & (ipl['Team2'] == T1) )]"
   ]
  },
  {
   "cell_type": "code",
   "execution_count": null,
   "id": "b0a3a99e",
   "metadata": {},
   "outputs": [],
   "source": [
    "total_matches = temp_df.shape[0]"
   ]
  },
  {
   "cell_type": "code",
   "execution_count": null,
   "id": "4c4e318d",
   "metadata": {},
   "outputs": [],
   "source": [
    "matches_won_T1 = temp_df['WinningTeam'].value_counts()[T1]\n",
    "matches_won_T2 = temp_df['WinningTeam'].value_counts()[T2]\n",
    "draws = total_matches - (matches_won_T2 + matches_won_T1)\n"
   ]
  },
  {
   "cell_type": "code",
   "execution_count": null,
   "id": "d7116cdd",
   "metadata": {},
   "outputs": [],
   "source": [
    "def team_vs_team(T1,T2):\n",
    "    temp_df = ipl[((ipl['Team1'] == T1) & (ipl['Team2'] == T2) ) | ((ipl['Team1'] == T2) & (ipl['Team2'] == T1) )]\n",
    "    total_matches = temp_df.shape[0]\n",
    "\n",
    "    matches_won_T1 = temp_df['WinningTeam'].value_counts()[T1]\n",
    "    matches_won_T2 = temp_df['WinningTeam'].value_counts()[T2]\n",
    "    draws = total_matches - (matches_won_T2 + matches_won_T1)\n",
    "    \n",
    "    response = {\n",
    "        'total_matches':total_matches,\n",
    "        'matches_won_T1':matches_won_T1 ,\n",
    "        'matches_won_T2':matches_won_T2 ,\n",
    "        'draws':draws\n",
    "    }\n",
    "\n",
    "    return response\n",
    "\n",
    "T1 = 'Rajasthan Royals'\n",
    "T2 = 'Royal Challengers Bangalore'\n",
    "team_vs_team(T1,T2)"
   ]
  }
 ],
 "metadata": {
  "kernelspec": {
   "display_name": "base",
   "language": "python",
   "name": "python3"
  },
  "language_info": {
   "codemirror_mode": {
    "name": "ipython",
    "version": 3
   },
   "file_extension": ".py",
   "mimetype": "text/x-python",
   "name": "python",
   "nbconvert_exporter": "python",
   "pygments_lexer": "ipython3",
   "version": "3.12.3"
  }
 },
 "nbformat": 4,
 "nbformat_minor": 5
}
