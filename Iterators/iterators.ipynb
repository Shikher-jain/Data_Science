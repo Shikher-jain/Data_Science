{
 "cells": [
  {
   "cell_type": "markdown",
   "id": "eed97d92",
   "metadata": {},
   "source": [
    "\n",
    "What is an Iteration ?\n",
    "\n",
    "Iteration is a general term for taking each item of something, one after another. Any time you use a loop, explicit or implicit, to go over a group of items, that is iteration.\n",
    "\n",
    "\n",
    "What is Iterator ?\n",
    "\n",
    "An Iterator is an object that allows the programmer to traverse through a sequence of data without having to store the entire data in the memory\n",
    "\n",
    "\n",
    "What is Iterable ? \n",
    "\n",
    "Iterable is an object, which one can iterate over\n",
    "It generates an Iterator when passed to iter() method."
   ]
  },
  {
   "cell_type": "markdown",
   "id": "3e325b4f",
   "metadata": {},
   "source": [
    "Point to remember:\n",
    "\n",
    "Every Iterator is also and Iterable\n",
    "Not all Iterables are Iterators\n",
    "\n",
    "\n",
    "Trick:\n",
    "\n",
    "Every Iterable has an iter function\n",
    "Every Iterator has both iter function as well as a next function"
   ]
  },
  {
   "cell_type": "code",
   "execution_count": null,
   "id": "d795596c",
   "metadata": {},
   "outputs": [],
   "source": [
    "L = [x for x in range(1,10000)]\n",
    "\n",
    "#for i in L:\n",
    "    #print(i*2)\n",
    "    \n",
    "import sys\n",
    "\n",
    "print(sys.getsizeof(L))\n",
    "\n",
    "\n",
    "# iterators\n",
    "x = range(1,10000000000)\n",
    "\n",
    "#for i in x:\n",
    "    #print(i*2)\n",
    "    \n",
    "print(sys.getsizeof(x))"
   ]
  },
  {
   "cell_type": "code",
   "execution_count": null,
   "id": "87d4f14e",
   "metadata": {},
   "outputs": [],
   "source": [
    "L = [1,2,3]\n",
    "type(L)\n",
    "\n",
    "\n",
    "# L is an iterable\n",
    "type(iter(L))\n",
    "\n",
    "# iter(L) --> iterator"
   ]
  },
  {
   "cell_type": "code",
   "execution_count": null,
   "id": "331d3924",
   "metadata": {},
   "outputs": [],
   "source": [
    "a = 2\n",
    "a\n",
    "\n",
    "#for i in a:\n",
    "    #print(i)\n",
    "    \n",
    "dir(a)"
   ]
  },
  {
   "cell_type": "code",
   "execution_count": null,
   "id": "fe3e73ce",
   "metadata": {},
   "outputs": [],
   "source": [
    "L = [1,2,3]\n",
    "T = (4,5,6)\n",
    "S = {7,8,9}\n",
    "D = {1:2, 3:4}\n",
    "\n",
    "print(\"List :\",dir(L))\n",
    "print(\"Tuple:\",dir(T))\n",
    "print(\"Set  :\",dir(S))\n",
    "print(\"Dict :\",dir(D))\n"
   ]
  },
  {
   "cell_type": "code",
   "execution_count": null,
   "metadata": {},
   "outputs": [],
   "source": [
    "L = [1,2,3]\n",
    "\n",
    "# L is not an iterator\n",
    "iter_L = iter(L)\n",
    "print(iter_L)\n",
    "print(\"Type : \",type(iter_L))\n",
    "print(\"ID  : \",id(iter_L))\n",
    "# iter_L is an iterator\n",
    "\n",
    "iter_L_L= iter(iter_L)\n",
    "print(iter_L_L)\n",
    "print(\"Type : \",type(iter_L_L))\n",
    "print(\"ID  : \",id(iter_L_L))\n",
    "# iter_L_L is an iterator\n",
    "\n"
   ]
  },
  {
   "cell_type": "code",
   "execution_count": null,
   "id": "0dc6089f",
   "metadata": {},
   "outputs": [],
   "source": [
    "num = [1,2,3]\n",
    "\n",
    "# fetch the iterator\n",
    "iter_num = iter(num)\n",
    "\n",
    "# step2 --> next\n",
    "print(next(iter_num))\n",
    "print(next(iter_num))\n",
    "print(next(iter_num))\n",
    "# next(iter_num)  # --> StopIteration                             \n"
   ]
  },
  {
   "cell_type": "markdown",
   "metadata": {},
   "source": [
    "Making our own for loop"
   ]
  },
  {
   "cell_type": "code",
   "execution_count": null,
   "id": "3f83b588",
   "metadata": {},
   "outputs": [],
   "source": [
    "def own_loop(iterable):    \n",
    "    iterator = iter(iterable)\n",
    "    while True:\n",
    "        \n",
    "        try:\n",
    "            print(next(iterator), end=' ')\n",
    "            \n",
    "\n",
    "        except StopIteration:\n",
    "            break           \n",
    "\n",
    "a = [1,2,3]\n",
    "b = range(1,11)\n",
    "c = (1,2,3)\n",
    "d = {1,2,3}\n",
    "e = {0:1,1:1}\n",
    "\n",
    "print(\"\\nList:\")\n",
    "own_loop(a)\n",
    "print(\"\\n\\nRange:\")\n",
    "own_loop(b)\n",
    "print(\"\\n\\nTuple:\")\n",
    "own_loop(c)\n",
    "print(\"\\n\\nSet:\")\n",
    "own_loop(d)\n",
    "print(\"\\n\\nDict:\")\n",
    "own_loop(e)"
   ]
  },
  {
   "cell_type": "markdown",
   "id": "9ad446d5",
   "metadata": {},
   "source": [
    "Let's create our own range() function"
   ]
  },
  {
   "cell_type": "code",
   "execution_count": null,
   "id": "41b8522a",
   "metadata": {},
   "outputs": [],
   "source": [
    "class my_range_iterator:\n",
    "    \n",
    "    def __init__(self,iterable_obj):\n",
    "        self.iterable = iterable_obj\n",
    "    \n",
    "    def __iter__(self):\n",
    "        return self\n",
    "    \n",
    "    def __next__(self):\n",
    "        if self.iterable.start >= self.iterable.end:\n",
    "            raise StopIteration\n",
    "        \n",
    "        current = self.iterable.start\n",
    "        self.iterable.start+=1\n",
    "        return current"
   ]
  },
  {
   "cell_type": "code",
   "execution_count": null,
   "id": "2f820b7f",
   "metadata": {},
   "outputs": [],
   "source": [
    "class my_range:\n",
    "\n",
    "    def __init__(self,start,end):\n",
    "        self.start = start\n",
    "        self.end = end\n",
    "\n",
    "    def __iter__(self):\n",
    "        return my_range_iterator(self)"
   ]
  },
  {
   "cell_type": "code",
   "execution_count": null,
   "id": "d91a651c",
   "metadata": {},
   "outputs": [],
   "source": [
    "x = my_range(1,11)\n",
    "print(x)\n",
    "print(type(x))\n",
    "print(iter(x))"
   ]
  },
  {
   "cell_type": "code",
   "execution_count": null,
   "id": "b68cd634",
   "metadata": {},
   "outputs": [
    {
     "name": "stdout",
     "output_type": "stream",
     "text": [
      "range(1, 11)\n",
      "<class 'range'>\n",
      "<range_iterator object at 0x0000029CF283D270>\n"
     ]
    }
   ],
   "source": [
    "r = range(1,11)\n",
    "print(r)\n",
    "print(type(r))\n",
    "print(iter(r))"
   ]
  }
 ],
 "metadata": {
  "kernelspec": {
   "display_name": "base",
   "language": "python",
   "name": "python3"
  },
  "language_info": {
   "codemirror_mode": {
    "name": "ipython",
    "version": 3
   },
   "file_extension": ".py",
   "mimetype": "text/x-python",
   "name": "python",
   "nbconvert_exporter": "python",
   "pygments_lexer": "ipython3",
   "version": "3.12.3"
  }
 },
 "nbformat": 4,
 "nbformat_minor": 5
}
