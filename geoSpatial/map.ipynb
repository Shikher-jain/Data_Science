{
 "cells": [
  {
   "cell_type": "code",
   "execution_count": 1,
   "id": "215e7d81",
   "metadata": {},
   "outputs": [],
   "source": [
    "import plotly.express as px"
   ]
  },
  {
   "cell_type": "code",
   "execution_count": 6,
   "metadata": {},
   "outputs": [
    {
     "data": {
      "application/vnd.microsoft.datawrangler.viewer.v0+json": {
       "columns": [
        {
         "name": "index",
         "rawType": "int64",
         "type": "integer"
        },
        {
         "name": "centroid_lat",
         "rawType": "float64",
         "type": "float"
        },
        {
         "name": "centroid_lon",
         "rawType": "float64",
         "type": "float"
        },
        {
         "name": "car_hours",
         "rawType": "float64",
         "type": "float"
        },
        {
         "name": "peak_hour",
         "rawType": "int64",
         "type": "integer"
        }
       ],
       "ref": "e73a5fc1-006f-4266-8811-11f300c8a7a6",
       "rows": [
        [
         "0",
         "45.471548505146174",
         "-73.58868408217266",
         "1772.7499999995052",
         "2"
        ],
        [
         "1",
         "45.54386506674422",
         "-73.56245583980697",
         "986.3333333335024",
         "23"
        ],
        [
         "2",
         "45.4876395818664",
         "-73.64276703077329",
         "354.74999999998914",
         "20"
        ],
        [
         "3",
         "45.52286967122903",
         "-73.5956772508181",
         "560.166666666642",
         "23"
        ],
        [
         "4",
         "45.45397130964701",
         "-73.73894559925054",
         "2836.666666667356",
         "19"
        ],
        [
         "5",
         "45.57312570194822",
         "-73.53990236454271",
         "1022.7500000001857",
         "1"
        ],
        [
         "6",
         "45.53005389171565",
         "-73.62803605045727",
         "835.7500000001006",
         "18"
        ],
        [
         "7",
         "45.49919320522112",
         "-73.56194373919256",
         "1888.3333333327332",
         "14"
        ],
        [
         "8",
         "45.551300651627535",
         "-73.61171191446698",
         "1030.75000000018",
         "2"
        ],
        [
         "9",
         "45.55380992033989",
         "-73.57720679008477",
         "1841.1666666661097",
         "1"
        ],
        [
         "10",
         "45.47448282698679",
         "-73.63054396371925",
         "1966.166666665996",
         "2"
        ],
        [
         "11",
         "45.53249580289159",
         "-73.57956985159979",
         "1532.9999999997233",
         "3"
        ],
        [
         "12",
         "45.56545642757568",
         "-73.64201176723445",
         "834.1666666667666",
         "21"
        ],
        [
         "13",
         "45.50298109284952",
         "-73.62748995674825",
         "289.0000000000041",
         "11"
        ],
        [
         "14",
         "45.56711856838078",
         "-73.58439300639695",
         "273.58333333334093",
         "1"
        ],
        [
         "15",
         "45.480026123563874",
         "-73.58239204679343",
         "594.8333333333244",
         "5"
        ],
        [
         "16",
         "45.448903185047335",
         "-73.59297686556374",
         "1020.9166666668516",
         "6"
        ],
        [
         "17",
         "45.50303089895005",
         "-73.5790295367978",
         "1428.4999999998183",
         "15"
        ],
        [
         "18",
         "45.609667861846745",
         "-73.54023161013792",
         "670.7500000000256",
         "0"
        ],
        [
         "19",
         "45.478348275451104",
         "-73.57856784133362",
         "489.4999999999585",
         "14"
        ],
        [
         "20",
         "45.51951352944332",
         "-73.5793289407554",
         "1426.3333333331536",
         "2"
        ],
        [
         "21",
         "45.56903061932889",
         "-73.52573081459546",
         "422.49999999997374",
         "23"
        ],
        [
         "22",
         "45.53626021131554",
         "-73.56209061086564",
         "1624.7499999996398",
         "3"
        ],
        [
         "23",
         "45.56857291481607",
         "-73.56084340953332",
         "732.7500000000538",
         "20"
        ],
        [
         "24",
         "45.54614539811951",
         "-73.59114755541647",
         "1969.6666666659928",
         "3"
        ],
        [
         "25",
         "45.54488834188077",
         "-73.63562160484223",
         "1657.9999999996096",
         "2"
        ],
        [
         "26",
         "45.54515565293561",
         "-73.6172218179539",
         "665.5833333333566",
         "5"
        ],
        [
         "27",
         "45.47817195218011",
         "-73.56778840803071",
         "805.08333333342",
         "3"
        ],
        [
         "28",
         "45.58212955989256",
         "-73.5214125066963",
         "217.75000000000728",
         "9"
        ],
        [
         "29",
         "45.531215706332375",
         "-73.60636943656155",
         "1332.583333333239",
         "5"
        ],
        [
         "30",
         "45.55267826328372",
         "-73.60186065688765",
         "630.5000000000073",
         "10"
        ],
        [
         "31",
         "45.52915993898732",
         "-73.61182738988052",
         "559.9999999999752",
         "11"
        ],
        [
         "32",
         "45.52404418524071",
         "-73.57255202228934",
         "456.1666666666328",
         "3"
        ],
        [
         "33",
         "45.50851711032711",
         "-73.56361361279802",
         "1185.8333333333724",
         "13"
        ],
        [
         "34",
         "45.4880586878363",
         "-73.62175707085048",
         "1112.6666666667722",
         "20"
        ],
        [
         "35",
         "45.50689566111847",
         "-73.63992985736493",
         "1016.5833333335162",
         "13"
        ],
        [
         "36",
         "45.57894266654677",
         "-73.5722622021108",
         "1367.249999999874",
         "9"
        ],
        [
         "37",
         "45.46892041666329",
         "-73.61587858172172",
         "1767.9999999995096",
         "4"
        ],
        [
         "38",
         "45.5386616499238",
         "-73.65684895574016",
         "2291.9999999996985",
         "11"
        ],
        [
         "39",
         "45.58530574012526",
         "-73.556671023514",
         "552.8333333333053",
         "17"
        ],
        [
         "40",
         "45.46252493114867",
         "-73.591450603879",
         "1397.9166666665128",
         "1"
        ],
        [
         "41",
         "45.50814302347108",
         "-73.61443790111136",
         "997.7500000001744",
         "16"
        ],
        [
         "42",
         "45.55224218643183",
         "-73.5567248443471",
         "926.1666666668084",
         "10"
        ],
        [
         "43",
         "45.53306824136229",
         "-73.58586652140238",
         "323.166666666663",
         "19"
        ],
        [
         "44",
         "45.529617524254725",
         "-73.59016001500189",
         "833.0833333334327",
         "5"
        ],
        [
         "45",
         "45.56172666348032",
         "-73.61316030479036",
         "1394.416666666516",
         "10"
        ],
        [
         "46",
         "45.45886520703704",
         "-73.65393428057348",
         "601.7499999999942",
         "16"
        ],
        [
         "47",
         "45.51827128926588",
         "-73.53518132112849",
         "1724.4999999995491",
         "20"
        ],
        [
         "48",
         "45.46330588193452",
         "-73.63201646596775",
         "1061.5833333334854",
         "2"
        ],
        [
         "49",
         "45.45722580199571",
         "-73.6471457252509",
         "325.74999999999574",
         "20"
        ]
       ],
       "shape": {
        "columns": 4,
        "rows": 249
       }
      },
      "text/html": [
       "<div>\n",
       "<style scoped>\n",
       "    .dataframe tbody tr th:only-of-type {\n",
       "        vertical-align: middle;\n",
       "    }\n",
       "\n",
       "    .dataframe tbody tr th {\n",
       "        vertical-align: top;\n",
       "    }\n",
       "\n",
       "    .dataframe thead th {\n",
       "        text-align: right;\n",
       "    }\n",
       "</style>\n",
       "<table border=\"1\" class=\"dataframe\">\n",
       "  <thead>\n",
       "    <tr style=\"text-align: right;\">\n",
       "      <th></th>\n",
       "      <th>centroid_lat</th>\n",
       "      <th>centroid_lon</th>\n",
       "      <th>car_hours</th>\n",
       "      <th>peak_hour</th>\n",
       "    </tr>\n",
       "  </thead>\n",
       "  <tbody>\n",
       "    <tr>\n",
       "      <th>0</th>\n",
       "      <td>45.471549</td>\n",
       "      <td>-73.588684</td>\n",
       "      <td>1772.750000</td>\n",
       "      <td>2</td>\n",
       "    </tr>\n",
       "    <tr>\n",
       "      <th>1</th>\n",
       "      <td>45.543865</td>\n",
       "      <td>-73.562456</td>\n",
       "      <td>986.333333</td>\n",
       "      <td>23</td>\n",
       "    </tr>\n",
       "    <tr>\n",
       "      <th>2</th>\n",
       "      <td>45.487640</td>\n",
       "      <td>-73.642767</td>\n",
       "      <td>354.750000</td>\n",
       "      <td>20</td>\n",
       "    </tr>\n",
       "    <tr>\n",
       "      <th>3</th>\n",
       "      <td>45.522870</td>\n",
       "      <td>-73.595677</td>\n",
       "      <td>560.166667</td>\n",
       "      <td>23</td>\n",
       "    </tr>\n",
       "    <tr>\n",
       "      <th>4</th>\n",
       "      <td>45.453971</td>\n",
       "      <td>-73.738946</td>\n",
       "      <td>2836.666667</td>\n",
       "      <td>19</td>\n",
       "    </tr>\n",
       "    <tr>\n",
       "      <th>...</th>\n",
       "      <td>...</td>\n",
       "      <td>...</td>\n",
       "      <td>...</td>\n",
       "      <td>...</td>\n",
       "    </tr>\n",
       "    <tr>\n",
       "      <th>244</th>\n",
       "      <td>45.547171</td>\n",
       "      <td>-73.556258</td>\n",
       "      <td>951.416667</td>\n",
       "      <td>3</td>\n",
       "    </tr>\n",
       "    <tr>\n",
       "      <th>245</th>\n",
       "      <td>45.546482</td>\n",
       "      <td>-73.574939</td>\n",
       "      <td>795.416667</td>\n",
       "      <td>2</td>\n",
       "    </tr>\n",
       "    <tr>\n",
       "      <th>246</th>\n",
       "      <td>45.495523</td>\n",
       "      <td>-73.627725</td>\n",
       "      <td>425.750000</td>\n",
       "      <td>8</td>\n",
       "    </tr>\n",
       "    <tr>\n",
       "      <th>247</th>\n",
       "      <td>45.521199</td>\n",
       "      <td>-73.581789</td>\n",
       "      <td>1044.833333</td>\n",
       "      <td>17</td>\n",
       "    </tr>\n",
       "    <tr>\n",
       "      <th>248</th>\n",
       "      <td>45.532564</td>\n",
       "      <td>-73.567535</td>\n",
       "      <td>694.916667</td>\n",
       "      <td>5</td>\n",
       "    </tr>\n",
       "  </tbody>\n",
       "</table>\n",
       "<p>249 rows × 4 columns</p>\n",
       "</div>"
      ],
      "text/plain": [
       "     centroid_lat  centroid_lon    car_hours  peak_hour\n",
       "0       45.471549    -73.588684  1772.750000          2\n",
       "1       45.543865    -73.562456   986.333333         23\n",
       "2       45.487640    -73.642767   354.750000         20\n",
       "3       45.522870    -73.595677   560.166667         23\n",
       "4       45.453971    -73.738946  2836.666667         19\n",
       "..            ...           ...          ...        ...\n",
       "244     45.547171    -73.556258   951.416667          3\n",
       "245     45.546482    -73.574939   795.416667          2\n",
       "246     45.495523    -73.627725   425.750000          8\n",
       "247     45.521199    -73.581789  1044.833333         17\n",
       "248     45.532564    -73.567535   694.916667          5\n",
       "\n",
       "[249 rows x 4 columns]"
      ]
     },
     "execution_count": 6,
     "metadata": {},
     "output_type": "execute_result"
    }
   ],
   "source": [
    "df = px.data.carshare()\n",
    "df"
   ]
  },
  {
   "cell_type": "code",
   "execution_count": 11,
   "metadata": {},
   "outputs": [
    {
     "name": "stderr",
     "output_type": "stream",
     "text": [
      "C:\\Users\\Kirti\\AppData\\Local\\Temp\\ipykernel_16336\\1816230127.py:1: DeprecationWarning:\n",
      "\n",
      "*scatter_mapbox* is deprecated! Use *scatter_map* instead. Learn more at: https://plotly.com/python/mapbox-to-maplibre/\n",
      "\n"
     ]
    },
    {
     "data": {
      "application/vnd.plotly.v1+json": {
       "config": {
        "plotlyServerURL": "https://plot.ly"
       },
       "data": [
        {
         "hovertemplate": "car_hours=%{marker.size}<br>centroid_lat=%{lat}<br>centroid_lon=%{lon}<br>peak_hour=%{marker.color}<extra></extra>",
         "lat": {
          "bdata": "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",
          "dtype": "f8"
         },
         "legendgroup": "",
         "lon": {
          "bdata": "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",
          "dtype": "f8"
         },
         "marker": {
          "color": {
           "bdata": "AhcUFxMBEg4CAQIDFQsBBQYPAA4CFwMUAwIFAwkFCgsDDRQNCQQLEQEQChMFChAUAhQIAwIMARUUBwMTBwATCxcAARUUBQALFAkADQQDAw0ECxQNEwINBBcPCQQDCAsLBQIBAhASABIEBAwHBAIDAgIMBAEFCg8VFAAXDA4NBBQTAhQGCQwEAgMUBgMEBQYFFQUSBQIUDAEEFRAHAwUQAQICCQQFBQUAAgIOAwoVAg8VAwQFAwIEAwMDAhECBQEWABMLAgEVARYEChQCAgMUDAsCAwMMCAMUAw8UAxQBBQACBQMFEggBDQICAwAXBQIKCxUHEgMCCBEF",
           "dtype": "i1"
          },
          "coloraxis": "coloraxis",
          "size": {
           "bdata": "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",
           "dtype": "f8"
          },
          "sizemode": "area",
          "sizeref": 14.55111111111771
         },
         "mode": "markers",
         "name": "",
         "showlegend": false,
         "subplot": "mapbox",
         "type": "scattermapbox"
        }
       ],
       "layout": {
        "coloraxis": {
         "colorbar": {
          "title": {
           "text": "peak_hour"
          }
         },
         "colorscale": [
          [
           0,
           "#000000"
          ],
          [
           0.0625,
           "#001f4d"
          ],
          [
           0.125,
           "#003786"
          ],
          [
           0.1875,
           "#0e58a8"
          ],
          [
           0.25,
           "#217eb8"
          ],
          [
           0.3125,
           "#30a4ca"
          ],
          [
           0.375,
           "#54c8df"
          ],
          [
           0.4375,
           "#9be4ef"
          ],
          [
           0.5,
           "#e1e9d1"
          ],
          [
           0.5625,
           "#f3d573"
          ],
          [
           0.625,
           "#e7b000"
          ],
          [
           0.6875,
           "#da8200"
          ],
          [
           0.75,
           "#c65400"
          ],
          [
           0.8125,
           "#ac2301"
          ],
          [
           0.875,
           "#820000"
          ],
          [
           0.9375,
           "#4c0000"
          ],
          [
           1,
           "#000000"
          ]
         ]
        },
        "legend": {
         "itemsizing": "constant",
         "tracegroupgap": 0
        },
        "mapbox": {
         "accesstoken": "your_mapbox_access_token",
         "center": {
          "lat": 45.523416683439955,
          "lon": -73.59183434290806
         },
         "domain": {
          "x": [
           0,
           1
          ],
          "y": [
           0,
           1
          ]
         },
         "style": "carto-positron",
         "zoom": 10
        },
        "margin": {
         "t": 60
        },
        "template": {
         "data": {
          "bar": [
           {
            "error_x": {
             "color": "#2a3f5f"
            },
            "error_y": {
             "color": "#2a3f5f"
            },
            "marker": {
             "line": {
              "color": "#E5ECF6",
              "width": 0.5
             },
             "pattern": {
              "fillmode": "overlay",
              "size": 10,
              "solidity": 0.2
             }
            },
            "type": "bar"
           }
          ],
          "barpolar": [
           {
            "marker": {
             "line": {
              "color": "#E5ECF6",
              "width": 0.5
             },
             "pattern": {
              "fillmode": "overlay",
              "size": 10,
              "solidity": 0.2
             }
            },
            "type": "barpolar"
           }
          ],
          "carpet": [
           {
            "aaxis": {
             "endlinecolor": "#2a3f5f",
             "gridcolor": "white",
             "linecolor": "white",
             "minorgridcolor": "white",
             "startlinecolor": "#2a3f5f"
            },
            "baxis": {
             "endlinecolor": "#2a3f5f",
             "gridcolor": "white",
             "linecolor": "white",
             "minorgridcolor": "white",
             "startlinecolor": "#2a3f5f"
            },
            "type": "carpet"
           }
          ],
          "choropleth": [
           {
            "colorbar": {
             "outlinewidth": 0,
             "ticks": ""
            },
            "type": "choropleth"
           }
          ],
          "contour": [
           {
            "colorbar": {
             "outlinewidth": 0,
             "ticks": ""
            },
            "colorscale": [
             [
              0,
              "#0d0887"
             ],
             [
              0.1111111111111111,
              "#46039f"
             ],
             [
              0.2222222222222222,
              "#7201a8"
             ],
             [
              0.3333333333333333,
              "#9c179e"
             ],
             [
              0.4444444444444444,
              "#bd3786"
             ],
             [
              0.5555555555555556,
              "#d8576b"
             ],
             [
              0.6666666666666666,
              "#ed7953"
             ],
             [
              0.7777777777777778,
              "#fb9f3a"
             ],
             [
              0.8888888888888888,
              "#fdca26"
             ],
             [
              1,
              "#f0f921"
             ]
            ],
            "type": "contour"
           }
          ],
          "contourcarpet": [
           {
            "colorbar": {
             "outlinewidth": 0,
             "ticks": ""
            },
            "type": "contourcarpet"
           }
          ],
          "heatmap": [
           {
            "colorbar": {
             "outlinewidth": 0,
             "ticks": ""
            },
            "colorscale": [
             [
              0,
              "#0d0887"
             ],
             [
              0.1111111111111111,
              "#46039f"
             ],
             [
              0.2222222222222222,
              "#7201a8"
             ],
             [
              0.3333333333333333,
              "#9c179e"
             ],
             [
              0.4444444444444444,
              "#bd3786"
             ],
             [
              0.5555555555555556,
              "#d8576b"
             ],
             [
              0.6666666666666666,
              "#ed7953"
             ],
             [
              0.7777777777777778,
              "#fb9f3a"
             ],
             [
              0.8888888888888888,
              "#fdca26"
             ],
             [
              1,
              "#f0f921"
             ]
            ],
            "type": "heatmap"
           }
          ],
          "histogram": [
           {
            "marker": {
             "pattern": {
              "fillmode": "overlay",
              "size": 10,
              "solidity": 0.2
             }
            },
            "type": "histogram"
           }
          ],
          "histogram2d": [
           {
            "colorbar": {
             "outlinewidth": 0,
             "ticks": ""
            },
            "colorscale": [
             [
              0,
              "#0d0887"
             ],
             [
              0.1111111111111111,
              "#46039f"
             ],
             [
              0.2222222222222222,
              "#7201a8"
             ],
             [
              0.3333333333333333,
              "#9c179e"
             ],
             [
              0.4444444444444444,
              "#bd3786"
             ],
             [
              0.5555555555555556,
              "#d8576b"
             ],
             [
              0.6666666666666666,
              "#ed7953"
             ],
             [
              0.7777777777777778,
              "#fb9f3a"
             ],
             [
              0.8888888888888888,
              "#fdca26"
             ],
             [
              1,
              "#f0f921"
             ]
            ],
            "type": "histogram2d"
           }
          ],
          "histogram2dcontour": [
           {
            "colorbar": {
             "outlinewidth": 0,
             "ticks": ""
            },
            "colorscale": [
             [
              0,
              "#0d0887"
             ],
             [
              0.1111111111111111,
              "#46039f"
             ],
             [
              0.2222222222222222,
              "#7201a8"
             ],
             [
              0.3333333333333333,
              "#9c179e"
             ],
             [
              0.4444444444444444,
              "#bd3786"
             ],
             [
              0.5555555555555556,
              "#d8576b"
             ],
             [
              0.6666666666666666,
              "#ed7953"
             ],
             [
              0.7777777777777778,
              "#fb9f3a"
             ],
             [
              0.8888888888888888,
              "#fdca26"
             ],
             [
              1,
              "#f0f921"
             ]
            ],
            "type": "histogram2dcontour"
           }
          ],
          "mesh3d": [
           {
            "colorbar": {
             "outlinewidth": 0,
             "ticks": ""
            },
            "type": "mesh3d"
           }
          ],
          "parcoords": [
           {
            "line": {
             "colorbar": {
              "outlinewidth": 0,
              "ticks": ""
             }
            },
            "type": "parcoords"
           }
          ],
          "pie": [
           {
            "automargin": true,
            "type": "pie"
           }
          ],
          "scatter": [
           {
            "fillpattern": {
             "fillmode": "overlay",
             "size": 10,
             "solidity": 0.2
            },
            "type": "scatter"
           }
          ],
          "scatter3d": [
           {
            "line": {
             "colorbar": {
              "outlinewidth": 0,
              "ticks": ""
             }
            },
            "marker": {
             "colorbar": {
              "outlinewidth": 0,
              "ticks": ""
             }
            },
            "type": "scatter3d"
           }
          ],
          "scattercarpet": [
           {
            "marker": {
             "colorbar": {
              "outlinewidth": 0,
              "ticks": ""
             }
            },
            "type": "scattercarpet"
           }
          ],
          "scattergeo": [
           {
            "marker": {
             "colorbar": {
              "outlinewidth": 0,
              "ticks": ""
             }
            },
            "type": "scattergeo"
           }
          ],
          "scattergl": [
           {
            "marker": {
             "colorbar": {
              "outlinewidth": 0,
              "ticks": ""
             }
            },
            "type": "scattergl"
           }
          ],
          "scattermap": [
           {
            "marker": {
             "colorbar": {
              "outlinewidth": 0,
              "ticks": ""
             }
            },
            "type": "scattermap"
           }
          ],
          "scattermapbox": [
           {
            "marker": {
             "colorbar": {
              "outlinewidth": 0,
              "ticks": ""
             }
            },
            "type": "scattermapbox"
           }
          ],
          "scatterpolar": [
           {
            "marker": {
             "colorbar": {
              "outlinewidth": 0,
              "ticks": ""
             }
            },
            "type": "scatterpolar"
           }
          ],
          "scatterpolargl": [
           {
            "marker": {
             "colorbar": {
              "outlinewidth": 0,
              "ticks": ""
             }
            },
            "type": "scatterpolargl"
           }
          ],
          "scatterternary": [
           {
            "marker": {
             "colorbar": {
              "outlinewidth": 0,
              "ticks": ""
             }
            },
            "type": "scatterternary"
           }
          ],
          "surface": [
           {
            "colorbar": {
             "outlinewidth": 0,
             "ticks": ""
            },
            "colorscale": [
             [
              0,
              "#0d0887"
             ],
             [
              0.1111111111111111,
              "#46039f"
             ],
             [
              0.2222222222222222,
              "#7201a8"
             ],
             [
              0.3333333333333333,
              "#9c179e"
             ],
             [
              0.4444444444444444,
              "#bd3786"
             ],
             [
              0.5555555555555556,
              "#d8576b"
             ],
             [
              0.6666666666666666,
              "#ed7953"
             ],
             [
              0.7777777777777778,
              "#fb9f3a"
             ],
             [
              0.8888888888888888,
              "#fdca26"
             ],
             [
              1,
              "#f0f921"
             ]
            ],
            "type": "surface"
           }
          ],
          "table": [
           {
            "cells": {
             "fill": {
              "color": "#EBF0F8"
             },
             "line": {
              "color": "white"
             }
            },
            "header": {
             "fill": {
              "color": "#C8D4E3"
             },
             "line": {
              "color": "white"
             }
            },
            "type": "table"
           }
          ]
         },
         "layout": {
          "annotationdefaults": {
           "arrowcolor": "#2a3f5f",
           "arrowhead": 0,
           "arrowwidth": 1
          },
          "autotypenumbers": "strict",
          "coloraxis": {
           "colorbar": {
            "outlinewidth": 0,
            "ticks": ""
           }
          },
          "colorscale": {
           "diverging": [
            [
             0,
             "#8e0152"
            ],
            [
             0.1,
             "#c51b7d"
            ],
            [
             0.2,
             "#de77ae"
            ],
            [
             0.3,
             "#f1b6da"
            ],
            [
             0.4,
             "#fde0ef"
            ],
            [
             0.5,
             "#f7f7f7"
            ],
            [
             0.6,
             "#e6f5d0"
            ],
            [
             0.7,
             "#b8e186"
            ],
            [
             0.8,
             "#7fbc41"
            ],
            [
             0.9,
             "#4d9221"
            ],
            [
             1,
             "#276419"
            ]
           ],
           "sequential": [
            [
             0,
             "#0d0887"
            ],
            [
             0.1111111111111111,
             "#46039f"
            ],
            [
             0.2222222222222222,
             "#7201a8"
            ],
            [
             0.3333333333333333,
             "#9c179e"
            ],
            [
             0.4444444444444444,
             "#bd3786"
            ],
            [
             0.5555555555555556,
             "#d8576b"
            ],
            [
             0.6666666666666666,
             "#ed7953"
            ],
            [
             0.7777777777777778,
             "#fb9f3a"
            ],
            [
             0.8888888888888888,
             "#fdca26"
            ],
            [
             1,
             "#f0f921"
            ]
           ],
           "sequentialminus": [
            [
             0,
             "#0d0887"
            ],
            [
             0.1111111111111111,
             "#46039f"
            ],
            [
             0.2222222222222222,
             "#7201a8"
            ],
            [
             0.3333333333333333,
             "#9c179e"
            ],
            [
             0.4444444444444444,
             "#bd3786"
            ],
            [
             0.5555555555555556,
             "#d8576b"
            ],
            [
             0.6666666666666666,
             "#ed7953"
            ],
            [
             0.7777777777777778,
             "#fb9f3a"
            ],
            [
             0.8888888888888888,
             "#fdca26"
            ],
            [
             1,
             "#f0f921"
            ]
           ]
          },
          "colorway": [
           "#636efa",
           "#EF553B",
           "#00cc96",
           "#ab63fa",
           "#FFA15A",
           "#19d3f3",
           "#FF6692",
           "#B6E880",
           "#FF97FF",
           "#FECB52"
          ],
          "font": {
           "color": "#2a3f5f"
          },
          "geo": {
           "bgcolor": "white",
           "lakecolor": "white",
           "landcolor": "#E5ECF6",
           "showlakes": true,
           "showland": true,
           "subunitcolor": "white"
          },
          "hoverlabel": {
           "align": "left"
          },
          "hovermode": "closest",
          "mapbox": {
           "style": "light"
          },
          "paper_bgcolor": "white",
          "plot_bgcolor": "#E5ECF6",
          "polar": {
           "angularaxis": {
            "gridcolor": "white",
            "linecolor": "white",
            "ticks": ""
           },
           "bgcolor": "#E5ECF6",
           "radialaxis": {
            "gridcolor": "white",
            "linecolor": "white",
            "ticks": ""
           }
          },
          "scene": {
           "xaxis": {
            "backgroundcolor": "#E5ECF6",
            "gridcolor": "white",
            "gridwidth": 2,
            "linecolor": "white",
            "showbackground": true,
            "ticks": "",
            "zerolinecolor": "white"
           },
           "yaxis": {
            "backgroundcolor": "#E5ECF6",
            "gridcolor": "white",
            "gridwidth": 2,
            "linecolor": "white",
            "showbackground": true,
            "ticks": "",
            "zerolinecolor": "white"
           },
           "zaxis": {
            "backgroundcolor": "#E5ECF6",
            "gridcolor": "white",
            "gridwidth": 2,
            "linecolor": "white",
            "showbackground": true,
            "ticks": "",
            "zerolinecolor": "white"
           }
          },
          "shapedefaults": {
           "line": {
            "color": "#2a3f5f"
           }
          },
          "ternary": {
           "aaxis": {
            "gridcolor": "white",
            "linecolor": "white",
            "ticks": ""
           },
           "baxis": {
            "gridcolor": "white",
            "linecolor": "white",
            "ticks": ""
           },
           "bgcolor": "#E5ECF6",
           "caxis": {
            "gridcolor": "white",
            "linecolor": "white",
            "ticks": ""
           }
          },
          "title": {
           "x": 0.05
          },
          "xaxis": {
           "automargin": true,
           "gridcolor": "white",
           "linecolor": "white",
           "ticks": "",
           "title": {
            "standoff": 15
           },
           "zerolinecolor": "white",
           "zerolinewidth": 2
          },
          "yaxis": {
           "automargin": true,
           "gridcolor": "white",
           "linecolor": "white",
           "ticks": "",
           "title": {
            "standoff": 15
           },
           "zerolinecolor": "white",
           "zerolinewidth": 2
          }
         }
        }
       }
      }
     },
     "metadata": {},
     "output_type": "display_data"
    }
   ],
   "source": [
    "fig = px.scatter_mapbox(df, lat=\"centroid_lat\", lon=\"centroid_lon\", color=\"peak_hour\", size=\"car_hours\", size_max=15, color_continuous_scale=px.colors.cyclical.IceFire, zoom=10, mapbox_style=\"carto-positron\")\n",
    "\n",
    "fig.show()"
   ]
  },
  {
   "cell_type": "code",
   "execution_count": null,
   "metadata": {},
   "outputs": [],
   "source": []
  },
  {
   "cell_type": "code",
   "execution_count": null,
   "id": "9d919e1c",
   "metadata": {},
   "outputs": [],
   "source": []
  }
 ],
 "metadata": {
  "kernelspec": {
   "display_name": "Python 3",
   "language": "python",
   "name": "python3"
  },
  "language_info": {
   "codemirror_mode": {
    "name": "ipython",
    "version": 3
   },
   "file_extension": ".py",
   "mimetype": "text/x-python",
   "name": "python",
   "nbconvert_exporter": "python",
   "pygments_lexer": "ipython3",
   "version": "3.13.7"
  }
 },
 "nbformat": 4,
 "nbformat_minor": 5
}
