{
 "cells": [
  {
   "cell_type": "code",
   "execution_count": null,
   "metadata": {},
   "outputs": [],
   "source": [
    "\n",
    "import numpy as np  \n",
    "import pandas as pd \n"
   ]
  },
  {
   "cell_type": "code",
   "execution_count": null,
   "id": "950aeb65",
   "metadata": {},
   "outputs": [],
   "source": [
    "df = pd.read_csv('startup_funding.csv')\n",
    "\n",
    "df.head()"
   ]
  },
  {
   "cell_type": "code",
   "execution_count": null,
   "id": "c47336ce",
   "metadata": {},
   "outputs": [],
   "source": [
    "df['Startup Name'].unique()"
   ]
  },
  {
   "cell_type": "code",
   "execution_count": null,
   "id": "8a6f3627",
   "metadata": {},
   "outputs": [],
   "source": [
    "df[df['Investors Name'].isna()]"
   ]
  },
  {
   "cell_type": "code",
   "execution_count": null,
   "metadata": {},
   "outputs": [],
   "source": [
    "df['Investors Name'].unique()"
   ]
  },
  {
   "cell_type": "code",
   "execution_count": null,
   "metadata": {},
   "outputs": [],
   "source": [
    "df.info()"
   ]
  },
  {
   "cell_type": "code",
   "execution_count": null,
   "metadata": {},
   "outputs": [],
   "source": [
    "df.drop(columns=['Remarks'],inplace=True)"
   ]
  },
  {
   "cell_type": "code",
   "execution_count": null,
   "metadata": {},
   "outputs": [],
   "source": [
    "df.set_index('Sr No',inplace = True)"
   ]
  },
  {
   "cell_type": "code",
   "execution_count": null,
   "id": "23963a01",
   "metadata": {},
   "outputs": [],
   "source": [
    "df.rename(columns = {\n",
    "    'Date dd/mm/yyyy': 'date',\n",
    "    'Startup Name':'startup',\n",
    "    'Industry Vertical': 'vertical',\n",
    "    'SubVertical':'subvertical',\n",
    "    'City  Location':'city',\n",
    "    'Investors Name':'investor',\n",
    "    'InvestmentnType':'round',\n",
    "    'Amount in USD':'amount'\n",
    "},inplace = True)"
   ]
  },
  {
   "cell_type": "code",
   "execution_count": null,
   "id": "af7eef6f",
   "metadata": {},
   "outputs": [],
   "source": [
    "df['amount'] = df['amount'].fillna('0')\n",
    "df['amount'] = df['amount'].str.replace(',','0')\n",
    "df['amount'] = df['amount'].str.replace('undisclosed','0')\n",
    "df['amount'] = df['amount'].str.replace('Undisclosed','0')\n",
    "df['amount'] = df['amount'].str.replace('unknown','0')\n"
   ]
  },
  {
   "cell_type": "code",
   "execution_count": null,
   "id": "613dbe59",
   "metadata": {},
   "outputs": [],
   "source": [
    "df = df[df['amount'].str.isdigit()]\n",
    "# df = df[df['amount'].astype(str).str.isdigit()]\n",
    "df"
   ]
  },
  {
   "cell_type": "code",
   "execution_count": null,
   "metadata": {},
   "outputs": [],
   "source": [
    "df['amount'] = df['amount'].astype('float')"
   ]
  },
  {
   "cell_type": "code",
   "execution_count": null,
   "metadata": {},
   "outputs": [],
   "source": [
    "df.head()"
   ]
  },
  {
   "cell_type": "code",
   "execution_count": null,
   "id": "bb0e37ca",
   "metadata": {},
   "outputs": [],
   "source": [
    "df.info()"
   ]
  },
  {
   "cell_type": "code",
   "execution_count": null,
   "metadata": {},
   "outputs": [],
   "source": [
    "df['amount'] = df['amount'].fillna('0')\n",
    "\n",
    "df.info()"
   ]
  },
  {
   "cell_type": "code",
   "execution_count": null,
   "id": "049cd5dc",
   "metadata": {},
   "outputs": [],
   "source": [
    "def to_inr(dollar):\n",
    "    inr = dollar * 87.24\n",
    "    return inr / 1e7  # Convert to INR Crores\n",
    "\n",
    "to_inr(2000000000)"
   ]
  },
  {
   "cell_type": "code",
   "execution_count": null,
   "metadata": {},
   "outputs": [],
   "source": [
    "df['amount'] = df['amount'].apply(to_inr) "
   ]
  },
  {
   "cell_type": "code",
   "execution_count": null,
   "id": "b5cf1012",
   "metadata": {},
   "outputs": [],
   "source": [
    "df['amount'] = df['amount'] * 87.24 / 1e7\n"
   ]
  },
  {
   "cell_type": "code",
   "execution_count": null,
   "id": "290cb894",
   "metadata": {},
   "outputs": [],
   "source": [
    "df['amount']"
   ]
  },
  {
   "cell_type": "code",
   "execution_count": null,
   "metadata": {},
   "outputs": [],
   "source": [
    "df.head(3)"
   ]
  },
  {
   "cell_type": "code",
   "execution_count": null,
   "metadata": {},
   "outputs": [],
   "source": [
    "df['date'] = pd.to_datetime(df['date'], dayfirst=True, errors='coerce')\n",
    "\n",
    "# df['date'] = pd.to_datetime(df[\"date\"], errors='coerce')"
   ]
  },
  {
   "cell_type": "code",
   "execution_count": null,
   "id": "0a492255",
   "metadata": {},
   "outputs": [],
   "source": [
    "pd.to_datetime(df[\"date\"])\n"
   ]
  },
  {
   "cell_type": "code",
   "execution_count": null,
   "id": "0112ebfc",
   "metadata": {},
   "outputs": [],
   "source": [
    "df[pd.to_datetime(df[\"date\"]).isna()]"
   ]
  },
  {
   "cell_type": "code",
   "execution_count": null,
   "metadata": {},
   "outputs": [],
   "source": [
    " \n",
    "df.info()\n"
   ]
  },
  {
   "cell_type": "code",
   "execution_count": null,
   "metadata": {},
   "outputs": [],
   "source": [
    "df['date'].dt.month"
   ]
  },
  {
   "cell_type": "code",
   "execution_count": null,
   "metadata": {},
   "outputs": [],
   "source": [
    "df = df.dropna(subset=['date','startup','vertical','city','investor','round','amount'])"
   ]
  },
  {
   "cell_type": "code",
   "execution_count": null,
   "id": "d69aa831",
   "metadata": {},
   "outputs": [],
   "source": [
    "df.info()"
   ]
  },
  {
   "cell_type": "code",
   "execution_count": null,
   "id": "bfe566fd",
   "metadata": {},
   "outputs": [],
   "source": [
    "df.to_csv('startup_cleaned.csv',index=False)"
   ]
  },
  {
   "cell_type": "code",
   "execution_count": null,
   "id": "b20d7a9c",
   "metadata": {},
   "outputs": [],
   "source": [
    "df['investor'].str.split(',').sum()"
   ]
  },
  {
   "cell_type": "code",
   "execution_count": null,
   "metadata": {},
   "outputs": [],
   "source": [
    "sorted(set(df['investor'].str.split(',').sum()))"
   ]
  },
  {
   "cell_type": "code",
   "execution_count": null,
   "id": "722c6650",
   "metadata": {},
   "outputs": [],
   "source": [
    "df['investor']"
   ]
  },
  {
   "cell_type": "code",
   "execution_count": null,
   "metadata": {},
   "outputs": [],
   "source": [
    "df.groupby('investor')['investor'].count().sort_values(ascending = False)['IDG Ventures']"
   ]
  },
  {
   "cell_type": "code",
   "execution_count": null,
   "id": "e8ea6251",
   "metadata": {},
   "outputs": [],
   "source": [
    "# df[df[\"investor\"].str.contains(\"Ratan Tata\")][['date','startup','vertical','city','round','amount']]\n",
    "df[df[\"investor\"].str.contains(\"IDG Ventures\")][['date','startup','vertical','city','round','amount']]"
   ]
  },
  {
   "cell_type": "code",
   "execution_count": null,
   "id": "c61ba9d6",
   "metadata": {},
   "outputs": [],
   "source": [
    "import matplotlib.pyplot as plt"
   ]
  },
  {
   "cell_type": "code",
   "execution_count": null,
   "metadata": {},
   "outputs": [],
   "source": [
    "big_df = df[df[\"investor\"].str.contains(\"3one4 Capital\")].groupby('startup')['amount'].sum().sort_values(ascending = False).head(5)\n",
    "big_df"
   ]
  },
  {
   "cell_type": "code",
   "execution_count": null,
   "metadata": {},
   "outputs": [],
   "source": [
    "df[df[\"investor\"].str.contains(\"3one4 Capital\")].groupby('vertical')['amount'].sum().plot(kind = 'pie')"
   ]
  },
  {
   "cell_type": "code",
   "execution_count": 89,
   "id": "f22b7cf3",
   "metadata": {},
   "outputs": [
    {
     "name": "stderr",
     "output_type": "stream",
     "text": [
      "C:\\Users\\user\\AppData\\Local\\Temp\\ipykernel_6624\\3581745611.py:1: SettingWithCopyWarning: \n",
      "A value is trying to be set on a copy of a slice from a DataFrame.\n",
      "Try using .loc[row_indexer,col_indexer] = value instead\n",
      "\n",
      "See the caveats in the documentation: https://pandas.pydata.org/pandas-docs/stable/user_guide/indexing.html#returning-a-view-versus-a-copy\n",
      "  df['year'] = df['date'].dt.year\n"
     ]
    },
    {
     "data": {
      "text/plain": [
       "<Axes: xlabel='year'>"
      ]
     },
     "execution_count": 89,
     "metadata": {},
     "output_type": "execute_result"
    },
    {
     "data": {
      "image/png": "[encoded data removed]",
      "text/plain": [
       "<Figure size 640x480 with 1 Axes>"
      ]
     },
     "metadata": {},
     "output_type": "display_data"
    }
   ],
   "source": [
    "df['year'] = df['date'].dt.year\n",
    "df\n",
    "# df[df[\"investor\"].str.contains(\"3one4 Capital\")].groupby('year')['amount'].sum().plot(kind = 'pie')\n",
    "df[df[\"investor\"].str.contains(\"3one4 Capital\")].groupby('year')['amount'].sum().plot()"
   ]
  }
 ],
 "metadata": {
  "kernelspec": {
   "display_name": "base",
   "language": "python",
   "name": "python3"
  },
  "language_info": {
   "codemirror_mode": {
    "name": "ipython",
    "version": 3
   },
   "file_extension": ".py",
   "mimetype": "text/x-python",
   "name": "python",
   "nbconvert_exporter": "python",
   "pygments_lexer": "ipython3",
   "version": "3.12.3"
  }
 },
 "nbformat": 4,
 "nbformat_minor": 5
}
