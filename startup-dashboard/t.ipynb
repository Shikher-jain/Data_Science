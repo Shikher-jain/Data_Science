{
 "cells": [
  {
   "cell_type": "code",
   "execution_count": null,
   "metadata": {},
   "outputs": [],
   "source": [
    "\n",
    "import numpy as np  \n",
    "import pandas as pd \n"
   ]
  },
  {
   "cell_type": "code",
   "execution_count": null,
   "id": "950aeb65",
   "metadata": {},
   "outputs": [],
   "source": [
    "df = pd.read_csv('startup_funding.csv')\n",
    "\n",
    "df.head()"
   ]
  },
  {
   "cell_type": "code",
   "execution_count": null,
   "id": "c47336ce",
   "metadata": {},
   "outputs": [],
   "source": [
    "df['Startup Name'].unique()"
   ]
  },
  {
   "cell_type": "code",
   "execution_count": null,
   "id": "8a6f3627",
   "metadata": {},
   "outputs": [],
   "source": [
    "df[df['Investors Name'].isna()]"
   ]
  },
  {
   "cell_type": "code",
   "execution_count": null,
   "metadata": {},
   "outputs": [],
   "source": [
    "df['Investors Name'].unique()"
   ]
  },
  {
   "cell_type": "code",
   "execution_count": null,
   "metadata": {},
   "outputs": [],
   "source": [
    "df.info()"
   ]
  },
  {
   "cell_type": "code",
   "execution_count": null,
   "metadata": {},
   "outputs": [],
   "source": [
    "df.drop(columns=['Remarks'],inplace=True)"
   ]
  },
  {
   "cell_type": "code",
   "execution_count": null,
   "metadata": {},
   "outputs": [],
   "source": [
    "df.set_index('Sr No',inplace = True)"
   ]
  },
  {
   "cell_type": "code",
   "execution_count": null,
   "id": "23963a01",
   "metadata": {},
   "outputs": [],
   "source": [
    "df.rename(columns = {\n",
    "    'Date dd/mm/yyyy': 'date',\n",
    "    'Startup Name':'startup',\n",
    "    'Industry Vertical': 'vertical',\n",
    "    'SubVertical':'subvertical',\n",
    "    'City  Location':'city',\n",
    "    'Investors Name':'investor',\n",
    "    'InvestmentnType':'round',\n",
    "    'Amount in USD':'amount'\n",
    "},inplace = True)"
   ]
  },
  {
   "cell_type": "code",
   "execution_count": null,
   "id": "af7eef6f",
   "metadata": {},
   "outputs": [],
   "source": [
    "df['amount'] = df['amount'].fillna('0')\n",
    "df['amount'] = df['amount'].str.replace(',','0')\n",
    "df['amount'] = df['amount'].str.replace('undisclosed','0')\n",
    "df['amount'] = df['amount'].str.replace('Undisclosed','0')\n",
    "df['amount'] = df['amount'].str.replace('unknown','0')\n"
   ]
  },
  {
   "cell_type": "code",
   "execution_count": null,
   "id": "613dbe59",
   "metadata": {},
   "outputs": [],
   "source": [
    "df = df[df['amount'].str.isdigit()]\n",
    "# df = df[df['amount'].astype(str).str.isdigit()]\n",
    "df"
   ]
  },
  {
   "cell_type": "code",
   "execution_count": null,
   "metadata": {},
   "outputs": [],
   "source": [
    "df['amount'] = df['amount'].astype('float')"
   ]
  },
  {
   "cell_type": "code",
   "execution_count": null,
   "metadata": {},
   "outputs": [],
   "source": [
    "df.head()"
   ]
  },
  {
   "cell_type": "code",
   "execution_count": null,
   "id": "bb0e37ca",
   "metadata": {},
   "outputs": [],
   "source": [
    "df.info()"
   ]
  },
  {
   "cell_type": "code",
   "execution_count": null,
   "metadata": {},
   "outputs": [],
   "source": [
    "df['amount'] = df['amount'].fillna('0')\n",
    "\n",
    "df.info()"
   ]
  },
  {
   "cell_type": "code",
   "execution_count": null,
   "id": "049cd5dc",
   "metadata": {},
   "outputs": [],
   "source": [
    "# def to_inr(dollar):\n",
    "#     inr = dollar * 87.24\n",
    "#     return inr / 1e7  # Convert to INR Crores\n",
    "\n",
    "# to_inr(2000000000)"
   ]
  },
  {
   "cell_type": "code",
   "execution_count": null,
   "metadata": {},
   "outputs": [],
   "source": [
    "# df['amount'] = df['amount'].apply(to_inr) "
   ]
  },
  {
   "cell_type": "code",
   "execution_count": null,
   "id": "b5cf1012",
   "metadata": {},
   "outputs": [],
   "source": [
    "df['amount'] = df['amount'] * 87.24 / 1e7\n"
   ]
  },
  {
   "cell_type": "code",
   "execution_count": null,
   "id": "290cb894",
   "metadata": {},
   "outputs": [],
   "source": [
    "df['amount']"
   ]
  },
  {
   "cell_type": "code",
   "execution_count": null,
   "metadata": {},
   "outputs": [],
   "source": [
    "df.head(3)"
   ]
  },
  {
   "cell_type": "code",
   "execution_count": null,
   "metadata": {},
   "outputs": [],
   "source": [
    "df['date'] = pd.to_datetime(df['date'], dayfirst=True, errors='coerce')\n",
    "\n",
    "# df['date'] = pd.to_datetime(df[\"date\"], errors='coerce')"
   ]
  },
  {
   "cell_type": "code",
   "execution_count": null,
   "id": "0a492255",
   "metadata": {},
   "outputs": [],
   "source": [
    "pd.to_datetime(df[\"date\"])\n"
   ]
  },
  {
   "cell_type": "code",
   "execution_count": null,
   "id": "0112ebfc",
   "metadata": {},
   "outputs": [],
   "source": [
    "df[pd.to_datetime(df[\"date\"]).isna()]"
   ]
  },
  {
   "cell_type": "code",
   "execution_count": null,
   "metadata": {},
   "outputs": [],
   "source": [
    " \n",
    "df.info()\n"
   ]
  },
  {
   "cell_type": "code",
   "execution_count": null,
   "metadata": {},
   "outputs": [],
   "source": [
    "df['date'].dt.month"
   ]
  },
  {
   "cell_type": "code",
   "execution_count": null,
   "metadata": {},
   "outputs": [],
   "source": [
    "df = df.dropna(subset=['date','startup','vertical','city','investor','round','amount'])"
   ]
  },
  {
   "cell_type": "code",
   "execution_count": null,
   "id": "d69aa831",
   "metadata": {},
   "outputs": [],
   "source": [
    "df.info()"
   ]
  },
  {
   "cell_type": "code",
   "execution_count": null,
   "id": "bfe566fd",
   "metadata": {},
   "outputs": [],
   "source": [
    "df.to_csv('startup_cleaned.csv',index=False)"
   ]
  },
  {
   "cell_type": "code",
   "execution_count": null,
   "id": "b20d7a9c",
   "metadata": {},
   "outputs": [],
   "source": [
    "df['investor'].str.split(',').sum()"
   ]
  },
  {
   "cell_type": "code",
   "execution_count": null,
   "metadata": {},
   "outputs": [],
   "source": [
    "sorted(set(df['investor'].str.split(',').sum()))"
   ]
  },
  {
   "cell_type": "code",
   "execution_count": null,
   "id": "722c6650",
   "metadata": {},
   "outputs": [],
   "source": [
    "df['investor']"
   ]
  },
  {
   "cell_type": "code",
   "execution_count": null,
   "metadata": {},
   "outputs": [],
   "source": [
    "df.groupby('investor')['investor'].count().sort_values(ascending = False)['IDG Ventures']"
   ]
  },
  {
   "cell_type": "code",
   "execution_count": null,
   "id": "e8ea6251",
   "metadata": {},
   "outputs": [],
   "source": [
    "# df[df[\"investor\"].str.contains(\"Ratan Tata\")][['date','startup','vertical','city','round','amount']]\n",
    "df[df[\"investor\"].str.contains(\"IDG Ventures\")][['date','startup','vertical','city','round','amount']]"
   ]
  },
  {
   "cell_type": "code",
   "execution_count": null,
   "id": "c61ba9d6",
   "metadata": {},
   "outputs": [],
   "source": [
    "import matplotlib.pyplot as plt"
   ]
  },
  {
   "cell_type": "code",
   "execution_count": null,
   "metadata": {},
   "outputs": [],
   "source": [
    "big_df = df[df[\"investor\"].str.contains(\"3one4 Capital\")].groupby('startup')['amount'].sum().sort_values(ascending = False).head(5)\n",
    "big_df"
   ]
  },
  {
   "cell_type": "code",
   "execution_count": null,
   "metadata": {},
   "outputs": [],
   "source": [
    "df[df[\"investor\"].str.contains(\"3one4 Capital\")].groupby('vertical')['amount'].sum().plot(kind = 'pie')"
   ]
  },
  {
   "cell_type": "code",
   "execution_count": null,
   "id": "f22b7cf3",
   "metadata": {},
   "outputs": [],
   "source": [
    "df['year'] = df['date'].dt.year\n",
    "df\n",
    "# df[df[\"investor\"].str.contains(\"3one4 Capital\")].groupby('year')['amount'].sum().plot(kind = 'pie')\n",
    "df[df[\"investor\"].str.contains(\"3one4 Capital\")].groupby('year')['amount'].sum().plot()"
   ]
  },
  {
   "cell_type": "code",
   "execution_count": null,
   "id": "4589103a",
   "metadata": {},
   "outputs": [],
   "source": [
    "amount = round(df['amount'])\n",
    "total = amount.sum()\n",
    "max =  amount.max()\n",
    "avg =  amount.mean()\n",
    "amount \n"
   ]
  },
  {
   "cell_type": "code",
   "execution_count": null,
   "id": "bd05b574",
   "metadata": {},
   "outputs": [],
   "source": [
    "\n",
    "total, max, avg"
   ]
  },
  {
   "cell_type": "code",
   "execution_count": null,
   "id": "ea9a4db0",
   "metadata": {},
   "outputs": [],
   "source": [
    "df.groupby('startup')['amount'].sum().sort_values(ascending = False)"
   ]
  },
  {
   "cell_type": "code",
   "execution_count": null,
   "id": "7ed4e91e",
   "metadata": {},
   "outputs": [],
   "source": [
    "df.groupby('startup')['amount'].sum().mean(), df.groupby('startup')['amount'].mean().sum()"
   ]
  },
  {
   "cell_type": "code",
   "execution_count": null,
   "metadata": {},
   "outputs": [],
   "source": [
    "df.groupby('startup')['amount'].max().sort_values(ascending = False)"
   ]
  },
  {
   "cell_type": "code",
   "execution_count": null,
   "metadata": {},
   "outputs": [],
   "source": [
    "\n",
    "df['month'] = df['date'].dt.month\n",
    "df['month']"
   ]
  },
  {
   "cell_type": "code",
   "execution_count": null,
   "metadata": {},
   "outputs": [],
   "source": [
    "df.groupby(['year','month'])['startup'].count()"
   ]
  },
  {
   "cell_type": "code",
   "execution_count": null,
   "id": "37374378",
   "metadata": {},
   "outputs": [],
   "source": [
    "df['startup'].nunique()"
   ]
  },
  {
   "cell_type": "code",
   "execution_count": null,
   "id": "3ea84ba1",
   "metadata": {},
   "outputs": [],
   "source": [
    "df.groupby('startup')['amount'].count().sort_values(ascending =0)"
   ]
  },
  {
   "cell_type": "code",
   "execution_count": null,
   "id": "132a5fab",
   "metadata": {},
   "outputs": [],
   "source": [
    "df.groupby('startup')['amount'].sum().max()"
   ]
  },
  {
   "cell_type": "code",
   "execution_count": 111,
   "id": "b654206a",
   "metadata": {},
   "outputs": [
    {
     "data": {
      "application/vnd.microsoft.datawrangler.viewer.v0+json": {
       "columns": [
        {
         "name": "index",
         "rawType": "int64",
         "type": "integer"
        },
        {
         "name": "year",
         "rawType": "int32",
         "type": "integer"
        },
        {
         "name": "month",
         "rawType": "int32",
         "type": "integer"
        },
        {
         "name": "startup",
         "rawType": "int64",
         "type": "integer"
        }
       ],
       "ref": "d8a9d354-bd04-48c4-a5b2-afb63033c692",
       "rows": [
        [
         "0",
         "2015",
         "4",
         "61"
        ],
        [
         "1",
         "2015",
         "5",
         "55"
        ],
        [
         "2",
         "2015",
         "6",
         "84"
        ],
        [
         "3",
         "2015",
         "7",
         "85"
        ],
        [
         "4",
         "2015",
         "8",
         "98"
        ],
        [
         "5",
         "2015",
         "9",
         "87"
        ],
        [
         "6",
         "2015",
         "10",
         "93"
        ],
        [
         "7",
         "2015",
         "11",
         "90"
        ],
        [
         "8",
         "2015",
         "12",
         "88"
        ],
        [
         "9",
         "2016",
         "1",
         "104"
        ],
        [
         "10",
         "2016",
         "2",
         "99"
        ],
        [
         "11",
         "2016",
         "3",
         "84"
        ],
        [
         "12",
         "2016",
         "4",
         "77"
        ],
        [
         "13",
         "2016",
         "5",
         "79"
        ],
        [
         "14",
         "2016",
         "6",
         "97"
        ],
        [
         "15",
         "2016",
         "7",
         "63"
        ],
        [
         "16",
         "2016",
         "8",
         "87"
        ],
        [
         "17",
         "2016",
         "9",
         "73"
        ],
        [
         "18",
         "2016",
         "10",
         "80"
        ],
        [
         "19",
         "2016",
         "11",
         "72"
        ],
        [
         "20",
         "2016",
         "12",
         "72"
        ],
        [
         "21",
         "2017",
         "1",
         "72"
        ],
        [
         "22",
         "2017",
         "2",
         "48"
        ],
        [
         "23",
         "2017",
         "3",
         "71"
        ],
        [
         "24",
         "2017",
         "4",
         "71"
        ],
        [
         "25",
         "2017",
         "5",
         "67"
        ],
        [
         "26",
         "2017",
         "6",
         "65"
        ],
        [
         "27",
         "2017",
         "7",
         "42"
        ],
        [
         "28",
         "2017",
         "8",
         "45"
        ],
        [
         "29",
         "2017",
         "9",
         "58"
        ],
        [
         "30",
         "2017",
         "10",
         "53"
        ],
        [
         "31",
         "2017",
         "11",
         "50"
        ],
        [
         "32",
         "2017",
         "12",
         "42"
        ],
        [
         "33",
         "2018",
         "1",
         "36"
        ],
        [
         "34",
         "2018",
         "2",
         "42"
        ],
        [
         "35",
         "2018",
         "3",
         "33"
        ],
        [
         "36",
         "2018",
         "4",
         "32"
        ],
        [
         "37",
         "2018",
         "5",
         "22"
        ],
        [
         "38",
         "2018",
         "6",
         "32"
        ],
        [
         "39",
         "2018",
         "7",
         "33"
        ],
        [
         "40",
         "2018",
         "8",
         "21"
        ],
        [
         "41",
         "2018",
         "9",
         "12"
        ],
        [
         "42",
         "2018",
         "10",
         "7"
        ],
        [
         "43",
         "2018",
         "11",
         "18"
        ],
        [
         "44",
         "2018",
         "12",
         "7"
        ],
        [
         "45",
         "2019",
         "1",
         "3"
        ],
        [
         "46",
         "2019",
         "2",
         "3"
        ],
        [
         "47",
         "2019",
         "4",
         "13"
        ],
        [
         "48",
         "2019",
         "5",
         "9"
        ],
        [
         "49",
         "2019",
         "6",
         "12"
        ]
       ],
       "shape": {
        "columns": 3,
        "rows": 57
       }
      },
      "text/html": [
       "<div>\n",
       "<style scoped>\n",
       "    .dataframe tbody tr th:only-of-type {\n",
       "        vertical-align: middle;\n",
       "    }\n",
       "\n",
       "    .dataframe tbody tr th {\n",
       "        vertical-align: top;\n",
       "    }\n",
       "\n",
       "    .dataframe thead th {\n",
       "        text-align: right;\n",
       "    }\n",
       "</style>\n",
       "<table border=\"1\" class=\"dataframe\">\n",
       "  <thead>\n",
       "    <tr style=\"text-align: right;\">\n",
       "      <th></th>\n",
       "      <th>year</th>\n",
       "      <th>month</th>\n",
       "      <th>startup</th>\n",
       "    </tr>\n",
       "  </thead>\n",
       "  <tbody>\n",
       "    <tr>\n",
       "      <th>0</th>\n",
       "      <td>2015</td>\n",
       "      <td>4</td>\n",
       "      <td>61</td>\n",
       "    </tr>\n",
       "    <tr>\n",
       "      <th>1</th>\n",
       "      <td>2015</td>\n",
       "      <td>5</td>\n",
       "      <td>55</td>\n",
       "    </tr>\n",
       "    <tr>\n",
       "      <th>2</th>\n",
       "      <td>2015</td>\n",
       "      <td>6</td>\n",
       "      <td>84</td>\n",
       "    </tr>\n",
       "    <tr>\n",
       "      <th>3</th>\n",
       "      <td>2015</td>\n",
       "      <td>7</td>\n",
       "      <td>85</td>\n",
       "    </tr>\n",
       "    <tr>\n",
       "      <th>4</th>\n",
       "      <td>2015</td>\n",
       "      <td>8</td>\n",
       "      <td>98</td>\n",
       "    </tr>\n",
       "    <tr>\n",
       "      <th>5</th>\n",
       "      <td>2015</td>\n",
       "      <td>9</td>\n",
       "      <td>87</td>\n",
       "    </tr>\n",
       "    <tr>\n",
       "      <th>6</th>\n",
       "      <td>2015</td>\n",
       "      <td>10</td>\n",
       "      <td>93</td>\n",
       "    </tr>\n",
       "    <tr>\n",
       "      <th>7</th>\n",
       "      <td>2015</td>\n",
       "      <td>11</td>\n",
       "      <td>90</td>\n",
       "    </tr>\n",
       "    <tr>\n",
       "      <th>8</th>\n",
       "      <td>2015</td>\n",
       "      <td>12</td>\n",
       "      <td>88</td>\n",
       "    </tr>\n",
       "    <tr>\n",
       "      <th>9</th>\n",
       "      <td>2016</td>\n",
       "      <td>1</td>\n",
       "      <td>104</td>\n",
       "    </tr>\n",
       "    <tr>\n",
       "      <th>10</th>\n",
       "      <td>2016</td>\n",
       "      <td>2</td>\n",
       "      <td>99</td>\n",
       "    </tr>\n",
       "    <tr>\n",
       "      <th>11</th>\n",
       "      <td>2016</td>\n",
       "      <td>3</td>\n",
       "      <td>84</td>\n",
       "    </tr>\n",
       "    <tr>\n",
       "      <th>12</th>\n",
       "      <td>2016</td>\n",
       "      <td>4</td>\n",
       "      <td>77</td>\n",
       "    </tr>\n",
       "    <tr>\n",
       "      <th>13</th>\n",
       "      <td>2016</td>\n",
       "      <td>5</td>\n",
       "      <td>79</td>\n",
       "    </tr>\n",
       "    <tr>\n",
       "      <th>14</th>\n",
       "      <td>2016</td>\n",
       "      <td>6</td>\n",
       "      <td>97</td>\n",
       "    </tr>\n",
       "    <tr>\n",
       "      <th>15</th>\n",
       "      <td>2016</td>\n",
       "      <td>7</td>\n",
       "      <td>63</td>\n",
       "    </tr>\n",
       "    <tr>\n",
       "      <th>16</th>\n",
       "      <td>2016</td>\n",
       "      <td>8</td>\n",
       "      <td>87</td>\n",
       "    </tr>\n",
       "    <tr>\n",
       "      <th>17</th>\n",
       "      <td>2016</td>\n",
       "      <td>9</td>\n",
       "      <td>73</td>\n",
       "    </tr>\n",
       "    <tr>\n",
       "      <th>18</th>\n",
       "      <td>2016</td>\n",
       "      <td>10</td>\n",
       "      <td>80</td>\n",
       "    </tr>\n",
       "    <tr>\n",
       "      <th>19</th>\n",
       "      <td>2016</td>\n",
       "      <td>11</td>\n",
       "      <td>72</td>\n",
       "    </tr>\n",
       "    <tr>\n",
       "      <th>20</th>\n",
       "      <td>2016</td>\n",
       "      <td>12</td>\n",
       "      <td>72</td>\n",
       "    </tr>\n",
       "    <tr>\n",
       "      <th>21</th>\n",
       "      <td>2017</td>\n",
       "      <td>1</td>\n",
       "      <td>72</td>\n",
       "    </tr>\n",
       "    <tr>\n",
       "      <th>22</th>\n",
       "      <td>2017</td>\n",
       "      <td>2</td>\n",
       "      <td>48</td>\n",
       "    </tr>\n",
       "    <tr>\n",
       "      <th>23</th>\n",
       "      <td>2017</td>\n",
       "      <td>3</td>\n",
       "      <td>71</td>\n",
       "    </tr>\n",
       "    <tr>\n",
       "      <th>24</th>\n",
       "      <td>2017</td>\n",
       "      <td>4</td>\n",
       "      <td>71</td>\n",
       "    </tr>\n",
       "    <tr>\n",
       "      <th>25</th>\n",
       "      <td>2017</td>\n",
       "      <td>5</td>\n",
       "      <td>67</td>\n",
       "    </tr>\n",
       "    <tr>\n",
       "      <th>26</th>\n",
       "      <td>2017</td>\n",
       "      <td>6</td>\n",
       "      <td>65</td>\n",
       "    </tr>\n",
       "    <tr>\n",
       "      <th>27</th>\n",
       "      <td>2017</td>\n",
       "      <td>7</td>\n",
       "      <td>42</td>\n",
       "    </tr>\n",
       "    <tr>\n",
       "      <th>28</th>\n",
       "      <td>2017</td>\n",
       "      <td>8</td>\n",
       "      <td>45</td>\n",
       "    </tr>\n",
       "    <tr>\n",
       "      <th>29</th>\n",
       "      <td>2017</td>\n",
       "      <td>9</td>\n",
       "      <td>58</td>\n",
       "    </tr>\n",
       "    <tr>\n",
       "      <th>30</th>\n",
       "      <td>2017</td>\n",
       "      <td>10</td>\n",
       "      <td>53</td>\n",
       "    </tr>\n",
       "    <tr>\n",
       "      <th>31</th>\n",
       "      <td>2017</td>\n",
       "      <td>11</td>\n",
       "      <td>50</td>\n",
       "    </tr>\n",
       "    <tr>\n",
       "      <th>32</th>\n",
       "      <td>2017</td>\n",
       "      <td>12</td>\n",
       "      <td>42</td>\n",
       "    </tr>\n",
       "    <tr>\n",
       "      <th>33</th>\n",
       "      <td>2018</td>\n",
       "      <td>1</td>\n",
       "      <td>36</td>\n",
       "    </tr>\n",
       "    <tr>\n",
       "      <th>34</th>\n",
       "      <td>2018</td>\n",
       "      <td>2</td>\n",
       "      <td>42</td>\n",
       "    </tr>\n",
       "    <tr>\n",
       "      <th>35</th>\n",
       "      <td>2018</td>\n",
       "      <td>3</td>\n",
       "      <td>33</td>\n",
       "    </tr>\n",
       "    <tr>\n",
       "      <th>36</th>\n",
       "      <td>2018</td>\n",
       "      <td>4</td>\n",
       "      <td>32</td>\n",
       "    </tr>\n",
       "    <tr>\n",
       "      <th>37</th>\n",
       "      <td>2018</td>\n",
       "      <td>5</td>\n",
       "      <td>22</td>\n",
       "    </tr>\n",
       "    <tr>\n",
       "      <th>38</th>\n",
       "      <td>2018</td>\n",
       "      <td>6</td>\n",
       "      <td>32</td>\n",
       "    </tr>\n",
       "    <tr>\n",
       "      <th>39</th>\n",
       "      <td>2018</td>\n",
       "      <td>7</td>\n",
       "      <td>33</td>\n",
       "    </tr>\n",
       "    <tr>\n",
       "      <th>40</th>\n",
       "      <td>2018</td>\n",
       "      <td>8</td>\n",
       "      <td>21</td>\n",
       "    </tr>\n",
       "    <tr>\n",
       "      <th>41</th>\n",
       "      <td>2018</td>\n",
       "      <td>9</td>\n",
       "      <td>12</td>\n",
       "    </tr>\n",
       "    <tr>\n",
       "      <th>42</th>\n",
       "      <td>2018</td>\n",
       "      <td>10</td>\n",
       "      <td>7</td>\n",
       "    </tr>\n",
       "    <tr>\n",
       "      <th>43</th>\n",
       "      <td>2018</td>\n",
       "      <td>11</td>\n",
       "      <td>18</td>\n",
       "    </tr>\n",
       "    <tr>\n",
       "      <th>44</th>\n",
       "      <td>2018</td>\n",
       "      <td>12</td>\n",
       "      <td>7</td>\n",
       "    </tr>\n",
       "    <tr>\n",
       "      <th>45</th>\n",
       "      <td>2019</td>\n",
       "      <td>1</td>\n",
       "      <td>3</td>\n",
       "    </tr>\n",
       "    <tr>\n",
       "      <th>46</th>\n",
       "      <td>2019</td>\n",
       "      <td>2</td>\n",
       "      <td>3</td>\n",
       "    </tr>\n",
       "    <tr>\n",
       "      <th>47</th>\n",
       "      <td>2019</td>\n",
       "      <td>4</td>\n",
       "      <td>13</td>\n",
       "    </tr>\n",
       "    <tr>\n",
       "      <th>48</th>\n",
       "      <td>2019</td>\n",
       "      <td>5</td>\n",
       "      <td>9</td>\n",
       "    </tr>\n",
       "    <tr>\n",
       "      <th>49</th>\n",
       "      <td>2019</td>\n",
       "      <td>6</td>\n",
       "      <td>12</td>\n",
       "    </tr>\n",
       "    <tr>\n",
       "      <th>50</th>\n",
       "      <td>2019</td>\n",
       "      <td>7</td>\n",
       "      <td>13</td>\n",
       "    </tr>\n",
       "    <tr>\n",
       "      <th>51</th>\n",
       "      <td>2019</td>\n",
       "      <td>8</td>\n",
       "      <td>16</td>\n",
       "    </tr>\n",
       "    <tr>\n",
       "      <th>52</th>\n",
       "      <td>2019</td>\n",
       "      <td>9</td>\n",
       "      <td>9</td>\n",
       "    </tr>\n",
       "    <tr>\n",
       "      <th>53</th>\n",
       "      <td>2019</td>\n",
       "      <td>10</td>\n",
       "      <td>3</td>\n",
       "    </tr>\n",
       "    <tr>\n",
       "      <th>54</th>\n",
       "      <td>2019</td>\n",
       "      <td>11</td>\n",
       "      <td>14</td>\n",
       "    </tr>\n",
       "    <tr>\n",
       "      <th>55</th>\n",
       "      <td>2019</td>\n",
       "      <td>12</td>\n",
       "      <td>9</td>\n",
       "    </tr>\n",
       "    <tr>\n",
       "      <th>56</th>\n",
       "      <td>2020</td>\n",
       "      <td>1</td>\n",
       "      <td>7</td>\n",
       "    </tr>\n",
       "  </tbody>\n",
       "</table>\n",
       "</div>"
      ],
      "text/plain": [
       "    year  month  startup\n",
       "0   2015      4       61\n",
       "1   2015      5       55\n",
       "2   2015      6       84\n",
       "3   2015      7       85\n",
       "4   2015      8       98\n",
       "5   2015      9       87\n",
       "6   2015     10       93\n",
       "7   2015     11       90\n",
       "8   2015     12       88\n",
       "9   2016      1      104\n",
       "10  2016      2       99\n",
       "11  2016      3       84\n",
       "12  2016      4       77\n",
       "13  2016      5       79\n",
       "14  2016      6       97\n",
       "15  2016      7       63\n",
       "16  2016      8       87\n",
       "17  2016      9       73\n",
       "18  2016     10       80\n",
       "19  2016     11       72\n",
       "20  2016     12       72\n",
       "21  2017      1       72\n",
       "22  2017      2       48\n",
       "23  2017      3       71\n",
       "24  2017      4       71\n",
       "25  2017      5       67\n",
       "26  2017      6       65\n",
       "27  2017      7       42\n",
       "28  2017      8       45\n",
       "29  2017      9       58\n",
       "30  2017     10       53\n",
       "31  2017     11       50\n",
       "32  2017     12       42\n",
       "33  2018      1       36\n",
       "34  2018      2       42\n",
       "35  2018      3       33\n",
       "36  2018      4       32\n",
       "37  2018      5       22\n",
       "38  2018      6       32\n",
       "39  2018      7       33\n",
       "40  2018      8       21\n",
       "41  2018      9       12\n",
       "42  2018     10        7\n",
       "43  2018     11       18\n",
       "44  2018     12        7\n",
       "45  2019      1        3\n",
       "46  2019      2        3\n",
       "47  2019      4       13\n",
       "48  2019      5        9\n",
       "49  2019      6       12\n",
       "50  2019      7       13\n",
       "51  2019      8       16\n",
       "52  2019      9        9\n",
       "53  2019     10        3\n",
       "54  2019     11       14\n",
       "55  2019     12        9\n",
       "56  2020      1        7"
      ]
     },
     "execution_count": 111,
     "metadata": {},
     "output_type": "execute_result"
    }
   ],
   "source": [
    "df.groupby(['year','month'])['startup'].count().reset_index()"
   ]
  },
  {
   "cell_type": "code",
   "execution_count": 116,
   "id": "ccc84ad0",
   "metadata": {},
   "outputs": [],
   "source": [
    "t_df = df.groupby(['year','month'])['amount'].sum().reset_index()"
   ]
  },
  {
   "cell_type": "code",
   "execution_count": null,
   "id": "9ca2bf9d",
   "metadata": {},
   "outputs": [],
   "source": []
  },
  {
   "cell_type": "code",
   "execution_count": 117,
   "id": "e764a27f",
   "metadata": {},
   "outputs": [
    {
     "data": {
      "application/vnd.microsoft.datawrangler.viewer.v0+json": {
       "columns": [
        {
         "name": "index",
         "rawType": "int64",
         "type": "integer"
        },
        {
         "name": "x-axis",
         "rawType": "object",
         "type": "string"
        }
       ],
       "ref": "4c03829d-6ed6-48af-a6df-26e582513ed9",
       "rows": [
        [
         "0",
         "4-2015"
        ],
        [
         "1",
         "5-2015"
        ],
        [
         "2",
         "6-2015"
        ],
        [
         "3",
         "7-2015"
        ],
        [
         "4",
         "8-2015"
        ],
        [
         "5",
         "9-2015"
        ],
        [
         "6",
         "10-2015"
        ],
        [
         "7",
         "11-2015"
        ],
        [
         "8",
         "12-2015"
        ],
        [
         "9",
         "1-2016"
        ],
        [
         "10",
         "2-2016"
        ],
        [
         "11",
         "3-2016"
        ],
        [
         "12",
         "4-2016"
        ],
        [
         "13",
         "5-2016"
        ],
        [
         "14",
         "6-2016"
        ],
        [
         "15",
         "7-2016"
        ],
        [
         "16",
         "8-2016"
        ],
        [
         "17",
         "9-2016"
        ],
        [
         "18",
         "10-2016"
        ],
        [
         "19",
         "11-2016"
        ],
        [
         "20",
         "12-2016"
        ],
        [
         "21",
         "1-2017"
        ],
        [
         "22",
         "2-2017"
        ],
        [
         "23",
         "3-2017"
        ],
        [
         "24",
         "4-2017"
        ],
        [
         "25",
         "5-2017"
        ],
        [
         "26",
         "6-2017"
        ],
        [
         "27",
         "7-2017"
        ],
        [
         "28",
         "8-2017"
        ],
        [
         "29",
         "9-2017"
        ],
        [
         "30",
         "10-2017"
        ],
        [
         "31",
         "11-2017"
        ],
        [
         "32",
         "12-2017"
        ],
        [
         "33",
         "1-2018"
        ],
        [
         "34",
         "2-2018"
        ],
        [
         "35",
         "3-2018"
        ],
        [
         "36",
         "4-2018"
        ],
        [
         "37",
         "5-2018"
        ],
        [
         "38",
         "6-2018"
        ],
        [
         "39",
         "7-2018"
        ],
        [
         "40",
         "8-2018"
        ],
        [
         "41",
         "9-2018"
        ],
        [
         "42",
         "10-2018"
        ],
        [
         "43",
         "11-2018"
        ],
        [
         "44",
         "12-2018"
        ],
        [
         "45",
         "1-2019"
        ],
        [
         "46",
         "2-2019"
        ],
        [
         "47",
         "4-2019"
        ],
        [
         "48",
         "5-2019"
        ],
        [
         "49",
         "6-2019"
        ]
       ],
       "shape": {
        "columns": 1,
        "rows": 57
       }
      },
      "text/plain": [
       "0      4-2015\n",
       "1      5-2015\n",
       "2      6-2015\n",
       "3      7-2015\n",
       "4      8-2015\n",
       "5      9-2015\n",
       "6     10-2015\n",
       "7     11-2015\n",
       "8     12-2015\n",
       "9      1-2016\n",
       "10     2-2016\n",
       "11     3-2016\n",
       "12     4-2016\n",
       "13     5-2016\n",
       "14     6-2016\n",
       "15     7-2016\n",
       "16     8-2016\n",
       "17     9-2016\n",
       "18    10-2016\n",
       "19    11-2016\n",
       "20    12-2016\n",
       "21     1-2017\n",
       "22     2-2017\n",
       "23     3-2017\n",
       "24     4-2017\n",
       "25     5-2017\n",
       "26     6-2017\n",
       "27     7-2017\n",
       "28     8-2017\n",
       "29     9-2017\n",
       "30    10-2017\n",
       "31    11-2017\n",
       "32    12-2017\n",
       "33     1-2018\n",
       "34     2-2018\n",
       "35     3-2018\n",
       "36     4-2018\n",
       "37     5-2018\n",
       "38     6-2018\n",
       "39     7-2018\n",
       "40     8-2018\n",
       "41     9-2018\n",
       "42    10-2018\n",
       "43    11-2018\n",
       "44    12-2018\n",
       "45     1-2019\n",
       "46     2-2019\n",
       "47     4-2019\n",
       "48     5-2019\n",
       "49     6-2019\n",
       "50     7-2019\n",
       "51     8-2019\n",
       "52     9-2019\n",
       "53    10-2019\n",
       "54    11-2019\n",
       "55    12-2019\n",
       "56     1-2020\n",
       "Name: x-axis, dtype: object"
      ]
     },
     "execution_count": 117,
     "metadata": {},
     "output_type": "execute_result"
    }
   ],
   "source": [
    "t_df['x-axis'] = t_df['month'].astype('str') + '-' +t_df['year'].astype('str')\n",
    "t_df['x-axis']"
   ]
  },
  {
   "cell_type": "code",
   "execution_count": 119,
   "id": "90814e14",
   "metadata": {},
   "outputs": [],
   "source": [
    "max1 = df.groupby('startup')['amount'].sum().max()"
   ]
  },
  {
   "cell_type": "code",
   "execution_count": 118,
   "id": "af0187db",
   "metadata": {},
   "outputs": [
    {
     "data": {
      "text/plain": [
       "[<matplotlib.lines.Line2D at 0x2000af63110>]"
      ]
     },
     "execution_count": 118,
     "metadata": {},
     "output_type": "execute_result"
    },
    {
     "data": {
      "image/png": "[encoded data removed]",
      "text/plain": [
       "<Figure size 640x480 with 1 Axes>"
      ]
     },
     "metadata": {},
     "output_type": "display_data"
    }
   ],
   "source": [
    "plt.plot(t_df['x-axis'],t_df['amount'])"
   ]
  }
 ],
 "metadata": {
  "kernelspec": {
   "display_name": "base",
   "language": "python",
   "name": "python3"
  },
  "language_info": {
   "codemirror_mode": {
    "name": "ipython",
    "version": 3
   },
   "file_extension": ".py",
   "mimetype": "text/x-python",
   "name": "python",
   "nbconvert_exporter": "python",
   "pygments_lexer": "ipython3",
   "version": "3.12.3"
  }
 },
 "nbformat": 4,
 "nbformat_minor": 5
}
