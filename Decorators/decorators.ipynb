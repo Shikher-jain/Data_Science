{
 "cells": [
  {
   "cell_type": "code",
   "execution_count": 9,
   "id": "9dac1023",
   "metadata": {
    "notebookRunGroups": {
     "groupValue": "2"
    }
   },
   "outputs": [
    {
     "name": "stdout",
     "output_type": "stream",
     "text": [
      "**********\n",
      "greetING\n",
      "**********\n"
     ]
    }
   ],
   "source": [
    "def my_decorator(fx):\n",
    "    def wrapper():\n",
    "        print('*' * 10)\n",
    "        fx()\n",
    "        print('*' * 10)\n",
    "    return wrapper\n",
    "\n",
    "def greet():\n",
    "    print(\"greetING\")\n",
    "\n",
    "a = my_decorator(greet)\n",
    "a()"
   ]
  },
  {
   "cell_type": "code",
   "execution_count": 3,
   "id": "d4e3f3b3",
   "metadata": {},
   "outputs": [
    {
     "name": "stdout",
     "output_type": "stream",
     "text": [
      "hi\n"
     ]
    }
   ],
   "source": [
    "print(\"hi\")"
   ]
  },
  {
   "cell_type": "markdown",
   "id": "abb6ebcc",
   "metadata": {},
   "source": [
    "1. Basic Function Decorator"
   ]
  },
  {
   "cell_type": "code",
   "execution_count": 11,
   "id": "e7df389e",
   "metadata": {},
   "outputs": [
    {
     "name": "stdout",
     "output_type": "stream",
     "text": [
      "Before the function runs\n",
      "Hello, Shikher Bhai!\n",
      "After the function runs\n"
     ]
    }
   ],
   "source": [
    "def my_decorator(func):\n",
    "    def wrapper():\n",
    "        print(\"Before the function runs\")\n",
    "        func()\n",
    "        print(\"After the function runs\")\n",
    "    return wrapper\n",
    "\n",
    "@my_decorator\n",
    "def greet():\n",
    "    print(\"Hello, Shikher Bhai!\")\n",
    "\n",
    "greet()\n"
   ]
  },
  {
   "cell_type": "markdown",
   "id": "074ad87f",
   "metadata": {},
   "source": [
    "2. Decorator with Arguments"
   ]
  },
  {
   "cell_type": "code",
   "execution_count": null,
   "id": "4f819f05",
   "metadata": {},
   "outputs": [],
   "source": [
    "def bold_decorator(func):\n",
    "    def wrapper(text):\n",
    "        return f\"<b>{func(text)}</b>\"\n",
    "    return wrapper\n",
    "\n",
    "@bold_decorator\n",
    "def greet(name):\n",
    "    return f\"Hello, {name}\"\n",
    "\n",
    "print(greet(\"Shikher\"))\n"
   ]
  },
  {
   "cell_type": "markdown",
   "id": "92bb60ef",
   "metadata": {},
   "source": [
    "Real-World Use Case: Login Required"
   ]
  },
  {
   "cell_type": "code",
   "execution_count": 12,
   "id": "692de11a",
   "metadata": {},
   "outputs": [
    {
     "name": "stdout",
     "output_type": "stream",
     "text": [
      "📊 Welcome to your dashboard, Shikher!\n",
      "Please login to continue.\n"
     ]
    }
   ],
   "source": [
    "def login_required(func):\n",
    "    def wrapper(user):\n",
    "        if user.get(\"is_logged_in\"):\n",
    "            return func(user)\n",
    "        else:\n",
    "            return \"Please login to continue.\"\n",
    "    return wrapper\n",
    "\n",
    "@login_required\n",
    "def view_dashboard(user):\n",
    "    return f\"📊 Welcome to your dashboard, {user['name']}!\"\n",
    "\n",
    "user1 = {\"name\": \"Shikher\", \"is_logged_in\": True}\n",
    "user2 = {\"name\": \"Vishal\", \"is_logged_in\": False}\n",
    "\n",
    "print(view_dashboard(user1))  #  Access allowed\n",
    "print(view_dashboard(user2))  #  Access denied\n"
   ]
  },
  {
   "cell_type": "markdown",
   "id": "8a355160",
   "metadata": {},
   "source": [
    "Timer Decorator (Performance Check)"
   ]
  },
  {
   "cell_type": "code",
   "execution_count": 19,
   "id": "912447db",
   "metadata": {},
   "outputs": [
    {
     "name": "stdout",
     "output_type": "stream",
     "text": [
      " Hello Function complete!\n",
      "Function 'hello' executed successfully.\n",
      " Execution time: 1.5028 seconds\n",
      " Goodbye Function complete!\n",
      "Function 'goodbye' executed successfully.\n",
      " Execution time: 2.0009 seconds\n",
      " Goodbye Function complete!\n",
      "Function 'square' executed successfully.\n",
      " Execution time: 2.0010 seconds\n",
      "None\n"
     ]
    }
   ],
   "source": [
    "\n",
    "import time\n",
    "\n",
    "def timer(func):\n",
    "    def wrapper(*args, **kwargs):\n",
    "        start = time.time()\n",
    "        func(*args, **kwargs)\n",
    "        end = time.time()\n",
    "        print(f\"Function '{func.__name__}' executed successfully.\")\n",
    "        print(f\" Execution time: {end - start:.4f} seconds\")\n",
    "    return wrapper\n",
    "\n",
    "@timer\n",
    "def hello():\n",
    "    print(\" Hello Function complete!\")\n",
    "    time.sleep(1.5)\n",
    "\n",
    "@timer\n",
    "def goodbye():\n",
    "    print(\" Goodbye Function complete!\")\n",
    "    time.sleep(2)\n",
    "\n",
    "@timer\n",
    "def square(num):\n",
    "    time.sleep(2)\n",
    "    print(\" Goodbye Function complete!\")\n",
    "    return num**2\n",
    "\n",
    "hello()\n",
    "goodbye()\n",
    "print(square(4))  \n"
   ]
  },
  {
   "cell_type": "code",
   "execution_count": 20,
   "id": "ab1a5502",
   "metadata": {},
   "outputs": [
    {
     "ename": "NameError",
     "evalue": "name 'checkDT' is not defined",
     "output_type": "error",
     "traceback": [
      "\u001b[1;31m---------------------------------------------------------------------------\u001b[0m",
      "\u001b[1;31mNameError\u001b[0m                                 Traceback (most recent call last)",
      "Cell \u001b[1;32mIn[20], line 1\u001b[0m\n\u001b[1;32m----> 1\u001b[0m \u001b[38;5;129m@checkDT\u001b[39m\n\u001b[0;32m      2\u001b[0m \u001b[38;5;28;01mdef\u001b[39;00m \u001b[38;5;21msquare\u001b[39m(num):\n\u001b[0;32m      3\u001b[0m     \u001b[38;5;28mprint\u001b[39m(num \u001b[38;5;241m*\u001b[39m\u001b[38;5;241m*\u001b[39m \u001b[38;5;241m2\u001b[39m)\n",
      "\u001b[1;31mNameError\u001b[0m: name 'checkDT' is not defined"
     ]
    }
   ],
   "source": [
    "@checkDT\n",
    "def square(num):\n",
    "    print(num ** 2)"
   ]
  },
  {
   "cell_type": "markdown",
   "id": "72c6b5b2",
   "metadata": {},
   "source": [
    "Sanity check ka matlab hota hai:\n",
    "A quick, basic test to make sure something is working as expected.def "
   ]
  },
  {
   "cell_type": "code",
   "execution_count": 39,
   "id": "f17cddf4",
   "metadata": {},
   "outputs": [
    {
     "name": "stdout",
     "output_type": "stream",
     "text": [
      "16\n",
      "hello sj\n"
     ]
    }
   ],
   "source": [
    "def sanity_check(datatype):\n",
    "    def outer_wrapper(func):\n",
    "        def inner_wrapper(*args, **kwargs):\n",
    "            if type(*args) ==  datatype:\n",
    "                func(*args, **kwargs)\n",
    "            else:\n",
    "                raise TypeError(f\"Argument {args} is not of type {datatype.__name__}\")\n",
    "        return inner_wrapper\n",
    "    return outer_wrapper\n",
    "\n",
    "@sanity_check(int)\n",
    "def square(num):\n",
    "    print(num ** 2)\n",
    "\n",
    "square(4)  # This will work\n",
    "\n",
    "@sanity_check(str) \n",
    "def greet(name):\n",
    "    print(\"hello\",name)\n",
    "\n",
    "greet(\"sj\")  # This will work\n",
    "\n"
   ]
  }
 ],
 "metadata": {
  "kernelspec": {
   "display_name": "base",
   "language": "python",
   "name": "python3"
  },
  "language_info": {
   "codemirror_mode": {
    "name": "ipython",
    "version": 3
   },
   "file_extension": ".py",
   "mimetype": "text/x-python",
   "name": "python",
   "nbconvert_exporter": "python",
   "pygments_lexer": "ipython3",
   "version": "3.12.3"
  }
 },
 "nbformat": 4,
 "nbformat_minor": 5
}
