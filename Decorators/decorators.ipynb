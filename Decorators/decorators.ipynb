{
 "cells": [
  {
   "cell_type": "code",
   "execution_count": null,
   "id": "9dac1023",
   "metadata": {
    "notebookRunGroups": {
     "groupValue": "2"
    }
   },
   "outputs": [],
   "source": [
    "def my_decorator(fx):\n",
    "    def wrapper():\n",
    "        print('*' * 10)\n",
    "        fx()\n",
    "        print('*' * 10)\n",
    "    return wrapper\n",
    "\n",
    "def greet():\n",
    "    print(\"greetING\")\n",
    "\n",
    "a = my_decorator(greet)\n",
    "a()"
   ]
  },
  {
   "cell_type": "code",
   "execution_count": null,
   "id": "7d1651f1",
   "metadata": {},
   "outputs": [],
   "source": []
  },
  {
   "cell_type": "code",
   "execution_count": null,
   "id": "af433402",
   "metadata": {},
   "outputs": [],
   "source": []
  },
  {
   "cell_type": "code",
   "execution_count": null,
   "id": "23b0c7f4",
   "metadata": {},
   "outputs": [],
   "source": []
  },
  {
   "cell_type": "code",
   "execution_count": null,
   "id": "d4e3f3b3",
   "metadata": {},
   "outputs": [],
   "source": [
    "print(\"hi\")"
   ]
  },
  {
   "cell_type": "markdown",
   "id": "abb6ebcc",
   "metadata": {},
   "source": [
    "1. Basic Function Decorator"
   ]
  },
  {
   "cell_type": "code",
   "execution_count": null,
   "id": "e7df389e",
   "metadata": {},
   "outputs": [],
   "source": [
    "# def my_decorator(func):\n",
    "#     def wrapper():\n",
    "#         print(\"🎯 Before the function runs\")\n",
    "#         func()\n",
    "#         print(\"✅ After the function runs\")\n",
    "#     return wrapper\n",
    "\n",
    "# @my_decorator\n",
    "# def greet():\n",
    "#     print(\"Hello, Shikher Bhai!\")\n",
    "\n",
    "# greet()\n"
   ]
  },
  {
   "cell_type": "markdown",
   "id": "074ad87f",
   "metadata": {},
   "source": [
    "2. Decorator with Arguments"
   ]
  },
  {
   "cell_type": "code",
   "execution_count": null,
   "id": "4f819f05",
   "metadata": {},
   "outputs": [],
   "source": [
    "# def bold_decorator(func):\n",
    "#     def wrapper(text):\n",
    "#         return f\"<b>{func(text)}</b>\"\n",
    "#     return wrapper\n",
    "\n",
    "# @bold_decorator\n",
    "# def greet(name):\n",
    "#     return f\"Hello, {name}\"\n",
    "# \n",
    "# print(greet(\"Shikher\"))\n"
   ]
  },
  {
   "cell_type": "markdown",
   "id": "92bb60ef",
   "metadata": {},
   "source": [
    "Real-World Use Case: Login Required"
   ]
  },
  {
   "cell_type": "code",
   "execution_count": null,
   "id": "692de11a",
   "metadata": {},
   "outputs": [],
   "source": [
    "# def login_required(func):\n",
    "#     def wrapper(user):\n",
    "#         if user.get(\"is_logged_in\"):\n",
    "#             return func(user)\n",
    "#         else:\n",
    "#             return \"⛔ Please login to continue.\"\n",
    "#     return wrapper\n",
    "\n",
    "# @login_required\n",
    "# def view_dashboard(user):\n",
    "#     return f\"📊 Welcome to your dashboard, {user['name']}!\"\n",
    "\n",
    "# user1 = {\"name\": \"Shikher\", \"is_logged_in\": True}\n",
    "# user2 = {\"name\": \"Vishal\", \"is_logged_in\": False}\n",
    "\n",
    "# print(view_dashboard(user1))  # ✅ Access allowed\n",
    "# print(view_dashboard(user2))  # ❌ Access denied\n"
   ]
  },
  {
   "cell_type": "markdown",
   "id": "8a355160",
   "metadata": {},
   "source": [
    "Timer Decorator (Performance Check)"
   ]
  },
  {
   "cell_type": "code",
   "execution_count": null,
   "id": "912447db",
   "metadata": {},
   "outputs": [],
   "source": [
    "# import time\n",
    "\n",
    "# def timer(func):\n",
    "#     def wrapper():\n",
    "#         start = time.time()\n",
    "#         func()\n",
    "#         end = time.time()\n",
    "#         print(f\"⏱️ Execution time: {end - start:.4f} seconds\")\n",
    "#     return wrapper\n",
    "\n",
    "# @timer\n",
    "# def test_function():\n",
    "#     time.sleep(1.5)\n",
    "#     print(\"Function complete!\")\n",
    "\n",
    "# test_function()\n"
   ]
  }
 ],
 "metadata": {
  "kernelspec": {
   "display_name": "base",
   "language": "python",
   "name": "python3"
  },
  "language_info": {
   "codemirror_mode": {
    "name": "ipython",
    "version": 3
   },
   "file_extension": ".py",
   "mimetype": "text/x-python",
   "name": "python",
   "nbconvert_exporter": "python",
   "pygments_lexer": "ipython3",
   "version": "3.12.3"
  }
 },
 "nbformat": 4,
 "nbformat_minor": 5
}
