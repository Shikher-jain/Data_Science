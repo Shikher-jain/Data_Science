{
 "cells": [
  {
   "cell_type": "code",
   "execution_count": null,
   "id": "ea64defc",
   "metadata": {},
   "outputs": [],
   "source": [
    "import pandas as pd\n",
    "import numpy as np"
   ]
  },
  {
   "cell_type": "code",
   "execution_count": null,
   "id": "ef30e76e",
   "metadata": {},
   "outputs": [],
   "source": [
    "courses = pd.read_csv(r'F:\\SHIKHER-VS\\DSMP\\02_pandas\\datasets\\datasets-session-20\\courses.csv')\n",
    "courses"
   ]
  },
  {
   "cell_type": "code",
   "execution_count": null,
   "id": "8369dafc",
   "metadata": {},
   "outputs": [],
   "source": [
    "deliveries = pd.read_csv(r'F:\\SHIKHER-VS\\DSMP\\02_pandas\\datasets\\datasets-session-20\\deliveries.csv')\n",
    "deliveries"
   ]
  },
  {
   "cell_type": "code",
   "execution_count": null,
   "id": "72c28c93",
   "metadata": {},
   "outputs": [],
   "source": [
    "matches = pd.read_csv(r'F:\\SHIKHER-VS\\DSMP\\02_pandas\\datasets\\datasets-session-20\\matches.csv')\n",
    "matches"
   ]
  },
  {
   "cell_type": "code",
   "execution_count": null,
   "id": "1d3a861a",
   "metadata": {},
   "outputs": [],
   "source": [
    "nov = pd.read_csv(r'F:\\SHIKHER-VS\\DSMP\\02_pandas\\datasets\\datasets-session-20\\reg-month1.csv')\n",
    "nov"
   ]
  },
  {
   "cell_type": "code",
   "execution_count": null,
   "id": "b8d932ad",
   "metadata": {},
   "outputs": [],
   "source": [
    "dec = pd.read_csv(r'F:\\SHIKHER-VS\\DSMP\\02_pandas\\datasets\\datasets-session-20\\reg-month2.csv')\n",
    "dec"
   ]
  },
  {
   "cell_type": "code",
   "execution_count": null,
   "id": "f51e9485",
   "metadata": {},
   "outputs": [],
   "source": [
    "students = pd.read_csv(r'F:\\SHIKHER-VS\\DSMP\\02_pandas\\datasets\\datasets-session-20\\students.csv')\n",
    "students"
   ]
  },
  {
   "cell_type": "code",
   "execution_count": null,
   "metadata": {},
   "outputs": [],
   "source": [
    "pd.concat([nov,dec])  #index remian unchanged"
   ]
  },
  {
   "cell_type": "code",
   "execution_count": null,
   "id": "45b260b6",
   "metadata": {},
   "outputs": [],
   "source": [
    "regs = pd.concat([nov,dec],ignore_index = True)\n",
    "regs"
   ]
  },
  {
   "cell_type": "code",
   "execution_count": null,
   "id": "933c5c7c",
   "metadata": {},
   "outputs": [],
   "source": [
    "# regs = pd.concat([nov,dec],ignore_index = True)\n",
    "multi = pd.concat([nov,dec],keys = ['Nov','Dec'])\n",
    "multi\n",
    "multi.loc[('Nov',0)]\n",
    "multi.loc[('Dec',6)]"
   ]
  },
  {
   "cell_type": "code",
   "execution_count": null,
   "metadata": {},
   "outputs": [],
   "source": [
    "pd.concat([nov,dec],axis = 1)"
   ]
  },
  {
   "cell_type": "code",
   "execution_count": null,
   "metadata": {},
   "outputs": [],
   "source": [
    "# inner join\n",
    "# student_id is common in Both\n",
    "\n",
    "\n",
    "students['student_id'], regs['student_id']"
   ]
  },
  {
   "cell_type": "code",
   "execution_count": null,
   "metadata": {},
   "outputs": [],
   "source": [
    "students.merge(regs)\n",
    "students.merge(regs,how = \"inner\",on = \"student_id\")"
   ]
  },
  {
   "cell_type": "code",
   "execution_count": null,
   "metadata": {},
   "outputs": [],
   "source": [
    "courses.merge(regs,how = \"inner\",on = \"course_id\")\n"
   ]
  },
  {
   "cell_type": "code",
   "execution_count": null,
   "metadata": {},
   "outputs": [],
   "source": [
    "courses.merge(regs,how = \"left\",on = \"course_id\")\n"
   ]
  },
  {
   "cell_type": "code",
   "execution_count": null,
   "id": "00475968",
   "metadata": {},
   "outputs": [],
   "source": [
    "t_df = pd.DataFrame({\n",
    "    'student_id':[26,27,28],\n",
    "    'name':['a','b','c'],\n",
    "    'partner':[28,26,17]\n",
    "})\n",
    "\n",
    "t_df"
   ]
  },
  {
   "cell_type": "code",
   "execution_count": null,
   "id": "a76629dc",
   "metadata": {},
   "outputs": [],
   "source": [
    "students = pd.concat([students,t_df],ignore_index = True)\n",
    "students.tail()"
   ]
  },
  {
   "cell_type": "code",
   "execution_count": null,
   "id": "04d1778a",
   "metadata": {},
   "outputs": [],
   "source": [
    "students.merge(regs,how='right',on='student_id')"
   ]
  },
  {
   "cell_type": "code",
   "execution_count": null,
   "id": "a2f90bd9",
   "metadata": {},
   "outputs": [],
   "source": [
    "students.merge(regs,how='outer',on='student_id')\n",
    "students.merge(regs,how='outer',on='student_id').tail(10)"
   ]
  },
  {
   "cell_type": "code",
   "execution_count": null,
   "id": "04bbaa43",
   "metadata": {},
   "outputs": [],
   "source": [
    "# find  total revenue generated \n",
    "\n",
    "regs.merge(courses,how='inner',on='course_id')\n",
    "regs.merge(courses,how='inner',on='course_id')['price']\n",
    "total = regs.merge(courses,how='inner',on='course_id')['price'].sum()\n",
    "total"
   ]
  },
  {
   "cell_type": "code",
   "execution_count": null,
   "id": "cab95274",
   "metadata": {},
   "outputs": [],
   "source": [
    "# find month by month revenue\n",
    "\n",
    "pd.concat([nov, dec], keys = ['Nov','Dec'])\n",
    "t_df = pd.concat([nov, dec], keys = ['Nov','Dec']).reset_index()\n",
    "t_df"
   ]
  },
  {
   "cell_type": "code",
   "execution_count": null,
   "id": "1209f8e4",
   "metadata": {},
   "outputs": [],
   "source": [
    "t_df.merge(courses,on = 'course_id')\n",
    "t_df.merge(courses,on = 'course_id').groupby('level_0')['price'].count()\n",
    "t_df.merge(courses,on = 'course_id').groupby('level_0')['price'].sum()"
   ]
  },
  {
   "cell_type": "code",
   "execution_count": null,
   "id": "83a574cd",
   "metadata": {},
   "outputs": [],
   "source": [
    "regs.merge(students,on='student_id')\n",
    "regs.merge(courses,on='course_id')"
   ]
  },
  {
   "cell_type": "code",
   "execution_count": null,
   "metadata": {},
   "outputs": [],
   "source": [
    "regs.merge(students,on='student_id').merge(courses,on='course_id')\n",
    "table = regs.merge(students,on='student_id').merge(courses,on='course_id')[['name','course_name','price']]\n",
    "table\n",
    "# regs.merge(students,on='student_id').merge(courses,on='course_id')[['name','course_name','price']].sort_values('name')"
   ]
  },
  {
   "cell_type": "code",
   "execution_count": null,
   "metadata": {},
   "outputs": [],
   "source": [
    "#  plot bar chart for revenue/courses\n",
    "regs.merge(courses,on='course_id').groupby('course_name')['price'].sum().plot(kind='bar')"
   ]
  },
  {
   "cell_type": "code",
   "execution_count": null,
   "metadata": {},
   "outputs": [],
   "source": [
    "common_stu_id = nov.merge(dec,how='inner',on='student_id')['student_id'].unique()\n",
    "common_stu_id\n"
   ]
  },
  {
   "cell_type": "code",
   "execution_count": null,
   "id": "bb697e5c",
   "metadata": {},
   "outputs": [],
   "source": [
    "common_stud_id = np.intersect1d(nov['student_id'],dec['student_id'])\n",
    "common_stud_id"
   ]
  },
  {
   "cell_type": "code",
   "execution_count": null,
   "id": "373be82c",
   "metadata": {},
   "outputs": [],
   "source": [
    "students[students['student_id'].isin(common_stu_id)]['name']\n",
    "# students[students['student_id'].isin(common_stud_id)]['name']"
   ]
  },
  {
   "cell_type": "code",
   "execution_count": null,
   "metadata": {},
   "outputs": [],
   "source": [
    "# fid the courses that got no enrollment\n",
    "\n",
    "courses['course_id'] \n",
    "regs['course_id']"
   ]
  },
  {
   "cell_type": "code",
   "execution_count": null,
   "metadata": {},
   "outputs": [],
   "source": [
    "not_enroll_course = np.setdiff1d(courses['course_id'],regs['course_id'])\n",
    "courses[courses['course_id'].isin(not_enroll_course)]\n",
    "courses[courses['course_id'].isin(not_enroll_course)]['course_name']"
   ]
  },
  {
   "cell_type": "code",
   "execution_count": null,
   "id": "9fd6552e",
   "metadata": {},
   "outputs": [],
   "source": [
    "not_enroll_stud = np.setdiff1d(students['student_id'],regs['student_id'])\n",
    "students[students['student_id'].isin(not_enroll_stud)]\n",
    "# students[students['student_id'].isin(not_enroll_stud)]['name']"
   ]
  },
  {
   "cell_type": "code",
   "execution_count": null,
   "id": "9b1c58aa",
   "metadata": {},
   "outputs": [],
   "source": [
    "# print the student name -> partner name for all enrollment students\n",
    "\n",
    "# self join\n",
    " \n",
    "students.merge(students,how='inner',left_on='partner', right_on='student_id' ) "
   ]
  },
  {
   "cell_type": "code",
   "execution_count": null,
   "id": "38afcd31",
   "metadata": {},
   "outputs": [],
   "source": [
    "# find top 3 students who did most number enrollments \n",
    "\n",
    "regs.merge(students,on = 'student_id')['name'].value_counts()\n",
    "\n",
    "regs.merge(students,on = 'student_id').groupby(['student_id','name'])['name'].count().sort_values(ascending = False).head(5)"
   ]
  },
  {
   "cell_type": "code",
   "execution_count": null,
   "id": "9ee91e63",
   "metadata": {},
   "outputs": [],
   "source": [
    "# tp 3 students who spent most amount of money on courses\n",
    "\n",
    "regs.merge(students,on='student_id').merge(courses,on='course_id').groupby(['student_id','name'])['price'].sum().sort_values(ascending = False)"
   ]
  },
  {
   "cell_type": "code",
   "execution_count": null,
   "id": "996a65fc",
   "metadata": {},
   "outputs": [],
   "source": [
    "matches.head(5)"
   ]
  },
  {
   "cell_type": "code",
   "execution_count": null,
   "id": "2221f248",
   "metadata": {},
   "outputs": [],
   "source": [
    "\n",
    "temp = matches.merge(deliveries,how='inner',left_on='id',right_on='match_id')\n",
    "\n",
    "temp"
   ]
  },
  {
   "cell_type": "code",
   "execution_count": null,
   "id": "13a0f967",
   "metadata": {},
   "outputs": [],
   "source": [
    "six_df = temp[temp['batsman_runs'] == 6]\n",
    "six_df"
   ]
  },
  {
   "cell_type": "code",
   "execution_count": null,
   "id": "e31412a0",
   "metadata": {},
   "outputs": [],
   "source": [
    "# stadium -> sixes\n",
    "\n",
    "num_sixes = six_df.groupby('venue')['venue'].count()"
   ]
  },
  {
   "cell_type": "code",
   "execution_count": null,
   "metadata": {},
   "outputs": [],
   "source": [
    "num_matches = matches['venue'].value_counts()\n",
    "num_matches"
   ]
  },
  {
   "cell_type": "code",
   "execution_count": null,
   "id": "5099ca21",
   "metadata": {},
   "outputs": [],
   "source": [
    "(num_sixes / num_matches ).sort_values(ascending = False)"
   ]
  },
  {
   "cell_type": "code",
   "execution_count": 171,
   "metadata": {},
   "outputs": [
    {
     "data": {
      "application/vnd.microsoft.datawrangler.viewer.v0+json": {
       "columns": [
        {
         "name": "index",
         "rawType": "int64",
         "type": "integer"
        },
        {
         "name": "season",
         "rawType": "int64",
         "type": "integer"
        },
        {
         "name": "batsman",
         "rawType": "object",
         "type": "string"
        },
        {
         "name": "batsman_runs",
         "rawType": "int64",
         "type": "integer"
        }
       ],
       "ref": "0e04cc32-d28b-4d91-9af2-35b118791155",
       "rows": [
        [
         "115",
         "2008",
         "SE Marsh",
         "616"
        ],
        [
         "229",
         "2009",
         "ML Hayden",
         "572"
        ],
        [
         "446",
         "2010",
         "SR Tendulkar",
         "618"
        ],
        [
         "502",
         "2011",
         "CH Gayle",
         "608"
        ],
        [
         "684",
         "2012",
         "CH Gayle",
         "733"
        ],
        [
         "910",
         "2013",
         "MEK Hussey",
         "733"
        ],
        [
         "1088",
         "2014",
         "RV Uthappa",
         "660"
        ],
        [
         "1148",
         "2015",
         "DA Warner",
         "562"
        ],
        [
         "1383",
         "2016",
         "V Kohli",
         "973"
        ],
        [
         "1422",
         "2017",
         "DA Warner",
         "641"
        ]
       ],
       "shape": {
        "columns": 3,
        "rows": 10
       }
      },
      "text/html": [
       "<div>\n",
       "<style scoped>\n",
       "    .dataframe tbody tr th:only-of-type {\n",
       "        vertical-align: middle;\n",
       "    }\n",
       "\n",
       "    .dataframe tbody tr th {\n",
       "        vertical-align: top;\n",
       "    }\n",
       "\n",
       "    .dataframe thead th {\n",
       "        text-align: right;\n",
       "    }\n",
       "</style>\n",
       "<table border=\"1\" class=\"dataframe\">\n",
       "  <thead>\n",
       "    <tr style=\"text-align: right;\">\n",
       "      <th></th>\n",
       "      <th>season</th>\n",
       "      <th>batsman</th>\n",
       "      <th>batsman_runs</th>\n",
       "    </tr>\n",
       "  </thead>\n",
       "  <tbody>\n",
       "    <tr>\n",
       "      <th>115</th>\n",
       "      <td>2008</td>\n",
       "      <td>SE Marsh</td>\n",
       "      <td>616</td>\n",
       "    </tr>\n",
       "    <tr>\n",
       "      <th>229</th>\n",
       "      <td>2009</td>\n",
       "      <td>ML Hayden</td>\n",
       "      <td>572</td>\n",
       "    </tr>\n",
       "    <tr>\n",
       "      <th>446</th>\n",
       "      <td>2010</td>\n",
       "      <td>SR Tendulkar</td>\n",
       "      <td>618</td>\n",
       "    </tr>\n",
       "    <tr>\n",
       "      <th>502</th>\n",
       "      <td>2011</td>\n",
       "      <td>CH Gayle</td>\n",
       "      <td>608</td>\n",
       "    </tr>\n",
       "    <tr>\n",
       "      <th>684</th>\n",
       "      <td>2012</td>\n",
       "      <td>CH Gayle</td>\n",
       "      <td>733</td>\n",
       "    </tr>\n",
       "    <tr>\n",
       "      <th>910</th>\n",
       "      <td>2013</td>\n",
       "      <td>MEK Hussey</td>\n",
       "      <td>733</td>\n",
       "    </tr>\n",
       "    <tr>\n",
       "      <th>1088</th>\n",
       "      <td>2014</td>\n",
       "      <td>RV Uthappa</td>\n",
       "      <td>660</td>\n",
       "    </tr>\n",
       "    <tr>\n",
       "      <th>1148</th>\n",
       "      <td>2015</td>\n",
       "      <td>DA Warner</td>\n",
       "      <td>562</td>\n",
       "    </tr>\n",
       "    <tr>\n",
       "      <th>1383</th>\n",
       "      <td>2016</td>\n",
       "      <td>V Kohli</td>\n",
       "      <td>973</td>\n",
       "    </tr>\n",
       "    <tr>\n",
       "      <th>1422</th>\n",
       "      <td>2017</td>\n",
       "      <td>DA Warner</td>\n",
       "      <td>641</td>\n",
       "    </tr>\n",
       "  </tbody>\n",
       "</table>\n",
       "</div>"
      ],
      "text/plain": [
       "      season       batsman  batsman_runs\n",
       "115     2008      SE Marsh           616\n",
       "229     2009     ML Hayden           572\n",
       "446     2010  SR Tendulkar           618\n",
       "502     2011      CH Gayle           608\n",
       "684     2012      CH Gayle           733\n",
       "910     2013    MEK Hussey           733\n",
       "1088    2014    RV Uthappa           660\n",
       "1148    2015     DA Warner           562\n",
       "1383    2016       V Kohli           973\n",
       "1422    2017     DA Warner           641"
      ]
     },
     "execution_count": 171,
     "metadata": {},
     "output_type": "execute_result"
    }
   ],
   "source": [
    "top_players = temp.groupby(['season','batsman'])['batsman_runs'].sum().reset_index().sort_values(['season','batsman_runs'],ascending = [True,False]).drop_duplicates('season')\n",
    "top_players"
   ]
  }
 ],
 "metadata": {
  "kernelspec": {
   "display_name": "base",
   "language": "python",
   "name": "python3"
  },
  "language_info": {
   "codemirror_mode": {
    "name": "ipython",
    "version": 3
   },
   "file_extension": ".py",
   "mimetype": "text/x-python",
   "name": "python",
   "nbconvert_exporter": "python",
   "pygments_lexer": "ipython3",
   "version": "3.12.3"
  }
 },
 "nbformat": 4,
 "nbformat_minor": 5
}
