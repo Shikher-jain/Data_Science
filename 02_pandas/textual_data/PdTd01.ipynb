{
 "cells": [
  {
   "cell_type": "code",
   "execution_count": null,
   "id": "96918bcc",
   "metadata": {},
   "outputs": [],
   "source": [
    "import pandas as pd\n",
    "import numpy as np\n",
    "import re\n",
    "import string\n",
    "from textblob import TextBlob"
   ]
  },
  {
   "cell_type": "code",
   "execution_count": null,
   "id": "e658667f",
   "metadata": {},
   "outputs": [],
   "source": [
    "df = pd.read_csv(r\"C:\\shikher_jain\\Data_Science\\02_pandas\\datasets\\dataset_extra\\IMDB Dataset.csv\")"
   ]
  },
  {
   "cell_type": "code",
   "execution_count": null,
   "id": "3f7b58f8",
   "metadata": {},
   "outputs": [],
   "source": [
    "df.info()"
   ]
  },
  {
   "cell_type": "code",
   "execution_count": null,
   "id": "201bc4ca",
   "metadata": {},
   "outputs": [],
   "source": [
    "df.head()"
   ]
  },
  {
   "cell_type": "code",
   "execution_count": null,
   "id": "ce0f0a79",
   "metadata": {},
   "outputs": [],
   "source": [
    "df = df.iloc[:5000]"
   ]
  },
  {
   "cell_type": "code",
   "execution_count": null,
   "id": "50c6f993",
   "metadata": {},
   "outputs": [],
   "source": [
    "df['review'] = df['review'].str.lower().str.strip()\n",
    "df.head()"
   ]
  },
  {
   "cell_type": "code",
   "execution_count": null,
   "id": "50a84800",
   "metadata": {},
   "outputs": [],
   "source": [
    "def remove_html(data):\n",
    "    data = re.sub(r'<.*?>','',data)\n",
    "    return data\n",
    "\n",
    "\n",
    "df['review'] = df['review'].apply(remove_html)\n"
   ]
  },
  {
   "cell_type": "code",
   "execution_count": null,
   "id": "c14b9654",
   "metadata": {},
   "outputs": [],
   "source": [
    "\n",
    "df['review'] = df['review'].str.replace(r'<.*?>','', regex=True)\n",
    "df['review'] = df['review'].str.replace(r'https?://\\S+|www\\.\\S+','', regex=True)\n",
    "df.head()\n"
   ]
  },
  {
   "cell_type": "code",
   "execution_count": null,
   "id": "4e034e1c",
   "metadata": {},
   "outputs": [],
   "source": [
    "\n",
    "df['review'] = df['review'].str.replace(r'<.*?>','', regex=True)\n",
    "df.head()"
   ]
  },
  {
   "cell_type": "code",
   "execution_count": null,
   "id": "8bafa853-8bfd-4244-a827-4a092203c3d5",
   "metadata": {},
   "outputs": [],
   "source": [
    "def remove_abb(data):\n",
    "\n",
    "    data = re.sub(r\"he's\", \"he is\", data)\n",
    "    data = re.sub(r\"there's\", \"there is\", data)\n",
    "    data = re.sub(r\"We're\", \"We are\", data)\n",
    "    data = re.sub(r\"That's\", \"That is\", data)\n",
    "    data = re.sub(r\"won't\", \"will not\", data)\n",
    "    data = re.sub(r\"they're\", \"they are\", data)\n",
    "    data = re.sub(r\"Can't\", \"Cannot\", data)\n",
    "    data = re.sub(r\"wasn't\", \"was not\", data)\n",
    "    data = re.sub(r\"don\\x890ªt\", \"do not\", data)    \n",
    "    data = re.sub(r\"aren't\", \"are not\", data)\n",
    "    data = re.sub(r\"isn't\", \"is not\", data)\n",
    "    data = re.sub(r\"What's\", \"What is\", data)\n",
    "    data = re.sub(r\"haven't\", \"have not\", data)\n",
    "    data = re.sub(r\"hasn't\", \"has not\", data)\n",
    "    data = re.sub(r\"There's\", \"There is\", data)\n",
    "    data = re.sub(r\"He's\", \"He is\", data)\n",
    "    data = re.sub(r\"It's\", \"It is\", data)\n",
    "    data = re.sub(r\"You're\", \"You are\", data)\n",
    "    data = re.sub(r\"I'M\", \"I am\", data)\n",
    "    data = re.sub(r\"shouldn't\", \"should not\", data)\n",
    "    data = re.sub(r\"wouldn't\", \"would not\", data)\n",
    "    data = re.sub(r\"i'm\", \"I am\", data)\n",
    "    data = re.sub(r\"I\\x89Û³m\", \"I am\", data)\n",
    "    data = re.sub(r\"I'm\", \"I am\", data)\n",
    "    data = re.sub(r\"Isn't\", \"is not\", data)\n",
    "    data = re.sub(r\"Here's\", \"Here is\", data)\n",
    "    data = re.sub(r\"you've\", \"you have\", data)\n",
    "    data = re.sub(r\"you\\x890ave\", \"you have\", data)\n",
    "    data = re.sub(r\"we're\", \"we are\", data)\n",
    "    data = re.sub(r\"what's\", \"what is\", data)\n",
    "    data = re.sub(r\"couldn't\", \"could not\", data)\n",
    "    data = re.sub(r\"we've\", \"we have\", data)\n",
    "    data = re.sub(r\"it\\x89Ûas\", \"it is\", data)\n",
    "    data = re.sub(r\"doesn\\x890at\", \"does not\", data)\n",
    "    data = re.sub(r\"It\\x890ªs\", \"It is\", data)\n",
    "    data = re.sub(r\"Here\\x89Ûas\", \"Here is\", data)\n",
    "    data = re.sub(r\"who's\", \"who is\", data)\n",
    "    data = re.sub(r\"I\\x890ªve\", \"I have\", data)\n",
    "    data = re.sub(r\"y'all\", \"you all\", data)\n",
    "    data = re.sub(r\"can\\x890at\", \"cannot\", data)\n",
    "    data = re.sub(r\"would've\", \"would have\", data)\n",
    "    data = re.sub(r\"it'll\", \"it will\", data)\n",
    "    data = re.sub(r\"we'11\", \"we will\", data)\n",
    "    data = re.sub(r\"wouldn\\x890ªt\", \"would not\", data)\n",
    "    data = re.sub(r\"We've\", \"We have\", data)\n",
    "    data = re.sub(r\"he'11\", \"he will\", data)\n",
    "    data = re.sub(r\"Y'all\", \"You all\", data)\n",
    "    data = re.sub(r\"Weren't\", \"Were not\", data)\n",
    "    data = re.sub(r\"Didn't\", \"Did not\", data)\n",
    "    data = re.sub(r\"they'11\", \"they will\", data)\n",
    "    data = re.sub(r\"they'd\", \"they would\", data)\n",
    "    data = re.sub(r\"DON'T\", \"DO NOT\", data)\n",
    "    data = re.sub(r\"That\\x890ªs\", \"That is\", data)\n",
    "    data = re.sub(r\"they've\", \"they have\", data)\n",
    "    data = re.sub(r\"i'd\", \"I would\", data)\n",
    "    data = re.sub(r\"should've\", \"should have\", data)\n",
    "    data = re.sub(r\"You\\x89Û³re\", \"You are\", data)\n",
    "    data = re.sub(r\"where's\", \"where is\", data)\n",
    "    data = re.sub(r\"Don\\x890ªt\", \"Do not\", data)\n",
    "    data = re.sub(r\"we'd\", \"we would\", data)\n",
    "    data = re.sub(r\"i'll\", \"I will\", data)    \n",
    "    data = re.sub(r\"weren't\", \"were not\", data)\n",
    "    data = re.sub(r\"They're\", \"They are\", data)\n",
    "    data = re.sub(r\"Can\\x890\", \"Cannot\", data)\n",
    "    data = re.sub(r\"you'll\", \"you will\", data)\n",
    "    data = re.sub(r\"I'd\", \"I would\", data)\n",
    "    data = re.sub(r\"let's\", \"let us\", data)    \n",
    "    data = re.sub(r\"it's\", \"it is\", data)\n",
    "    data = re.sub(r\"can't\", \"cannot\", data)\n",
    "    data = re.sub(r\"don't\", \"do not\", data)\n",
    "    data = re.sub(r\"you're\", \"you are\", data)\n",
    "    data = re.sub(r\"i've\", \"I have\", data)\n",
    "    data = re.sub(r\"that's\", \"that is\", data)\n",
    "    data = re.sub(r\"i'll\", \"I will\", data)\n",
    "    data = re.sub(r\"doesn't\", \"does not\", data)\n",
    "    data = re.sub(r\"i'd\", \"I would\", data)\n",
    "    data = re.sub(r\"didn't\", \"did not\", data)\n",
    "    data = re.sub(r\"ain't\", \"am not\", data)\n",
    "    data = re.sub(r\"you'll\", \"you will\", data)\n",
    "    data = re.sub(r\"I've\", \"I have\", data)\n",
    "    data = re.sub(r\"Don't\", \"do not\", data)\n",
    "    data = re.sub(r\"I'll\", \"I will\", data)\n",
    "    data = re.sub(r\"I'd\", \"I would\", data)\n",
    "    data = re.sub(r\"Let's\", \"Let us\", data)\n",
    "    data = re.sub(r\"you'd\", \"You would\", data)\n",
    "    data = re.sub(r\"It's\", \"It is\", data)\n",
    "    data = re.sub(r\"Ain't\", \"am not\", data)\n",
    "    data = re.sub(r\"Haven't\", \"Have not\", data)\n",
    "    data = re.sub(r\"Could've\", \"Could have\", data)\n",
    "    data = re.sub(r\"youve\", \"you have\", data)\n",
    "    data = re.sub(r\"donårt\", \"do not\", data)\n",
    "    \n",
    "    return data"
   ]
  },
  {
   "cell_type": "code",
   "execution_count": null,
   "id": "843c4019",
   "metadata": {},
   "outputs": [],
   "source": [
    "def spelling_correction(text):\n",
    "    return TextBlob(text).correct().string"
   ]
  },
  {
   "cell_type": "code",
   "execution_count": null,
   "id": "ee159cbf",
   "metadata": {},
   "outputs": [],
   "source": [
    "def remove_punctuation(text):\n",
    "    for i in string.punctuation:\n",
    "        if i in text:\n",
    "            text = text.replace(i, \"\")\n",
    "    return text"
   ]
  },
  {
   "cell_type": "code",
   "execution_count": null,
   "id": "97d198cd-e822-4335-bda3-f091f6dd722e",
   "metadata": {},
   "outputs": [],
   "source": [
    "df['review'] = df['review'].apply(remove_abb)\n",
    "# df['review'] = df['review'].apply(spelling_correction)\n",
    "df['review'] = df['review'].apply(remove_punctuation)\n",
    "df.head()"
   ]
  },
  {
   "cell_type": "code",
   "execution_count": null,
   "id": "8ff80d3d-32c7-40b1-becb-edc1b77dc66f",
   "metadata": {},
   "outputs": [],
   "source": [
    "df.head()"
   ]
  },
  {
   "cell_type": "code",
   "execution_count": null,
   "id": "8e793edd-c266-496f-895a-c8762c5bee3f",
   "metadata": {},
   "outputs": [],
   "source": [
    "from nltk.tokenize import word_tokenize\n",
    "\n"
   ]
  },
  {
   "cell_type": "code",
   "execution_count": null,
   "id": "f1927873",
   "metadata": {},
   "outputs": [],
   "source": [
    "import nltk\n",
    "\n",
    "nltk.download('punkt')\n",
    "nltk.download('punkt_tab')\n",
    "nltk.download('stopwords')\n"
   ]
  },
  {
   "cell_type": "code",
   "execution_count": null,
   "id": "ded48622",
   "metadata": {},
   "outputs": [],
   "source": [
    "df[\"tokenize_review\"] = df['review'].apply(word_tokenize)\n",
    "df.head()"
   ]
  },
  {
   "cell_type": "code",
   "execution_count": null,
   "id": "d2c02636",
   "metadata": {},
   "outputs": [],
   "source": [
    "from nltk.corpus import stopwords"
   ]
  },
  {
   "cell_type": "code",
   "execution_count": null,
   "id": "9daf9ac0",
   "metadata": {},
   "outputs": [],
   "source": [
    "def remove_stopwords(text):\n",
    "    l = []\n",
    "    for word in text:\n",
    "        if word not in stopwords.words('english'):\n",
    "            l.append(word)\n",
    "    return l"
   ]
  },
  {
   "cell_type": "code",
   "execution_count": null,
   "id": "4a62e599",
   "metadata": {},
   "outputs": [],
   "source": [
    "df[\"tokenize_review\"] = df[\"tokenize_review\"].apply(remove_stopwords)\n",
    "df.head()"
   ]
  },
  {
   "cell_type": "code",
   "execution_count": null,
   "metadata": {},
   "outputs": [],
   "source": [
    "df[\"review\"] = df[\"tokenize_review\"].apply(lambda x:\" \".join(x))\n",
    "df.head()"
   ]
  },
  {
   "cell_type": "code",
   "execution_count": null,
   "id": "23f54c3d",
   "metadata": {},
   "outputs": [],
   "source": [
    "df['char_lenght'] = df['review'].str.len()\n",
    "df['word_lenght'] = df['tokenize_review'].apply(len)\n",
    "df.head()"
   ]
  },
  {
   "cell_type": "code",
   "execution_count": null,
   "id": "b5855ab6",
   "metadata": {},
   "outputs": [],
   "source": [
    "import seaborn as sns\n"
   ]
  },
  {
   "cell_type": "code",
   "execution_count": null,
   "id": "9e35e0ee",
   "metadata": {},
   "outputs": [],
   "source": [
    "sns.displot(df['char_lenght'])"
   ]
  },
  {
   "cell_type": "code",
   "execution_count": null,
   "metadata": {},
   "outputs": [],
   "source": [
    "sns.displot(df[df['sentiment'] == 'positive']['char_lenght'])\n",
    "sns.displot(df[df['sentiment'] == 'negative']['char_lenght'])"
   ]
  },
  {
   "cell_type": "code",
   "execution_count": null,
   "id": "6be9f60a",
   "metadata": {},
   "outputs": [],
   "source": [
    "df['diff_len'] = df[\"char_lenght\"] / df['word_lenght']"
   ]
  },
  {
   "cell_type": "code",
   "execution_count": null,
   "metadata": {},
   "outputs": [],
   "source": [
    "sns.displot(df[df['sentiment'] == 'positive']['diff_len'])\n",
    "sns.displot(df[df['sentiment'] == 'negative']['diff_len'])"
   ]
  },
  {
   "cell_type": "code",
   "execution_count": null,
   "id": "fb2c20b7",
   "metadata": {},
   "outputs": [],
   "source": [
    "from nltk import ngrams\n",
    "\n",
    "pd.Series(ngrams(df['tokenize_review'],3))\n"
   ]
  },
  {
   "cell_type": "markdown",
   "id": "f38b19db",
   "metadata": {},
   "source": []
  },
  {
   "cell_type": "code",
   "execution_count": null,
   "id": "871b3ca7",
   "metadata": {},
   "outputs": [],
   "source": [
    "import pandas as pd\n",
    "import numpy as np\n",
    "import re\n",
    "import string\n",
    "from textblob import TextBlob"
   ]
  },
  {
   "cell_type": "code",
   "execution_count": null,
   "id": "e90a2efc",
   "metadata": {},
   "outputs": [],
   "source": [
    "df = pd.read_csv(r\"C:\\shikher_jain\\Data_Science\\02_pandas\\datasets\\dataset_extra\\IMDB Dataset.csv\")"
   ]
  },
  {
   "cell_type": "code",
   "execution_count": null,
   "id": "afea0944",
   "metadata": {},
   "outputs": [],
   "source": [
    "df.info()"
   ]
  },
  {
   "cell_type": "code",
   "execution_count": null,
   "id": "65c4794e",
   "metadata": {},
   "outputs": [],
   "source": [
    "df.head()"
   ]
  },
  {
   "cell_type": "code",
   "execution_count": null,
   "id": "e2270cdb",
   "metadata": {},
   "outputs": [],
   "source": [
    "df = df.iloc[:5000]"
   ]
  },
  {
   "cell_type": "code",
   "execution_count": null,
   "id": "b15348ca",
   "metadata": {},
   "outputs": [],
   "source": [
    "df['review'] = df['review'].str.lower().str.strip()\n",
    "df.head()"
   ]
  },
  {
   "cell_type": "code",
   "execution_count": null,
   "id": "7735e661",
   "metadata": {},
   "outputs": [],
   "source": [
    "def remove_html(data):\n",
    "    data = re.sub(r'<.*?>','',data)\n",
    "    return data\n",
    "\n",
    "\n",
    "df['review'] = df['review'].apply(remove_html)\n"
   ]
  },
  {
   "cell_type": "code",
   "execution_count": null,
   "id": "ffa5f629",
   "metadata": {},
   "outputs": [],
   "source": [
    "\n",
    "df['review'] = df['review'].str.replace(r'<.*?>','', regex=True)\n",
    "df['review'] = df['review'].str.replace(r'https?://\\S+|www\\.\\S+','', regex=True)\n",
    "df.head()\n"
   ]
  },
  {
   "cell_type": "code",
   "execution_count": null,
   "id": "28662249",
   "metadata": {},
   "outputs": [],
   "source": [
    "\n",
    "df['review'] = df['review'].str.replace(r'<.*?>','', regex=True)\n",
    "df.head()"
   ]
  },
  {
   "cell_type": "code",
   "execution_count": null,
   "id": "a8eccc8c",
   "metadata": {},
   "outputs": [],
   "source": [
    "def remove_abb(data):\n",
    "\n",
    "    data = re.sub(r\"he's\", \"he is\", data)\n",
    "    data = re.sub(r\"there's\", \"there is\", data)\n",
    "    data = re.sub(r\"We're\", \"We are\", data)\n",
    "    data = re.sub(r\"That's\", \"That is\", data)\n",
    "    data = re.sub(r\"won't\", \"will not\", data)\n",
    "    data = re.sub(r\"they're\", \"they are\", data)\n",
    "    data = re.sub(r\"Can't\", \"Cannot\", data)\n",
    "    data = re.sub(r\"wasn't\", \"was not\", data)\n",
    "    data = re.sub(r\"don\\x890ªt\", \"do not\", data)    \n",
    "    data = re.sub(r\"aren't\", \"are not\", data)\n",
    "    data = re.sub(r\"isn't\", \"is not\", data)\n",
    "    data = re.sub(r\"What's\", \"What is\", data)\n",
    "    data = re.sub(r\"haven't\", \"have not\", data)\n",
    "    data = re.sub(r\"hasn't\", \"has not\", data)\n",
    "    data = re.sub(r\"There's\", \"There is\", data)\n",
    "    data = re.sub(r\"He's\", \"He is\", data)\n",
    "    data = re.sub(r\"It's\", \"It is\", data)\n",
    "    data = re.sub(r\"You're\", \"You are\", data)\n",
    "    data = re.sub(r\"I'M\", \"I am\", data)\n",
    "    data = re.sub(r\"shouldn't\", \"should not\", data)\n",
    "    data = re.sub(r\"wouldn't\", \"would not\", data)\n",
    "    data = re.sub(r\"i'm\", \"I am\", data)\n",
    "    data = re.sub(r\"I\\x89Û³m\", \"I am\", data)\n",
    "    data = re.sub(r\"I'm\", \"I am\", data)\n",
    "    data = re.sub(r\"Isn't\", \"is not\", data)\n",
    "    data = re.sub(r\"Here's\", \"Here is\", data)\n",
    "    data = re.sub(r\"you've\", \"you have\", data)\n",
    "    data = re.sub(r\"you\\x890ave\", \"you have\", data)\n",
    "    data = re.sub(r\"we're\", \"we are\", data)\n",
    "    data = re.sub(r\"what's\", \"what is\", data)\n",
    "    data = re.sub(r\"couldn't\", \"could not\", data)\n",
    "    data = re.sub(r\"we've\", \"we have\", data)\n",
    "    data = re.sub(r\"it\\x89Ûas\", \"it is\", data)\n",
    "    data = re.sub(r\"doesn\\x890at\", \"does not\", data)\n",
    "    data = re.sub(r\"It\\x890ªs\", \"It is\", data)\n",
    "    data = re.sub(r\"Here\\x89Ûas\", \"Here is\", data)\n",
    "    data = re.sub(r\"who's\", \"who is\", data)\n",
    "    data = re.sub(r\"I\\x890ªve\", \"I have\", data)\n",
    "    data = re.sub(r\"y'all\", \"you all\", data)\n",
    "    data = re.sub(r\"can\\x890at\", \"cannot\", data)\n",
    "    data = re.sub(r\"would've\", \"would have\", data)\n",
    "    data = re.sub(r\"it'll\", \"it will\", data)\n",
    "    data = re.sub(r\"we'11\", \"we will\", data)\n",
    "    data = re.sub(r\"wouldn\\x890ªt\", \"would not\", data)\n",
    "    data = re.sub(r\"We've\", \"We have\", data)\n",
    "    data = re.sub(r\"he'11\", \"he will\", data)\n",
    "    data = re.sub(r\"Y'all\", \"You all\", data)\n",
    "    data = re.sub(r\"Weren't\", \"Were not\", data)\n",
    "    data = re.sub(r\"Didn't\", \"Did not\", data)\n",
    "    data = re.sub(r\"they'11\", \"they will\", data)\n",
    "    data = re.sub(r\"they'd\", \"they would\", data)\n",
    "    data = re.sub(r\"DON'T\", \"DO NOT\", data)\n",
    "    data = re.sub(r\"That\\x890ªs\", \"That is\", data)\n",
    "    data = re.sub(r\"they've\", \"they have\", data)\n",
    "    data = re.sub(r\"i'd\", \"I would\", data)\n",
    "    data = re.sub(r\"should've\", \"should have\", data)\n",
    "    data = re.sub(r\"You\\x89Û³re\", \"You are\", data)\n",
    "    data = re.sub(r\"where's\", \"where is\", data)\n",
    "    data = re.sub(r\"Don\\x890ªt\", \"Do not\", data)\n",
    "    data = re.sub(r\"we'd\", \"we would\", data)\n",
    "    data = re.sub(r\"i'll\", \"I will\", data)    \n",
    "    data = re.sub(r\"weren't\", \"were not\", data)\n",
    "    data = re.sub(r\"They're\", \"They are\", data)\n",
    "    data = re.sub(r\"Can\\x890\", \"Cannot\", data)\n",
    "    data = re.sub(r\"you'll\", \"you will\", data)\n",
    "    data = re.sub(r\"I'd\", \"I would\", data)\n",
    "    data = re.sub(r\"let's\", \"let us\", data)    \n",
    "    data = re.sub(r\"it's\", \"it is\", data)\n",
    "    data = re.sub(r\"can't\", \"cannot\", data)\n",
    "    data = re.sub(r\"don't\", \"do not\", data)\n",
    "    data = re.sub(r\"you're\", \"you are\", data)\n",
    "    data = re.sub(r\"i've\", \"I have\", data)\n",
    "    data = re.sub(r\"that's\", \"that is\", data)\n",
    "    data = re.sub(r\"i'll\", \"I will\", data)\n",
    "    data = re.sub(r\"doesn't\", \"does not\", data)\n",
    "    data = re.sub(r\"i'd\", \"I would\", data)\n",
    "    data = re.sub(r\"didn't\", \"did not\", data)\n",
    "    data = re.sub(r\"ain't\", \"am not\", data)\n",
    "    data = re.sub(r\"you'll\", \"you will\", data)\n",
    "    data = re.sub(r\"I've\", \"I have\", data)\n",
    "    data = re.sub(r\"Don't\", \"do not\", data)\n",
    "    data = re.sub(r\"I'll\", \"I will\", data)\n",
    "    data = re.sub(r\"I'd\", \"I would\", data)\n",
    "    data = re.sub(r\"Let's\", \"Let us\", data)\n",
    "    data = re.sub(r\"you'd\", \"You would\", data)\n",
    "    data = re.sub(r\"It's\", \"It is\", data)\n",
    "    data = re.sub(r\"Ain't\", \"am not\", data)\n",
    "    data = re.sub(r\"Haven't\", \"Have not\", data)\n",
    "    data = re.sub(r\"Could've\", \"Could have\", data)\n",
    "    data = re.sub(r\"youve\", \"you have\", data)\n",
    "    data = re.sub(r\"donårt\", \"do not\", data)\n",
    "    \n",
    "    return data"
   ]
  },
  {
   "cell_type": "code",
   "execution_count": null,
   "id": "f986f835",
   "metadata": {},
   "outputs": [],
   "source": [
    "def spelling_correction(text):\n",
    "    return TextBlob(text).correct().string"
   ]
  },
  {
   "cell_type": "code",
   "execution_count": null,
   "id": "6ff88d43",
   "metadata": {},
   "outputs": [],
   "source": [
    "def remove_punctuation(text):\n",
    "    for i in string.punctuation:\n",
    "        if i in text:\n",
    "            text = text.replace(i, \"\")\n",
    "    return text"
   ]
  },
  {
   "cell_type": "code",
   "execution_count": null,
   "id": "1236fe40",
   "metadata": {},
   "outputs": [],
   "source": [
    "df['review'] = df['review'].apply(remove_abb)\n",
    "# df['review'] = df['review'].apply(spelling_correction)\n",
    "df['review'] = df['review'].apply(remove_punctuation)\n",
    "df.head()"
   ]
  },
  {
   "cell_type": "code",
   "execution_count": null,
   "id": "3d091946",
   "metadata": {},
   "outputs": [],
   "source": [
    "df.head()"
   ]
  },
  {
   "cell_type": "code",
   "execution_count": null,
   "id": "f1461823",
   "metadata": {},
   "outputs": [],
   "source": [
    "from nltk.tokenize import word_tokenize\n",
    "\n"
   ]
  },
  {
   "cell_type": "code",
   "execution_count": null,
   "id": "614513a9",
   "metadata": {},
   "outputs": [],
   "source": [
    "import nltk\n",
    "\n",
    "nltk.download('punkt')\n",
    "nltk.download('punkt_tab')\n",
    "nltk.download('stopwords')\n"
   ]
  },
  {
   "cell_type": "code",
   "execution_count": null,
   "id": "cc3043f0",
   "metadata": {},
   "outputs": [],
   "source": [
    "df[\"tokenize_review\"] = df['review'].apply(word_tokenize)\n",
    "df.head()"
   ]
  },
  {
   "cell_type": "code",
   "execution_count": null,
   "id": "e390cab8",
   "metadata": {},
   "outputs": [],
   "source": [
    "from nltk.corpus import stopwords"
   ]
  },
  {
   "cell_type": "code",
   "execution_count": null,
   "id": "b8eea657",
   "metadata": {},
   "outputs": [],
   "source": [
    "def remove_stopwords(text):\n",
    "    l = []\n",
    "    for word in text:\n",
    "        if word not in stopwords.words('english'):\n",
    "            l.append(word)\n",
    "    return l"
   ]
  },
  {
   "cell_type": "code",
   "execution_count": null,
   "id": "ddc98238",
   "metadata": {},
   "outputs": [],
   "source": [
    "df[\"tokenize_review\"] = df[\"tokenize_review\"].apply(remove_stopwords)\n",
    "df.head()"
   ]
  },
  {
   "cell_type": "code",
   "execution_count": null,
   "id": "d7ee12dc",
   "metadata": {},
   "outputs": [],
   "source": [
    "df[\"review\"] = df[\"tokenize_review\"].apply(lambda x:\" \".join(x))\n",
    "df.head()"
   ]
  },
  {
   "cell_type": "code",
   "execution_count": null,
   "id": "c2d38abf",
   "metadata": {},
   "outputs": [],
   "source": [
    "df['char_lenght'] = df['review'].str.len()\n",
    "df['word_lenght'] = df['tokenize_review'].apply(len)\n",
    "df.head()"
   ]
  },
  {
   "cell_type": "code",
   "execution_count": null,
   "id": "c8b0eff0",
   "metadata": {},
   "outputs": [],
   "source": [
    "import seaborn as sns\n"
   ]
  },
  {
   "cell_type": "code",
   "execution_count": null,
   "id": "eec9bf21",
   "metadata": {},
   "outputs": [],
   "source": [
    "sns.displot(df['char_lenght'])"
   ]
  },
  {
   "cell_type": "code",
   "execution_count": null,
   "id": "a4cb9bb4",
   "metadata": {},
   "outputs": [],
   "source": [
    "sns.displot(df[df['sentiment'] == 'positive']['char_lenght'])\n",
    "sns.displot(df[df['sentiment'] == 'negative']['char_lenght'])"
   ]
  },
  {
   "cell_type": "code",
   "execution_count": null,
   "id": "0c43714c",
   "metadata": {},
   "outputs": [],
   "source": [
    "df['diff_len'] = df[\"char_lenght\"] / df['word_lenght']"
   ]
  },
  {
   "cell_type": "code",
   "execution_count": null,
   "id": "47fa0ad7",
   "metadata": {},
   "outputs": [],
   "source": [
    "sns.displot(df[df['sentiment'] == 'positive']['diff_len'])\n",
    "sns.displot(df[df['sentiment'] == 'negative']['diff_len'])"
   ]
  },
  {
   "cell_type": "code",
   "execution_count": null,
   "id": "1a4717e7",
   "metadata": {},
   "outputs": [],
   "source": [
    "from nltk import ngrams\n",
    "\n",
    "pd.Series(ngrams(df['tokenize_review'],3))\n",
    "# .value_counts()"
   ]
  },
  {
   "cell_type": "code",
   "execution_count": null,
   "id": "170e92d2",
   "metadata": {},
   "outputs": [],
   "source": [
    "\n",
    "pd.Series(ngrams(df['tokenize_review'].sum(),2)).value_counts()"
   ]
  },
  {
   "cell_type": "code",
   "execution_count": null,
   "id": "2bc38d81",
   "metadata": {},
   "outputs": [],
   "source": [
    "\n",
    "pd.Series(ngrams(df['tokenize_review'].sum(),3)).value_counts()"
   ]
  },
  {
   "cell_type": "code",
   "execution_count": null,
   "id": "1d9f31bd",
   "metadata": {},
   "outputs": [],
   "source": [
    "from wordcloud import WordCloud\n",
    "import matplotlib.pyplot as plt\n",
    "\n",
    "plt.figure(figsize=(10, 10))\n",
    "wordcloud = WordCloud(width=1000, height=800).generate(' '.join(df[df['sentiment'] == 'positive']['review']))\n",
    "plt.imshow(wordcloud)\n",
    "plt.axis('off')\n",
    "plt.show()"
   ]
  },
  {
   "cell_type": "code",
   "execution_count": null,
   "id": "1ed9362e",
   "metadata": {},
   "outputs": [],
   "source": [
    "from wordcloud import WordCloud\n",
    "import matplotlib.pyplot as plt\n",
    "\n",
    "plt.figure(figsize=(10, 10))\n",
    "wordcloud = WordCloud(width=1000, height=800).generate(' '.join(df[df['sentiment'] == 'negative']['review']))\n",
    "plt.imshow(wordcloud)\n",
    "plt.axis('off')\n",
    "plt.show()"
   ]
  },
  {
   "cell_type": "code",
   "execution_count": null,
   "id": "2277d917",
   "metadata": {},
   "outputs": [],
   "source": [
    "from sklearn.feature_extraction.text import CountVectorizer         \n",
    "\n",
    "vectorizer = CountVectorizer(max_features=5000)\n",
    "X = vectorizer.fit_transform(df['review'])      \n",
    "\n",
    "bag_of_words = pd.DataFrame(X.toarray(), columns=vectorizer.get_feature_names_out())\n"
   ]
  },
  {
   "cell_type": "code",
   "execution_count": null,
   "id": "5fdcd74a",
   "metadata": {},
   "outputs": [],
   "source": [
    "bag_of_words"
   ]
  },
  {
   "cell_type": "code",
   "execution_count": null,
   "id": "dd3b3d3b",
   "metadata": {},
   "outputs": [],
   "source": [
    "from sklearn.decomposition import PCA\n",
    "\n",
    "pca = PCA(n_components=2)\n",
    "principal_components = pca.fit_transform(bag_of_words.values)\n"
   ]
  },
  {
   "cell_type": "code",
   "execution_count": null,
   "metadata": {},
   "outputs": [],
   "source": [
    "principal_components"
   ]
  },
  {
   "cell_type": "code",
   "execution_count": 69,
   "metadata": {},
   "outputs": [
    {
     "data": {
      "text/plain": [
       "<Axes: >"
      ]
     },
     "execution_count": 69,
     "metadata": {},
     "output_type": "execute_result"
    },
    {
     "data": {
      "image/png": "[encoded data removed]",
      "text/plain": [
       "<Figure size 640x480 with 1 Axes>"
      ]
     },
     "metadata": {},
     "output_type": "display_data"
    }
   ],
   "source": [
    "sns.scatterplot(x=principal_components[:, 0], y=principal_components[:, 1], hue=df['sentiment'])"
   ]
  },
  {
   "cell_type": "code",
   "execution_count": null,
   "metadata": {},
   "outputs": [],
   "source": []
  }
 ],
 "metadata": {
  "kernelspec": {
   "display_name": "Python 3",
   "language": "python",
   "name": "python3"
  },
  "language_info": {
   "codemirror_mode": {
    "name": "ipython",
    "version": 3
   },
   "file_extension": ".py",
   "mimetype": "text/x-python",
   "name": "python",
   "nbconvert_exporter": "python",
   "pygments_lexer": "ipython3",
   "version": "3.13.7"
  }
 },
 "nbformat": 4,
 "nbformat_minor": 5
}
