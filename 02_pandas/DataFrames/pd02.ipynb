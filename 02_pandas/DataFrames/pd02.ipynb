{
 "cells": [
  {
   "cell_type": "code",
   "execution_count": null,
   "metadata": {},
   "outputs": [],
   "source": [
    "import pandas as pd\n",
    "import numpy as np"
   ]
  },
  {
   "cell_type": "code",
   "execution_count": null,
   "id": "518821a8",
   "metadata": {},
   "outputs": [],
   "source": [
    "ipl = pd.read_csv(r'F:\\SHIKHER-VS\\DSMP\\02_pandas\\datasets\\datasets-session-17\\ipl-matches.csv')\n",
    "ipl\n"
   ]
  },
  {
   "cell_type": "code",
   "execution_count": null,
   "id": "6f0f757f",
   "metadata": {},
   "outputs": [],
   "source": [
    "movies = pd.read_csv(r'F:\\SHIKHER-VS\\DSMP\\02_pandas\\datasets\\datasets-session-17\\movies.csv')\n",
    "movies\n"
   ]
  },
  {
   "cell_type": "code",
   "execution_count": null,
   "id": "a1f51366",
   "metadata": {},
   "outputs": [],
   "source": [
    "runs = pd.read_csv(r\"F:\\SHIKHER-VS\\DSMP\\02_pandas\\datasets\\datasets-session-17\\batsman_runs_ipl.csv\")\n",
    "runs"
   ]
  },
  {
   "cell_type": "code",
   "execution_count": null,
   "metadata": {},
   "outputs": [],
   "source": [
    "diabetes = pd.read_csv(r\"F:\\SHIKHER-VS\\DSMP\\02_pandas\\datasets\\datasets-session-17\\diabetes.csv\")\n",
    "diabetes"
   ]
  },
  {
   "cell_type": "code",
   "execution_count": null,
   "id": "5c0b5782",
   "metadata": {},
   "outputs": [],
   "source": [
    "ipl.head(3)"
   ]
  },
  {
   "cell_type": "code",
   "execution_count": null,
   "id": "8bcaad54",
   "metadata": {},
   "outputs": [],
   "source": [
    "ipl[~ipl['MatchNumber'].str.isnumeric()]['Player_of_Match'].value_counts()"
   ]
  },
  {
   "cell_type": "code",
   "execution_count": null,
   "id": "f1db9570",
   "metadata": {},
   "outputs": [],
   "source": [
    "# ipl[\"TossDecision\"].value_counts().plot(kind='bar')\n",
    "ipl[\"TossDecision\"].value_counts().plot(kind='pie')"
   ]
  },
  {
   "cell_type": "code",
   "execution_count": null,
   "id": "3cd500b9",
   "metadata": {},
   "outputs": [],
   "source": [
    "(ipl[\"Team1\"].value_counts() + ipl[\"Team2\"].value_counts()).sort_values(ascending =0)"
   ]
  },
  {
   "cell_type": "code",
   "execution_count": null,
   "id": "0ed56f3b",
   "metadata": {},
   "outputs": [],
   "source": [
    "movies.head(3)"
   ]
  },
  {
   "cell_type": "code",
   "execution_count": null,
   "id": "e752bb29",
   "metadata": {},
   "outputs": [],
   "source": [
    "movies['title_x'].sort_values()\n",
    "movies.sort_values('title_x')"
   ]
  },
  {
   "cell_type": "code",
   "execution_count": null,
   "id": "ac581e9c",
   "metadata": {},
   "outputs": [],
   "source": [
    "movies.sort_values('tagline',ascending=0,na_position='first')"
   ]
  },
  {
   "cell_type": "code",
   "execution_count": null,
   "metadata": {},
   "outputs": [],
   "source": [
    "movies.sort_values(['year_of_release','title_x'])\n",
    "movies.sort_values(['year_of_release','title_x'],ascending=[0,1])"
   ]
  },
  {
   "cell_type": "code",
   "execution_count": null,
   "id": "f8d9caf3",
   "metadata": {},
   "outputs": [],
   "source": [
    "runs\n",
    "runs[\"ranks\"] = runs[\"batsman_run\"].rank(ascending=0)"
   ]
  },
  {
   "cell_type": "code",
   "execution_count": null,
   "id": "c9de357a",
   "metadata": {},
   "outputs": [],
   "source": [
    "runs.sort_values(\"ranks\")"
   ]
  },
  {
   "cell_type": "code",
   "execution_count": null,
   "id": "3942d099",
   "metadata": {},
   "outputs": [],
   "source": [
    "movies.sort_index(ascending=0)"
   ]
  },
  {
   "cell_type": "code",
   "execution_count": null,
   "metadata": {},
   "outputs": [],
   "source": [
    "runs.set_index('batter')"
   ]
  },
  {
   "cell_type": "code",
   "execution_count": null,
   "metadata": {},
   "outputs": [],
   "source": [
    "runs.reset_index()"
   ]
  },
  {
   "cell_type": "code",
   "execution_count": null,
   "id": "cb7f2c60",
   "metadata": {},
   "outputs": [],
   "source": [
    "runs.reset_index().set_index('ranks')"
   ]
  },
  {
   "cell_type": "code",
   "execution_count": null,
   "id": "f0a92d34",
   "metadata": {},
   "outputs": [],
   "source": [
    "nan = np.nan\n",
    "stud ={\n",
    "    \"Name\":[\"A\",\"B\",\"C\",\"D\",nan,\"F\",nan,nan,\"I\",\"J\"],\n",
    "    \"College\":['C1',nan,'C3','C4','C5','C6',nan,'C8','C9','C10'],\n",
    "    'Branch':['B1','B2',nan,'B4','B5','B6','B7','B8',nan,'B10'],\n",
    "    'CGPA':[6.66,6.7,9.8,9,nan,5.6,7.8,8.6,8.5,nan],\n",
    "    'Package':[1,2,nan,4,nan,6,7,8,9,10]\n",
    "}\n",
    "student = pd.DataFrame(stud)\n",
    "student"
   ]
  },
  {
   "cell_type": "code",
   "execution_count": null,
   "id": "6ad2775a",
   "metadata": {},
   "outputs": [],
   "source": [
    "student['Name'].isnull()\n",
    "student['Name'].notnull()\n",
    "student['Name'].hasnans\n"
   ]
  },
  {
   "cell_type": "code",
   "execution_count": null,
   "metadata": {},
   "outputs": [],
   "source": [
    "student.isnull()\n",
    "student.notnull()\n"
   ]
  },
  {
   "cell_type": "code",
   "execution_count": null,
   "id": "da3547d0",
   "metadata": {},
   "outputs": [],
   "source": [
    "student['Name'].dropna()\n",
    "student['Name'].fillna('UNKNOWN')"
   ]
  },
  {
   "cell_type": "code",
   "execution_count": null,
   "metadata": {},
   "outputs": [],
   "source": [
    "student.dropna()\n",
    "student.dropna(how='all')\n",
    "student.dropna(subset=['Name'])\n",
    "\n",
    "student.fillna(\"EMPTY\")"
   ]
  },
  {
   "cell_type": "code",
   "execution_count": null,
   "id": "7b517739",
   "metadata": {},
   "outputs": [],
   "source": [
    "ipl['ALL'] = ipl['Team1Players']+ipl['Team2Players']\n",
    "\n",
    "vk = ipl['ALL'].apply(lambda x: 'V Kohli' in x) \n",
    "\n",
    "ipl['vk_play'] = ipl['ALL'].apply(lambda x: 'V Kohli' in x) \n",
    "ipl\n",
    "\n",
    "vk_dl = ipl[vk & (ipl[\"City\"] ==\"Delhi\")]\n",
    "vk_dl"
   ]
  },
  {
   "cell_type": "code",
   "execution_count": null,
   "id": "159c4f10",
   "metadata": {},
   "outputs": [],
   "source": [
    "vk_dl.drop_duplicates(subset=['City','vk_play'])"
   ]
  },
  {
   "cell_type": "code",
   "execution_count": null,
   "id": "e74694b6",
   "metadata": {},
   "outputs": [],
   "source": [
    "t = pd.Series([1,2,3,4,5,6,7,8,9,0,10])\n",
    "t"
   ]
  },
  {
   "cell_type": "code",
   "execution_count": null,
   "id": "b4b41b32",
   "metadata": {},
   "outputs": [],
   "source": [
    "t.drop(index=[0,3])\n"
   ]
  },
  {
   "cell_type": "code",
   "execution_count": null,
   "id": "fd2a5401",
   "metadata": {},
   "outputs": [],
   "source": [
    "student.drop(columns=['Branch','CGPA'])"
   ]
  },
  {
   "cell_type": "code",
   "execution_count": null,
   "id": "6df959ef",
   "metadata": {},
   "outputs": [],
   "source": [
    "student.drop(index=[0,2,3])"
   ]
  },
  {
   "cell_type": "code",
   "execution_count": null,
   "id": "e256a213",
   "metadata": {},
   "outputs": [],
   "source": [
    "t = pd.Series([10,20,30,40,50])\n",
    "t"
   ]
  },
  {
   "cell_type": "code",
   "execution_count": null,
   "id": "e084b93e",
   "metadata": {},
   "outputs": [],
   "source": [
    "def sigmoid(value):\n",
    "    return 1 / (1 + np.exp(-value))"
   ]
  },
  {
   "cell_type": "code",
   "execution_count": null,
   "id": "a9ef9db9",
   "metadata": {},
   "outputs": [],
   "source": [
    "t.apply(sigmoid)"
   ]
  },
  {
   "cell_type": "code",
   "execution_count": null,
   "id": "e921d1ae",
   "metadata": {},
   "outputs": [],
   "source": [
    "points ={\n",
    "    '1st':[(3,4),(-6,5),(0,0),(-10,1),(4,5)],\n",
    "    '2nd':[(-3,4),(0,0),(2,2),(10,10),(1,1)]\n",
    "}\n",
    "\n",
    "point_df =pd.DataFrame(points)\n",
    "point_df "
   ]
  },
  {
   "cell_type": "code",
   "execution_count": 182,
   "id": "1f7428a9",
   "metadata": {},
   "outputs": [],
   "source": [
    "def euclidean(row):\n",
    "    pt_A =row['1st']\n",
    "    pt_B =row['2nd']\n",
    "\n",
    "    ans = ((pt_A[0] - pt_B[0])**2 + (pt_A[0] - pt_B[0])**2)**0.5\n",
    "    return ans"
   ]
  },
  {
   "cell_type": "code",
   "execution_count": 185,
   "metadata": {},
   "outputs": [
    {
     "data": {
      "application/vnd.microsoft.datawrangler.viewer.v0+json": {
       "columns": [
        {
         "name": "index",
         "rawType": "int64",
         "type": "integer"
        },
        {
         "name": "1st",
         "rawType": "object",
         "type": "unknown"
        },
        {
         "name": "2nd",
         "rawType": "object",
         "type": "unknown"
        },
        {
         "name": "Distance",
         "rawType": "float64",
         "type": "float"
        }
       ],
       "ref": "2aa1da0a-d976-4ebf-beea-dd1362e55505",
       "rows": [
        [
         "0",
         "(3, 4)",
         "(-3, 4)",
         "8.48528137423857"
        ],
        [
         "1",
         "(-6, 5)",
         "(0, 0)",
         "8.48528137423857"
        ],
        [
         "2",
         "(0, 0)",
         "(2, 2)",
         "2.8284271247461903"
        ],
        [
         "3",
         "(-10, 1)",
         "(10, 10)",
         "28.284271247461902"
        ],
        [
         "4",
         "(4, 5)",
         "(1, 1)",
         "4.242640687119285"
        ]
       ],
       "shape": {
        "columns": 3,
        "rows": 5
       }
      },
      "text/html": [
       "<div>\n",
       "<style scoped>\n",
       "    .dataframe tbody tr th:only-of-type {\n",
       "        vertical-align: middle;\n",
       "    }\n",
       "\n",
       "    .dataframe tbody tr th {\n",
       "        vertical-align: top;\n",
       "    }\n",
       "\n",
       "    .dataframe thead th {\n",
       "        text-align: right;\n",
       "    }\n",
       "</style>\n",
       "<table border=\"1\" class=\"dataframe\">\n",
       "  <thead>\n",
       "    <tr style=\"text-align: right;\">\n",
       "      <th></th>\n",
       "      <th>1st</th>\n",
       "      <th>2nd</th>\n",
       "      <th>Distance</th>\n",
       "    </tr>\n",
       "  </thead>\n",
       "  <tbody>\n",
       "    <tr>\n",
       "      <th>0</th>\n",
       "      <td>(3, 4)</td>\n",
       "      <td>(-3, 4)</td>\n",
       "      <td>8.485281</td>\n",
       "    </tr>\n",
       "    <tr>\n",
       "      <th>1</th>\n",
       "      <td>(-6, 5)</td>\n",
       "      <td>(0, 0)</td>\n",
       "      <td>8.485281</td>\n",
       "    </tr>\n",
       "    <tr>\n",
       "      <th>2</th>\n",
       "      <td>(0, 0)</td>\n",
       "      <td>(2, 2)</td>\n",
       "      <td>2.828427</td>\n",
       "    </tr>\n",
       "    <tr>\n",
       "      <th>3</th>\n",
       "      <td>(-10, 1)</td>\n",
       "      <td>(10, 10)</td>\n",
       "      <td>28.284271</td>\n",
       "    </tr>\n",
       "    <tr>\n",
       "      <th>4</th>\n",
       "      <td>(4, 5)</td>\n",
       "      <td>(1, 1)</td>\n",
       "      <td>4.242641</td>\n",
       "    </tr>\n",
       "  </tbody>\n",
       "</table>\n",
       "</div>"
      ],
      "text/plain": [
       "        1st       2nd   Distance\n",
       "0    (3, 4)   (-3, 4)   8.485281\n",
       "1   (-6, 5)    (0, 0)   8.485281\n",
       "2    (0, 0)    (2, 2)   2.828427\n",
       "3  (-10, 1)  (10, 10)  28.284271\n",
       "4    (4, 5)    (1, 1)   4.242641"
      ]
     },
     "execution_count": 185,
     "metadata": {},
     "output_type": "execute_result"
    }
   ],
   "source": [
    "point_df['Distance'] = point_df.apply(euclidean,axis=1)\n",
    "point_df"
   ]
  }
 ],
 "metadata": {
  "kernelspec": {
   "display_name": "base",
   "language": "python",
   "name": "python3"
  },
  "language_info": {
   "codemirror_mode": {
    "name": "ipython",
    "version": 3
   },
   "file_extension": ".py",
   "mimetype": "text/x-python",
   "name": "python",
   "nbconvert_exporter": "python",
   "pygments_lexer": "ipython3",
   "version": "3.12.3"
  }
 },
 "nbformat": 4,
 "nbformat_minor": 5
}
