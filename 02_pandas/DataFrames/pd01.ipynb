{
 "cells": [
  {
   "cell_type": "code",
   "execution_count": null,
   "id": "29952fba",
   "metadata": {},
   "outputs": [],
   "source": [
    "import numpy as np\n",
    "import pandas as pd"
   ]
  },
  {
   "cell_type": "code",
   "execution_count": null,
   "id": "b74b3d79",
   "metadata": {},
   "outputs": [],
   "source": [
    "student_data1 = [\n",
    "    ['IQ','MARKS','PACKAGE'],\n",
    "    [100,80,10],\n",
    "    [90,70,7],\n",
    "    [120,100,14],\n",
    "    [80,50,2],\n",
    "]\n",
    "\n",
    "pd.DataFrame(student_data1)"
   ]
  },
  {
   "cell_type": "code",
   "execution_count": null,
   "metadata": {},
   "outputs": [],
   "source": [
    "student_data = {\n",
    "    \"NAME\":['A','B','C','D','E','F'],\n",
    "    'IQ':[100,90,120,80,0,0],\n",
    "    'MARKS':[80,70,100,50,0,0],\n",
    "    'PACKAGE':[10,7,14,2,0,0]\n",
    "}\n",
    "student = pd.DataFrame(student_data)\n",
    "student\n"
   ]
  },
  {
   "cell_type": "code",
   "execution_count": null,
   "id": "140663b3",
   "metadata": {},
   "outputs": [],
   "source": [
    "student.set_index(\"NAME\",inplace=True)\n",
    "student"
   ]
  },
  {
   "cell_type": "code",
   "execution_count": null,
   "id": "5207be4a",
   "metadata": {},
   "outputs": [],
   "source": [
    "movies = pd.read_csv(r'F:\\SHIKHER-VS\\DSMP\\02_pandas\\datasets\\datasets-session-17\\movies.csv')\n",
    "movies\n"
   ]
  },
  {
   "cell_type": "code",
   "execution_count": null,
   "id": "91a82ecd",
   "metadata": {},
   "outputs": [],
   "source": [
    "ipl = pd.read_csv(r'F:\\SHIKHER-VS\\DSMP\\02_pandas\\datasets\\datasets-session-17\\ipl-matches.csv')\n",
    "ipl\n"
   ]
  },
  {
   "cell_type": "code",
   "execution_count": null,
   "id": "edfb5ee9",
   "metadata": {},
   "outputs": [],
   "source": [
    "movies.shape"
   ]
  },
  {
   "cell_type": "code",
   "execution_count": null,
   "id": "f7ff7603",
   "metadata": {},
   "outputs": [],
   "source": [
    "movies.dtypes"
   ]
  },
  {
   "cell_type": "code",
   "execution_count": null,
   "id": "dac33990",
   "metadata": {},
   "outputs": [],
   "source": [
    "movies.index,ipl.index"
   ]
  },
  {
   "cell_type": "code",
   "execution_count": null,
   "id": "98d9a7af",
   "metadata": {},
   "outputs": [],
   "source": [
    "ipl.columns,movies.columns"
   ]
  },
  {
   "cell_type": "code",
   "execution_count": null,
   "id": "ac0094e0",
   "metadata": {},
   "outputs": [],
   "source": [
    "movies.values"
   ]
  },
  {
   "cell_type": "code",
   "execution_count": null,
   "metadata": {},
   "outputs": [],
   "source": [
    "student.values"
   ]
  },
  {
   "cell_type": "code",
   "execution_count": null,
   "id": "705db5e1",
   "metadata": {},
   "outputs": [],
   "source": [
    "movies.head()"
   ]
  },
  {
   "cell_type": "code",
   "execution_count": null,
   "id": "d50b280d",
   "metadata": {},
   "outputs": [],
   "source": [
    "movies.tail()"
   ]
  },
  {
   "cell_type": "code",
   "execution_count": null,
   "id": "f68de57a",
   "metadata": {},
   "outputs": [],
   "source": [
    "movies.sample(5)"
   ]
  },
  {
   "cell_type": "code",
   "execution_count": null,
   "id": "d8ff3a11",
   "metadata": {},
   "outputs": [],
   "source": [
    "ipl.sample(5)"
   ]
  },
  {
   "cell_type": "code",
   "execution_count": null,
   "id": "927a51da",
   "metadata": {},
   "outputs": [],
   "source": [
    "movies.info()\n"
   ]
  },
  {
   "cell_type": "code",
   "execution_count": null,
   "metadata": {},
   "outputs": [],
   "source": [
    "ipl.describe()"
   ]
  },
  {
   "cell_type": "code",
   "execution_count": null,
   "id": "8cf9ac6d",
   "metadata": {},
   "outputs": [],
   "source": [
    "movies.describe()"
   ]
  },
  {
   "cell_type": "code",
   "execution_count": null,
   "id": "d6fc0c12",
   "metadata": {},
   "outputs": [],
   "source": [
    "movies.isnull()"
   ]
  },
  {
   "cell_type": "code",
   "execution_count": null,
   "id": "5d6ae33f",
   "metadata": {},
   "outputs": [],
   "source": [
    "movies.isnull().sum()"
   ]
  },
  {
   "cell_type": "code",
   "execution_count": null,
   "id": "f192c9b9",
   "metadata": {},
   "outputs": [],
   "source": [
    "movies.duplicated(),movies.duplicated().sum()"
   ]
  },
  {
   "cell_type": "code",
   "execution_count": null,
   "id": "0fb5e041",
   "metadata": {},
   "outputs": [],
   "source": [
    "ipl.duplicated().sum()"
   ]
  },
  {
   "cell_type": "code",
   "execution_count": null,
   "id": "d443a0a9",
   "metadata": {},
   "outputs": [],
   "source": [
    "student"
   ]
  },
  {
   "cell_type": "code",
   "execution_count": null,
   "id": "249a05ff",
   "metadata": {},
   "outputs": [],
   "source": [
    "student.rename(columns={'MARKS':\"PERCENTAGES\",'PACKAGE':\"LPA\"})\n",
    "# student.rename(columns={'MARKS':\"PERCENTAGES\",'PACKAGE':\"LPA\"},inplace=1)"
   ]
  },
  {
   "cell_type": "code",
   "execution_count": null,
   "id": "4a7f9402",
   "metadata": {},
   "outputs": [],
   "source": [
    "student"
   ]
  },
  {
   "cell_type": "code",
   "execution_count": null,
   "id": "43d70b0d",
   "metadata": {},
   "outputs": [],
   "source": [
    "student.sum(),student.sum(axis=1)"
   ]
  },
  {
   "cell_type": "code",
   "execution_count": null,
   "id": "e066f31c",
   "metadata": {},
   "outputs": [],
   "source": [
    "student.mean(),student.mode(),student.median(),student.var(),student.std(),student.cumsum()"
   ]
  },
  {
   "cell_type": "code",
   "execution_count": null,
   "id": "095e8ca8",
   "metadata": {},
   "outputs": [],
   "source": [
    "movies"
   ]
  },
  {
   "cell_type": "code",
   "execution_count": null,
   "id": "3029afa8",
   "metadata": {},
   "outputs": [],
   "source": [
    "movies['title_x']"
   ]
  },
  {
   "cell_type": "code",
   "execution_count": null,
   "metadata": {},
   "outputs": [],
   "source": [
    "ipl['Venue'].value_counts()"
   ]
  },
  {
   "cell_type": "code",
   "execution_count": null,
   "id": "190fc86d",
   "metadata": {},
   "outputs": [],
   "source": [
    "movies[['title_x','title_y','actors']]"
   ]
  },
  {
   "cell_type": "code",
   "execution_count": null,
   "id": "259acbfe",
   "metadata": {},
   "outputs": [],
   "source": [
    "ipl"
   ]
  },
  {
   "cell_type": "code",
   "execution_count": null,
   "metadata": {},
   "outputs": [],
   "source": [
    "ipl[['Date','Team1','Team2','WinningTeam']]"
   ]
  },
  {
   "cell_type": "code",
   "execution_count": null,
   "metadata": {},
   "outputs": [],
   "source": [
    "movies.iloc[0]"
   ]
  },
  {
   "cell_type": "code",
   "execution_count": null,
   "metadata": {},
   "outputs": [],
   "source": [
    "movies.iloc[1:70:3]"
   ]
  },
  {
   "cell_type": "code",
   "execution_count": null,
   "metadata": {},
   "outputs": [],
   "source": [
    "movies.iloc[[0,7,4,2,8]]"
   ]
  },
  {
   "cell_type": "code",
   "execution_count": null,
   "id": "c16a88e4",
   "metadata": {},
   "outputs": [],
   "source": [
    "student.loc['B':'E']"
   ]
  },
  {
   "cell_type": "code",
   "execution_count": null,
   "metadata": {},
   "outputs": [],
   "source": [
    "student.loc[['B','E']]"
   ]
  },
  {
   "cell_type": "code",
   "execution_count": null,
   "metadata": {},
   "outputs": [],
   "source": [
    "student.iloc[4]"
   ]
  },
  {
   "cell_type": "code",
   "execution_count": null,
   "metadata": {},
   "outputs": [],
   "source": [
    "movies.iloc[:3,[0,4,5]]"
   ]
  },
  {
   "cell_type": "code",
   "execution_count": null,
   "metadata": {},
   "outputs": [],
   "source": [
    "ipl.head(8)"
   ]
  },
  {
   "cell_type": "code",
   "execution_count": null,
   "id": "a98cd4d1",
   "metadata": {},
   "outputs": [],
   "source": [
    "mask = ipl['MatchNumber'] == 'Final'\n",
    "new_df = ipl[mask]\n",
    "new_df[['Season','WinningTeam']]"
   ]
  },
  {
   "cell_type": "code",
   "execution_count": null,
   "id": "fd0f508f",
   "metadata": {},
   "outputs": [],
   "source": [
    "ipl[ipl['MatchNumber'] == 'Final'][['Season','WinningTeam']]"
   ]
  },
  {
   "cell_type": "code",
   "execution_count": null,
   "id": "303c0e78",
   "metadata": {},
   "outputs": [],
   "source": [
    "ipl[ipl['SuperOver'] == 'Y'][['Season','WinningTeam']]\n",
    "(ipl['SuperOver'] == 'Y').sum()"
   ]
  },
  {
   "cell_type": "code",
   "execution_count": null,
   "id": "52cefb1a",
   "metadata": {},
   "outputs": [],
   "source": [
    "ipl.tail(5)"
   ]
  },
  {
   "cell_type": "code",
   "execution_count": null,
   "id": "1bd5189a",
   "metadata": {},
   "outputs": [],
   "source": [
    "ipl[ (ipl['City'] == 'Kolkata') & (('Chennai Super Kings' == ipl[\"Team1\"])  | ('Chennai Super Kings' == ipl[\"Team2\"]))]\n",
    "\n",
    "\n"
   ]
  },
  {
   "cell_type": "code",
   "execution_count": null,
   "id": "a9045692",
   "metadata": {},
   "outputs": [],
   "source": [
    "ipl[ (ipl['City'] == 'Kolkata') & ('Chennai Super Kings' == ipl[\"WinningTeam\"])]\n",
    "\n",
    "((ipl['City'] == 'Kolkata') & ('Chennai Super Kings' == ipl[\"WinningTeam\"])).sum()\n",
    "sum((ipl['City'] == 'Kolkata') & ('Chennai Super Kings' == ipl[\"WinningTeam\"]))\n",
    "\n"
   ]
  },
  {
   "cell_type": "code",
   "execution_count": null,
   "id": "aa8980ab",
   "metadata": {},
   "outputs": [],
   "source": [
    "((ipl[(ipl['TossWinner']==ipl['WinningTeam'])]).shape[0] / ipl.shape[0]) * 100\n",
    "\n"
   ]
  },
  {
   "cell_type": "code",
   "execution_count": null,
   "id": "10d895c9",
   "metadata": {},
   "outputs": [],
   "source": [
    "movies.head(5)"
   ]
  },
  {
   "cell_type": "code",
   "execution_count": null,
   "id": "9edf6a57",
   "metadata": {},
   "outputs": [],
   "source": [
    "movies[(movies['imdb_rating'] > 8) & (movies['imdb_votes'] > 10000)][]"
   ]
  },
  {
   "cell_type": "code",
   "execution_count": null,
   "id": "3b33bb0b",
   "metadata": {},
   "outputs": [],
   "source": [
    "# mask1 = movies['genres'].str.split('|').apply(lambda x: \"Action\" in x)\n",
    "mask1 = movies['genres'].str.contains('Action')\n",
    "mask2 = movies['imdb_rating'] > 7.5\n",
    "\n",
    "movies[mask1 & mask2]"
   ]
  },
  {
   "cell_type": "code",
   "execution_count": null,
   "id": "759fcc06",
   "metadata": {},
   "outputs": [],
   "source": [
    "movies[\"Country\"] = \"INDIA\"\n",
    "movies"
   ]
  },
  {
   "cell_type": "code",
   "execution_count": null,
   "id": "ae141066",
   "metadata": {},
   "outputs": [],
   "source": [
    "movies.dropna(inplace=True)\n",
    "movies[\"lead Cast\"] = movies['actors'].str.split('|').apply(lambda x: x[0])\n",
    "movies"
   ]
  },
  {
   "cell_type": "code",
   "execution_count": null,
   "id": "49f1a958",
   "metadata": {},
   "outputs": [],
   "source": [
    "ipl"
   ]
  },
  {
   "cell_type": "code",
   "execution_count": null,
   "id": "6814f9ed",
   "metadata": {},
   "outputs": [],
   "source": [
    "ipl.info()"
   ]
  },
  {
   "cell_type": "code",
   "execution_count": null,
   "id": "7a84afaa",
   "metadata": {},
   "outputs": [],
   "source": [
    "ipl['ID'] = ipl['ID'].astype('int32')\n",
    "ipl['Season'] = ipl['Season'].astype('category')\n",
    "ipl['Team1'] = ipl['Team1'].astype('category')\n",
    "ipl['Team2'] = ipl['Team2'].astype('category')\n",
    "ipl['TossWinner'] = ipl['TossWinner'].astype('category')\n",
    "ipl['WinningTeam'] = ipl['WinningTeam'].astype('category')\n",
    "\n",
    "ipl['TossDecision'] = ipl['TossDecision'].astype('category')\n",
    "ipl['City'] = ipl['City'].astype('category')\n",
    "ipl['Venue'] = ipl['Venue'].astype('category')\n",
    "ipl['TossDecision'] = ipl['TossDecision'].astype('category')\n",
    "ipl['WonBy'] = ipl['WonBy'].astype('category')\n",
    "ipl['MatchNumber'] = ipl['MatchNumber'].astype('category')\n"
   ]
  }
 ],
 "metadata": {
  "kernelspec": {
   "display_name": "base",
   "language": "python",
   "name": "python3"
  },
  "language_info": {
   "codemirror_mode": {
    "name": "ipython",
    "version": 3
   },
   "file_extension": ".py",
   "mimetype": "text/x-python",
   "name": "python",
   "nbconvert_exporter": "python",
   "pygments_lexer": "ipython3",
   "version": "3.12.3"
  }
 },
 "nbformat": 4,
 "nbformat_minor": 5
}
