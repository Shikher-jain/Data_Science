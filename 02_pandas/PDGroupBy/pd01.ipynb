{
 "cells": [
  {
   "cell_type": "code",
   "execution_count": null,
   "id": "cff6205c",
   "metadata": {},
   "outputs": [],
   "source": [
    "import pandas as pd\n",
    "import numpy as np"
   ]
  },
  {
   "cell_type": "code",
   "execution_count": null,
   "id": "26104ec3",
   "metadata": {},
   "outputs": [],
   "source": [
    "deliveries = pd.read_csv(r'F:\\SHIKHER-VS\\DSMP\\02_pandas\\datasets\\dataset-session-19\\deliveries.csv')\n",
    "deliveries.head(5)"
   ]
  },
  {
   "cell_type": "code",
   "execution_count": null,
   "id": "8f78d67e",
   "metadata": {},
   "outputs": [],
   "source": [
    "movies = pd.read_csv(r'F:\\SHIKHER-VS\\DSMP\\02_pandas\\datasets\\dataset-session-19\\imdb-top-1000.csv')\n",
    "movies.head(5)"
   ]
  },
  {
   "cell_type": "code",
   "execution_count": null,
   "id": "e6250634",
   "metadata": {},
   "outputs": [],
   "source": [
    "genres = movies.groupby('Genre')\n",
    "genres"
   ]
  },
  {
   "cell_type": "code",
   "execution_count": null,
   "id": "2c0576bf",
   "metadata": {},
   "outputs": [],
   "source": [
    "genres.sum()"
   ]
  },
  {
   "cell_type": "code",
   "execution_count": null,
   "id": "833c5042",
   "metadata": {},
   "outputs": [],
   "source": [
    "genres.sum()['Gross'].sort_values(ascending=False).head(3)"
   ]
  },
  {
   "cell_type": "code",
   "execution_count": null,
   "id": "13b4a9af",
   "metadata": {},
   "outputs": [],
   "source": [
    "genres['Gross'].sum().sort_values(ascending=False).head(3)"
   ]
  },
  {
   "cell_type": "code",
   "execution_count": null,
   "id": "f08b4acf",
   "metadata": {},
   "outputs": [],
   "source": [
    "genres['IMDB_Rating'].mean().sort_values(ascending=False).head(3)"
   ]
  },
  {
   "cell_type": "code",
   "execution_count": null,
   "id": "1e2069cb",
   "metadata": {},
   "outputs": [],
   "source": [
    "movies.groupby('Director')['No_of_Votes'].sum().sort_values(ascending=False).head(3)"
   ]
  },
  {
   "cell_type": "code",
   "execution_count": null,
   "id": "2261a723",
   "metadata": {},
   "outputs": [],
   "source": [
    "# genres['IMDB_Rating'].max().sort_values(ascending=False).head(3)[['Genre','IMDB_Rating','Series_Title']]\n",
    "genres[['Genre','IMDB_Rating','Series_Title']]\n",
    "\n"
   ]
  },
  {
   "cell_type": "code",
   "execution_count": null,
   "id": "77287bc8",
   "metadata": {},
   "outputs": [],
   "source": [
    "movies['Star1'].value_counts()"
   ]
  },
  {
   "cell_type": "code",
   "execution_count": null,
   "id": "f3d4bf95",
   "metadata": {},
   "outputs": [],
   "source": [
    "movies.groupby('Star1')['Series_Title'].count().sort_values(ascending=False)"
   ]
  },
  {
   "cell_type": "code",
   "execution_count": null,
   "id": "8cd3a98f",
   "metadata": {},
   "outputs": [],
   "source": [
    "movies.groupby('Genre').size().sort_values(ascending=False)\n",
    "\n",
    "movies['Genre'].value_counts()"
   ]
  },
  {
   "cell_type": "code",
   "execution_count": null,
   "id": "cb44cff1",
   "metadata": {},
   "outputs": [],
   "source": [
    "genres.first()"
   ]
  },
  {
   "cell_type": "code",
   "execution_count": null,
   "id": "2a7db0f3",
   "metadata": {},
   "outputs": [],
   "source": [
    "genres.last()"
   ]
  },
  {
   "cell_type": "code",
   "execution_count": null,
   "id": "f3f0adcf",
   "metadata": {},
   "outputs": [],
   "source": [
    "genres.nth(8)"
   ]
  },
  {
   "cell_type": "code",
   "execution_count": null,
   "id": "12525db8",
   "metadata": {},
   "outputs": [],
   "source": [
    "genres.get_group('Horror')"
   ]
  },
  {
   "cell_type": "code",
   "execution_count": null,
   "metadata": {},
   "outputs": [],
   "source": [
    "genres.groups"
   ]
  },
  {
   "cell_type": "code",
   "execution_count": null,
   "id": "6bba8718",
   "metadata": {},
   "outputs": [],
   "source": [
    "genres.describe()"
   ]
  },
  {
   "cell_type": "code",
   "execution_count": null,
   "id": "a9391ec8",
   "metadata": {},
   "outputs": [],
   "source": [
    "genres.sample()"
   ]
  },
  {
   "cell_type": "code",
   "execution_count": null,
   "id": "14658321",
   "metadata": {},
   "outputs": [],
   "source": [
    "genres.nunique()"
   ]
  },
  {
   "cell_type": "code",
   "execution_count": null,
   "id": "efca29d2",
   "metadata": {},
   "outputs": [],
   "source": [
    "genres.sum()"
   ]
  },
  {
   "cell_type": "code",
   "execution_count": null,
   "id": "931f6637",
   "metadata": {},
   "outputs": [],
   "source": [
    "dic = {'Runtime':'mean',\n",
    "'IMDB_Rating':'mean',\n",
    "'No_of_Votes':'sum',\n",
    "'Gross':'sum',\n",
    "'Metascore':'min'\n",
    "}\n",
    "\n",
    "genres.agg(dic)"
   ]
  },
  {
   "cell_type": "code",
   "execution_count": null,
   "id": "7512051c",
   "metadata": {},
   "outputs": [],
   "source": [
    "['Runtime','IMDB_Rating','No_of_Votes','Gross','Metascore']\n"
   ]
  },
  {
   "cell_type": "code",
   "execution_count": null,
   "id": "f6713669",
   "metadata": {},
   "outputs": [],
   "source": [
    "ls = ['mean','max','min']\n",
    "\n",
    "genres[['Runtime','IMDB_Rating','No_of_Votes','Gross','Metascore']].agg(ls)\n",
    "# genres.agg(['mean','max','min'])"
   ]
  },
  {
   "cell_type": "code",
   "execution_count": null,
   "metadata": {},
   "outputs": [],
   "source": [
    "for grp,data in genres:\n",
    "    print(grp)"
   ]
  },
  {
   "cell_type": "code",
   "execution_count": null,
   "metadata": {},
   "outputs": [],
   "source": [
    "for grp,data in genres:\n",
    "    print(data)"
   ]
  },
  {
   "cell_type": "code",
   "execution_count": null,
   "id": "6dfb22f4",
   "metadata": {},
   "outputs": [],
   "source": [
    "top_movies = []\n",
    "\n",
    "# Iterate through each group\n",
    "for grp, data in genres:\n",
    "    top_movies.append(data[data['IMDB_Rating'] == data['IMDB_Rating'].max()])\n",
    "\n",
    "# Combine all top-rated movies into one DataFrame\n",
    "df = pd.concat(top_movies, ignore_index=True)\n",
    "df\n"
   ]
  },
  {
   "cell_type": "code",
   "execution_count": null,
   "metadata": {},
   "outputs": [],
   "source": [
    "# df = pd.DataFrame(columns=movies.columns)\n",
    "# for grp,data in genres:\n",
    "#     df = df.append(data[data['IMDB_Rating'] == data['IMDB_Rating'].max()])  #not Working\n",
    "# df"
   ]
  },
  {
   "cell_type": "code",
   "execution_count": null,
   "id": "9b774401",
   "metadata": {},
   "outputs": [],
   "source": [
    "# Group by Genre and get the row with highest IMDB_Rating in each group\n",
    "top_rated_per_genre = movies.groupby('Genre', group_keys=False).apply(lambda x: x[x['IMDB_Rating'] == x['IMDB_Rating'].max()])\n"
   ]
  },
  {
   "cell_type": "code",
   "execution_count": null,
   "id": "be5d4509",
   "metadata": {},
   "outputs": [],
   "source": [
    "top_rated_list = []\n",
    "for genre, group in movies.groupby('Genre'):\n",
    "    top_movies = group[group['IMDB_Rating'] == group['IMDB_Rating'].max()]\n",
    "    top_rated_list.append(top_movies)\n",
    "\n",
    "top_rated_per_genre = pd.concat(top_rated_list, ignore_index=True)\n",
    "top_rated_per_genre\n"
   ]
  },
  {
   "cell_type": "code",
   "execution_count": null,
   "id": "f1cb7bf0",
   "metadata": {},
   "outputs": [],
   "source": [
    "genres.apply(min)"
   ]
  },
  {
   "cell_type": "code",
   "execution_count": null,
   "id": "d0b6ab4c",
   "metadata": {},
   "outputs": [],
   "source": [
    "\n",
    "def fx(group):\n",
    "    print(group)\n",
    "    return group\n",
    "\n",
    "genres.apply(fx)"
   ]
  },
  {
   "cell_type": "code",
   "execution_count": null,
   "id": "32b1f239",
   "metadata": {},
   "outputs": [],
   "source": [
    "\n",
    "def fx1(group):\n",
    "    print(group['Series_Title'].str.startswith('A'))\n",
    "    return group\n",
    "\n",
    "genres.apply(fx1)"
   ]
  },
  {
   "cell_type": "code",
   "execution_count": null,
   "id": "10f8dc75",
   "metadata": {},
   "outputs": [],
   "source": [
    "\n",
    "def fx1(group):\n",
    "    print(\"Total :\",group['Series_Title'].str.startswith('A').sum)\n",
    "    print(group[group['Series_Title'].str.startswith('A')])\n",
    "    return group\n",
    "\n",
    "genres.apply(fx1)"
   ]
  },
  {
   "cell_type": "code",
   "execution_count": null,
   "id": "08291cac",
   "metadata": {},
   "outputs": [],
   "source": [
    "def rank(group):\n",
    "    group['IMDB_Rank'] = group['IMDB_Rating'].rank(ascending= False)\n",
    "    return group\n",
    "\n",
    "genres.apply(rank)"
   ]
  },
  {
   "cell_type": "code",
   "execution_count": null,
   "metadata": {},
   "outputs": [],
   "source": [
    "def normalize_rank(group):# -> Any:\n",
    "    group['IMDB_Normalize_Rank'] = (group['IMDB_Rating'] - group['IMDB_Rating'].min())/(group['IMDB_Rating'].max() - group['IMDB_Rating'].min())\n",
    "    return group\n",
    "\n",
    "genres.apply(normalize_rank)"
   ]
  },
  {
   "cell_type": "code",
   "execution_count": null,
   "id": "a8cbb7c8",
   "metadata": {},
   "outputs": [],
   "source": [
    "movies.head(1)"
   ]
  },
  {
   "cell_type": "code",
   "execution_count": null,
   "metadata": {},
   "outputs": [],
   "source": [
    "duo = movies.groupby(['Director', 'Star1'])\n",
    "duo"
   ]
  },
  {
   "cell_type": "code",
   "execution_count": null,
   "metadata": {},
   "outputs": [],
   "source": [
    "duo.size()"
   ]
  },
  {
   "cell_type": "code",
   "execution_count": null,
   "id": "fede1f04",
   "metadata": {},
   "outputs": [],
   "source": [
    "duo.get_group(('Aamir Khan', 'Amole Gupte'))"
   ]
  },
  {
   "cell_type": "code",
   "execution_count": null,
   "id": "e0146d3c",
   "metadata": {},
   "outputs": [],
   "source": [
    "duo['Gross'].sum()\n",
    "duo['Gross'].sum().sort_values().tail(1)"
   ]
  },
  {
   "cell_type": "code",
   "execution_count": null,
   "metadata": {},
   "outputs": [],
   "source": [
    "movies.groupby(['Star1','Genre'])['Metascore'].mean().reset_index().sort_values('Metascore', ascending = False)"
   ]
  },
  {
   "cell_type": "code",
   "execution_count": null,
   "id": "13159c29",
   "metadata": {},
   "outputs": [],
   "source": [
    "duo.head(2)"
   ]
  },
  {
   "cell_type": "code",
   "execution_count": null,
   "metadata": {},
   "outputs": [],
   "source": [
    "duo.agg(['min','max'])"
   ]
  },
  {
   "cell_type": "code",
   "execution_count": null,
   "metadata": {},
   "outputs": [],
   "source": [
    "ipl = pd.read_csv(r'F:\\SHIKHER-VS\\DSMP\\02_pandas\\datasets\\dataset-session-19\\deliveries.csv')\n",
    "ipl.head(2)"
   ]
  },
  {
   "cell_type": "code",
   "execution_count": null,
   "metadata": {},
   "outputs": [],
   "source": [
    "ipl.groupby('batsman')['batsman_runs'].sum().sort_values(ascending = False)"
   ]
  },
  {
   "cell_type": "code",
   "execution_count": null,
   "metadata": {},
   "outputs": [],
   "source": [
    "six = ipl[ipl['batsman_runs'] == 6]\n",
    "\n",
    "six.groupby('batsman')['batsman'].count().sort_values(ascending =False)"
   ]
  },
  {
   "cell_type": "code",
   "execution_count": null,
   "metadata": {},
   "outputs": [],
   "source": [
    "t_df = ipl[ipl['over'] > 15]\n",
    "\n",
    "t_df = t_df[(t_df['batsman_runs'] == 4) | (t_df['batsman_runs'] == 6)]\n",
    "\n",
    "t_df.groupby('batsman')['batsman'].count().sort_values(ascending =False)"
   ]
  },
  {
   "cell_type": "code",
   "execution_count": null,
   "metadata": {},
   "outputs": [],
   "source": [
    "t_df1 = ipl[ipl['batsman'] == \"V Kohli\"]\n",
    "t_df1.groupby('bowling_team')['batsman_runs'].count().reset_index()"
   ]
  },
  {
   "cell_type": "code",
   "execution_count": null,
   "metadata": {},
   "outputs": [],
   "source": [
    "t_df2 = ipl[ipl['batsman'] == \"V Kohli\"]\n",
    "\n",
    "t_df2.groupby('match_id')['batsman_runs'].sum().sort_values(ascending =False)"
   ]
  },
  {
   "cell_type": "code",
   "execution_count": 126,
   "metadata": {},
   "outputs": [
    {
     "data": {
      "application/vnd.microsoft.datawrangler.viewer.v0+json": {
       "columns": [
        {
         "name": "match_id",
         "rawType": "int64",
         "type": "integer"
        },
        {
         "name": "batsman_runs",
         "rawType": "int64",
         "type": "integer"
        }
       ],
       "ref": "3b20a113-a1e7-4ad1-b877-a4762237b7b0",
       "rows": [
        [
         "11330",
         "89"
        ],
        [
         "7905",
         "83"
        ],
        [
         "11148",
         "79"
        ],
        [
         "7917",
         "76"
        ],
        [
         "302",
         "70"
        ],
        [
         "414",
         "67"
        ],
        [
         "182",
         "66"
        ],
        [
         "74",
         "65"
        ],
        [
         "629",
         "64"
        ],
        [
         "289",
         "63"
        ],
        [
         "457",
         "63"
        ],
        [
         "25",
         "61"
        ],
        [
         "91",
         "60"
        ],
        [
         "11316",
         "60"
        ],
        [
         "446",
         "58"
        ],
        [
         "144",
         "58"
        ],
        [
         "507",
         "57"
        ],
        [
         "149",
         "56"
        ],
        [
         "228",
         "54"
        ],
        [
         "521",
         "53"
        ],
        [
         "7923",
         "52"
        ],
        [
         "379",
         "51"
        ],
        [
         "386",
         "51"
        ],
        [
         "510",
         "49"
        ],
        [
         "422",
         "45"
        ],
        [
         "11341",
         "45"
        ],
        [
         "404",
         "44"
        ],
        [
         "71",
         "43"
        ],
        [
         "243",
         "43"
        ],
        [
         "96",
         "43"
        ],
        [
         "7926",
         "43"
        ],
        [
         "179",
         "42"
        ],
        [
         "516",
         "42"
        ],
        [
         "592",
         "41"
        ],
        [
         "542",
         "41"
        ],
        [
         "285",
         "41"
        ],
        [
         "166",
         "40"
        ],
        [
         "56",
         "40"
        ],
        [
         "320",
         "40"
        ],
        [
         "559",
         "39"
        ],
        [
         "11309",
         "39"
        ],
        [
         "11412",
         "38"
        ],
        [
         "114",
         "37"
        ],
        [
         "118",
         "36"
        ],
        [
         "7928",
         "35"
        ],
        [
         "7936",
         "35"
        ],
        [
         "347",
         "34"
        ],
        [
         "352",
         "34"
        ],
        [
         "11141",
         "34"
        ],
        [
         "87",
         "33"
        ]
       ],
       "shape": {
        "columns": 1,
        "rows": 170
       }
      },
      "text/plain": [
       "match_id\n",
       "11330    89\n",
       "7905     83\n",
       "11148    79\n",
       "7917     76\n",
       "302      70\n",
       "         ..\n",
       "527       1\n",
       "586       1\n",
       "206       0\n",
       "224       0\n",
       "573       0\n",
       "Name: batsman_runs, Length: 170, dtype: int64"
      ]
     },
     "execution_count": 126,
     "metadata": {},
     "output_type": "execute_result"
    }
   ],
   "source": [
    "def highest(batsman):\n",
    "    t_df2 = ipl[ipl['batsman'] == batsman]\n",
    "    return t_df2.groupby('match_id')['batsman_runs'].sum().sort_values(ascending =False)\n",
    "\n",
    "# highest(\"V Kohli\")\n",
    "highest(\"MS Dhoni\")\n"
   ]
  }
 ],
 "metadata": {
  "kernelspec": {
   "display_name": "base",
   "language": "python",
   "name": "python3"
  },
  "language_info": {
   "codemirror_mode": {
    "name": "ipython",
    "version": 3
   },
   "file_extension": ".py",
   "mimetype": "text/x-python",
   "name": "python",
   "nbconvert_exporter": "python",
   "pygments_lexer": "ipython3",
   "version": "3.12.3"
  }
 },
 "nbformat": 4,
 "nbformat_minor": 5
}
