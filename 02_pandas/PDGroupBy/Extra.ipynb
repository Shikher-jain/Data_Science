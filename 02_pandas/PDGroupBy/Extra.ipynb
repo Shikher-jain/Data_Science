{
 "cells": [
  {
   "cell_type": "code",
   "execution_count": null,
   "id": "7291059a",
   "metadata": {},
   "outputs": [],
   "source": [
    "import pandas as pd\n",
    "import numpy as np"
   ]
  },
  {
   "cell_type": "code",
   "execution_count": null,
   "id": "33b84067",
   "metadata": {},
   "outputs": [],
   "source": [
    "titanic_df =pd.read_csv(r'F:\\SHIKHER-VS\\DSMP\\02_pandas\\datasets\\dataset_extra\\titanic.csv')\n",
    "titanic_df.head(4)"
   ]
  },
  {
   "cell_type": "code",
   "execution_count": null,
   "id": "809a67d4",
   "metadata": {},
   "outputs": [],
   "source": [
    "pclass_groups = titanic_df.groupby('Pclass')\n",
    "\n",
    "pclass_groups.groups.keys()"
   ]
  },
  {
   "cell_type": "code",
   "execution_count": null,
   "id": "9558186f",
   "metadata": {},
   "outputs": [],
   "source": [
    "for group in list(pclass_groups.groups.keys()):\n",
    "    print(f\"Pclass: {group}\\nAverage Age: {pclass_groups.get_group(group)['Age'].mean()}\\nTotal Missing Value: {pclass_groups.get_group(group)['Age'].isna().sum()}\\n\")"
   ]
  },
  {
   "cell_type": "code",
   "execution_count": null,
   "id": "f58f5850",
   "metadata": {},
   "outputs": [],
   "source": [
    "\n",
    "titanic_df['Embarked'].fillna(titanic_df['Embarked'].mode()[0]).value_counts(ascending = False)\n"
   ]
  },
  {
   "cell_type": "code",
   "execution_count": null,
   "id": "ed2b848b",
   "metadata": {},
   "outputs": [],
   "source": [
    "for group in list(pclass_groups.groups.keys()):\n",
    "    mode=pclass_groups.get_group(group)['Embarked'].mode()\n",
    "    pclass_groups.get_group(group)['Embarked'].fillna(mode)\n",
    "    print(pclass_groups.get_group(group)['Embarked'].value_counts(ascending = False))\n",
    "    \n"
   ]
  },
  {
   "cell_type": "code",
   "execution_count": null,
   "id": "8429dde7",
   "metadata": {},
   "outputs": [],
   "source": [
    "my_dict = {}\n",
    "\n",
    "embarked_grps = titanic_df.groupby(\"Embarked\")\n",
    "for embarked_grp in list(embarked_grps.groups.keys()):\n",
    "    pclass_grps = embarked_grps.get_group(embarked_grp).groupby('Pclass')\n",
    "    my_dict[embarked_grp] = {}\n",
    "    # print(pclass_grps)\n",
    "    for pclass_grp in list(pclass_grps.groups.keys()):\n",
    "        \n",
    "        # print(round(pclass_grps.get_group(pclass_grp)['Fare'].mean(),2))\n",
    "        # print(round(pclass_grps.get_group(pclass_grp)['Fare'].agg(['mean','min','max']),2))\n",
    "        my_dict[embarked_grp][pclass_grp] = round(pclass_grps.get_group(pclass_grp)['Fare'].mean(),2)\n",
    "my_dict"
   ]
  },
  {
   "cell_type": "code",
   "execution_count": null,
   "id": "a195390b",
   "metadata": {},
   "outputs": [],
   "source": [
    "fifa_df = pd.read_csv(r\"F:\\SHIKHER-VS\\DSMP\\02_pandas\\datasets\\dataset_extra\\Fifa Worldcup 2022 - Sheet1.csv\")\n",
    "fifa_df.head(3)"
   ]
  },
  {
   "cell_type": "code",
   "execution_count": null,
   "id": "720e7c0d",
   "metadata": {},
   "outputs": [],
   "source": [
    "def z_normalization(group,cols_to_perform):\n",
    "    for col in cols_to_perform:\n",
    "        mean = group[col].mean()\n",
    "        std = group[col].std()\n",
    "        group[f\"{col}_z_norm\"] = (group[col] - mean) / std\n",
    "        \n",
    "    return group\n"
   ]
  },
  {
   "cell_type": "code",
   "execution_count": null,
   "id": "c1d2c9d6",
   "metadata": {},
   "outputs": [],
   "source": [
    "cols_to_perform = [\"Passes\",\"Passes Completed\",\"Attempted Line Breaks\",\"Completed Line Breaks\"]\n",
    "\n",
    "groups = fifa_df.groupby(\"Team\")\n",
    "groups = groups.apply(z_normalization,cols_to_perform = cols_to_perform)\n",
    "# groups=groups.groupby(\"Team\")\n",
    "groups.agg(\n",
    "    {\n",
    "        \"Passes\":['min','max'],\n",
    "        \"Yellow Cards\":['min','max','mean'],\n",
    "        \"Attempted Line Breaks\":['min','max','std'],\n",
    "        \"Possession (%)\":'mean'\n",
    "    }\n",
    ")"
   ]
  },
  {
   "cell_type": "code",
   "execution_count": null,
   "id": "4b2d89f7",
   "metadata": {},
   "outputs": [],
   "source": [
    "balls = pd.read_csv(r'F:\\SHIKHER-VS\\DSMP\\02_pandas\\datasets\\dataset_extra\\deliveries.csv')\n",
    "\n",
    "balls.head(14)"
   ]
  },
  {
   "cell_type": "code",
   "execution_count": null,
   "id": "33a03074",
   "metadata": {},
   "outputs": [],
   "source": [
    "df = balls[balls.inning == 2]\n",
    "df.groupby(['match_id', 'batsman']).sum().sort_values(by =\"batsman_runs\",ascending = False)['batsman_runs'].reset_index()"
   ]
  },
  {
   "cell_type": "code",
   "execution_count": null,
   "id": "16f0aed9",
   "metadata": {},
   "outputs": [],
   "source": [
    "t_df = df.groupby('batsman').agg({\n",
    "    \"batsman_runs\":\"sum\",\n",
    "    'ball':\"count\"\n",
    "    \n",
    "})\n",
    "\n",
    "t_df[\"strike_rate\"] = t_df[\"batsman_runs\"] / t_df['ball']  * 100\n",
    "\n",
    "t_df[t_df['ball'] >= 100].sort_values(by =\"batsman_runs\",ascending =False)"
   ]
  },
  {
   "cell_type": "code",
   "execution_count": null,
   "id": "b0e80bd7",
   "metadata": {},
   "outputs": [],
   "source": [
    "balls[\"IsBatsmanOut\"] = balls['player_dismissed']==balls['batsman']\n",
    "balls.groupby(['bowler','batsman']).agg({\n",
    "    \"IsBatsmanOut\":'sum',\n",
    "    \"batsman_runs\":\"sum\"\n",
    "}).sort_values(by= ['IsBatsmanOut','batsman_runs'], ascending =[0,1]).reset_index()\n",
    "balls"
   ]
  },
  {
   "cell_type": "code",
   "execution_count": null,
   "id": "a2a9a313",
   "metadata": {},
   "outputs": [],
   "source": [
    "def fx(x):\n",
    "    return '-'.join(list(np.sort(x.values)))\n",
    "\n",
    "balls['Batter-pair'] = balls[['batsman','non_striker']].apply(fx,axis = 1)\n",
    "balls.groupby('Batter-pair')[\"total_runs\"].sum().sort_values(ascending = 0)"
   ]
  },
  {
   "cell_type": "code",
   "execution_count": 84,
   "id": "72f489f3",
   "metadata": {},
   "outputs": [
    {
     "data": {
      "application/vnd.microsoft.datawrangler.viewer.v0+json": {
       "columns": [
        {
         "name": "index",
         "rawType": "int64",
         "type": "integer"
        },
        {
         "name": "batsman 1",
         "rawType": "object",
         "type": "string"
        },
        {
         "name": "batsman 2",
         "rawType": "object",
         "type": "string"
        },
        {
         "name": "Runs",
         "rawType": "int64",
         "type": "integer"
        },
        {
         "name": "Average",
         "rawType": "float64",
         "type": "float"
        },
        {
         "name": "Strike Rate",
         "rawType": "float64",
         "type": "float"
        }
       ],
       "ref": "5c13f277-347b-497e-829e-89b1fafa9342",
       "rows": [
        [
         "2071",
         "JP Duminy",
         "NM Coulter",
         "6",
         "inf",
         "600.0"
        ],
        [
         "2061",
         "JP Duminy",
         "KH Pandya",
         "6",
         "inf",
         "600.0"
        ],
        [
         "1152",
         "CL White",
         "P Kumar",
         "12",
         "inf",
         "600.0"
        ],
        [
         "1904",
         "J Bairstow",
         "YK Pathan",
         "6",
         "inf",
         "600.0"
        ],
        [
         "3232",
         "S Aravind",
         "TM Head",
         "16",
         "inf",
         "533.3333333333333"
        ],
        [
         "2112",
         "JR Hopes",
         "S Nadeem",
         "10",
         "inf",
         "500.0"
        ],
        [
         "2552",
         "M Ur Rahman",
         "Mandeep Singh",
         "10",
         "inf",
         "500.0"
        ],
        [
         "2712",
         "MK Tiwary",
         "WP Saha",
         "20",
         "inf",
         "500.0"
        ],
        [
         "977",
         "C Ganapathy",
         "SK Raina",
         "10",
         "inf",
         "500.0"
        ],
        [
         "2746",
         "MP Stoinis",
         "R Ashwin",
         "10",
         "inf",
         "500.0"
        ],
        [
         "658",
         "AT Rayudu",
         "DJ Bravo",
         "9",
         "inf",
         "450.0"
        ],
        [
         "2157",
         "KA Pollard",
         "PP Ojha",
         "13",
         "inf",
         "433.3333333333333"
        ],
        [
         "124",
         "A Nel",
         "RV Uthappa",
         "13",
         "inf",
         "433.3333333333333"
        ],
        [
         "1264",
         "DA Warner",
         "Rashid Khan",
         "13",
         "inf",
         "433.3333333333333"
        ],
        [
         "2523",
         "M Morkel",
         "PP Chawla",
         "4",
         "inf",
         "400.0"
        ],
        [
         "953",
         "BW Hilfenhaus",
         "M Manhas",
         "4",
         "inf",
         "400.0"
        ],
        [
         "2677",
         "MK Pandey",
         "Rashid Khan",
         "8",
         "inf",
         "400.0"
        ],
        [
         "2142",
         "K Paul",
         "TA Boult",
         "4",
         "inf",
         "400.0"
        ],
        [
         "559",
         "AN Ahmed",
         "Yuvraj Singh",
         "4",
         "inf",
         "400.0"
        ],
        [
         "2037",
         "JJ Bumrah",
         "KA Pollard",
         "8",
         "inf",
         "400.0"
        ],
        [
         "48",
         "A Kumble",
         "Z Khan",
         "4",
         "inf",
         "400.0"
        ],
        [
         "1406",
         "DJ Muthuswami",
         "JA Morkel",
         "12",
         "inf",
         "400.0"
        ],
        [
         "2541",
         "M Rawat",
         "MR Marsh",
         "8",
         "inf",
         "400.0"
        ],
        [
         "2360",
         "KV Sharma",
         "MS Dhoni",
         "4",
         "inf",
         "400.0"
        ],
        [
         "2846",
         "Mohammed Siraj",
         "Washington Sundar",
         "12",
         "inf",
         "400.0"
        ],
        [
         "2844",
         "Mohammed Siraj",
         "UT Yadav",
         "4",
         "inf",
         "400.0"
        ],
        [
         "603",
         "AR Patel",
         "MK Tiwary",
         "12",
         "inf",
         "400.0"
        ],
        [
         "2825",
         "Misbah",
         "ul",
         "28",
         "inf",
         "400.0"
        ],
        [
         "2776",
         "MS Dhoni",
         "SN Thakur",
         "24",
         "inf",
         "400.0"
        ],
        [
         "242",
         "AB de Villiers",
         "J Syed Mohammad",
         "42",
         "inf",
         "381.8181818181818"
        ],
        [
         "2553",
         "M Ur Rahman",
         "R Ashwin",
         "19",
         "inf",
         "380.0"
        ],
        [
         "772",
         "B Kumar",
         "BCJ Cutting",
         "34",
         "inf",
         "377.77777777777777"
        ],
        [
         "1500",
         "DR Smith",
         "RP Singh",
         "15",
         "inf",
         "375.0"
        ],
        [
         "1920",
         "J Searles",
         "S Gill",
         "15",
         "inf",
         "375.0"
        ],
        [
         "1956",
         "JA Morkel",
         "SB Styris",
         "15",
         "inf",
         "375.0"
        ],
        [
         "846",
         "BB McCullum",
         "DJ Bravo",
         "11",
         "inf",
         "366.66666666666663"
        ],
        [
         "930",
         "BJ Hodge",
         "RV Gomez",
         "22",
         "inf",
         "366.66666666666663"
        ],
        [
         "2325",
         "KM Jadhav",
         "WD Parnell",
         "11",
         "inf",
         "366.66666666666663"
        ],
        [
         "907",
         "BE Hendricks",
         "DA Miller",
         "22",
         "inf",
         "366.66666666666663"
        ],
        [
         "3223",
         "Rashid Khan",
         "S Kaul",
         "14",
         "inf",
         "350.0"
        ],
        [
         "2654",
         "MJ Guptill",
         "Mohammad Nabi",
         "7",
         "inf",
         "350.0"
        ],
        [
         "593",
         "AR Patel",
         "I Sharma",
         "14",
         "inf",
         "350.0"
        ],
        [
         "1171",
         "CR Brathwaite",
         "KD Karthik",
         "13",
         "13.0",
         "325.0"
        ],
        [
         "1757",
         "HH Pandya",
         "TG Southee",
         "39",
         "inf",
         "325.0"
        ],
        [
         "1187",
         "CRD Fernando",
         "SD Chitnis",
         "13",
         "13.0",
         "325.0"
        ],
        [
         "329",
         "AD Mascarenhas",
         "YK Pathan",
         "22",
         "11.0",
         "314.2857142857143"
        ],
        [
         "1598",
         "F du Plessis",
         "SN Thakur",
         "28",
         "inf",
         "311.11111111111114"
        ],
        [
         "1342",
         "DJ Bravo",
         "PR Shah",
         "6",
         "6.0",
         "300.0"
        ],
        [
         "1111",
         "CJ Anderson",
         "J Suchith",
         "12",
         "12.0",
         "300.0"
        ],
        [
         "1913",
         "J Botha",
         "SA Yadav",
         "18",
         "18.0",
         "300.0"
        ]
       ],
       "shape": {
        "columns": 5,
        "rows": 3430
       }
      },
      "text/html": [
       "<div>\n",
       "<style scoped>\n",
       "    .dataframe tbody tr th:only-of-type {\n",
       "        vertical-align: middle;\n",
       "    }\n",
       "\n",
       "    .dataframe tbody tr th {\n",
       "        vertical-align: top;\n",
       "    }\n",
       "\n",
       "    .dataframe thead th {\n",
       "        text-align: right;\n",
       "    }\n",
       "</style>\n",
       "<table border=\"1\" class=\"dataframe\">\n",
       "  <thead>\n",
       "    <tr style=\"text-align: right;\">\n",
       "      <th></th>\n",
       "      <th>batsman 1</th>\n",
       "      <th>batsman 2</th>\n",
       "      <th>Runs</th>\n",
       "      <th>Average</th>\n",
       "      <th>Strike Rate</th>\n",
       "    </tr>\n",
       "  </thead>\n",
       "  <tbody>\n",
       "    <tr>\n",
       "      <th>2071</th>\n",
       "      <td>JP Duminy</td>\n",
       "      <td>NM Coulter</td>\n",
       "      <td>6</td>\n",
       "      <td>inf</td>\n",
       "      <td>600.000000</td>\n",
       "    </tr>\n",
       "    <tr>\n",
       "      <th>2061</th>\n",
       "      <td>JP Duminy</td>\n",
       "      <td>KH Pandya</td>\n",
       "      <td>6</td>\n",
       "      <td>inf</td>\n",
       "      <td>600.000000</td>\n",
       "    </tr>\n",
       "    <tr>\n",
       "      <th>1152</th>\n",
       "      <td>CL White</td>\n",
       "      <td>P Kumar</td>\n",
       "      <td>12</td>\n",
       "      <td>inf</td>\n",
       "      <td>600.000000</td>\n",
       "    </tr>\n",
       "    <tr>\n",
       "      <th>1904</th>\n",
       "      <td>J Bairstow</td>\n",
       "      <td>YK Pathan</td>\n",
       "      <td>6</td>\n",
       "      <td>inf</td>\n",
       "      <td>600.000000</td>\n",
       "    </tr>\n",
       "    <tr>\n",
       "      <th>3232</th>\n",
       "      <td>S Aravind</td>\n",
       "      <td>TM Head</td>\n",
       "      <td>16</td>\n",
       "      <td>inf</td>\n",
       "      <td>533.333333</td>\n",
       "    </tr>\n",
       "    <tr>\n",
       "      <th>...</th>\n",
       "      <td>...</td>\n",
       "      <td>...</td>\n",
       "      <td>...</td>\n",
       "      <td>...</td>\n",
       "      <td>...</td>\n",
       "    </tr>\n",
       "    <tr>\n",
       "      <th>543</th>\n",
       "      <td>AM Rahane</td>\n",
       "      <td>SP Goswami</td>\n",
       "      <td>0</td>\n",
       "      <td>0.0</td>\n",
       "      <td>0.000000</td>\n",
       "    </tr>\n",
       "    <tr>\n",
       "      <th>2600</th>\n",
       "      <td>MA Starc</td>\n",
       "      <td>S Aravind</td>\n",
       "      <td>0</td>\n",
       "      <td>NaN</td>\n",
       "      <td>0.000000</td>\n",
       "    </tr>\n",
       "    <tr>\n",
       "      <th>2574</th>\n",
       "      <td>M Vohra</td>\n",
       "      <td>P Kumar</td>\n",
       "      <td>0</td>\n",
       "      <td>0.0</td>\n",
       "      <td>0.000000</td>\n",
       "    </tr>\n",
       "    <tr>\n",
       "      <th>3278</th>\n",
       "      <td>S Sreesanth</td>\n",
       "      <td>SJ Srivastava</td>\n",
       "      <td>0</td>\n",
       "      <td>0.0</td>\n",
       "      <td>0.000000</td>\n",
       "    </tr>\n",
       "    <tr>\n",
       "      <th>2431</th>\n",
       "      <td>LPC Silva</td>\n",
       "      <td>RG Sharma</td>\n",
       "      <td>0</td>\n",
       "      <td>0.0</td>\n",
       "      <td>0.000000</td>\n",
       "    </tr>\n",
       "  </tbody>\n",
       "</table>\n",
       "<p>3430 rows × 5 columns</p>\n",
       "</div>"
      ],
      "text/plain": [
       "        batsman 1      batsman 2  Runs  Average  Strike Rate\n",
       "2071    JP Duminy     NM Coulter     6      inf   600.000000\n",
       "2061    JP Duminy      KH Pandya     6      inf   600.000000\n",
       "1152     CL White        P Kumar    12      inf   600.000000\n",
       "1904   J Bairstow      YK Pathan     6      inf   600.000000\n",
       "3232    S Aravind        TM Head    16      inf   533.333333\n",
       "...           ...            ...   ...      ...          ...\n",
       "543     AM Rahane     SP Goswami     0      0.0     0.000000\n",
       "2600     MA Starc      S Aravind     0      NaN     0.000000\n",
       "2574      M Vohra        P Kumar     0      0.0     0.000000\n",
       "3278  S Sreesanth  SJ Srivastava     0      0.0     0.000000\n",
       "2431    LPC Silva      RG Sharma     0      0.0     0.000000\n",
       "\n",
       "[3430 rows x 5 columns]"
      ]
     },
     "execution_count": 84,
     "metadata": {},
     "output_type": "execute_result"
    }
   ],
   "source": [
    "tdf= balls.groupby('Batter-pair').agg({\n",
    "    'total_runs':'sum',\n",
    "    'ball':\"count\",\n",
    "    'IsBatsmanOut':\"sum\"\n",
    "\n",
    "}).reset_index()\n",
    "\n",
    "tdf[\"batsman 1\"] = tdf[\"Batter-pair\"].apply(lambda x: x.split(\"-\")[0])\n",
    "tdf[\"batsman 2\"] = tdf[\"Batter-pair\"].apply(lambda x: x.split(\"-\")[1])\n",
    "tdf.rename(columns = {'total_runs':'Runs'}, inplace  = True)\n",
    "tdf['Strike Rate'] = tdf['Runs'] / tdf['ball'] * 100\n",
    "tdf['Average'] = tdf['Runs'] / tdf['IsBatsmanOut'] \n",
    "\n",
    "tdf.sort_values('Strike Rate',ascending = 0,inplace = True)\n",
    "\n",
    "tdf[[\"batsman 1\",\"batsman 2\",'Runs','Average','Strike Rate']]"
   ]
  }
 ],
 "metadata": {
  "kernelspec": {
   "display_name": "base",
   "language": "python",
   "name": "python3"
  },
  "language_info": {
   "codemirror_mode": {
    "name": "ipython",
    "version": 3
   },
   "file_extension": ".py",
   "mimetype": "text/x-python",
   "name": "python",
   "nbconvert_exporter": "python",
   "pygments_lexer": "ipython3",
   "version": "3.12.3"
  }
 },
 "nbformat": 4,
 "nbformat_minor": 5
}
