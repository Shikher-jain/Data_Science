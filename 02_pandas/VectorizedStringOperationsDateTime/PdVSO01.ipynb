{
 "cells": [
  {
   "cell_type": "code",
   "execution_count": null,
   "id": "9dde5f5b",
   "metadata": {},
   "outputs": [],
   "source": [
    "import pandas as pd\n",
    "import numpy as np"
   ]
  },
  {
   "cell_type": "markdown",
   "id": "72bed7f3",
   "metadata": {},
   "source": [
    "# Vectorized String Operations"
   ]
  },
  {
   "cell_type": "code",
   "execution_count": null,
   "id": "6022d396",
   "metadata": {},
   "outputs": [],
   "source": [
    "a = np.array([1,2,3,4,5,6])\n",
    "a*5"
   ]
  },
  {
   "cell_type": "code",
   "execution_count": null,
   "id": "62e2709c",
   "metadata": {},
   "outputs": [],
   "source": [
    "l = ['rat','bat','mat','cat',None]\n",
    "l\n",
    "# [i.startswith('c') for i in l]"
   ]
  },
  {
   "cell_type": "code",
   "execution_count": null,
   "id": "d9c53601",
   "metadata": {},
   "outputs": [],
   "source": [
    "s = pd.Series(['rat','bat','mat','cat',None])\n",
    "s\n",
    "s.str.startswith('c')"
   ]
  },
  {
   "cell_type": "code",
   "execution_count": null,
   "id": "95efcfcc",
   "metadata": {},
   "outputs": [],
   "source": [
    "df = pd.read_csv(r\"F:\\SHIKHER-VS\\DSMP\\02_pandas\\datasets\\datasets-session-22\\titanic.csv\")\n",
    "df.head()"
   ]
  },
  {
   "cell_type": "code",
   "execution_count": null,
   "id": "226045ec",
   "metadata": {},
   "outputs": [],
   "source": [
    "df['Name']\n",
    "df['Name'].str.upper()\n",
    "df['Name'].str.lower()\n",
    "df['Name'].str.title()\n",
    "df['Name'].str.swapcase()\n",
    "df['Name'].str.capitalize()"
   ]
  },
  {
   "cell_type": "code",
   "execution_count": null,
   "id": "3585329e",
   "metadata": {},
   "outputs": [],
   "source": [
    "df['Name'][df['Name'].str.len() == df['Name'].str.len().max()].values[0]\n",
    "df['Name'].str.strip()"
   ]
  },
  {
   "cell_type": "code",
   "execution_count": null,
   "id": "c888dd22",
   "metadata": {},
   "outputs": [],
   "source": [
    "df['lastname'] = df['Name'].str.split(',').str.get(0)\n",
    "df"
   ]
  },
  {
   "cell_type": "code",
   "execution_count": null,
   "metadata": {},
   "outputs": [],
   "source": [
    "# df[['title','firstname']] = df['Name'].str.split(',').str.get(1).str.strip().str.split('.')\n",
    "df['title'] = df['Name'].str.split(',').str.get(1).str.strip().str.split('.').str.get(0)\n",
    "df['firstname'] = df['Name'].str.split(',').str.get(1).str.strip().str.split('.').str.get(1)\n"
   ]
  },
  {
   "cell_type": "code",
   "execution_count": null,
   "id": "51bac58c",
   "metadata": {},
   "outputs": [],
   "source": [
    "df"
   ]
  },
  {
   "cell_type": "code",
   "execution_count": null,
   "id": "d9fc3500",
   "metadata": {},
   "outputs": [],
   "source": [
    "df['title'].value_counts()"
   ]
  },
  {
   "cell_type": "code",
   "execution_count": null,
   "id": "e7d47486",
   "metadata": {},
   "outputs": [],
   "source": [
    "# Miss , Ms, Mlle  are same \n",
    "\n",
    "df['title'] = df['title'].str.replace('Ms','Miss')\n",
    "df['title'] = df['title'].str.replace('Mlle','Miss')"
   ]
  },
  {
   "cell_type": "code",
   "execution_count": null,
   "id": "feee3bf2",
   "metadata": {},
   "outputs": [],
   "source": [
    "df['title'].value_counts()"
   ]
  },
  {
   "cell_type": "code",
   "execution_count": 97,
   "id": "6a1b44e4",
   "metadata": {},
   "outputs": [
    {
     "data": {
      "application/vnd.microsoft.datawrangler.viewer.v0+json": {
       "columns": [
        {
         "name": "index",
         "rawType": "int64",
         "type": "integer"
        },
        {
         "name": "firstname",
         "rawType": "object",
         "type": "string"
        }
       ],
       "ref": "6afa450e-a691-46f0-b59c-1119c0a9937b",
       "rows": [
        [
         "1",
         " John Bradley (Florence Briggs Thayer)"
        ],
        [
         "41",
         " William John Robert (Dorothy Ann Wonnacott)"
        ],
        [
         "45",
         " William John"
        ],
        [
         "98",
         " John T (Ada Julia Bone)"
        ],
        [
         "112",
         " David John"
        ],
        [
         "117",
         " William John Robert"
        ],
        [
         "160",
         " John Hatfield"
        ],
        [
         "162",
         " John Viktor"
        ],
        [
         "165",
         " Frank John William \"Frankie\""
        ],
        [
         "168",
         " John D"
        ],
        [
         "188",
         " John"
        ],
        [
         "212",
         " John Henry"
        ],
        [
         "226",
         " William John"
        ],
        [
         "227",
         " John Hall (\"Henry\")"
        ],
        [
         "324",
         " George John Jr"
        ],
        [
         "328",
         " Frank John (Emily Alice Brown)"
        ],
        [
         "401",
         " John"
        ],
        [
         "418",
         " William John"
        ],
        [
         "467",
         " John Montgomery"
        ],
        [
         "527",
         " John"
        ],
        [
         "548",
         " Frank John"
        ],
        [
         "549",
         " John Morgan Jr"
        ],
        [
         "550",
         " John Borland Jr"
        ],
        [
         "563",
         " John"
        ],
        [
         "572",
         " John Irwin (\"Irving\")"
        ],
        [
         "574",
         " Alfred George John"
        ],
        [
         "581",
         " John Borland (Marian Longstreth Morris)"
        ],
        [
         "583",
         " John Hugo"
        ],
        [
         "586",
         " John Denzil"
        ],
        [
         "594",
         " John Henry"
        ],
        [
         "613",
         " John"
        ],
        [
         "624",
         " David John \"Dai\""
        ],
        [
         "657",
         " John (Catherine)"
        ],
        [
         "694",
         " John"
        ],
        [
         "698",
         " John Borland"
        ],
        [
         "700",
         " John Jacob (Madeleine Talmadge Force)"
        ],
        [
         "733",
         " William John"
        ],
        [
         "760",
         " John"
        ],
        [
         "765",
         " John C (Anna Andrews)"
        ],
        [
         "818",
         " John Fredrik Alexander"
        ],
        [
         "822",
         " John George"
        ],
        [
         "825",
         " John"
        ],
        [
         "848",
         " John"
        ],
        [
         "864",
         " John William"
        ]
       ],
       "shape": {
        "columns": 1,
        "rows": 44
       }
      },
      "text/plain": [
       "1             John Bradley (Florence Briggs Thayer)\n",
       "41      William John Robert (Dorothy Ann Wonnacott)\n",
       "45                                     William John\n",
       "98                          John T (Ada Julia Bone)\n",
       "112                                      David John\n",
       "117                             William John Robert\n",
       "160                                   John Hatfield\n",
       "162                                     John Viktor\n",
       "165                    Frank John William \"Frankie\"\n",
       "168                                          John D\n",
       "188                                            John\n",
       "212                                      John Henry\n",
       "226                                    William John\n",
       "227                             John Hall (\"Henry\")\n",
       "324                                  George John Jr\n",
       "328                  Frank John (Emily Alice Brown)\n",
       "401                                            John\n",
       "418                                    William John\n",
       "467                                 John Montgomery\n",
       "527                                            John\n",
       "548                                      Frank John\n",
       "549                                  John Morgan Jr\n",
       "550                                 John Borland Jr\n",
       "563                                            John\n",
       "572                           John Irwin (\"Irving\")\n",
       "574                              Alfred George John\n",
       "581         John Borland (Marian Longstreth Morris)\n",
       "583                                       John Hugo\n",
       "586                                     John Denzil\n",
       "594                                      John Henry\n",
       "613                                            John\n",
       "624                                David John \"Dai\"\n",
       "657                                John (Catherine)\n",
       "694                                            John\n",
       "698                                    John Borland\n",
       "700           John Jacob (Madeleine Talmadge Force)\n",
       "733                                    William John\n",
       "760                                            John\n",
       "765                           John C (Anna Andrews)\n",
       "818                          John Fredrik Alexander\n",
       "822                                     John George\n",
       "825                                            John\n",
       "848                                            John\n",
       "864                                    John William\n",
       "Name: firstname, dtype: object"
      ]
     },
     "execution_count": 97,
     "metadata": {},
     "output_type": "execute_result"
    }
   ],
   "source": [
    "df[df['firstname'].str.contains('john',case =False)]['firstname']"
   ]
  },
  {
   "cell_type": "code",
   "execution_count": 101,
   "id": "566421a6",
   "metadata": {},
   "outputs": [
    {
     "data": {
      "application/vnd.microsoft.datawrangler.viewer.v0+json": {
       "columns": [
        {
         "name": "index",
         "rawType": "int64",
         "type": "integer"
        },
        {
         "name": "PassengerId",
         "rawType": "int64",
         "type": "integer"
        },
        {
         "name": "Survived",
         "rawType": "int64",
         "type": "integer"
        },
        {
         "name": "Pclass",
         "rawType": "int64",
         "type": "integer"
        },
        {
         "name": "Name",
         "rawType": "object",
         "type": "string"
        },
        {
         "name": "Sex",
         "rawType": "object",
         "type": "string"
        },
        {
         "name": "Age",
         "rawType": "float64",
         "type": "float"
        },
        {
         "name": "SibSp",
         "rawType": "int64",
         "type": "integer"
        },
        {
         "name": "Parch",
         "rawType": "int64",
         "type": "integer"
        },
        {
         "name": "Ticket",
         "rawType": "object",
         "type": "string"
        },
        {
         "name": "Fare",
         "rawType": "float64",
         "type": "float"
        },
        {
         "name": "Cabin",
         "rawType": "object",
         "type": "unknown"
        },
        {
         "name": "Embarked",
         "rawType": "object",
         "type": "string"
        },
        {
         "name": "lastname",
         "rawType": "object",
         "type": "string"
        },
        {
         "name": "title",
         "rawType": "object",
         "type": "string"
        },
        {
         "name": "firstname",
         "rawType": "object",
         "type": "string"
        }
       ],
       "ref": "5c3cc7d8-6df4-4f74-b458-b4029a37a68d",
       "rows": [
        [
         "30",
         "31",
         "0",
         "1",
         "Uruchurtu, Don. Manuel E",
         "male",
         "40.0",
         "0",
         "0",
         "PC 17601",
         "27.7208",
         null,
         "C",
         "Uruchurtu",
         "Don",
         " Manuel E"
        ],
        [
         "49",
         "50",
         "0",
         "3",
         "Arnold-Franchi, Mrs. Josef (Josefine Franchi)",
         "female",
         "18.0",
         "1",
         "0",
         "349237",
         "17.8",
         null,
         "S",
         "Arnold-Franchi",
         "Mrs",
         " Josef (Josefine Franchi)"
        ],
        [
         "207",
         "208",
         "1",
         "3",
         "Albimona, Mr. Nassef Cassem",
         "male",
         "26.0",
         "0",
         "0",
         "2699",
         "18.7875",
         null,
         "C",
         "Albimona",
         "Mr",
         " Nassef Cassem"
        ],
        [
         "210",
         "211",
         "0",
         "3",
         "Ali, Mr. Ahmed",
         "male",
         "24.0",
         "0",
         "0",
         "SOTON/O.Q. 3101311",
         "7.05",
         null,
         "S",
         "Ali",
         "Mr",
         " Ahmed"
        ],
        [
         "353",
         "354",
         "0",
         "3",
         "Arnold-Franchi, Mr. Josef",
         "male",
         "25.0",
         "1",
         "0",
         "349237",
         "17.8",
         null,
         "S",
         "Arnold-Franchi",
         "Mr",
         " Josef"
        ],
        [
         "493",
         "494",
         "0",
         "1",
         "Artagaveytia, Mr. Ramon",
         "male",
         "71.0",
         "0",
         "0",
         "PC 17609",
         "49.5042",
         null,
         "C",
         "Artagaveytia",
         "Mr",
         " Ramon"
        ],
        [
         "518",
         "519",
         "1",
         "2",
         "Angle, Mrs. William A (Florence \"Mary\" Agnes Hughes)",
         "female",
         "36.0",
         "1",
         "0",
         "226875",
         "26.0",
         null,
         "S",
         "Angle",
         "Mrs",
         " William A (Florence \"Mary\" Agnes Hughes)"
        ],
        [
         "784",
         "785",
         "0",
         "3",
         "Ali, Mr. William",
         "male",
         "25.0",
         "0",
         "0",
         "SOTON/O.Q. 3101312",
         "7.05",
         null,
         "S",
         "Ali",
         "Mr",
         " William"
        ],
        [
         "840",
         "841",
         "0",
         "3",
         "Alhomaki, Mr. Ilmari Rudolf",
         "male",
         "20.0",
         "0",
         "0",
         "SOTON/O2 3101287",
         "7.925",
         null,
         "S",
         "Alhomaki",
         "Mr",
         " Ilmari Rudolf"
        ]
       ],
       "shape": {
        "columns": 15,
        "rows": 9
       }
      },
      "text/html": [
       "<div>\n",
       "<style scoped>\n",
       "    .dataframe tbody tr th:only-of-type {\n",
       "        vertical-align: middle;\n",
       "    }\n",
       "\n",
       "    .dataframe tbody tr th {\n",
       "        vertical-align: top;\n",
       "    }\n",
       "\n",
       "    .dataframe thead th {\n",
       "        text-align: right;\n",
       "    }\n",
       "</style>\n",
       "<table border=\"1\" class=\"dataframe\">\n",
       "  <thead>\n",
       "    <tr style=\"text-align: right;\">\n",
       "      <th></th>\n",
       "      <th>PassengerId</th>\n",
       "      <th>Survived</th>\n",
       "      <th>Pclass</th>\n",
       "      <th>Name</th>\n",
       "      <th>Sex</th>\n",
       "      <th>Age</th>\n",
       "      <th>SibSp</th>\n",
       "      <th>Parch</th>\n",
       "      <th>Ticket</th>\n",
       "      <th>Fare</th>\n",
       "      <th>Cabin</th>\n",
       "      <th>Embarked</th>\n",
       "      <th>lastname</th>\n",
       "      <th>title</th>\n",
       "      <th>firstname</th>\n",
       "    </tr>\n",
       "  </thead>\n",
       "  <tbody>\n",
       "    <tr>\n",
       "      <th>30</th>\n",
       "      <td>31</td>\n",
       "      <td>0</td>\n",
       "      <td>1</td>\n",
       "      <td>Uruchurtu, Don. Manuel E</td>\n",
       "      <td>male</td>\n",
       "      <td>40.0</td>\n",
       "      <td>0</td>\n",
       "      <td>0</td>\n",
       "      <td>PC 17601</td>\n",
       "      <td>27.7208</td>\n",
       "      <td>NaN</td>\n",
       "      <td>C</td>\n",
       "      <td>Uruchurtu</td>\n",
       "      <td>Don</td>\n",
       "      <td>Manuel E</td>\n",
       "    </tr>\n",
       "    <tr>\n",
       "      <th>49</th>\n",
       "      <td>50</td>\n",
       "      <td>0</td>\n",
       "      <td>3</td>\n",
       "      <td>Arnold-Franchi, Mrs. Josef (Josefine Franchi)</td>\n",
       "      <td>female</td>\n",
       "      <td>18.0</td>\n",
       "      <td>1</td>\n",
       "      <td>0</td>\n",
       "      <td>349237</td>\n",
       "      <td>17.8000</td>\n",
       "      <td>NaN</td>\n",
       "      <td>S</td>\n",
       "      <td>Arnold-Franchi</td>\n",
       "      <td>Mrs</td>\n",
       "      <td>Josef (Josefine Franchi)</td>\n",
       "    </tr>\n",
       "    <tr>\n",
       "      <th>207</th>\n",
       "      <td>208</td>\n",
       "      <td>1</td>\n",
       "      <td>3</td>\n",
       "      <td>Albimona, Mr. Nassef Cassem</td>\n",
       "      <td>male</td>\n",
       "      <td>26.0</td>\n",
       "      <td>0</td>\n",
       "      <td>0</td>\n",
       "      <td>2699</td>\n",
       "      <td>18.7875</td>\n",
       "      <td>NaN</td>\n",
       "      <td>C</td>\n",
       "      <td>Albimona</td>\n",
       "      <td>Mr</td>\n",
       "      <td>Nassef Cassem</td>\n",
       "    </tr>\n",
       "    <tr>\n",
       "      <th>210</th>\n",
       "      <td>211</td>\n",
       "      <td>0</td>\n",
       "      <td>3</td>\n",
       "      <td>Ali, Mr. Ahmed</td>\n",
       "      <td>male</td>\n",
       "      <td>24.0</td>\n",
       "      <td>0</td>\n",
       "      <td>0</td>\n",
       "      <td>SOTON/O.Q. 3101311</td>\n",
       "      <td>7.0500</td>\n",
       "      <td>NaN</td>\n",
       "      <td>S</td>\n",
       "      <td>Ali</td>\n",
       "      <td>Mr</td>\n",
       "      <td>Ahmed</td>\n",
       "    </tr>\n",
       "    <tr>\n",
       "      <th>353</th>\n",
       "      <td>354</td>\n",
       "      <td>0</td>\n",
       "      <td>3</td>\n",
       "      <td>Arnold-Franchi, Mr. Josef</td>\n",
       "      <td>male</td>\n",
       "      <td>25.0</td>\n",
       "      <td>1</td>\n",
       "      <td>0</td>\n",
       "      <td>349237</td>\n",
       "      <td>17.8000</td>\n",
       "      <td>NaN</td>\n",
       "      <td>S</td>\n",
       "      <td>Arnold-Franchi</td>\n",
       "      <td>Mr</td>\n",
       "      <td>Josef</td>\n",
       "    </tr>\n",
       "    <tr>\n",
       "      <th>493</th>\n",
       "      <td>494</td>\n",
       "      <td>0</td>\n",
       "      <td>1</td>\n",
       "      <td>Artagaveytia, Mr. Ramon</td>\n",
       "      <td>male</td>\n",
       "      <td>71.0</td>\n",
       "      <td>0</td>\n",
       "      <td>0</td>\n",
       "      <td>PC 17609</td>\n",
       "      <td>49.5042</td>\n",
       "      <td>NaN</td>\n",
       "      <td>C</td>\n",
       "      <td>Artagaveytia</td>\n",
       "      <td>Mr</td>\n",
       "      <td>Ramon</td>\n",
       "    </tr>\n",
       "    <tr>\n",
       "      <th>518</th>\n",
       "      <td>519</td>\n",
       "      <td>1</td>\n",
       "      <td>2</td>\n",
       "      <td>Angle, Mrs. William A (Florence \"Mary\" Agnes H...</td>\n",
       "      <td>female</td>\n",
       "      <td>36.0</td>\n",
       "      <td>1</td>\n",
       "      <td>0</td>\n",
       "      <td>226875</td>\n",
       "      <td>26.0000</td>\n",
       "      <td>NaN</td>\n",
       "      <td>S</td>\n",
       "      <td>Angle</td>\n",
       "      <td>Mrs</td>\n",
       "      <td>William A (Florence \"Mary\" Agnes Hughes)</td>\n",
       "    </tr>\n",
       "    <tr>\n",
       "      <th>784</th>\n",
       "      <td>785</td>\n",
       "      <td>0</td>\n",
       "      <td>3</td>\n",
       "      <td>Ali, Mr. William</td>\n",
       "      <td>male</td>\n",
       "      <td>25.0</td>\n",
       "      <td>0</td>\n",
       "      <td>0</td>\n",
       "      <td>SOTON/O.Q. 3101312</td>\n",
       "      <td>7.0500</td>\n",
       "      <td>NaN</td>\n",
       "      <td>S</td>\n",
       "      <td>Ali</td>\n",
       "      <td>Mr</td>\n",
       "      <td>William</td>\n",
       "    </tr>\n",
       "    <tr>\n",
       "      <th>840</th>\n",
       "      <td>841</td>\n",
       "      <td>0</td>\n",
       "      <td>3</td>\n",
       "      <td>Alhomaki, Mr. Ilmari Rudolf</td>\n",
       "      <td>male</td>\n",
       "      <td>20.0</td>\n",
       "      <td>0</td>\n",
       "      <td>0</td>\n",
       "      <td>SOTON/O2 3101287</td>\n",
       "      <td>7.9250</td>\n",
       "      <td>NaN</td>\n",
       "      <td>S</td>\n",
       "      <td>Alhomaki</td>\n",
       "      <td>Mr</td>\n",
       "      <td>Ilmari Rudolf</td>\n",
       "    </tr>\n",
       "  </tbody>\n",
       "</table>\n",
       "</div>"
      ],
      "text/plain": [
       "     PassengerId  Survived  Pclass  \\\n",
       "30            31         0       1   \n",
       "49            50         0       3   \n",
       "207          208         1       3   \n",
       "210          211         0       3   \n",
       "353          354         0       3   \n",
       "493          494         0       1   \n",
       "518          519         1       2   \n",
       "784          785         0       3   \n",
       "840          841         0       3   \n",
       "\n",
       "                                                  Name     Sex   Age  SibSp  \\\n",
       "30                            Uruchurtu, Don. Manuel E    male  40.0      0   \n",
       "49       Arnold-Franchi, Mrs. Josef (Josefine Franchi)  female  18.0      1   \n",
       "207                        Albimona, Mr. Nassef Cassem    male  26.0      0   \n",
       "210                                     Ali, Mr. Ahmed    male  24.0      0   \n",
       "353                          Arnold-Franchi, Mr. Josef    male  25.0      1   \n",
       "493                            Artagaveytia, Mr. Ramon    male  71.0      0   \n",
       "518  Angle, Mrs. William A (Florence \"Mary\" Agnes H...  female  36.0      1   \n",
       "784                                   Ali, Mr. William    male  25.0      0   \n",
       "840                        Alhomaki, Mr. Ilmari Rudolf    male  20.0      0   \n",
       "\n",
       "     Parch              Ticket     Fare Cabin Embarked        lastname title  \\\n",
       "30       0            PC 17601  27.7208   NaN        C       Uruchurtu   Don   \n",
       "49       0              349237  17.8000   NaN        S  Arnold-Franchi   Mrs   \n",
       "207      0                2699  18.7875   NaN        C        Albimona    Mr   \n",
       "210      0  SOTON/O.Q. 3101311   7.0500   NaN        S             Ali    Mr   \n",
       "353      0              349237  17.8000   NaN        S  Arnold-Franchi    Mr   \n",
       "493      0            PC 17609  49.5042   NaN        C    Artagaveytia    Mr   \n",
       "518      0              226875  26.0000   NaN        S           Angle   Mrs   \n",
       "784      0  SOTON/O.Q. 3101312   7.0500   NaN        S             Ali    Mr   \n",
       "840      0    SOTON/O2 3101287   7.9250   NaN        S        Alhomaki    Mr   \n",
       "\n",
       "                                     firstname  \n",
       "30                                    Manuel E  \n",
       "49                    Josef (Josefine Franchi)  \n",
       "207                              Nassef Cassem  \n",
       "210                                      Ahmed  \n",
       "353                                      Josef  \n",
       "493                                      Ramon  \n",
       "518   William A (Florence \"Mary\" Agnes Hughes)  \n",
       "784                                    William  \n",
       "840                              Ilmari Rudolf  "
      ]
     },
     "execution_count": 101,
     "metadata": {},
     "output_type": "execute_result"
    }
   ],
   "source": [
    "# ^ -> first character\n",
    "# + -> one or more\n",
    "# . -> any characters \n",
    "# $ -> last character\n",
    "\n",
    "\n",
    "df[df['lastname'].str.contains('^[aeiouAEIOU].+[aeiouAEIOU]$')]"
   ]
  }
 ],
 "metadata": {
  "kernelspec": {
   "display_name": "base",
   "language": "python",
   "name": "python3"
  },
  "language_info": {
   "codemirror_mode": {
    "name": "ipython",
    "version": 3
   },
   "file_extension": ".py",
   "mimetype": "text/x-python",
   "name": "python",
   "nbconvert_exporter": "python",
   "pygments_lexer": "ipython3",
   "version": "3.12.3"
  }
 },
 "nbformat": 4,
 "nbformat_minor": 5
}
