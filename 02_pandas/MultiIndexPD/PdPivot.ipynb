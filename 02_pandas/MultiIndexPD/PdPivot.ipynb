{
 "cells": [
  {
   "cell_type": "code",
   "execution_count": null,
   "id": "f900db72",
   "metadata": {},
   "outputs": [],
   "source": [
    "import pandas as pd\n",
    "import seaborn as sns\n",
    "import numpy as np\n",
    "import matplotlib.pyplot as plt"
   ]
  },
  {
   "cell_type": "code",
   "execution_count": null,
   "metadata": {},
   "outputs": [],
   "source": [
    "df = sns.load_dataset('tips')\n",
    "df.head()"
   ]
  },
  {
   "cell_type": "code",
   "execution_count": null,
   "metadata": {},
   "outputs": [],
   "source": [
    "df.groupby('sex').count()"
   ]
  },
  {
   "cell_type": "code",
   "execution_count": null,
   "metadata": {},
   "outputs": [],
   "source": [
    "df.groupby('sex')['total_bill'].count()"
   ]
  },
  {
   "cell_type": "code",
   "execution_count": null,
   "metadata": {},
   "outputs": [],
   "source": [
    "df.groupby(['sex', 'smoker'])[['total_bill']].count()"
   ]
  },
  {
   "cell_type": "code",
   "execution_count": null,
   "id": "5194d59a",
   "metadata": {
    "notebookRunGroups": {
     "groupValue": "1"
    }
   },
   "outputs": [],
   "source": [
    "df.groupby(['sex', 'smoker'])[['total_bill']].count().unstack()"
   ]
  },
  {
   "cell_type": "code",
   "execution_count": null,
   "id": "df62aed8",
   "metadata": {
    "notebookRunGroups": {
     "groupValue": "1"
    }
   },
   "outputs": [],
   "source": [
    "df.groupby(['sex', 'smoker'])[['total_bill']].count().stack()\n",
    "df.groupby(['sex', 'smoker'])[['total_bill']].mean().stack()"
   ]
  },
  {
   "cell_type": "code",
   "execution_count": null,
   "id": "6f5676f3",
   "metadata": {},
   "outputs": [],
   "source": [
    "# df.pivot_table(index='sex',columns='smoker',values='total_bill')\n",
    "df.pivot_table(index='sex',columns='smoker',values=['total_bill', 'tip'])\n",
    "# df.pivot_table(index='sex',columns='smoker',values='total_bill',aggfunc='sum')"
   ]
  },
  {
   "cell_type": "code",
   "execution_count": null,
   "id": "bee62c12",
   "metadata": {},
   "outputs": [],
   "source": [
    "df.pivot_table(index=['sex','smoker'],columns=[\"day\",\"time\"], values ='total_bill')"
   ]
  },
  {
   "cell_type": "code",
   "execution_count": null,
   "metadata": {},
   "outputs": [],
   "source": [
    "t = df.pivot_table(index=['sex', 'smoker'], columns = [\"day\", \"time\"], aggfunc = {'size':'mean', 'tip':['max', 'min', 'mean'], 'total_bill':'sum'})\n",
    "t"
   ]
  },
  {
   "cell_type": "code",
   "execution_count": null,
   "metadata": {},
   "outputs": [],
   "source": [
    "df.pivot_table(index='sex',columns='smoker',values='total_bill',aggfunc='sum',margins =True)"
   ]
  },
  {
   "cell_type": "code",
   "execution_count": null,
   "id": "8e85dc1b",
   "metadata": {},
   "outputs": [],
   "source": [
    "expense = pd.read_csv(r'F:\\SHIKHER-VS\\DSMP\\02_pandas\\datasets\\datasets-session-22\\expense_data.csv')\n",
    "expense.head()"
   ]
  },
  {
   "cell_type": "code",
   "execution_count": null,
   "id": "855cfa62",
   "metadata": {},
   "outputs": [],
   "source": [
    "expense['Category'].value_counts()"
   ]
  },
  {
   "cell_type": "code",
   "execution_count": null,
   "id": "1d987481",
   "metadata": {},
   "outputs": [],
   "source": [
    "expense.info()"
   ]
  },
  {
   "cell_type": "code",
   "execution_count": null,
   "metadata": {},
   "outputs": [],
   "source": [
    "expense['Date'] = pd.to_datetime(expense['Date'])"
   ]
  },
  {
   "cell_type": "code",
   "execution_count": null,
   "metadata": {},
   "outputs": [],
   "source": [
    "expense.head()"
   ]
  },
  {
   "cell_type": "code",
   "execution_count": null,
   "id": "0e437446",
   "metadata": {},
   "outputs": [],
   "source": [
    "expense['Date'].dt.month\n",
    "expense['month'] = expense['Date'].dt.month_name()\n"
   ]
  },
  {
   "cell_type": "code",
   "execution_count": null,
   "metadata": {},
   "outputs": [],
   "source": [
    "expense.pivot_table(index = ['month'],columns = ['Category'], values ='INR')\n",
    "expense.pivot_table(index = ['month'],columns = ['Category'], values ='INR', aggfunc='sum', fill_value = 0)"
   ]
  },
  {
   "cell_type": "code",
   "execution_count": null,
   "id": "5fc21a85",
   "metadata": {},
   "outputs": [],
   "source": [
    "expense.pivot_table(index = ['month'],columns = ['Category'], values ='INR', aggfunc='sum', fill_value = 0).plot()"
   ]
  },
  {
   "cell_type": "code",
   "execution_count": null,
   "metadata": {},
   "outputs": [],
   "source": [
    "# expense.pivot_table(index = ['month'],columns = ['Category'], values ='INR', aggfunc='sum', fill_value = 0).plot(kind='bar')\n",
    "# expense.pivot_table(index = ['month'],columns = ['Account'], values ='INR', aggfunc='sum', fill_value = 0).plot(kind='bar')\n",
    "expense.pivot_table(index = ['month'],columns = ['Account'], values ='INR', aggfunc='sum', fill_value = 0).plot()\n"
   ]
  },
  {
   "cell_type": "code",
   "execution_count": null,
   "metadata": {},
   "outputs": [],
   "source": [
    "expense.pivot_table(index = ['month'],columns = ['Category'], values ='INR', aggfunc='sum', fill_value = 0).plot(kind='hist')"
   ]
  },
  {
   "cell_type": "code",
   "execution_count": 10,
   "id": "50ac22de",
   "metadata": {},
   "outputs": [
    {
     "data": {
      "application/vnd.microsoft.datawrangler.viewer.v0+json": {
       "columns": [
        {
         "name": "index",
         "rawType": "int64",
         "type": "integer"
        },
        {
         "name": "Date",
         "rawType": "datetime64[ns]",
         "type": "datetime"
        },
        {
         "name": "Account",
         "rawType": "object",
         "type": "string"
        },
        {
         "name": "Category",
         "rawType": "object",
         "type": "string"
        },
        {
         "name": "Subcategory",
         "rawType": "float64",
         "type": "float"
        },
        {
         "name": "Note",
         "rawType": "object",
         "type": "string"
        },
        {
         "name": "INR",
         "rawType": "float64",
         "type": "float"
        },
        {
         "name": "Income/Expense",
         "rawType": "object",
         "type": "string"
        },
        {
         "name": "Note.1",
         "rawType": "float64",
         "type": "float"
        },
        {
         "name": "Amount",
         "rawType": "float64",
         "type": "float"
        },
        {
         "name": "Currency",
         "rawType": "object",
         "type": "string"
        },
        {
         "name": "Account.1",
         "rawType": "float64",
         "type": "float"
        },
        {
         "name": "day name",
         "rawType": "object",
         "type": "string"
        }
       ],
       "ref": "2ed355e8-2ac9-40ba-a017-a2be5c0dc55c",
       "rows": [
        [
         "0",
         "2022-03-02 10:11:00",
         "CUB - online payment",
         "Food",
         null,
         "Brownie",
         "50.0",
         "Expense",
         null,
         "50.0",
         "INR",
         "50.0",
         "Wednesday"
        ],
        [
         "1",
         "2022-03-02 10:11:00",
         "CUB - online payment",
         "Other",
         null,
         "To lended people",
         "300.0",
         "Expense",
         null,
         "300.0",
         "INR",
         "300.0",
         "Wednesday"
        ],
        [
         "2",
         "2022-03-01 19:50:00",
         "CUB - online payment",
         "Food",
         null,
         "Dinner",
         "78.0",
         "Expense",
         null,
         "78.0",
         "INR",
         "78.0",
         "Tuesday"
        ],
        [
         "3",
         "2022-03-01 18:56:00",
         "CUB - online payment",
         "Transportation",
         null,
         "Metro",
         "30.0",
         "Expense",
         null,
         "30.0",
         "INR",
         "30.0",
         "Tuesday"
        ],
        [
         "4",
         "2022-03-01 18:22:00",
         "CUB - online payment",
         "Food",
         null,
         "Snacks",
         "67.0",
         "Expense",
         null,
         "67.0",
         "INR",
         "67.0",
         "Tuesday"
        ]
       ],
       "shape": {
        "columns": 12,
        "rows": 5
       }
      },
      "text/html": [
       "<div>\n",
       "<style scoped>\n",
       "    .dataframe tbody tr th:only-of-type {\n",
       "        vertical-align: middle;\n",
       "    }\n",
       "\n",
       "    .dataframe tbody tr th {\n",
       "        vertical-align: top;\n",
       "    }\n",
       "\n",
       "    .dataframe thead th {\n",
       "        text-align: right;\n",
       "    }\n",
       "</style>\n",
       "<table border=\"1\" class=\"dataframe\">\n",
       "  <thead>\n",
       "    <tr style=\"text-align: right;\">\n",
       "      <th></th>\n",
       "      <th>Date</th>\n",
       "      <th>Account</th>\n",
       "      <th>Category</th>\n",
       "      <th>Subcategory</th>\n",
       "      <th>Note</th>\n",
       "      <th>INR</th>\n",
       "      <th>Income/Expense</th>\n",
       "      <th>Note.1</th>\n",
       "      <th>Amount</th>\n",
       "      <th>Currency</th>\n",
       "      <th>Account.1</th>\n",
       "      <th>day name</th>\n",
       "    </tr>\n",
       "  </thead>\n",
       "  <tbody>\n",
       "    <tr>\n",
       "      <th>0</th>\n",
       "      <td>2022-03-02 10:11:00</td>\n",
       "      <td>CUB - online payment</td>\n",
       "      <td>Food</td>\n",
       "      <td>NaN</td>\n",
       "      <td>Brownie</td>\n",
       "      <td>50.0</td>\n",
       "      <td>Expense</td>\n",
       "      <td>NaN</td>\n",
       "      <td>50.0</td>\n",
       "      <td>INR</td>\n",
       "      <td>50.0</td>\n",
       "      <td>Wednesday</td>\n",
       "    </tr>\n",
       "    <tr>\n",
       "      <th>1</th>\n",
       "      <td>2022-03-02 10:11:00</td>\n",
       "      <td>CUB - online payment</td>\n",
       "      <td>Other</td>\n",
       "      <td>NaN</td>\n",
       "      <td>To lended people</td>\n",
       "      <td>300.0</td>\n",
       "      <td>Expense</td>\n",
       "      <td>NaN</td>\n",
       "      <td>300.0</td>\n",
       "      <td>INR</td>\n",
       "      <td>300.0</td>\n",
       "      <td>Wednesday</td>\n",
       "    </tr>\n",
       "    <tr>\n",
       "      <th>2</th>\n",
       "      <td>2022-03-01 19:50:00</td>\n",
       "      <td>CUB - online payment</td>\n",
       "      <td>Food</td>\n",
       "      <td>NaN</td>\n",
       "      <td>Dinner</td>\n",
       "      <td>78.0</td>\n",
       "      <td>Expense</td>\n",
       "      <td>NaN</td>\n",
       "      <td>78.0</td>\n",
       "      <td>INR</td>\n",
       "      <td>78.0</td>\n",
       "      <td>Tuesday</td>\n",
       "    </tr>\n",
       "    <tr>\n",
       "      <th>3</th>\n",
       "      <td>2022-03-01 18:56:00</td>\n",
       "      <td>CUB - online payment</td>\n",
       "      <td>Transportation</td>\n",
       "      <td>NaN</td>\n",
       "      <td>Metro</td>\n",
       "      <td>30.0</td>\n",
       "      <td>Expense</td>\n",
       "      <td>NaN</td>\n",
       "      <td>30.0</td>\n",
       "      <td>INR</td>\n",
       "      <td>30.0</td>\n",
       "      <td>Tuesday</td>\n",
       "    </tr>\n",
       "    <tr>\n",
       "      <th>4</th>\n",
       "      <td>2022-03-01 18:22:00</td>\n",
       "      <td>CUB - online payment</td>\n",
       "      <td>Food</td>\n",
       "      <td>NaN</td>\n",
       "      <td>Snacks</td>\n",
       "      <td>67.0</td>\n",
       "      <td>Expense</td>\n",
       "      <td>NaN</td>\n",
       "      <td>67.0</td>\n",
       "      <td>INR</td>\n",
       "      <td>67.0</td>\n",
       "      <td>Tuesday</td>\n",
       "    </tr>\n",
       "  </tbody>\n",
       "</table>\n",
       "</div>"
      ],
      "text/plain": [
       "                 Date               Account        Category  Subcategory  \\\n",
       "0 2022-03-02 10:11:00  CUB - online payment            Food          NaN   \n",
       "1 2022-03-02 10:11:00  CUB - online payment           Other          NaN   \n",
       "2 2022-03-01 19:50:00  CUB - online payment            Food          NaN   \n",
       "3 2022-03-01 18:56:00  CUB - online payment  Transportation          NaN   \n",
       "4 2022-03-01 18:22:00  CUB - online payment            Food          NaN   \n",
       "\n",
       "               Note    INR Income/Expense  Note.1  Amount Currency  Account.1  \\\n",
       "0           Brownie   50.0        Expense     NaN    50.0      INR       50.0   \n",
       "1  To lended people  300.0        Expense     NaN   300.0      INR      300.0   \n",
       "2            Dinner   78.0        Expense     NaN    78.0      INR       78.0   \n",
       "3             Metro   30.0        Expense     NaN    30.0      INR       30.0   \n",
       "4            Snacks   67.0        Expense     NaN    67.0      INR       67.0   \n",
       "\n",
       "    day name  \n",
       "0  Wednesday  \n",
       "1  Wednesday  \n",
       "2    Tuesday  \n",
       "3    Tuesday  \n",
       "4    Tuesday  "
      ]
     },
     "execution_count": 10,
     "metadata": {},
     "output_type": "execute_result"
    }
   ],
   "source": [
    "expense.head()"
   ]
  },
  {
   "cell_type": "code",
   "execution_count": 14,
   "id": "82d4ff14",
   "metadata": {},
   "outputs": [],
   "source": [
    "expense['day name'] = expense['Date'].dt.day_name()\n",
    "expense['month name'] = expense['Date'].dt.month_name()"
   ]
  },
  {
   "cell_type": "code",
   "execution_count": 19,
   "id": "e32863de",
   "metadata": {},
   "outputs": [
    {
     "data": {
      "text/plain": [
       "(<Axes: xlabel='month name'>, <Axes: xlabel='month name'>)"
      ]
     },
     "execution_count": 19,
     "metadata": {},
     "output_type": "execute_result"
    },
    {
     "data": {
      "image/png": "[encoded data removed]",
      "text/plain": [
       "<Figure size 640x480 with 1 Axes>"
      ]
     },
     "metadata": {},
     "output_type": "display_data"
    }
   ],
   "source": [
    "expense.groupby('day name')['INR'].sum().plot(kind='bar'),\\\n",
    "expense.groupby('month name')['INR'].sum().plot(kind='bar')"
   ]
  },
  {
   "cell_type": "code",
   "execution_count": null,
   "metadata": {},
   "outputs": [],
   "source": [
    "plt.plot(expense['Date'],expense['INR'])"
   ]
  }
 ],
 "metadata": {
  "kernelspec": {
   "display_name": "base",
   "language": "python",
   "name": "python3"
  },
  "language_info": {
   "codemirror_mode": {
    "name": "ipython",
    "version": 3
   },
   "file_extension": ".py",
   "mimetype": "text/x-python",
   "name": "python",
   "nbconvert_exporter": "python",
   "pygments_lexer": "ipython3",
   "version": "3.12.3"
  }
 },
 "nbformat": 4,
 "nbformat_minor": 5
}
