{
 "cells": [
  {
   "cell_type": "code",
   "execution_count": null,
   "id": "ae3286b3",
   "metadata": {},
   "outputs": [],
   "source": [
    "import pandas as pd\n",
    "import matplotlib.pyplot as plt\n",
    "import numpy as np"
   ]
  },
  {
   "cell_type": "code",
   "execution_count": null,
   "id": "51bf052c",
   "metadata": {},
   "outputs": [],
   "source": [
    "index_val = [('cse',2019),('cse',2020),('cse',2021),('cse',2022),('ece',2019),('ece',2020),('ece',2021),('ece',2022)]\n",
    "index_val"
   ]
  },
  {
   "cell_type": "code",
   "execution_count": null,
   "metadata": {},
   "outputs": [],
   "source": [
    "a = pd.Series([1,2,3,4,5,6,7,8],index =index_val)\n",
    "a"
   ]
  },
  {
   "cell_type": "code",
   "execution_count": null,
   "id": "4bc42e72",
   "metadata": {},
   "outputs": [],
   "source": [
    "multiIndex = pd.MultiIndex.from_tuples(index_val)\n",
    "multiIndex"
   ]
  },
  {
   "cell_type": "code",
   "execution_count": null,
   "metadata": {},
   "outputs": [],
   "source": [
    "multiIndex.levels"
   ]
  },
  {
   "cell_type": "code",
   "execution_count": null,
   "metadata": {},
   "outputs": [],
   "source": [
    "pd.MultiIndex.from_product([['cse','ece'],[2019, 2020, 2021, 2022]])"
   ]
  },
  {
   "cell_type": "code",
   "execution_count": null,
   "metadata": {},
   "outputs": [],
   "source": [
    "s = pd.Series([1,2,3,4,5,6,7,8], index = multiIndex)\n",
    "# pd.Series([1,2,3,4,5,6,7,8], index = multiIndex).reset_index()\n",
    "\n",
    "s"
   ]
  },
  {
   "cell_type": "code",
   "execution_count": null,
   "metadata": {},
   "outputs": [],
   "source": [
    "s[('cse',2022)], s['cse']\n",
    "# s['2019']"
   ]
  },
  {
   "cell_type": "code",
   "execution_count": null,
   "metadata": {},
   "outputs": [],
   "source": [
    "t = s.unstack()\n",
    "t"
   ]
  },
  {
   "cell_type": "code",
   "execution_count": null,
   "metadata": {},
   "outputs": [],
   "source": [
    "t1 = t.stack()\n",
    "t1"
   ]
  },
  {
   "cell_type": "code",
   "execution_count": null,
   "id": "de119483",
   "metadata": {},
   "outputs": [],
   "source": [
    "branch_df1 = pd.DataFrame(\n",
    "    [\n",
    "        [1,2],\n",
    "        [3,4],\n",
    "        [5,6],\n",
    "        [7,8],\n",
    "        [9,10],\n",
    "        [11,12],\n",
    "        [13,14],\n",
    "        [15,16]\n",
    "    ], index = multiIndex,columns = [\"Average Package\", 'Students']\n",
    ")\n",
    "\n",
    "branch_df1"
   ]
  },
  {
   "cell_type": "code",
   "execution_count": null,
   "id": "07e1e1df",
   "metadata": {},
   "outputs": [],
   "source": [
    "branch_df1.loc['cse']"
   ]
  },
  {
   "cell_type": "code",
   "execution_count": null,
   "metadata": {},
   "outputs": [],
   "source": [
    "branch_df2 = pd.DataFrame(\n",
    "    [\n",
    "        [1,2,0,0],\n",
    "        [3,4,0,0],\n",
    "        [5,6,0,0],\n",
    "        [7,8,0,0]\n",
    "    ],index = [2019,2020,2021,2022],\n",
    "    columns = pd.MultiIndex.from_product([['Delhi', 'Mumbai'], [\"Average Package\", 'Students']])\n",
    ")\n",
    "\n",
    "branch_df2\n"
   ]
  },
  {
   "cell_type": "code",
   "execution_count": null,
   "metadata": {},
   "outputs": [],
   "source": [
    "branch_df2['Delhi']['Students']\n",
    "branch_df2['Delhi']\n",
    "branch_df2.loc[2019]"
   ]
  },
  {
   "cell_type": "code",
   "execution_count": null,
   "metadata": {},
   "outputs": [],
   "source": [
    "branch_df3 = pd.DataFrame(\n",
    "    [\n",
    "        [1,2,0,0],\n",
    "        [3,4,0,0],\n",
    "        [5,6,0,0],\n",
    "        [7,8,0,0],\n",
    "        [9,10,0,0],\n",
    "        [11,12,0,0],\n",
    "        [13,14,0,0],\n",
    "        [15,16,0,0]\n",
    "    ],index = multiIndex,\n",
    "    columns = pd.MultiIndex.from_product([['Delhi', 'Mumbai'], [\"Average Package\", 'Students']])\n",
    ")\n",
    "\n",
    "branch_df3"
   ]
  },
  {
   "cell_type": "code",
   "execution_count": null,
   "metadata": {},
   "outputs": [],
   "source": [
    "branch_df3['Delhi']"
   ]
  },
  {
   "cell_type": "code",
   "execution_count": null,
   "id": "32e0317c",
   "metadata": {},
   "outputs": [],
   "source": [
    "branch_df3.loc['cse'].loc[2019]['Delhi']['Average Package']"
   ]
  },
  {
   "cell_type": "code",
   "execution_count": null,
   "id": "a622c255",
   "metadata": {},
   "outputs": [],
   "source": [
    "branch_df1.unstack()\n",
    "branch_df1.unstack().unstack()\n",
    "# branch_df1.unstack().unstack().unstack()"
   ]
  },
  {
   "cell_type": "code",
   "execution_count": null,
   "id": "d7dc3d1b",
   "metadata": {},
   "outputs": [],
   "source": [
    "branch_df1.stack()\n",
    "branch_df1.unstack().stack()\n",
    "branch_df1.unstack().stack().stack()"
   ]
  },
  {
   "cell_type": "code",
   "execution_count": null,
   "id": "446e91bc",
   "metadata": {},
   "outputs": [],
   "source": [
    "branch_df2"
   ]
  },
  {
   "cell_type": "code",
   "execution_count": null,
   "metadata": {},
   "outputs": [],
   "source": [
    "branch_df2.unstack()"
   ]
  },
  {
   "cell_type": "code",
   "execution_count": null,
   "metadata": {},
   "outputs": [],
   "source": [
    "branch_df2.stack()\n",
    "branch_df2.stack().stack()\n"
   ]
  },
  {
   "cell_type": "code",
   "execution_count": null,
   "metadata": {},
   "outputs": [],
   "source": [
    "branch_df3"
   ]
  },
  {
   "cell_type": "code",
   "execution_count": null,
   "metadata": {},
   "outputs": [],
   "source": [
    "branch_df3.unstack().unstack()"
   ]
  },
  {
   "cell_type": "code",
   "execution_count": null,
   "metadata": {},
   "outputs": [],
   "source": [
    "branch_df3.stack()\n",
    "branch_df3.stack().stack()"
   ]
  },
  {
   "cell_type": "code",
   "execution_count": null,
   "metadata": {},
   "outputs": [],
   "source": [
    "branch_df3"
   ]
  },
  {
   "cell_type": "code",
   "execution_count": null,
   "id": "0008e38e",
   "metadata": {},
   "outputs": [],
   "source": [
    "branch_df3.head()\n",
    "branch_df3.shape\n",
    "branch_df3.info()\n",
    "branch_df3.stack().info()\n",
    "branch_df3.unstack().info()"
   ]
  },
  {
   "cell_type": "code",
   "execution_count": null,
   "metadata": {},
   "outputs": [],
   "source": [
    "branch_df3.duplicated()\n",
    "branch_df3.isnull()"
   ]
  },
  {
   "cell_type": "code",
   "execution_count": null,
   "metadata": {},
   "outputs": [],
   "source": [
    "branch_df3.loc[('cse',2019)] , branch_df3.loc['cse'].loc[2019]"
   ]
  },
  {
   "cell_type": "code",
   "execution_count": null,
   "metadata": {},
   "outputs": [],
   "source": [
    "branch_df3.loc[('cse',2019):('ece',2020)] \n",
    "branch_df3.loc[('cse',2020):('ece',2020):2] , branch_df3.iloc[1:6:2] "
   ]
  },
  {
   "cell_type": "code",
   "execution_count": null,
   "metadata": {},
   "outputs": [],
   "source": [
    "branch_df3.iloc[:,0:5:3] \n",
    "branch_df3.iloc[:,2:6:1] "
   ]
  },
  {
   "cell_type": "code",
   "execution_count": null,
   "id": "16b96ffc",
   "metadata": {},
   "outputs": [],
   "source": [
    "branch_df3.iloc[:,0:5:3] \n",
    "branch_df3.iloc[[0,4],[1,2]] "
   ]
  },
  {
   "cell_type": "code",
   "execution_count": null,
   "id": "dfa3c6f5",
   "metadata": {},
   "outputs": [],
   "source": [
    "branch_df3.sort_index(ascending =False)"
   ]
  },
  {
   "cell_type": "code",
   "execution_count": null,
   "metadata": {},
   "outputs": [],
   "source": [
    "branch_df3.sort_index(ascending =[True, False])"
   ]
  },
  {
   "cell_type": "code",
   "execution_count": null,
   "metadata": {},
   "outputs": [],
   "source": [
    "branch_df3.sort_index(level =1 ,ascending = False)"
   ]
  },
  {
   "cell_type": "code",
   "execution_count": null,
   "id": "2b2bdf98",
   "metadata": {},
   "outputs": [],
   "source": [
    "branch_df3.transpose()"
   ]
  },
  {
   "cell_type": "code",
   "execution_count": null,
   "id": "76cdafd7",
   "metadata": {},
   "outputs": [],
   "source": [
    "branch_df3.swaplevel()"
   ]
  },
  {
   "cell_type": "code",
   "execution_count": null,
   "id": "11ea917a",
   "metadata": {},
   "outputs": [],
   "source": [
    "branch_df3.swaplevel(axis = 1)"
   ]
  },
  {
   "cell_type": "code",
   "execution_count": null,
   "metadata": {},
   "outputs": [],
   "source": [
    "pd.DataFrame({'CSE':[120]})"
   ]
  },
  {
   "cell_type": "code",
   "execution_count": null,
   "metadata": {},
   "outputs": [],
   "source": [
    "wide_df = pd.DataFrame({'CSE':[120]})\n",
    "long_df = wide_df.melt(var_name = 'Branch', value_name = 'Strenght')\n",
    "# long_df = pd.melt(wide_df)\n",
    "\n",
    "long_df"
   ]
  },
  {
   "cell_type": "code",
   "execution_count": null,
   "id": "62cc6777",
   "metadata": {},
   "outputs": [],
   "source": [
    "wide_df = pd.DataFrame(\n",
    "    {\n",
    "        'branch':['cse','ece','ce','ee'],\n",
    "        '2020':[120,90,50,34],\n",
    "        '2021':[130,85,52,40],\n",
    "        '2022':[126,79,45,30],\n",
    "        '2023':[118,97,49,28]\n",
    "    }\n",
    ")\n",
    "\n",
    "wide_df"
   ]
  },
  {
   "cell_type": "code",
   "execution_count": null,
   "id": "9f048b55",
   "metadata": {},
   "outputs": [],
   "source": [
    "long_df = wide_df.melt(id_vars=['branch'],var_name='year',value_name='Strenght')\n",
    "long_df"
   ]
  }
 ],
 "metadata": {
  "kernelspec": {
   "display_name": "base",
   "language": "python",
   "name": "python3"
  },
  "language_info": {
   "codemirror_mode": {
    "name": "ipython",
    "version": 3
   },
   "file_extension": ".py",
   "mimetype": "text/x-python",
   "name": "python",
   "nbconvert_exporter": "python",
   "pygments_lexer": "ipython3",
   "version": "3.12.3"
  }
 },
 "nbformat": 4,
 "nbformat_minor": 5
}
