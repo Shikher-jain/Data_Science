{
 "cells": [
  {
   "cell_type": "code",
   "execution_count": null,
   "id": "ae3286b3",
   "metadata": {},
   "outputs": [],
   "source": [
    "import pandas as pd\n",
    "import matplotlib.pyplot as plt\n",
    "import numpy as np"
   ]
  },
  {
   "cell_type": "code",
   "execution_count": null,
   "id": "51bf052c",
   "metadata": {},
   "outputs": [],
   "source": [
    "index_val = [('cse',2019),('cse',2020),('cse',2021),('cse',2022),('ece',2019),('ece',2020),('ece',2021),('ece',2022)]\n",
    "index_val"
   ]
  },
  {
   "cell_type": "code",
   "execution_count": null,
   "metadata": {},
   "outputs": [],
   "source": [
    "a = pd.Series([1,2,3,4,5,6,7,8],index =index_val)\n",
    "a"
   ]
  },
  {
   "cell_type": "code",
   "execution_count": null,
   "id": "4bc42e72",
   "metadata": {},
   "outputs": [],
   "source": [
    "multiIndex = pd.MultiIndex.from_tuples(index_val)\n",
    "multiIndex"
   ]
  },
  {
   "cell_type": "code",
   "execution_count": null,
   "metadata": {},
   "outputs": [],
   "source": [
    "multiIndex.levels"
   ]
  },
  {
   "cell_type": "code",
   "execution_count": null,
   "metadata": {},
   "outputs": [],
   "source": [
    "pd.MultiIndex.from_product([['cse','ece'],[2019, 2020, 2021, 2022]])"
   ]
  },
  {
   "cell_type": "code",
   "execution_count": null,
   "metadata": {},
   "outputs": [],
   "source": [
    "s = pd.Series([1,2,3,4,5,6,7,8], index = multiIndex)\n",
    "# pd.Series([1,2,3,4,5,6,7,8], index = multiIndex).reset_index()\n",
    "\n",
    "s"
   ]
  },
  {
   "cell_type": "code",
   "execution_count": null,
   "metadata": {},
   "outputs": [],
   "source": [
    "s[('cse',2022)], s['cse']\n",
    "# s['2019']"
   ]
  },
  {
   "cell_type": "code",
   "execution_count": null,
   "metadata": {},
   "outputs": [],
   "source": [
    "t = s.unstack()\n",
    "t"
   ]
  },
  {
   "cell_type": "code",
   "execution_count": null,
   "metadata": {},
   "outputs": [],
   "source": [
    "t1 = t.stack()\n",
    "t1"
   ]
  },
  {
   "cell_type": "code",
   "execution_count": null,
   "id": "de119483",
   "metadata": {},
   "outputs": [],
   "source": [
    "branch_df1 = pd.DataFrame(\n",
    "    [\n",
    "        [1,2],\n",
    "        [3,4],\n",
    "        [5,6],\n",
    "        [7,8],\n",
    "        [9,10],\n",
    "        [11,12],\n",
    "        [13,14],\n",
    "        [15,16]\n",
    "    ], index = multiIndex,columns = [\"Average Package\", 'Students']\n",
    ")\n",
    "\n",
    "branch_df1"
   ]
  },
  {
   "cell_type": "code",
   "execution_count": null,
   "id": "07e1e1df",
   "metadata": {},
   "outputs": [],
   "source": [
    "branch_df1.loc['cse']"
   ]
  },
  {
   "cell_type": "code",
   "execution_count": null,
   "metadata": {},
   "outputs": [],
   "source": [
    "branch_df2 = pd.DataFrame(\n",
    "    [\n",
    "        [1,2,0,0],\n",
    "        [3,4,0,0],\n",
    "        [5,6,0,0],\n",
    "        [7,8,0,0]\n",
    "    ],index = [2019,2020,2021,2022],\n",
    "    columns = pd.MultiIndex.from_product([['Delhi', 'Mumbai'], [\"Average Package\", 'Students']])\n",
    ")\n",
    "\n",
    "branch_df2\n"
   ]
  },
  {
   "cell_type": "code",
   "execution_count": null,
   "metadata": {},
   "outputs": [],
   "source": [
    "branch_df2['Delhi']['Students']\n",
    "branch_df2['Delhi']\n",
    "branch_df2.loc[2019]"
   ]
  },
  {
   "cell_type": "code",
   "execution_count": null,
   "metadata": {},
   "outputs": [],
   "source": [
    "branch_df3 = pd.DataFrame(\n",
    "    [\n",
    "        [1,2,0,0],\n",
    "        [3,4,0,0],\n",
    "        [5,6,0,0],\n",
    "        [7,8,0,0],\n",
    "        [9,10,0,0],\n",
    "        [11,12,0,0],\n",
    "        [13,14,0,0],\n",
    "        [15,16,0,0]\n",
    "    ],index = multiIndex,\n",
    "    columns = pd.MultiIndex.from_product([['Delhi', 'Mumbai'], [\"Average Package\", 'Students']])\n",
    ")\n",
    "\n",
    "branch_df3"
   ]
  },
  {
   "cell_type": "code",
   "execution_count": null,
   "metadata": {},
   "outputs": [],
   "source": [
    "branch_df3['Delhi']"
   ]
  },
  {
   "cell_type": "code",
   "execution_count": null,
   "id": "32e0317c",
   "metadata": {},
   "outputs": [],
   "source": [
    "branch_df3.loc['cse'].loc[2019]['Delhi']['Average Package']"
   ]
  },
  {
   "cell_type": "code",
   "execution_count": null,
   "id": "a622c255",
   "metadata": {},
   "outputs": [],
   "source": [
    "branch_df1.unstack()\n",
    "branch_df1.unstack().unstack()\n",
    "# branch_df1.unstack().unstack().unstack()"
   ]
  },
  {
   "cell_type": "code",
   "execution_count": null,
   "id": "d7dc3d1b",
   "metadata": {},
   "outputs": [],
   "source": [
    "branch_df1.stack()\n",
    "branch_df1.unstack().stack()\n",
    "branch_df1.unstack().stack().stack()"
   ]
  },
  {
   "cell_type": "code",
   "execution_count": null,
   "id": "446e91bc",
   "metadata": {},
   "outputs": [],
   "source": [
    "branch_df2"
   ]
  },
  {
   "cell_type": "code",
   "execution_count": null,
   "metadata": {},
   "outputs": [],
   "source": [
    "branch_df2.unstack()"
   ]
  },
  {
   "cell_type": "code",
   "execution_count": null,
   "metadata": {},
   "outputs": [],
   "source": [
    "branch_df2.stack()\n",
    "branch_df2.stack().stack()\n"
   ]
  },
  {
   "cell_type": "code",
   "execution_count": null,
   "metadata": {},
   "outputs": [],
   "source": [
    "branch_df3"
   ]
  },
  {
   "cell_type": "code",
   "execution_count": null,
   "metadata": {},
   "outputs": [],
   "source": [
    "branch_df3.unstack().unstack()"
   ]
  },
  {
   "cell_type": "code",
   "execution_count": null,
   "metadata": {},
   "outputs": [],
   "source": [
    "branch_df3.stack()\n",
    "branch_df3.stack().stack()"
   ]
  },
  {
   "cell_type": "code",
   "execution_count": null,
   "metadata": {},
   "outputs": [],
   "source": [
    "branch_df3"
   ]
  },
  {
   "cell_type": "code",
   "execution_count": null,
   "id": "0008e38e",
   "metadata": {},
   "outputs": [],
   "source": [
    "branch_df3.head()\n",
    "branch_df3.shape\n",
    "branch_df3.info()\n",
    "branch_df3.stack().info()\n",
    "branch_df3.unstack().info()"
   ]
  },
  {
   "cell_type": "code",
   "execution_count": null,
   "metadata": {},
   "outputs": [],
   "source": [
    "branch_df3.duplicated()\n",
    "branch_df3.isnull()"
   ]
  },
  {
   "cell_type": "code",
   "execution_count": null,
   "metadata": {},
   "outputs": [],
   "source": [
    "branch_df3.loc[('cse',2019)] , branch_df3.loc['cse'].loc[2019]"
   ]
  },
  {
   "cell_type": "code",
   "execution_count": null,
   "metadata": {},
   "outputs": [],
   "source": [
    "branch_df3.loc[('cse',2019):('ece',2020)] \n",
    "branch_df3.loc[('cse',2020):('ece',2020):2] , branch_df3.iloc[1:6:2] "
   ]
  },
  {
   "cell_type": "code",
   "execution_count": null,
   "metadata": {},
   "outputs": [],
   "source": [
    "branch_df3.iloc[:,0:5:3] \n",
    "branch_df3.iloc[:,2:6:1] "
   ]
  },
  {
   "cell_type": "code",
   "execution_count": null,
   "id": "16b96ffc",
   "metadata": {},
   "outputs": [],
   "source": [
    "branch_df3.iloc[:,0:5:3] \n",
    "branch_df3.iloc[[0,4],[1,2]] "
   ]
  },
  {
   "cell_type": "code",
   "execution_count": 72,
   "id": "dfa3c6f5",
   "metadata": {},
   "outputs": [
    {
     "data": {
      "application/vnd.microsoft.datawrangler.viewer.v0+json": {
       "columns": [
        {
         "name": "(None, None)",
         "rawType": "object",
         "type": "unknown"
        },
        {
         "name": "('Delhi', 'Average Package')",
         "rawType": "int64",
         "type": "integer"
        },
        {
         "name": "('Delhi', 'Students')",
         "rawType": "int64",
         "type": "integer"
        },
        {
         "name": "('Mumbai', 'Average Package')",
         "rawType": "int64",
         "type": "integer"
        },
        {
         "name": "('Mumbai', 'Students')",
         "rawType": "int64",
         "type": "integer"
        }
       ],
       "ref": "3e3ea0dc-63da-471b-851a-0b0c370728b4",
       "rows": [
        [
         "('ece', 2022)",
         "15",
         "16",
         "0",
         "0"
        ],
        [
         "('ece', 2021)",
         "13",
         "14",
         "0",
         "0"
        ],
        [
         "('ece', 2020)",
         "11",
         "12",
         "0",
         "0"
        ],
        [
         "('ece', 2019)",
         "9",
         "10",
         "0",
         "0"
        ],
        [
         "('cse', 2022)",
         "7",
         "8",
         "0",
         "0"
        ],
        [
         "('cse', 2021)",
         "5",
         "6",
         "0",
         "0"
        ],
        [
         "('cse', 2020)",
         "3",
         "4",
         "0",
         "0"
        ],
        [
         "('cse', 2019)",
         "1",
         "2",
         "0",
         "0"
        ]
       ],
       "shape": {
        "columns": 4,
        "rows": 8
       }
      },
      "text/html": [
       "<div>\n",
       "<style scoped>\n",
       "    .dataframe tbody tr th:only-of-type {\n",
       "        vertical-align: middle;\n",
       "    }\n",
       "\n",
       "    .dataframe tbody tr th {\n",
       "        vertical-align: top;\n",
       "    }\n",
       "\n",
       "    .dataframe thead tr th {\n",
       "        text-align: left;\n",
       "    }\n",
       "</style>\n",
       "<table border=\"1\" class=\"dataframe\">\n",
       "  <thead>\n",
       "    <tr>\n",
       "      <th></th>\n",
       "      <th></th>\n",
       "      <th colspan=\"2\" halign=\"left\">Delhi</th>\n",
       "      <th colspan=\"2\" halign=\"left\">Mumbai</th>\n",
       "    </tr>\n",
       "    <tr>\n",
       "      <th></th>\n",
       "      <th></th>\n",
       "      <th>Average Package</th>\n",
       "      <th>Students</th>\n",
       "      <th>Average Package</th>\n",
       "      <th>Students</th>\n",
       "    </tr>\n",
       "  </thead>\n",
       "  <tbody>\n",
       "    <tr>\n",
       "      <th rowspan=\"4\" valign=\"top\">ece</th>\n",
       "      <th>2022</th>\n",
       "      <td>15</td>\n",
       "      <td>16</td>\n",
       "      <td>0</td>\n",
       "      <td>0</td>\n",
       "    </tr>\n",
       "    <tr>\n",
       "      <th>2021</th>\n",
       "      <td>13</td>\n",
       "      <td>14</td>\n",
       "      <td>0</td>\n",
       "      <td>0</td>\n",
       "    </tr>\n",
       "    <tr>\n",
       "      <th>2020</th>\n",
       "      <td>11</td>\n",
       "      <td>12</td>\n",
       "      <td>0</td>\n",
       "      <td>0</td>\n",
       "    </tr>\n",
       "    <tr>\n",
       "      <th>2019</th>\n",
       "      <td>9</td>\n",
       "      <td>10</td>\n",
       "      <td>0</td>\n",
       "      <td>0</td>\n",
       "    </tr>\n",
       "    <tr>\n",
       "      <th rowspan=\"4\" valign=\"top\">cse</th>\n",
       "      <th>2022</th>\n",
       "      <td>7</td>\n",
       "      <td>8</td>\n",
       "      <td>0</td>\n",
       "      <td>0</td>\n",
       "    </tr>\n",
       "    <tr>\n",
       "      <th>2021</th>\n",
       "      <td>5</td>\n",
       "      <td>6</td>\n",
       "      <td>0</td>\n",
       "      <td>0</td>\n",
       "    </tr>\n",
       "    <tr>\n",
       "      <th>2020</th>\n",
       "      <td>3</td>\n",
       "      <td>4</td>\n",
       "      <td>0</td>\n",
       "      <td>0</td>\n",
       "    </tr>\n",
       "    <tr>\n",
       "      <th>2019</th>\n",
       "      <td>1</td>\n",
       "      <td>2</td>\n",
       "      <td>0</td>\n",
       "      <td>0</td>\n",
       "    </tr>\n",
       "  </tbody>\n",
       "</table>\n",
       "</div>"
      ],
      "text/plain": [
       "                   Delhi                   Mumbai         \n",
       "         Average Package Students Average Package Students\n",
       "ece 2022              15       16               0        0\n",
       "    2021              13       14               0        0\n",
       "    2020              11       12               0        0\n",
       "    2019               9       10               0        0\n",
       "cse 2022               7        8               0        0\n",
       "    2021               5        6               0        0\n",
       "    2020               3        4               0        0\n",
       "    2019               1        2               0        0"
      ]
     },
     "execution_count": 72,
     "metadata": {},
     "output_type": "execute_result"
    }
   ],
   "source": [
    "branch_df3.sort_index(ascending =False)"
   ]
  },
  {
   "cell_type": "code",
   "execution_count": 73,
   "metadata": {},
   "outputs": [
    {
     "data": {
      "application/vnd.microsoft.datawrangler.viewer.v0+json": {
       "columns": [
        {
         "name": "(None, None)",
         "rawType": "object",
         "type": "unknown"
        },
        {
         "name": "('Delhi', 'Average Package')",
         "rawType": "int64",
         "type": "integer"
        },
        {
         "name": "('Delhi', 'Students')",
         "rawType": "int64",
         "type": "integer"
        },
        {
         "name": "('Mumbai', 'Average Package')",
         "rawType": "int64",
         "type": "integer"
        },
        {
         "name": "('Mumbai', 'Students')",
         "rawType": "int64",
         "type": "integer"
        }
       ],
       "ref": "2d7d5e00-8a92-44fe-9904-2502707a0c1b",
       "rows": [
        [
         "('cse', 2022)",
         "7",
         "8",
         "0",
         "0"
        ],
        [
         "('cse', 2021)",
         "5",
         "6",
         "0",
         "0"
        ],
        [
         "('cse', 2020)",
         "3",
         "4",
         "0",
         "0"
        ],
        [
         "('cse', 2019)",
         "1",
         "2",
         "0",
         "0"
        ],
        [
         "('ece', 2022)",
         "15",
         "16",
         "0",
         "0"
        ],
        [
         "('ece', 2021)",
         "13",
         "14",
         "0",
         "0"
        ],
        [
         "('ece', 2020)",
         "11",
         "12",
         "0",
         "0"
        ],
        [
         "('ece', 2019)",
         "9",
         "10",
         "0",
         "0"
        ]
       ],
       "shape": {
        "columns": 4,
        "rows": 8
       }
      },
      "text/html": [
       "<div>\n",
       "<style scoped>\n",
       "    .dataframe tbody tr th:only-of-type {\n",
       "        vertical-align: middle;\n",
       "    }\n",
       "\n",
       "    .dataframe tbody tr th {\n",
       "        vertical-align: top;\n",
       "    }\n",
       "\n",
       "    .dataframe thead tr th {\n",
       "        text-align: left;\n",
       "    }\n",
       "</style>\n",
       "<table border=\"1\" class=\"dataframe\">\n",
       "  <thead>\n",
       "    <tr>\n",
       "      <th></th>\n",
       "      <th></th>\n",
       "      <th colspan=\"2\" halign=\"left\">Delhi</th>\n",
       "      <th colspan=\"2\" halign=\"left\">Mumbai</th>\n",
       "    </tr>\n",
       "    <tr>\n",
       "      <th></th>\n",
       "      <th></th>\n",
       "      <th>Average Package</th>\n",
       "      <th>Students</th>\n",
       "      <th>Average Package</th>\n",
       "      <th>Students</th>\n",
       "    </tr>\n",
       "  </thead>\n",
       "  <tbody>\n",
       "    <tr>\n",
       "      <th rowspan=\"4\" valign=\"top\">cse</th>\n",
       "      <th>2022</th>\n",
       "      <td>7</td>\n",
       "      <td>8</td>\n",
       "      <td>0</td>\n",
       "      <td>0</td>\n",
       "    </tr>\n",
       "    <tr>\n",
       "      <th>2021</th>\n",
       "      <td>5</td>\n",
       "      <td>6</td>\n",
       "      <td>0</td>\n",
       "      <td>0</td>\n",
       "    </tr>\n",
       "    <tr>\n",
       "      <th>2020</th>\n",
       "      <td>3</td>\n",
       "      <td>4</td>\n",
       "      <td>0</td>\n",
       "      <td>0</td>\n",
       "    </tr>\n",
       "    <tr>\n",
       "      <th>2019</th>\n",
       "      <td>1</td>\n",
       "      <td>2</td>\n",
       "      <td>0</td>\n",
       "      <td>0</td>\n",
       "    </tr>\n",
       "    <tr>\n",
       "      <th rowspan=\"4\" valign=\"top\">ece</th>\n",
       "      <th>2022</th>\n",
       "      <td>15</td>\n",
       "      <td>16</td>\n",
       "      <td>0</td>\n",
       "      <td>0</td>\n",
       "    </tr>\n",
       "    <tr>\n",
       "      <th>2021</th>\n",
       "      <td>13</td>\n",
       "      <td>14</td>\n",
       "      <td>0</td>\n",
       "      <td>0</td>\n",
       "    </tr>\n",
       "    <tr>\n",
       "      <th>2020</th>\n",
       "      <td>11</td>\n",
       "      <td>12</td>\n",
       "      <td>0</td>\n",
       "      <td>0</td>\n",
       "    </tr>\n",
       "    <tr>\n",
       "      <th>2019</th>\n",
       "      <td>9</td>\n",
       "      <td>10</td>\n",
       "      <td>0</td>\n",
       "      <td>0</td>\n",
       "    </tr>\n",
       "  </tbody>\n",
       "</table>\n",
       "</div>"
      ],
      "text/plain": [
       "                   Delhi                   Mumbai         \n",
       "         Average Package Students Average Package Students\n",
       "cse 2022               7        8               0        0\n",
       "    2021               5        6               0        0\n",
       "    2020               3        4               0        0\n",
       "    2019               1        2               0        0\n",
       "ece 2022              15       16               0        0\n",
       "    2021              13       14               0        0\n",
       "    2020              11       12               0        0\n",
       "    2019               9       10               0        0"
      ]
     },
     "execution_count": 73,
     "metadata": {},
     "output_type": "execute_result"
    }
   ],
   "source": [
    "branch_df3.sort_index(ascending =[True, False])"
   ]
  },
  {
   "cell_type": "code",
   "execution_count": 74,
   "metadata": {},
   "outputs": [
    {
     "data": {
      "application/vnd.microsoft.datawrangler.viewer.v0+json": {
       "columns": [
        {
         "name": "(None, None)",
         "rawType": "object",
         "type": "unknown"
        },
        {
         "name": "('Delhi', 'Average Package')",
         "rawType": "int64",
         "type": "integer"
        },
        {
         "name": "('Delhi', 'Students')",
         "rawType": "int64",
         "type": "integer"
        },
        {
         "name": "('Mumbai', 'Average Package')",
         "rawType": "int64",
         "type": "integer"
        },
        {
         "name": "('Mumbai', 'Students')",
         "rawType": "int64",
         "type": "integer"
        }
       ],
       "ref": "df630cf0-bfd2-4e74-8659-b20b21460fef",
       "rows": [
        [
         "('ece', 2022)",
         "15",
         "16",
         "0",
         "0"
        ],
        [
         "('cse', 2022)",
         "7",
         "8",
         "0",
         "0"
        ],
        [
         "('ece', 2021)",
         "13",
         "14",
         "0",
         "0"
        ],
        [
         "('cse', 2021)",
         "5",
         "6",
         "0",
         "0"
        ],
        [
         "('ece', 2020)",
         "11",
         "12",
         "0",
         "0"
        ],
        [
         "('cse', 2020)",
         "3",
         "4",
         "0",
         "0"
        ],
        [
         "('ece', 2019)",
         "9",
         "10",
         "0",
         "0"
        ],
        [
         "('cse', 2019)",
         "1",
         "2",
         "0",
         "0"
        ]
       ],
       "shape": {
        "columns": 4,
        "rows": 8
       }
      },
      "text/html": [
       "<div>\n",
       "<style scoped>\n",
       "    .dataframe tbody tr th:only-of-type {\n",
       "        vertical-align: middle;\n",
       "    }\n",
       "\n",
       "    .dataframe tbody tr th {\n",
       "        vertical-align: top;\n",
       "    }\n",
       "\n",
       "    .dataframe thead tr th {\n",
       "        text-align: left;\n",
       "    }\n",
       "</style>\n",
       "<table border=\"1\" class=\"dataframe\">\n",
       "  <thead>\n",
       "    <tr>\n",
       "      <th></th>\n",
       "      <th></th>\n",
       "      <th colspan=\"2\" halign=\"left\">Delhi</th>\n",
       "      <th colspan=\"2\" halign=\"left\">Mumbai</th>\n",
       "    </tr>\n",
       "    <tr>\n",
       "      <th></th>\n",
       "      <th></th>\n",
       "      <th>Average Package</th>\n",
       "      <th>Students</th>\n",
       "      <th>Average Package</th>\n",
       "      <th>Students</th>\n",
       "    </tr>\n",
       "  </thead>\n",
       "  <tbody>\n",
       "    <tr>\n",
       "      <th>ece</th>\n",
       "      <th>2022</th>\n",
       "      <td>15</td>\n",
       "      <td>16</td>\n",
       "      <td>0</td>\n",
       "      <td>0</td>\n",
       "    </tr>\n",
       "    <tr>\n",
       "      <th>cse</th>\n",
       "      <th>2022</th>\n",
       "      <td>7</td>\n",
       "      <td>8</td>\n",
       "      <td>0</td>\n",
       "      <td>0</td>\n",
       "    </tr>\n",
       "    <tr>\n",
       "      <th>ece</th>\n",
       "      <th>2021</th>\n",
       "      <td>13</td>\n",
       "      <td>14</td>\n",
       "      <td>0</td>\n",
       "      <td>0</td>\n",
       "    </tr>\n",
       "    <tr>\n",
       "      <th>cse</th>\n",
       "      <th>2021</th>\n",
       "      <td>5</td>\n",
       "      <td>6</td>\n",
       "      <td>0</td>\n",
       "      <td>0</td>\n",
       "    </tr>\n",
       "    <tr>\n",
       "      <th>ece</th>\n",
       "      <th>2020</th>\n",
       "      <td>11</td>\n",
       "      <td>12</td>\n",
       "      <td>0</td>\n",
       "      <td>0</td>\n",
       "    </tr>\n",
       "    <tr>\n",
       "      <th>cse</th>\n",
       "      <th>2020</th>\n",
       "      <td>3</td>\n",
       "      <td>4</td>\n",
       "      <td>0</td>\n",
       "      <td>0</td>\n",
       "    </tr>\n",
       "    <tr>\n",
       "      <th>ece</th>\n",
       "      <th>2019</th>\n",
       "      <td>9</td>\n",
       "      <td>10</td>\n",
       "      <td>0</td>\n",
       "      <td>0</td>\n",
       "    </tr>\n",
       "    <tr>\n",
       "      <th>cse</th>\n",
       "      <th>2019</th>\n",
       "      <td>1</td>\n",
       "      <td>2</td>\n",
       "      <td>0</td>\n",
       "      <td>0</td>\n",
       "    </tr>\n",
       "  </tbody>\n",
       "</table>\n",
       "</div>"
      ],
      "text/plain": [
       "                   Delhi                   Mumbai         \n",
       "         Average Package Students Average Package Students\n",
       "ece 2022              15       16               0        0\n",
       "cse 2022               7        8               0        0\n",
       "ece 2021              13       14               0        0\n",
       "cse 2021               5        6               0        0\n",
       "ece 2020              11       12               0        0\n",
       "cse 2020               3        4               0        0\n",
       "ece 2019               9       10               0        0\n",
       "cse 2019               1        2               0        0"
      ]
     },
     "execution_count": 74,
     "metadata": {},
     "output_type": "execute_result"
    }
   ],
   "source": [
    "branch_df3.sort_index(level =1 ,ascending = False)"
   ]
  },
  {
   "cell_type": "code",
   "execution_count": 76,
   "id": "2b2bdf98",
   "metadata": {},
   "outputs": [
    {
     "data": {
      "application/vnd.microsoft.datawrangler.viewer.v0+json": {
       "columns": [
        {
         "name": "(None, None)",
         "rawType": "object",
         "type": "unknown"
        },
        {
         "name": "('cse', 2019)",
         "rawType": "int64",
         "type": "integer"
        },
        {
         "name": "('cse', 2020)",
         "rawType": "int64",
         "type": "integer"
        },
        {
         "name": "('cse', 2021)",
         "rawType": "int64",
         "type": "integer"
        },
        {
         "name": "('cse', 2022)",
         "rawType": "int64",
         "type": "integer"
        },
        {
         "name": "('ece', 2019)",
         "rawType": "int64",
         "type": "integer"
        },
        {
         "name": "('ece', 2020)",
         "rawType": "int64",
         "type": "integer"
        },
        {
         "name": "('ece', 2021)",
         "rawType": "int64",
         "type": "integer"
        },
        {
         "name": "('ece', 2022)",
         "rawType": "int64",
         "type": "integer"
        }
       ],
       "ref": "191885f8-a0a3-48ab-9f45-0a01aef5ab35",
       "rows": [
        [
         "('Delhi', 'Average Package')",
         "1",
         "3",
         "5",
         "7",
         "9",
         "11",
         "13",
         "15"
        ],
        [
         "('Delhi', 'Students')",
         "2",
         "4",
         "6",
         "8",
         "10",
         "12",
         "14",
         "16"
        ],
        [
         "('Mumbai', 'Average Package')",
         "0",
         "0",
         "0",
         "0",
         "0",
         "0",
         "0",
         "0"
        ],
        [
         "('Mumbai', 'Students')",
         "0",
         "0",
         "0",
         "0",
         "0",
         "0",
         "0",
         "0"
        ]
       ],
       "shape": {
        "columns": 8,
        "rows": 4
       }
      },
      "text/html": [
       "<div>\n",
       "<style scoped>\n",
       "    .dataframe tbody tr th:only-of-type {\n",
       "        vertical-align: middle;\n",
       "    }\n",
       "\n",
       "    .dataframe tbody tr th {\n",
       "        vertical-align: top;\n",
       "    }\n",
       "\n",
       "    .dataframe thead tr th {\n",
       "        text-align: left;\n",
       "    }\n",
       "</style>\n",
       "<table border=\"1\" class=\"dataframe\">\n",
       "  <thead>\n",
       "    <tr>\n",
       "      <th></th>\n",
       "      <th></th>\n",
       "      <th colspan=\"4\" halign=\"left\">cse</th>\n",
       "      <th colspan=\"4\" halign=\"left\">ece</th>\n",
       "    </tr>\n",
       "    <tr>\n",
       "      <th></th>\n",
       "      <th></th>\n",
       "      <th>2019</th>\n",
       "      <th>2020</th>\n",
       "      <th>2021</th>\n",
       "      <th>2022</th>\n",
       "      <th>2019</th>\n",
       "      <th>2020</th>\n",
       "      <th>2021</th>\n",
       "      <th>2022</th>\n",
       "    </tr>\n",
       "  </thead>\n",
       "  <tbody>\n",
       "    <tr>\n",
       "      <th rowspan=\"2\" valign=\"top\">Delhi</th>\n",
       "      <th>Average Package</th>\n",
       "      <td>1</td>\n",
       "      <td>3</td>\n",
       "      <td>5</td>\n",
       "      <td>7</td>\n",
       "      <td>9</td>\n",
       "      <td>11</td>\n",
       "      <td>13</td>\n",
       "      <td>15</td>\n",
       "    </tr>\n",
       "    <tr>\n",
       "      <th>Students</th>\n",
       "      <td>2</td>\n",
       "      <td>4</td>\n",
       "      <td>6</td>\n",
       "      <td>8</td>\n",
       "      <td>10</td>\n",
       "      <td>12</td>\n",
       "      <td>14</td>\n",
       "      <td>16</td>\n",
       "    </tr>\n",
       "    <tr>\n",
       "      <th rowspan=\"2\" valign=\"top\">Mumbai</th>\n",
       "      <th>Average Package</th>\n",
       "      <td>0</td>\n",
       "      <td>0</td>\n",
       "      <td>0</td>\n",
       "      <td>0</td>\n",
       "      <td>0</td>\n",
       "      <td>0</td>\n",
       "      <td>0</td>\n",
       "      <td>0</td>\n",
       "    </tr>\n",
       "    <tr>\n",
       "      <th>Students</th>\n",
       "      <td>0</td>\n",
       "      <td>0</td>\n",
       "      <td>0</td>\n",
       "      <td>0</td>\n",
       "      <td>0</td>\n",
       "      <td>0</td>\n",
       "      <td>0</td>\n",
       "      <td>0</td>\n",
       "    </tr>\n",
       "  </tbody>\n",
       "</table>\n",
       "</div>"
      ],
      "text/plain": [
       "                        cse                 ece               \n",
       "                       2019 2020 2021 2022 2019 2020 2021 2022\n",
       "Delhi  Average Package    1    3    5    7    9   11   13   15\n",
       "       Students           2    4    6    8   10   12   14   16\n",
       "Mumbai Average Package    0    0    0    0    0    0    0    0\n",
       "       Students           0    0    0    0    0    0    0    0"
      ]
     },
     "execution_count": 76,
     "metadata": {},
     "output_type": "execute_result"
    }
   ],
   "source": [
    "branch_df3.transpose()"
   ]
  },
  {
   "cell_type": "code",
   "execution_count": 77,
   "id": "76cdafd7",
   "metadata": {},
   "outputs": [
    {
     "data": {
      "application/vnd.microsoft.datawrangler.viewer.v0+json": {
       "columns": [
        {
         "name": "(None, None)",
         "rawType": "object",
         "type": "unknown"
        },
        {
         "name": "('Delhi', 'Average Package')",
         "rawType": "int64",
         "type": "integer"
        },
        {
         "name": "('Delhi', 'Students')",
         "rawType": "int64",
         "type": "integer"
        },
        {
         "name": "('Mumbai', 'Average Package')",
         "rawType": "int64",
         "type": "integer"
        },
        {
         "name": "('Mumbai', 'Students')",
         "rawType": "int64",
         "type": "integer"
        }
       ],
       "ref": "79bf27c5-bdf3-450d-835f-8a0769851af5",
       "rows": [
        [
         "(2019, 'cse')",
         "1",
         "2",
         "0",
         "0"
        ],
        [
         "(2020, 'cse')",
         "3",
         "4",
         "0",
         "0"
        ],
        [
         "(2021, 'cse')",
         "5",
         "6",
         "0",
         "0"
        ],
        [
         "(2022, 'cse')",
         "7",
         "8",
         "0",
         "0"
        ],
        [
         "(2019, 'ece')",
         "9",
         "10",
         "0",
         "0"
        ],
        [
         "(2020, 'ece')",
         "11",
         "12",
         "0",
         "0"
        ],
        [
         "(2021, 'ece')",
         "13",
         "14",
         "0",
         "0"
        ],
        [
         "(2022, 'ece')",
         "15",
         "16",
         "0",
         "0"
        ]
       ],
       "shape": {
        "columns": 4,
        "rows": 8
       }
      },
      "text/html": [
       "<div>\n",
       "<style scoped>\n",
       "    .dataframe tbody tr th:only-of-type {\n",
       "        vertical-align: middle;\n",
       "    }\n",
       "\n",
       "    .dataframe tbody tr th {\n",
       "        vertical-align: top;\n",
       "    }\n",
       "\n",
       "    .dataframe thead tr th {\n",
       "        text-align: left;\n",
       "    }\n",
       "</style>\n",
       "<table border=\"1\" class=\"dataframe\">\n",
       "  <thead>\n",
       "    <tr>\n",
       "      <th></th>\n",
       "      <th></th>\n",
       "      <th colspan=\"2\" halign=\"left\">Delhi</th>\n",
       "      <th colspan=\"2\" halign=\"left\">Mumbai</th>\n",
       "    </tr>\n",
       "    <tr>\n",
       "      <th></th>\n",
       "      <th></th>\n",
       "      <th>Average Package</th>\n",
       "      <th>Students</th>\n",
       "      <th>Average Package</th>\n",
       "      <th>Students</th>\n",
       "    </tr>\n",
       "  </thead>\n",
       "  <tbody>\n",
       "    <tr>\n",
       "      <th>2019</th>\n",
       "      <th>cse</th>\n",
       "      <td>1</td>\n",
       "      <td>2</td>\n",
       "      <td>0</td>\n",
       "      <td>0</td>\n",
       "    </tr>\n",
       "    <tr>\n",
       "      <th>2020</th>\n",
       "      <th>cse</th>\n",
       "      <td>3</td>\n",
       "      <td>4</td>\n",
       "      <td>0</td>\n",
       "      <td>0</td>\n",
       "    </tr>\n",
       "    <tr>\n",
       "      <th>2021</th>\n",
       "      <th>cse</th>\n",
       "      <td>5</td>\n",
       "      <td>6</td>\n",
       "      <td>0</td>\n",
       "      <td>0</td>\n",
       "    </tr>\n",
       "    <tr>\n",
       "      <th>2022</th>\n",
       "      <th>cse</th>\n",
       "      <td>7</td>\n",
       "      <td>8</td>\n",
       "      <td>0</td>\n",
       "      <td>0</td>\n",
       "    </tr>\n",
       "    <tr>\n",
       "      <th>2019</th>\n",
       "      <th>ece</th>\n",
       "      <td>9</td>\n",
       "      <td>10</td>\n",
       "      <td>0</td>\n",
       "      <td>0</td>\n",
       "    </tr>\n",
       "    <tr>\n",
       "      <th>2020</th>\n",
       "      <th>ece</th>\n",
       "      <td>11</td>\n",
       "      <td>12</td>\n",
       "      <td>0</td>\n",
       "      <td>0</td>\n",
       "    </tr>\n",
       "    <tr>\n",
       "      <th>2021</th>\n",
       "      <th>ece</th>\n",
       "      <td>13</td>\n",
       "      <td>14</td>\n",
       "      <td>0</td>\n",
       "      <td>0</td>\n",
       "    </tr>\n",
       "    <tr>\n",
       "      <th>2022</th>\n",
       "      <th>ece</th>\n",
       "      <td>15</td>\n",
       "      <td>16</td>\n",
       "      <td>0</td>\n",
       "      <td>0</td>\n",
       "    </tr>\n",
       "  </tbody>\n",
       "</table>\n",
       "</div>"
      ],
      "text/plain": [
       "                   Delhi                   Mumbai         \n",
       "         Average Package Students Average Package Students\n",
       "2019 cse               1        2               0        0\n",
       "2020 cse               3        4               0        0\n",
       "2021 cse               5        6               0        0\n",
       "2022 cse               7        8               0        0\n",
       "2019 ece               9       10               0        0\n",
       "2020 ece              11       12               0        0\n",
       "2021 ece              13       14               0        0\n",
       "2022 ece              15       16               0        0"
      ]
     },
     "execution_count": 77,
     "metadata": {},
     "output_type": "execute_result"
    }
   ],
   "source": [
    "branch_df3.swaplevel()"
   ]
  },
  {
   "cell_type": "code",
   "execution_count": 78,
   "id": "11ea917a",
   "metadata": {},
   "outputs": [
    {
     "data": {
      "application/vnd.microsoft.datawrangler.viewer.v0+json": {
       "columns": [
        {
         "name": "(None, None)",
         "rawType": "object",
         "type": "unknown"
        },
        {
         "name": "('Average Package', 'Delhi')",
         "rawType": "int64",
         "type": "integer"
        },
        {
         "name": "('Students', 'Delhi')",
         "rawType": "int64",
         "type": "integer"
        },
        {
         "name": "('Average Package', 'Mumbai')",
         "rawType": "int64",
         "type": "integer"
        },
        {
         "name": "('Students', 'Mumbai')",
         "rawType": "int64",
         "type": "integer"
        }
       ],
       "ref": "726ce846-29ff-46f3-b069-229750bc0df8",
       "rows": [
        [
         "('cse', 2019)",
         "1",
         "2",
         "0",
         "0"
        ],
        [
         "('cse', 2020)",
         "3",
         "4",
         "0",
         "0"
        ],
        [
         "('cse', 2021)",
         "5",
         "6",
         "0",
         "0"
        ],
        [
         "('cse', 2022)",
         "7",
         "8",
         "0",
         "0"
        ],
        [
         "('ece', 2019)",
         "9",
         "10",
         "0",
         "0"
        ],
        [
         "('ece', 2020)",
         "11",
         "12",
         "0",
         "0"
        ],
        [
         "('ece', 2021)",
         "13",
         "14",
         "0",
         "0"
        ],
        [
         "('ece', 2022)",
         "15",
         "16",
         "0",
         "0"
        ]
       ],
       "shape": {
        "columns": 4,
        "rows": 8
       }
      },
      "text/html": [
       "<div>\n",
       "<style scoped>\n",
       "    .dataframe tbody tr th:only-of-type {\n",
       "        vertical-align: middle;\n",
       "    }\n",
       "\n",
       "    .dataframe tbody tr th {\n",
       "        vertical-align: top;\n",
       "    }\n",
       "\n",
       "    .dataframe thead tr th {\n",
       "        text-align: left;\n",
       "    }\n",
       "</style>\n",
       "<table border=\"1\" class=\"dataframe\">\n",
       "  <thead>\n",
       "    <tr>\n",
       "      <th></th>\n",
       "      <th></th>\n",
       "      <th>Average Package</th>\n",
       "      <th>Students</th>\n",
       "      <th>Average Package</th>\n",
       "      <th>Students</th>\n",
       "    </tr>\n",
       "    <tr>\n",
       "      <th></th>\n",
       "      <th></th>\n",
       "      <th>Delhi</th>\n",
       "      <th>Delhi</th>\n",
       "      <th>Mumbai</th>\n",
       "      <th>Mumbai</th>\n",
       "    </tr>\n",
       "  </thead>\n",
       "  <tbody>\n",
       "    <tr>\n",
       "      <th rowspan=\"4\" valign=\"top\">cse</th>\n",
       "      <th>2019</th>\n",
       "      <td>1</td>\n",
       "      <td>2</td>\n",
       "      <td>0</td>\n",
       "      <td>0</td>\n",
       "    </tr>\n",
       "    <tr>\n",
       "      <th>2020</th>\n",
       "      <td>3</td>\n",
       "      <td>4</td>\n",
       "      <td>0</td>\n",
       "      <td>0</td>\n",
       "    </tr>\n",
       "    <tr>\n",
       "      <th>2021</th>\n",
       "      <td>5</td>\n",
       "      <td>6</td>\n",
       "      <td>0</td>\n",
       "      <td>0</td>\n",
       "    </tr>\n",
       "    <tr>\n",
       "      <th>2022</th>\n",
       "      <td>7</td>\n",
       "      <td>8</td>\n",
       "      <td>0</td>\n",
       "      <td>0</td>\n",
       "    </tr>\n",
       "    <tr>\n",
       "      <th rowspan=\"4\" valign=\"top\">ece</th>\n",
       "      <th>2019</th>\n",
       "      <td>9</td>\n",
       "      <td>10</td>\n",
       "      <td>0</td>\n",
       "      <td>0</td>\n",
       "    </tr>\n",
       "    <tr>\n",
       "      <th>2020</th>\n",
       "      <td>11</td>\n",
       "      <td>12</td>\n",
       "      <td>0</td>\n",
       "      <td>0</td>\n",
       "    </tr>\n",
       "    <tr>\n",
       "      <th>2021</th>\n",
       "      <td>13</td>\n",
       "      <td>14</td>\n",
       "      <td>0</td>\n",
       "      <td>0</td>\n",
       "    </tr>\n",
       "    <tr>\n",
       "      <th>2022</th>\n",
       "      <td>15</td>\n",
       "      <td>16</td>\n",
       "      <td>0</td>\n",
       "      <td>0</td>\n",
       "    </tr>\n",
       "  </tbody>\n",
       "</table>\n",
       "</div>"
      ],
      "text/plain": [
       "         Average Package Students Average Package Students\n",
       "                   Delhi    Delhi          Mumbai   Mumbai\n",
       "cse 2019               1        2               0        0\n",
       "    2020               3        4               0        0\n",
       "    2021               5        6               0        0\n",
       "    2022               7        8               0        0\n",
       "ece 2019               9       10               0        0\n",
       "    2020              11       12               0        0\n",
       "    2021              13       14               0        0\n",
       "    2022              15       16               0        0"
      ]
     },
     "execution_count": 78,
     "metadata": {},
     "output_type": "execute_result"
    }
   ],
   "source": [
    "branch_df3.swaplevel(axis = 1)"
   ]
  },
  {
   "cell_type": "code",
   "execution_count": null,
   "metadata": {},
   "outputs": [],
   "source": [
    "deaths = pd.read_csv(r\"F:\\SHIKHER-VS\\DSMP\\02_pandas\\datasets\\datasets-session-21\\time_series_covid19_deaths_global.csv\")\n",
    "deaths.head()"
   ]
  },
  {
   "cell_type": "code",
   "execution_count": null,
   "metadata": {},
   "outputs": [],
   "source": [
    "confirmed = pd.read_csv(r\"F:\\SHIKHER-VS\\DSMP\\02_pandas\\datasets\\datasets-session-21\\time_series_covid19_confirmed_global.csv\")\n",
    "confirmed.head()"
   ]
  }
 ],
 "metadata": {
  "kernelspec": {
   "display_name": "base",
   "language": "python",
   "name": "python3"
  },
  "language_info": {
   "codemirror_mode": {
    "name": "ipython",
    "version": 3
   },
   "file_extension": ".py",
   "mimetype": "text/x-python",
   "name": "python",
   "nbconvert_exporter": "python",
   "pygments_lexer": "ipython3",
   "version": "3.12.3"
  }
 },
 "nbformat": 4,
 "nbformat_minor": 5
}
