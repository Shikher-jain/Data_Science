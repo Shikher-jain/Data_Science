{
 "cells": [
  {
   "cell_type": "code",
   "execution_count": null,
   "id": "d33b29b8",
   "metadata": {},
   "outputs": [],
   "source": [
    "import pandas as pd"
   ]
  },
  {
   "cell_type": "code",
   "execution_count": null,
   "metadata": {},
   "outputs": [],
   "source": [
    "deaths = pd.read_csv(r\"F:\\SHIKHER-VS\\DSMP\\02_pandas\\datasets\\datasets-session-21\\time_series_covid19_deaths_global.csv\")\n",
    "deaths.head()"
   ]
  },
  {
   "cell_type": "code",
   "execution_count": null,
   "metadata": {},
   "outputs": [],
   "source": [
    "confirmed = pd.read_csv(r\"F:\\SHIKHER-VS\\DSMP\\02_pandas\\datasets\\datasets-session-21\\time_series_covid19_confirmed_global.csv\")\n",
    "confirmed.head()"
   ]
  },
  {
   "cell_type": "code",
   "execution_count": null,
   "id": "63a6534a",
   "metadata": {},
   "outputs": [],
   "source": [
    "deaths = deaths.melt(id_vars=['Province/State','Country/Region','Lat','Long'], var_name=\"Date\", value_name = 'Deaths')\n",
    "confirmed = confirmed.melt(id_vars=['Province/State','Country/Region','Lat','Long'], var_name=\"Date\", value_name = 'Cases')"
   ]
  },
  {
   "cell_type": "code",
   "execution_count": null,
   "metadata": {},
   "outputs": [],
   "source": [
    "deaths.head()"
   ]
  },
  {
   "cell_type": "code",
   "execution_count": null,
   "metadata": {},
   "outputs": [],
   "source": [
    "confirmed.head()"
   ]
  },
  {
   "cell_type": "code",
   "execution_count": null,
   "metadata": {},
   "outputs": [],
   "source": [
    "merge_df = confirmed.merge(deaths,on = ['Province/State','Country/Region','Lat','Long','Date'])"
   ]
  },
  {
   "cell_type": "code",
   "execution_count": null,
   "id": "074c0b66",
   "metadata": {},
   "outputs": [],
   "source": [
    "final_df = merge_df[['Country/Region','Date','Deaths','Cases']]\n",
    "final_df"
   ]
  },
  {
   "cell_type": "code",
   "execution_count": null,
   "id": "b7f8e9c1",
   "metadata": {},
   "outputs": [],
   "source": [
    "final_df.set_index(['Country/Region'], inplace = True)"
   ]
  },
  {
   "cell_type": "code",
   "execution_count": null,
   "metadata": {},
   "outputs": [],
   "source": [
    "final_df"
   ]
  },
  {
   "cell_type": "code",
   "execution_count": null,
   "metadata": {},
   "outputs": [],
   "source": [
    "final_df.index.get_level_values(0).unique()"
   ]
  },
  {
   "cell_type": "code",
   "execution_count": null,
   "id": "da391a14",
   "metadata": {},
   "outputs": [],
   "source": [
    "t_df = final_df.groupby('Country/Region').sum()\n",
    "t_df"
   ]
  },
  {
   "cell_type": "code",
   "execution_count": null,
   "metadata": {},
   "outputs": [],
   "source": [
    "t_df['Death Percentage'] = (t_df['Deaths'] / t_df['Cases']) * 100\n",
    "t_df"
   ]
  },
  {
   "cell_type": "code",
   "execution_count": null,
   "id": "f60d9c84",
   "metadata": {},
   "outputs": [],
   "source": [
    "t_df.sort_values('Death Percentage', ascending = False)"
   ]
  },
  {
   "cell_type": "code",
   "execution_count": null,
   "metadata": {},
   "outputs": [],
   "source": [
    "india_df = final_df.loc['India'].copy()\n",
    "india_df"
   ]
  },
  {
   "cell_type": "code",
   "execution_count": null,
   "id": "ad3d49de",
   "metadata": {},
   "outputs": [],
   "source": [
    "india_df[\"New cases\"] = india_df['Cases'] - india_df['Cases'].shift(1)\n",
    "india_df"
   ]
  }
 ],
 "metadata": {
  "kernelspec": {
   "display_name": "base",
   "language": "python",
   "name": "python3"
  },
  "language_info": {
   "codemirror_mode": {
    "name": "ipython",
    "version": 3
   },
   "file_extension": ".py",
   "mimetype": "text/x-python",
   "name": "python",
   "nbconvert_exporter": "python",
   "pygments_lexer": "ipython3",
   "version": "3.12.3"
  }
 },
 "nbformat": 4,
 "nbformat_minor": 5
}
