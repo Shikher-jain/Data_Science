{
 "cells": [
  {
   "cell_type": "code",
   "execution_count": null,
   "id": "a2d0c3d6",
   "metadata": {},
   "outputs": [],
   "source": [
    "import pandas as pd\n",
    "import numpy as np"
   ]
  },
  {
   "cell_type": "code",
   "execution_count": null,
   "id": "0d4dc046",
   "metadata": {},
   "outputs": [],
   "source": [
    "t1 = pd.Timestamp('11th Aug 2025')\n",
    "t1"
   ]
  },
  {
   "cell_type": "code",
   "execution_count": null,
   "id": "e1bdf5f1",
   "metadata": {},
   "outputs": [],
   "source": [
    "t2 = pd.Timestamp('15th Aug 2025')\n",
    "t2"
   ]
  },
  {
   "cell_type": "code",
   "execution_count": null,
   "metadata": {},
   "outputs": [],
   "source": [
    "t2 - t1"
   ]
  },
  {
   "cell_type": "code",
   "execution_count": null,
   "metadata": {},
   "outputs": [],
   "source": [
    "pd.Timestamp('15th Aug 2025') + pd.Timedelta('4 days 04:40:30')"
   ]
  },
  {
   "cell_type": "code",
   "execution_count": null,
   "metadata": {},
   "outputs": [],
   "source": [
    "df = pd.read_csv(r\"F:\\SHIKHER-VS\\DSMP\\02_pandas\\datasets\\pandas-case-study\\deliveries.csv\")\n",
    "df.head()"
   ]
  },
  {
   "cell_type": "code",
   "execution_count": null,
   "id": "e37685d4",
   "metadata": {},
   "outputs": [],
   "source": [
    "df['order_date']    = pd.to_datetime(df['order_date'])\n",
    "df['delivery_date'] = pd.to_datetime(df['delivery_date'])\n"
   ]
  },
  {
   "cell_type": "code",
   "execution_count": null,
   "id": "87b5f9b2",
   "metadata": {},
   "outputs": [],
   "source": [
    "df[\"delivery_time_period\"] = df['order_date'] - df['delivery_date'] "
   ]
  },
  {
   "cell_type": "code",
   "execution_count": null,
   "metadata": {},
   "outputs": [],
   "source": [
    "df.head()"
   ]
  },
  {
   "cell_type": "code",
   "execution_count": null,
   "metadata": {},
   "outputs": [],
   "source": [
    "df[\"delivery_time_period\"].mean()"
   ]
  },
  {
   "cell_type": "code",
   "execution_count": null,
   "id": "f78a0e1e",
   "metadata": {},
   "outputs": [],
   "source": [
    "google = pd.read_csv(r'F:\\SHIKHER-VS\\DSMP\\02_pandas\\datasets\\pandas-case-study\\google.csv')\n",
    "google.head()"
   ]
  },
  {
   "cell_type": "code",
   "execution_count": null,
   "id": "7e5073fb",
   "metadata": {},
   "outputs": [],
   "source": [
    "google[\"Date\"] = pd.to_datetime(google[\"Date\"])\n",
    "google.set_index('Date', inplace = True)\n",
    "google.head()"
   ]
  }
 ],
 "metadata": {
  "kernelspec": {
   "display_name": "base",
   "language": "python",
   "name": "python3"
  },
  "language_info": {
   "codemirror_mode": {
    "name": "ipython",
    "version": 3
   },
   "file_extension": ".py",
   "mimetype": "text/x-python",
   "name": "python",
   "nbconvert_exporter": "python",
   "pygments_lexer": "ipython3",
   "version": "3.12.3"
  }
 },
 "nbformat": 4,
 "nbformat_minor": 5
}
