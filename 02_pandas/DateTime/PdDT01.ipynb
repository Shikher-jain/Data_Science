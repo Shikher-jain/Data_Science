{
 "cells": [
  {
   "cell_type": "code",
   "execution_count": null,
   "id": "d830666c",
   "metadata": {},
   "outputs": [],
   "source": [
    "import pandas as pd\n",
    "import numpy as np"
   ]
  },
  {
   "cell_type": "code",
   "execution_count": null,
   "metadata": {},
   "outputs": [],
   "source": [
    "pd.Timestamp('2004,06,09,05:41:23PM'),\\\n",
    "pd.Timestamp('2004,06,09,05:41:23AM'),\\\n",
    "pd.Timestamp('2004-06-09 05:41:23PM'),\\\n",
    "pd.Timestamp('2004-06-09 05:41:23AM'),\\\n",
    "pd.Timestamp('9 June 2004 05:41:23PM'),\\\n",
    "pd.Timestamp('9th June 2004 05:41:23PM'),\\\n",
    "pd.Timestamp('2004/06/09/05:41:23PM'),\\\n",
    "pd.Timestamp('2004/06/09/05:41:23AM')\n"
   ]
  },
  {
   "cell_type": "code",
   "execution_count": null,
   "metadata": {},
   "outputs": [],
   "source": [
    "import datetime as dt\n",
    "\n",
    "dt_py = dt.datetime(2004,6,9,5,41,23)\n",
    "dt_pd = pd.Timestamp(dt_py)\n",
    "dt_py, dt_py"
   ]
  },
  {
   "cell_type": "code",
   "execution_count": null,
   "metadata": {},
   "outputs": [],
   "source": [
    "dt_py.year,\\\n",
    "dt_py.month,\\\n",
    "dt_py.day,\\\n",
    "dt_py.hour,\\\n",
    "dt_py.minute,\\\n",
    "dt_py.second,\\\n",
    "dt_py.date"
   ]
  },
  {
   "cell_type": "code",
   "execution_count": null,
   "id": "b9c559e9",
   "metadata": {},
   "outputs": [],
   "source": [
    "date = np.array('2004-06-09',dtype='datetime64')\n",
    "date"
   ]
  },
  {
   "cell_type": "code",
   "execution_count": null,
   "metadata": {},
   "outputs": [],
   "source": [
    "date + np.arange(11)"
   ]
  },
  {
   "cell_type": "code",
   "execution_count": null,
   "metadata": {},
   "outputs": [],
   "source": [
    "(date - np.arange(224))[-1]"
   ]
  },
  {
   "cell_type": "code",
   "execution_count": null,
   "metadata": {},
   "outputs": [],
   "source": [
    "type(pd.DatetimeIndex(['2004-06-09', '2004-06-10', '2004-06-11', '2004-06-12', '2004-06-14', '2004-06-15', '2004-06-16','2004-06-19'])),\\\n",
    "type(pd.DatetimeIndex(['2004-06-09', '2004-06-10', '2004-06-11', '2004-06-12', '2004-06-14', '2004-06-15', '2004-06-16','2004-06-19'])[0])"
   ]
  },
  {
   "cell_type": "code",
   "execution_count": null,
   "metadata": {},
   "outputs": [],
   "source": [
    "idx = pd.DatetimeIndex(['2004-06-09', '2004-06-10', '2004-06-11', '2004-06-12', '2004-06-14', '2004-06-15', '2004-06-16','2004-06-19'])\n",
    "\n",
    "pd.Series([1,2,3,4,5,6,7,8],index = idx)"
   ]
  },
  {
   "cell_type": "markdown",
   "id": "1884ac27",
   "metadata": {},
   "source": [
    "D - All days\n",
    "nD - All days with n gap\n",
    "B - Business days M - F\n",
    "W - Week day Sunday\n",
    "W-MON - Mondays\n",
    "H - Hourly Data(factor)\n",
    "nH - Hourly Data(factor) n gap\n",
    "MS - Month Start\n",
    "MS - Month End\n",
    "A - Annual (end year)\n",
    "A-JUN"
   ]
  },
  {
   "cell_type": "code",
   "execution_count": null,
   "id": "dd032d35",
   "metadata": {},
   "outputs": [],
   "source": [
    "pd.date_range(start='2003/10/30', end='2004/6/9', freq=\"5D\") \n",
    "pd.date_range(start='2003/10/30', end='2004/6/9', freq=\"B\")\n",
    "pd.date_range(start='2003/10/30', end='2004/6/9', freq=\"W\")\n",
    "pd.date_range(start='2003/10/30', end='2004/6/9', freq=\"W-MON\")\n",
    "pd.date_range(start='2003/10/30', end='2004/6/9', freq=\"H\")\n",
    "pd.date_range(start='2003/10/30', end='2004/6/9', freq=\"4H\")\n",
    "pd.date_range(start='2003/10/30', end='2004/6/9', freq=\"MS\")\n",
    "pd.date_range(start='2003/10/30', end='2004/6/9', freq=\"ME\")\n",
    "pd.date_range(start='2003/10/30', end='2004/6/9', freq=\"A\")\n",
    "pd.date_range(start='2003/10/30', end='2004/6/9', freq=\"A-JUN\")\n",
    "pd.date_range(start='2003/10/30', end='2004/6/9', freq=\"A-DEC\")"
   ]
  },
  {
   "cell_type": "code",
   "execution_count": 85,
   "id": "fd37b72a",
   "metadata": {},
   "outputs": [
    {
     "data": {
      "text/plain": [
       "DatetimeIndex(['2003-10-30', '2003-11-04', '2003-11-09', '2003-11-14',\n",
       "               '2003-11-19', '2003-11-24', '2003-11-29', '2003-12-04',\n",
       "               '2003-12-09', '2003-12-14', '2003-12-19', '2003-12-24',\n",
       "               '2003-12-29', '2004-01-03', '2004-01-08', '2004-01-13',\n",
       "               '2004-01-18', '2004-01-23', '2004-01-28', '2004-02-02',\n",
       "               '2004-02-07', '2004-02-12', '2004-02-17', '2004-02-22',\n",
       "               '2004-02-27', '2004-03-03', '2004-03-08', '2004-03-13',\n",
       "               '2004-03-18', '2004-03-23', '2004-03-28', '2004-04-02',\n",
       "               '2004-04-07', '2004-04-12', '2004-04-17', '2004-04-22',\n",
       "               '2004-04-27', '2004-05-02', '2004-05-07', '2004-05-12',\n",
       "               '2004-05-17', '2004-05-22', '2004-05-27', '2004-06-01',\n",
       "               '2004-06-06', '2004-06-11', '2004-06-16', '2004-06-21',\n",
       "               '2004-06-26', '2004-07-01', '2004-07-06', '2004-07-11',\n",
       "               '2004-07-16', '2004-07-21', '2004-07-26', '2004-07-31'],\n",
       "              dtype='datetime64[ns]', freq='5D')"
      ]
     },
     "execution_count": 85,
     "metadata": {},
     "output_type": "execute_result"
    }
   ],
   "source": [
    "pd.date_range(start='2003/10/30', periods = 56, freq=\"5D\") "
   ]
  },
  {
   "cell_type": "code",
   "execution_count": null,
   "id": "ef2ccda6",
   "metadata": {},
   "outputs": [],
   "source": []
  }
 ],
 "metadata": {
  "kernelspec": {
   "display_name": "base",
   "language": "python",
   "name": "python3"
  },
  "language_info": {
   "codemirror_mode": {
    "name": "ipython",
    "version": 3
   },
   "file_extension": ".py",
   "mimetype": "text/x-python",
   "name": "python",
   "nbconvert_exporter": "python",
   "pygments_lexer": "ipython3",
   "version": "3.12.3"
  }
 },
 "nbformat": 4,
 "nbformat_minor": 5
}
