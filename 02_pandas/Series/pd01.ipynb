{
 "cells": [
  {
   "cell_type": "code",
   "execution_count": null,
   "metadata": {},
   "outputs": [],
   "source": [
    "import numpy as np\n",
    "import pandas as pd"
   ]
  },
  {
   "cell_type": "code",
   "execution_count": null,
   "id": "7f2c974f",
   "metadata": {},
   "outputs": [],
   "source": [
    "country =['IN','UK',\"USA\",\"NZ\",\"AUS\",\"SA\",\"WI\",]"
   ]
  },
  {
   "cell_type": "code",
   "execution_count": null,
   "id": "7eb67021",
   "metadata": {},
   "outputs": [],
   "source": [
    "pd.Series(country)"
   ]
  },
  {
   "cell_type": "code",
   "execution_count": null,
   "id": "2eca122e",
   "metadata": {},
   "outputs": [],
   "source": [
    "runs = [12,23,45,67,89]\n",
    "pd.Series(runs)"
   ]
  },
  {
   "cell_type": "code",
   "execution_count": null,
   "id": "14270ba6",
   "metadata": {},
   "outputs": [],
   "source": [
    "sub =['H','E','M','P','C','B']\n",
    "marks = [67,56,46,63,61,69]\n",
    "\n",
    "pd.Series(marks, index=sub)"
   ]
  },
  {
   "cell_type": "code",
   "execution_count": null,
   "id": "a9230ae8",
   "metadata": {},
   "outputs": [],
   "source": [
    "marks =pd.Series(marks, index=sub,name=\"MARKS TEST\")\n",
    "marks"
   ]
  },
  {
   "cell_type": "code",
   "execution_count": null,
   "id": "8917f147",
   "metadata": {},
   "outputs": [],
   "source": [
    "marks.dtype"
   ]
  },
  {
   "cell_type": "code",
   "execution_count": null,
   "id": "3db1b36e",
   "metadata": {},
   "outputs": [],
   "source": [
    "marks={\n",
    "'H':67,\n",
    "'E':56,\n",
    "'M':46,\n",
    "'P':63,\n",
    "'C':61,\n",
    "'B':69,\n",
    "}\n",
    "print(marks)\n",
    "marks = pd.Series(marks,name=\"MARKS \")\n",
    "marks"
   ]
  },
  {
   "cell_type": "code",
   "execution_count": null,
   "id": "ff78a554",
   "metadata": {},
   "outputs": [],
   "source": [
    "marks.size"
   ]
  },
  {
   "cell_type": "code",
   "execution_count": null,
   "id": "23476f5f",
   "metadata": {},
   "outputs": [],
   "source": [
    "marks.name"
   ]
  },
  {
   "cell_type": "code",
   "execution_count": null,
   "id": "147c2472",
   "metadata": {},
   "outputs": [],
   "source": [
    "marks.is_unique"
   ]
  },
  {
   "cell_type": "code",
   "execution_count": null,
   "id": "7b777da7",
   "metadata": {},
   "outputs": [],
   "source": [
    "marks.index"
   ]
  },
  {
   "cell_type": "code",
   "execution_count": null,
   "id": "59507a35",
   "metadata": {},
   "outputs": [],
   "source": [
    "marks.values"
   ]
  },
  {
   "cell_type": "code",
   "execution_count": null,
   "id": "b8fb1aa5",
   "metadata": {},
   "outputs": [],
   "source": []
  },
  {
   "cell_type": "code",
   "execution_count": null,
   "id": "ef8e1ffb",
   "metadata": {},
   "outputs": [],
   "source": [
    "marks"
   ]
  },
  {
   "cell_type": "code",
   "execution_count": null,
   "id": "d73b1250",
   "metadata": {},
   "outputs": [],
   "source": [
    "marks[1] =100\n",
    "marks"
   ]
  },
  {
   "cell_type": "code",
   "execution_count": null,
   "id": "eb801894",
   "metadata": {},
   "outputs": [],
   "source": [
    "marks[\"SSt\"] = 64"
   ]
  },
  {
   "cell_type": "code",
   "execution_count": 22,
   "id": "b30001c5",
   "metadata": {},
   "outputs": [
    {
     "data": {
      "text/plain": [
       "[67, 100, 46, 63, 61, 69, 64]"
      ]
     },
     "execution_count": 22,
     "metadata": {},
     "output_type": "execute_result"
    }
   ],
   "source": [
    "list(marks)"
   ]
  },
  {
   "cell_type": "code",
   "execution_count": 23,
   "id": "a5b20834",
   "metadata": {},
   "outputs": [
    {
     "data": {
      "application/vnd.microsoft.datawrangler.viewer.v0+json": {
       "columns": [
        {
         "name": "index",
         "rawType": "object",
         "type": "string"
        },
        {
         "name": "MARKS ",
         "rawType": "int64",
         "type": "integer"
        }
       ],
       "ref": "426deda0-7a49-4e17-9888-f2a7b9472215",
       "rows": [
        [
         "H",
         "33"
        ],
        [
         "E",
         "0"
        ],
        [
         "M",
         "54"
        ],
        [
         "P",
         "37"
        ],
        [
         "C",
         "39"
        ],
        [
         "B",
         "31"
        ],
        [
         "SSt",
         "36"
        ]
       ],
       "shape": {
        "columns": 1,
        "rows": 7
       }
      },
      "text/plain": [
       "H      33\n",
       "E       0\n",
       "M      54\n",
       "P      37\n",
       "C      39\n",
       "B      31\n",
       "SSt    36\n",
       "Name: MARKS , dtype: int64"
      ]
     },
     "execution_count": 23,
     "metadata": {},
     "output_type": "execute_result"
    }
   ],
   "source": [
    "100 -marks"
   ]
  }
 ],
 "metadata": {
  "kernelspec": {
   "display_name": "base",
   "language": "python",
   "name": "python3"
  },
  "language_info": {
   "codemirror_mode": {
    "name": "ipython",
    "version": 3
   },
   "file_extension": ".py",
   "mimetype": "text/x-python",
   "name": "python",
   "nbconvert_exporter": "python",
   "pygments_lexer": "ipython3",
   "version": "3.12.3"
  }
 },
 "nbformat": 4,
 "nbformat_minor": 5
}
