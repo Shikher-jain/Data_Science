{
 "cells": [
  {
   "cell_type": "code",
   "execution_count": null,
   "id": "a0da3bfd",
   "metadata": {},
   "outputs": [],
   "source": [
    "import numpy as np\n",
    "import pandas as pd"
   ]
  },
  {
   "cell_type": "code",
   "execution_count": null,
   "id": "c3cc53ef",
   "metadata": {},
   "outputs": [],
   "source": [
    "subs = pd.read_csv(r'F:\\SHIKHER-VS\\DSMP\\02_pandas\\datasets\\datasets-session-16\\subs.csv')\n",
    "subs = subs.squeeze(\"columns\")\n",
    "subs"
   ]
  },
  {
   "cell_type": "code",
   "execution_count": null,
   "id": "a85ffcb9",
   "metadata": {},
   "outputs": [],
   "source": [
    "kohli_ipl = pd.read_csv(r'F:\\SHIKHER-VS\\DSMP\\02_pandas\\datasets\\datasets-session-16\\kohli_ipl.csv' ,index_col='match_no')\n",
    "kohli_ipl = kohli_ipl.squeeze(\"columns\")\n",
    "kohli_ipl"
   ]
  },
  {
   "cell_type": "code",
   "execution_count": null,
   "id": "19f2622a",
   "metadata": {},
   "outputs": [],
   "source": [
    "bollywood = pd.read_csv(r'F:\\SHIKHER-VS\\DSMP\\02_pandas\\datasets\\datasets-session-16\\bollywood.csv' ,index_col='movie')\n",
    "bollywood = bollywood.squeeze(\"columns\")\n",
    "bollywood"
   ]
  },
  {
   "cell_type": "code",
   "execution_count": null,
   "id": "27d9128b",
   "metadata": {},
   "outputs": [],
   "source": [
    "subs.head()\n",
    "subs.head(6)"
   ]
  },
  {
   "cell_type": "code",
   "execution_count": null,
   "id": "056bd963",
   "metadata": {},
   "outputs": [],
   "source": [
    "subs.tail()\n",
    "subs.tail(4)"
   ]
  },
  {
   "cell_type": "code",
   "execution_count": null,
   "id": "0de2301c",
   "metadata": {},
   "outputs": [],
   "source": [
    "subs.sample()\n",
    "subs.sample(3)\n"
   ]
  },
  {
   "cell_type": "code",
   "execution_count": null,
   "id": "1c5685b7",
   "metadata": {},
   "outputs": [],
   "source": [
    "bollywood.value_counts()"
   ]
  },
  {
   "cell_type": "code",
   "execution_count": null,
   "id": "6765491c",
   "metadata": {},
   "outputs": [],
   "source": [
    "kohli_ipl.sort_values(ascending=0)"
   ]
  },
  {
   "cell_type": "code",
   "execution_count": null,
   "id": "ba5f5fa6",
   "metadata": {},
   "outputs": [],
   "source": [
    "kohli_ipl.sort_values(ascending=0).head(3).values"
   ]
  },
  {
   "cell_type": "code",
   "execution_count": null,
   "id": "362b6811",
   "metadata": {},
   "outputs": [],
   "source": [
    "# kohli_ipl.sort_values(ascending=False, inplace=True)\n"
   ]
  },
  {
   "cell_type": "code",
   "execution_count": null,
   "id": "dbe1e12b",
   "metadata": {},
   "outputs": [],
   "source": [
    "bollywood.sort_index(ascending=0)\n",
    "bollywood.sort_index()"
   ]
  },
  {
   "cell_type": "code",
   "execution_count": null,
   "id": "fc930cac",
   "metadata": {},
   "outputs": [],
   "source": [
    "subs.count(),subs.size"
   ]
  },
  {
   "cell_type": "code",
   "execution_count": null,
   "id": "e7fdfe2e",
   "metadata": {},
   "outputs": [],
   "source": [
    "subs.sum(),subs.product(),subs.mean(),subs.std(),subs.var(),subs.median(),subs.mode()"
   ]
  },
  {
   "cell_type": "code",
   "execution_count": null,
   "id": "8d052070",
   "metadata": {},
   "outputs": [],
   "source": [
    "bollywood.mode()"
   ]
  },
  {
   "cell_type": "code",
   "execution_count": null,
   "id": "d43194eb",
   "metadata": {},
   "outputs": [],
   "source": [
    "subs.min(),subs.max()"
   ]
  },
  {
   "cell_type": "code",
   "execution_count": null,
   "id": "27e16186",
   "metadata": {},
   "outputs": [],
   "source": [
    "bollywood.describe(),kohli_ipl.describe(),subs.describe()"
   ]
  },
  {
   "cell_type": "code",
   "execution_count": null,
   "id": "9815d187",
   "metadata": {},
   "outputs": [],
   "source": [
    "x = pd.Series([12,13,14,35,46,57,68,79,80])\n",
    "x"
   ]
  },
  {
   "cell_type": "code",
   "execution_count": null,
   "id": "c11340ad",
   "metadata": {},
   "outputs": [],
   "source": [
    "x[0],\n",
    "# x[-3] Pandas not working for negative indexing"
   ]
  },
  {
   "cell_type": "code",
   "execution_count": null,
   "id": "03fea5b1",
   "metadata": {},
   "outputs": [],
   "source": [
    "bollywood[0],bollywood[-1]\n",
    "bollywood[:14]\n",
    "\n"
   ]
  },
  {
   "cell_type": "code",
   "execution_count": null,
   "id": "d0bb800e",
   "metadata": {},
   "outputs": [],
   "source": [
    "kohli_ipl[-5:], kohli_ipl[[1,4,7,8]]"
   ]
  },
  {
   "cell_type": "code",
   "execution_count": null,
   "id": "0f02a700",
   "metadata": {},
   "outputs": [],
   "source": [
    "len(subs),type(subs),min(subs),max(subs)\n",
    "# dir(subs)"
   ]
  },
  {
   "cell_type": "code",
   "execution_count": null,
   "id": "fe7d7d8d",
   "metadata": {},
   "outputs": [],
   "source": [
    "sorted(subs)"
   ]
  },
  {
   "cell_type": "code",
   "execution_count": null,
   "id": "f00d4207",
   "metadata": {},
   "outputs": [],
   "source": [
    "list(subs),dict(subs)"
   ]
  },
  {
   "cell_type": "code",
   "execution_count": null,
   "id": "8693fc09",
   "metadata": {},
   "outputs": [],
   "source": [
    "bollywood"
   ]
  },
  {
   "cell_type": "code",
   "execution_count": null,
   "id": "b29adb13",
   "metadata": {},
   "outputs": [],
   "source": [
    "\"War\" in bollywood, \"Vicky Kaushal\" in bollywood.values"
   ]
  },
  {
   "cell_type": "code",
   "execution_count": null,
   "id": "0123e1ea",
   "metadata": {},
   "outputs": [],
   "source": [
    "for i in bollywood:\n",
    "    print(i)"
   ]
  },
  {
   "cell_type": "code",
   "execution_count": null,
   "id": "4876c812",
   "metadata": {},
   "outputs": [],
   "source": [
    "for i in bollywood.index:\n",
    "    print(i)"
   ]
  },
  {
   "cell_type": "code",
   "execution_count": null,
   "id": "ad119490",
   "metadata": {},
   "outputs": [],
   "source": [
    "kohli_ipl > 50"
   ]
  },
  {
   "cell_type": "code",
   "execution_count": null,
   "id": "883872bb",
   "metadata": {},
   "outputs": [],
   "source": [
    "kohli_ipl[kohli_ipl >= 50]"
   ]
  },
  {
   "cell_type": "code",
   "execution_count": null,
   "id": "079709b9",
   "metadata": {},
   "outputs": [],
   "source": [
    "kohli_ipl[kohli_ipl == 0]"
   ]
  },
  {
   "cell_type": "code",
   "execution_count": null,
   "id": "b6fc9445",
   "metadata": {},
   "outputs": [],
   "source": [
    "num = bollywood.value_counts() \n",
    "num[num>20]"
   ]
  },
  {
   "cell_type": "code",
   "execution_count": null,
   "id": "a16e6855",
   "metadata": {},
   "outputs": [],
   "source": [
    "subs.plot()"
   ]
  },
  {
   "cell_type": "code",
   "execution_count": null,
   "id": "1fea970c",
   "metadata": {},
   "outputs": [],
   "source": [
    "# num.head(20).plot(kind = 'pie')\n",
    "num.head(20).plot(kind = 'bar')"
   ]
  }
 ],
 "metadata": {
  "kernelspec": {
   "display_name": "base",
   "language": "python",
   "name": "python3"
  },
  "language_info": {
   "codemirror_mode": {
    "name": "ipython",
    "version": 3
   },
   "file_extension": ".py",
   "mimetype": "text/x-python",
   "name": "python",
   "nbconvert_exporter": "python",
   "pygments_lexer": "ipython3",
   "version": "3.12.3"
  }
 },
 "nbformat": 4,
 "nbformat_minor": 5
}
