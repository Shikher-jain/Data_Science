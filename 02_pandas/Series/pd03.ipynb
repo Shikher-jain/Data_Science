{
 "cells": [
  {
   "cell_type": "code",
   "execution_count": null,
   "id": "44bf6e7e",
   "metadata": {},
   "outputs": [],
   "source": [
    "import numpy as np\n",
    "import pandas as pd\n",
    "import sys"
   ]
  },
  {
   "cell_type": "code",
   "execution_count": null,
   "id": "2f57f501",
   "metadata": {},
   "outputs": [],
   "source": [
    "subs = pd.read_csv(r'F:\\SHIKHER-VS\\DSMP\\02_pandas\\datasets\\datasets-session-16\\subs.csv')\n",
    "subs = subs.squeeze(\"columns\")\n",
    "subs"
   ]
  },
  {
   "cell_type": "code",
   "execution_count": null,
   "id": "ef854cd7",
   "metadata": {},
   "outputs": [],
   "source": [
    "vk = pd.read_csv(r'F:\\SHIKHER-VS\\DSMP\\02_pandas\\datasets\\datasets-session-16\\kohli_ipl.csv' ,index_col='match_no')\n",
    "vk = vk.squeeze(\"columns\")\n",
    "vk"
   ]
  },
  {
   "cell_type": "code",
   "execution_count": null,
   "id": "d22dc0e5",
   "metadata": {},
   "outputs": [],
   "source": [
    "bollywood = pd.read_csv(r'F:\\SHIKHER-VS\\DSMP\\02_pandas\\datasets\\datasets-session-16\\bollywood.csv' ,index_col='movie')\n",
    "bollywood = bollywood.squeeze(\"columns\")\n",
    "bollywood"
   ]
  },
  {
   "cell_type": "code",
   "execution_count": null,
   "id": "1e1e6e61",
   "metadata": {},
   "outputs": [],
   "source": [
    "sys.getsizeof(vk),vk.dtype"
   ]
  },
  {
   "cell_type": "code",
   "execution_count": null,
   "metadata": {},
   "outputs": [],
   "source": [
    "vk16 = vk.astype('int16')\n",
    "vk16,"
   ]
  },
  {
   "cell_type": "code",
   "execution_count": null,
   "metadata": {},
   "outputs": [],
   "source": [
    "sys.getsizeof(vk16),vk16.dtype"
   ]
  },
  {
   "cell_type": "code",
   "execution_count": null,
   "metadata": {},
   "outputs": [],
   "source": [
    "t=vk.between(51,99)\n",
    "t = vk[t]\n",
    "t.size\n"
   ]
  },
  {
   "cell_type": "code",
   "execution_count": null,
   "metadata": {},
   "outputs": [],
   "source": [
    "vk.clip(50,100)"
   ]
  },
  {
   "cell_type": "code",
   "execution_count": null,
   "metadata": {},
   "outputs": [],
   "source": [
    "vk.drop_duplicates(),vk.drop_duplicates(keep='last')"
   ]
  },
  {
   "cell_type": "code",
   "execution_count": null,
   "metadata": {},
   "outputs": [],
   "source": [
    "vk.duplicated(),vk.duplicated().sum()"
   ]
  },
  {
   "cell_type": "code",
   "execution_count": null,
   "id": "aa842fc0",
   "metadata": {},
   "outputs": [],
   "source": [
    "t =pd.Series([1,2,np.NaN,4,5,6,np.NaN,8,np.NaN,0])\n",
    "# t =pd.Series([1,2,np.nan,4,5,6,np.nan,8,np.nan,0])\n",
    "t"
   ]
  },
  {
   "cell_type": "code",
   "execution_count": null,
   "metadata": {},
   "outputs": [],
   "source": [
    "t.size, t.count(), len(t) ,t.isnull().sum(),t.isnull()"
   ]
  },
  {
   "cell_type": "code",
   "execution_count": null,
   "id": "cbdd3b9d",
   "metadata": {},
   "outputs": [],
   "source": [
    "t.dropna()"
   ]
  },
  {
   "cell_type": "code",
   "execution_count": null,
   "metadata": {},
   "outputs": [],
   "source": [
    "t.fillna(0)"
   ]
  },
  {
   "cell_type": "code",
   "execution_count": null,
   "metadata": {},
   "outputs": [],
   "source": [
    "vk[(vk == 49) | (vk == 99)]"
   ]
  },
  {
   "cell_type": "code",
   "execution_count": null,
   "id": "d965452d",
   "metadata": {},
   "outputs": [],
   "source": [
    "vk[vk.isin([49,70,99])]"
   ]
  },
  {
   "cell_type": "code",
   "execution_count": null,
   "metadata": {},
   "outputs": [],
   "source": [
    "bollywood.apply(lambda x: x.split()[0].upper())"
   ]
  },
  {
   "cell_type": "code",
   "execution_count": null,
   "metadata": {},
   "outputs": [],
   "source": [
    "subs.mean()"
   ]
  },
  {
   "cell_type": "code",
   "execution_count": null,
   "metadata": {},
   "outputs": [],
   "source": [
    "subs.apply(lambda x: 'Good Day' if x > subs.mean() else \"Bad Day\")"
   ]
  },
  {
   "cell_type": "code",
   "execution_count": null,
   "metadata": {},
   "outputs": [],
   "source": [
    "new = vk.head().copy()\n",
    "new"
   ]
  },
  {
   "cell_type": "code",
   "execution_count": null,
   "metadata": {},
   "outputs": [],
   "source": [
    "new[1] =1111\n",
    "vk"
   ]
  },
  {
   "cell_type": "code",
   "execution_count": null,
   "id": "b002ed42",
   "metadata": {},
   "outputs": [],
   "source": [
    "new[1] = 100"
   ]
  },
  {
   "cell_type": "code",
   "execution_count": 104,
   "metadata": {},
   "outputs": [
    {
     "data": {
      "text/plain": [
       "(match_no\n",
       " 1     1\n",
       " 2    23\n",
       " 3    13\n",
       " 4    12\n",
       " 5     1\n",
       " Name: runs, dtype: int64,\n",
       " match_no\n",
       " 1       1\n",
       " 2      23\n",
       " 3      13\n",
       " 4      12\n",
       " 5       1\n",
       "        ..\n",
       " 211     0\n",
       " 212    20\n",
       " 213    73\n",
       " 214    25\n",
       " 215     7\n",
       " Name: runs, Length: 215, dtype: int64)"
      ]
     },
     "execution_count": 104,
     "metadata": {},
     "output_type": "execute_result"
    }
   ],
   "source": [
    "new,vk"
   ]
  }
 ],
 "metadata": {
  "kernelspec": {
   "display_name": "base",
   "language": "python",
   "name": "python3"
  },
  "language_info": {
   "codemirror_mode": {
    "name": "ipython",
    "version": 3
   },
   "file_extension": ".py",
   "mimetype": "text/x-python",
   "name": "python",
   "nbconvert_exporter": "python",
   "pygments_lexer": "ipython3",
   "version": "3.12.3"
  }
 },
 "nbformat": 4,
 "nbformat_minor": 5
}
