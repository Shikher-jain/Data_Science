{
 "cells": [
  {
   "cell_type": "code",
   "execution_count": null,
   "id": "362c4bad",
   "metadata": {},
   "outputs": [],
   "source": [
    "import numpy as np\n",
    "import pandas as pd"
   ]
  },
  {
   "cell_type": "code",
   "execution_count": null,
   "id": "e7b5867f",
   "metadata": {},
   "outputs": [],
   "source": [
    "pd.read_csv('samples/sample.csv')"
   ]
  },
  {
   "cell_type": "code",
   "execution_count": null,
   "id": "c34c520e",
   "metadata": {},
   "outputs": [],
   "source": [
    "pd.read_csv('samples/sample.tsv')"
   ]
  },
  {
   "cell_type": "code",
   "execution_count": null,
   "id": "e129d183",
   "metadata": {},
   "outputs": [],
   "source": [
    "pd.read_csv('samples/sample.tsv', sep='\\t')"
   ]
  },
  {
   "cell_type": "code",
   "execution_count": null,
   "id": "35006ffa",
   "metadata": {},
   "outputs": [],
   "source": [
    "pd.read_excel('samples/sample.xlsx')"
   ]
  },
  {
   "cell_type": "code",
   "execution_count": null,
   "id": "5e57c565",
   "metadata": {},
   "outputs": [],
   "source": [
    "pd.read_excel('samples/sample.xlsx',sheet_name='Products')"
   ]
  },
  {
   "cell_type": "code",
   "execution_count": null,
   "id": "c59dbe67",
   "metadata": {},
   "outputs": [],
   "source": [
    "pd.read_excel('samples/sample.xlsx',sheet_name='Meta')"
   ]
  },
  {
   "cell_type": "code",
   "execution_count": null,
   "id": "26e433df",
   "metadata": {},
   "outputs": [],
   "source": [
    "pd.read_excel('samples/sample.xlsx',sheet_name='Sales')"
   ]
  },
  {
   "cell_type": "code",
   "execution_count": null,
   "id": "dc3d051b",
   "metadata": {},
   "outputs": [],
   "source": [
    "pd.read_excel('samples/sample.xlsx',sheet_name='Customers')"
   ]
  },
  {
   "cell_type": "code",
   "execution_count": null,
   "id": "261daeb6",
   "metadata": {},
   "outputs": [],
   "source": [
    "pd.read_json('samples/sample.json')"
   ]
  },
  {
   "cell_type": "code",
   "execution_count": null,
   "id": "ae2999cf",
   "metadata": {},
   "outputs": [],
   "source": [
    "pd.read_json('samples/sample.json', orient='records')"
   ]
  }
 ],
 "metadata": {
  "kernelspec": {
   "display_name": ".venv",
   "language": "python",
   "name": "python3"
  },
  "language_info": {
   "codemirror_mode": {
    "name": "ipython",
    "version": 3
   },
   "file_extension": ".py",
   "mimetype": "text/x-python",
   "name": "python",
   "nbconvert_exporter": "python",
   "pygments_lexer": "ipython3",
   "version": "3.13.7"
  }
 },
 "nbformat": 4,
 "nbformat_minor": 5
}
