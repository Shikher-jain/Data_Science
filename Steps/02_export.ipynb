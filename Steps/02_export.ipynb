{
 "cells": [
  {
   "cell_type": "code",
   "execution_count": null,
   "id": "c8d3e1f8",
   "metadata": {},
   "outputs": [],
   "source": [
    "import numpy as np\n",
    "import pandas as pd"
   ]
  },
  {
   "cell_type": "code",
   "execution_count": 1,
   "id": "651e6ad5",
   "metadata": {},
   "outputs": [
    {
     "ename": "NameError",
     "evalue": "name 'pd' is not defined",
     "output_type": "error",
     "traceback": [
      "\u001b[31m---------------------------------------------------------------------------\u001b[39m",
      "\u001b[31mNameError\u001b[39m                                 Traceback (most recent call last)",
      "\u001b[36mCell\u001b[39m\u001b[36m \u001b[39m\u001b[32mIn[1]\u001b[39m\u001b[32m, line 1\u001b[39m\n\u001b[32m----> \u001b[39m\u001b[32m1\u001b[39m df = \u001b[43mpd\u001b[49m.read_csv(\u001b[33m'\u001b[39m\u001b[33mdeliveries.csv\u001b[39m\u001b[33m'\u001b[39m)\n\u001b[32m      2\u001b[39m df\n",
      "\u001b[31mNameError\u001b[39m: name 'pd' is not defined"
     ]
    }
   ],
   "source": [
    "df = pd.read_csv('deliveries.csv')\n",
    "df"
   ]
  },
  {
   "cell_type": "code",
   "execution_count": null,
   "metadata": {},
   "outputs": [],
   "source": [
    "df_temp = df.groupby('batsman')['batsman_runs'].sum().reset_index().sort_values(by='batsman_runs',ascending=False).reset_index().drop(['index'],axis=1)\n",
    "df_temp"
   ]
  },
  {
   "cell_type": "code",
   "execution_count": null,
   "metadata": {},
   "outputs": [],
   "source": [
    "df_temp.to_csv(\"batsman_runs.csv\")"
   ]
  },
  {
   "cell_type": "code",
   "execution_count": null,
   "id": "7d1f09d6",
   "metadata": {},
   "outputs": [],
   "source": [
    "df_temp.to_csv(\"batsman_runs.csv\",index=0)"
   ]
  },
  {
   "cell_type": "code",
   "execution_count": null,
   "id": "931297e6",
   "metadata": {},
   "outputs": [],
   "source": [
    "df2 = df.pivot_table(index='batsman',columns=\"bowling_team\",values='batsman_runs',aggfunc='sum')\n",
    "df2.to_csv('batsman_vs_bowlingTeam.csv')"
   ]
  },
  {
   "cell_type": "code",
   "execution_count": null,
   "id": "fb7ec374",
   "metadata": {},
   "outputs": [],
   "source": [
    "df_temp.to_excel(\"batsman_runs.xlsx\",index=False)"
   ]
  },
  {
   "cell_type": "code",
   "execution_count": null,
   "metadata": {},
   "outputs": [],
   "source": [
    "df2.to_excel('data.xlsx', sheet_name='data_Sheet')"
   ]
  },
  {
   "cell_type": "code",
   "execution_count": null,
   "id": "f4648a93",
   "metadata": {},
   "outputs": [],
   "source": [
    "with pd.ExcelWriter('output.xlsx') as writer:\n",
    "    df_temp.to_excel(writer, sheet_name='batsman_runs_Sheet')\n",
    "    df2.to_excel(writer, sheet_name='batsman_vs_bowlingTeam_Sheet')"
   ]
  },
  {
   "cell_type": "code",
   "execution_count": null,
   "id": "9a3efd77",
   "metadata": {},
   "outputs": [],
   "source": [
    "df3 = df.query('batsman_runs == 6').pivot_table(index='over', columns=\"ball\", values='batsman_runs', aggfunc=\"count\")\n",
    "df3.to_html(\"sixes.html\")"
   ]
  },
  {
   "cell_type": "code",
   "execution_count": null,
   "id": "8812050b",
   "metadata": {},
   "outputs": [],
   "source": [
    "df4 = df.groupby(['batting_team','batsman'])['batsman_runs'].sum().unstack()\n",
    "df4"
   ]
  },
  {
   "cell_type": "code",
   "execution_count": null,
   "id": "3a36eb2b",
   "metadata": {},
   "outputs": [],
   "source": [
    "df4.to_json('output.json')"
   ]
  },
  {
   "cell_type": "code",
   "execution_count": null,
   "id": "54276603",
   "metadata": {},
   "outputs": [],
   "source": [
    "!pip install pymysql sqlalchemy"
   ]
  },
  {
   "cell_type": "code",
   "execution_count": null,
   "id": "ebbb8614",
   "metadata": {},
   "outputs": [],
   "source": [
    "import pymysql\n",
    "from sqlalchemy import create_engine"
   ]
  },
  {
   "cell_type": "code",
   "execution_count": null,
   "metadata": {},
   "outputs": [],
   "source": [
    "engine = create_engine(\"pymysql+ysql://root:@localhost/ipl\")\n",
    "\n",
    "df.to_sql(\"ipl\",con=engine,if_exists = \"append\")\n",
    "df_temp.to_sql(\"ipl_runs\",con=engine,if_exists = \"append\")"
   ]
  },
  {
   "cell_type": "code",
   "execution_count": null,
   "metadata": {},
   "outputs": [],
   "source": []
  },
  {
   "cell_type": "code",
   "execution_count": null,
   "metadata": {},
   "outputs": [],
   "source": []
  },
  {
   "cell_type": "code",
   "execution_count": null,
   "metadata": {},
   "outputs": [],
   "source": []
  },
  {
   "cell_type": "code",
   "execution_count": null,
   "metadata": {},
   "outputs": [],
   "source": []
  },
  {
   "cell_type": "code",
   "execution_count": null,
   "id": "ee2e1f2e",
   "metadata": {},
   "outputs": [],
   "source": []
  },
  {
   "cell_type": "code",
   "execution_count": null,
   "metadata": {},
   "outputs": [],
   "source": []
  },
  {
   "cell_type": "code",
   "execution_count": null,
   "id": "2ee89f1e",
   "metadata": {},
   "outputs": [],
   "source": []
  },
  {
   "cell_type": "code",
   "execution_count": null,
   "metadata": {},
   "outputs": [],
   "source": []
  },
  {
   "cell_type": "code",
   "execution_count": null,
   "metadata": {},
   "outputs": [],
   "source": []
  }
 ],
 "metadata": {
  "kernelspec": {
   "display_name": ".venv",
   "language": "python",
   "name": "python3"
  },
  "language_info": {
   "codemirror_mode": {
    "name": "ipython",
    "version": 3
   },
   "file_extension": ".py",
   "mimetype": "text/x-python",
   "name": "python",
   "nbconvert_exporter": "python",
   "pygments_lexer": "ipython3",
   "version": "3.13.7"
  }
 },
 "nbformat": 4,
 "nbformat_minor": 5
}
