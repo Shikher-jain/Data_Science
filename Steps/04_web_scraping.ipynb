{
 "cells": [
  {
   "cell_type": "code",
   "execution_count": null,
   "id": "77c7bb9c",
   "metadata": {},
   "outputs": [],
   "source": [
    "import pandas as pd\n",
    "import numpy as np\n",
    "import requests\n",
    "import time\n",
    "from bs4 import BeautifulSoup\n"
   ]
  },
  {
   "cell_type": "code",
   "execution_count": null,
   "id": "3ad820a3",
   "metadata": {},
   "outputs": [],
   "source": [
    "# 1 to 500\n",
    "headers = {'User-Agent': 'Mozilla/5.0 (Windows NT 6.3; Win64; x64) AppleWebKit/537.36 (KHTML, like Gecko) Chrome/89.0.4389.128 Safari/537.36'}\n",
    "response = requests.get(\"https://www.ambitionbox.com/list-of-companies?page=1\",headers=headers)"
   ]
  },
  {
   "cell_type": "code",
   "execution_count": null,
   "id": "d7eb5532",
   "metadata": {},
   "outputs": [],
   "source": [
    "webpage = response.text\n",
    "webpage"
   ]
  },
  {
   "cell_type": "code",
   "execution_count": null,
   "id": "9d9cc9b5",
   "metadata": {},
   "outputs": [],
   "source": [
    "soup = BeautifulSoup(webpage, 'html.parser') # html parser is used to parse the data\n",
    "# soup = BeautifulSoup(webpage, 'lxml') # lxml is used to parse the data\n",
    "soup"
   ]
  },
  {
   "cell_type": "code",
   "execution_count": null,
   "id": "77caee6e",
   "metadata": {},
   "outputs": [],
   "source": [
    "for i in soup.find_all('h2'):\n",
    "    print(i.text.strip())"
   ]
  },
  {
   "cell_type": "code",
   "execution_count": null,
   "id": "b3c634a4",
   "metadata": {},
   "outputs": [],
   "source": [
    "soup.find_all('div',class_=\"rating_text\")"
   ]
  },
  {
   "cell_type": "code",
   "execution_count": null,
   "id": "73ff3917",
   "metadata": {},
   "outputs": [],
   "source": [
    "for i in soup.find_all('div',class_=\"rating_text\"):\n",
    "    print(i.text.strip())"
   ]
  },
  {
   "cell_type": "code",
   "execution_count": null,
   "id": "f65cc38b",
   "metadata": {},
   "outputs": [],
   "source": [
    "for i in soup.find_all('a', class_=\"companyCardWrapper__ActionWrapper\"):\n",
    "    review = i.text.strip().split()\n",
    "    if review and review[-1] == \"Reviews\":\n",
    "        print(review[0])"
   ]
  },
  {
   "cell_type": "code",
   "execution_count": null,
   "id": "c9bd6fc2",
   "metadata": {},
   "outputs": [],
   "source": [
    "for i in soup.find_all('a', class_=\"companyCardWrapper__ActionWrapper\"):\n",
    "    review = i.text.strip().split()\n",
    "    if review and review[-1] == \"Reviews\":\n",
    "        print(review[0])"
   ]
  },
  {
   "cell_type": "markdown",
   "id": "1ed5b11a",
   "metadata": {},
   "source": [
    "## now make single loop"
   ]
  },
  {
   "cell_type": "code",
   "execution_count": null,
   "metadata": {},
   "outputs": [],
   "source": [
    "company = soup.find_all('div',class_=\"companyCardWrapper\")\n",
    "company"
   ]
  },
  {
   "cell_type": "code",
   "execution_count": null,
   "id": "818443cc",
   "metadata": {},
   "outputs": [],
   "source": [
    "name=[]\n",
    "review =[]\n",
    "rating=[]\n",
    "for i in company:\n",
    "    name.append(i.find('h2',class_=\"companyCardWrapper__companyName\").text.strip())\n",
    "    review.append(i.find('span',class_=\"companyCardWrapper__companyRatingCount\").text.strip()[1:-1])\n",
    "    rating.append(i.find('div',class_=\"rating_text\").text.strip())"
   ]
  },
  {
   "cell_type": "code",
   "execution_count": null,
   "id": "9a21dad1",
   "metadata": {},
   "outputs": [],
   "source": [
    "d={\n",
    "\"name\":name,\n",
    "\"review\":review,\n",
    "\"rating\":rating\n",
    "}"
   ]
  },
  {
   "cell_type": "code",
   "execution_count": null,
   "metadata": {},
   "outputs": [],
   "source": [
    "len(name),len(review),len(rating)"
   ]
  },
  {
   "cell_type": "code",
   "execution_count": null,
   "metadata": {},
   "outputs": [],
   "source": [
    "df =pd.DataFrame(d)\n",
    "df"
   ]
  }
 ],
 "metadata": {
  "kernelspec": {
   "display_name": ".venv",
   "language": "python",
   "name": "python3"
  },
  "language_info": {
   "codemirror_mode": {
    "name": "ipython",
    "version": 3
   },
   "file_extension": ".py",
   "mimetype": "text/x-python",
   "name": "python",
   "nbconvert_exporter": "python",
   "pygments_lexer": "ipython3",
   "version": "3.13.7"
  }
 },
 "nbformat": 4,
 "nbformat_minor": 5
}
