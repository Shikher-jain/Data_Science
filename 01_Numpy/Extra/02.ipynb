{
 "cells": [
  {
   "cell_type": "code",
   "execution_count": null,
   "id": "926a70c4",
   "metadata": {},
   "outputs": [],
   "source": [
    "import numpy as np"
   ]
  },
  {
   "cell_type": "code",
   "execution_count": null,
   "id": "d52ecbe6",
   "metadata": {},
   "outputs": [],
   "source": [
    "a1=np.random.random((5,4))\n",
    "a1"
   ]
  },
  {
   "cell_type": "code",
   "execution_count": null,
   "id": "30427c86",
   "metadata": {},
   "outputs": [],
   "source": [
    "a1.mean(axis=1)"
   ]
  },
  {
   "cell_type": "code",
   "execution_count": null,
   "id": "be74ae91",
   "metadata": {},
   "outputs": [],
   "source": [
    "m1=a1.mean(axis=1,keepdims=1)\n",
    "m1"
   ]
  },
  {
   "cell_type": "code",
   "execution_count": null,
   "id": "ca75da31",
   "metadata": {},
   "outputs": [],
   "source": [
    "a1-m1\n"
   ]
  },
  {
   "cell_type": "code",
   "execution_count": null,
   "id": "f2c8e503",
   "metadata": {},
   "outputs": [],
   "source": [
    "a=np.array([6,4,9,2,0,2])\n",
    "b=np.array([3,6,8,3,5,9])\n",
    "a"
   ]
  },
  {
   "cell_type": "code",
   "execution_count": null,
   "id": "00f3c762",
   "metadata": {},
   "outputs": [],
   "source": [
    "b"
   ]
  },
  {
   "cell_type": "code",
   "execution_count": null,
   "id": "28779fa5",
   "metadata": {},
   "outputs": [],
   "source": [
    "b>a"
   ]
  },
  {
   "cell_type": "code",
   "execution_count": null,
   "id": "4487f782",
   "metadata": {},
   "outputs": [],
   "source": [
    "print(a[b<a])\n",
    "print(b[b>a])\n",
    "a[b>a] = b[b>a]\n",
    "a"
   ]
  }
 ],
 "metadata": {
  "kernelspec": {
   "display_name": "base",
   "language": "python",
   "name": "python3"
  },
  "language_info": {
   "codemirror_mode": {
    "name": "ipython",
    "version": 3
   },
   "file_extension": ".py",
   "mimetype": "text/x-python",
   "name": "python",
   "nbconvert_exporter": "python",
   "pygments_lexer": "ipython3",
   "version": "3.12.3"
  }
 },
 "nbformat": 4,
 "nbformat_minor": 5
}
