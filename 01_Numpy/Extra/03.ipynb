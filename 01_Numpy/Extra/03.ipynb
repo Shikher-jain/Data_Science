{
 "cells": [
  {
   "cell_type": "code",
   "execution_count": null,
   "metadata": {},
   "outputs": [],
   "source": [
    "import numpy as np"
   ]
  },
  {
   "cell_type": "markdown",
   "id": "f2abd740",
   "metadata": {},
   "source": [
    "meshgrid"
   ]
  },
  {
   "cell_type": "code",
   "execution_count": null,
   "id": "119b2a19",
   "metadata": {},
   "outputs": [],
   "source": [
    "\n",
    "a=np.linspace(-10,9,20)\n",
    "b=np.linspace(-10,9,20)\n",
    "a,b"
   ]
  },
  {
   "cell_type": "code",
   "execution_count": null,
   "id": "c4d033ba",
   "metadata": {},
   "outputs": [],
   "source": [
    "xx, yy = np.meshgrid(a,b)\n",
    "xx , yy"
   ]
  },
  {
   "cell_type": "code",
   "execution_count": null,
   "id": "1d2eefa5",
   "metadata": {},
   "outputs": [],
   "source": [
    "import matplotlib.pyplot as plt"
   ]
  },
  {
   "cell_type": "code",
   "execution_count": null,
   "id": "0919bc79",
   "metadata": {},
   "outputs": [],
   "source": [
    "plt.scatter(xx,yy)"
   ]
  },
  {
   "cell_type": "code",
   "execution_count": null,
   "id": "f4481ad4",
   "metadata": {},
   "outputs": [],
   "source": [
    "def hypo(x,y):\n",
    "    return x**2 + y**2\n",
    "\n",
    "zz = hypo(xx,yy)\n",
    "zz"
   ]
  },
  {
   "cell_type": "code",
   "execution_count": null,
   "id": "c057b29f",
   "metadata": {},
   "outputs": [],
   "source": [
    "import plotly.express as px\n",
    "import plotly.graph_objects as go"
   ]
  },
  {
   "cell_type": "code",
   "execution_count": null,
   "id": "b720c2d2",
   "metadata": {},
   "outputs": [],
   "source": [
    "fig = px.scatter_3d()\n",
    "fig.add_trace(go.Surface(x=xx,y=yy,z=zz))\n",
    "fig.show()"
   ]
  },
  {
   "cell_type": "code",
   "execution_count": null,
   "id": "ab54cd53",
   "metadata": {},
   "outputs": [],
   "source": [
    "np.random.seed(0)\n",
    "np.random.randint(1,100,12).reshape(3,4)"
   ]
  },
  {
   "cell_type": "code",
   "execution_count": null,
   "id": "a3686796",
   "metadata": {},
   "outputs": [],
   "source": [
    "np.random.seed(1)\n",
    "np.random.randint(1,100,12).reshape(3,4)"
   ]
  },
  {
   "cell_type": "code",
   "execution_count": null,
   "id": "5773e04d",
   "metadata": {},
   "outputs": [],
   "source": [
    "np.random.seed(4)\n",
    "a = np.random.randint(1,100,5)\n",
    "a"
   ]
  },
  {
   "cell_type": "code",
   "execution_count": null,
   "id": "4215371f",
   "metadata": {},
   "outputs": [],
   "source": [
    "np.random.shuffle(a)\n",
    "a"
   ]
  },
  {
   "cell_type": "code",
   "execution_count": null,
   "id": "e3c6572e",
   "metadata": {},
   "outputs": [],
   "source": [
    "np.random.choice(a,3)"
   ]
  },
  {
   "cell_type": "code",
   "execution_count": null,
   "id": "84718fc3",
   "metadata": {},
   "outputs": [],
   "source": [
    "np.random.choice(a,3,replace=0)"
   ]
  }
 ],
 "metadata": {
  "kernelspec": {
   "display_name": "base",
   "language": "python",
   "name": "python3"
  },
  "language_info": {
   "codemirror_mode": {
    "name": "ipython",
    "version": 3
   },
   "file_extension": ".py",
   "mimetype": "text/x-python",
   "name": "python",
   "nbconvert_exporter": "python",
   "pygments_lexer": "ipython3",
   "version": "3.12.3"
  }
 },
 "nbformat": 4,
 "nbformat_minor": 5
}
