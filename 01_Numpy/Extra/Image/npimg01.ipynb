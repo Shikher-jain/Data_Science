{
 "cells": [
  {
   "cell_type": "code",
   "execution_count": null,
   "id": "eed365f4",
   "metadata": {},
   "outputs": [],
   "source": [
    "import cv2 as cv\n",
    "import numpy as np\n",
    "import matplotlib.pyplot as plt"
   ]
  },
  {
   "cell_type": "code",
   "execution_count": null,
   "id": "957e2e5d",
   "metadata": {},
   "outputs": [],
   "source": [
    "img = cv.imread(\"Screenshot.png\")\n",
    "img"
   ]
  },
  {
   "cell_type": "code",
   "execution_count": null,
   "metadata": {},
   "outputs": [],
   "source": [
    "img.shape"
   ]
  },
  {
   "cell_type": "code",
   "execution_count": null,
   "id": "5d20ce6a",
   "metadata": {},
   "outputs": [],
   "source": [
    "plt.imshow(img)"
   ]
  },
  {
   "cell_type": "code",
   "execution_count": null,
   "id": "b263cd8b",
   "metadata": {},
   "outputs": [],
   "source": [
    "# plt.imshow(np.clip(img,0,255))\n",
    "plt.imshow(np.clip(img,0,150))"
   ]
  },
  {
   "cell_type": "code",
   "execution_count": null,
   "id": "660ee9df",
   "metadata": {},
   "outputs": [],
   "source": [
    "plt.imshow(255-img)"
   ]
  },
  {
   "cell_type": "code",
   "execution_count": null,
   "id": "d874ebba",
   "metadata": {},
   "outputs": [],
   "source": [
    "plt.imshow(img[100:500,100:900])"
   ]
  },
  {
   "cell_type": "code",
   "execution_count": null,
   "id": "5caba3b4",
   "metadata": {},
   "outputs": [],
   "source": [
    "plt.hist(img.flatten(),bins=55)"
   ]
  },
  {
   "cell_type": "code",
   "execution_count": null,
   "id": "dc5dc35b",
   "metadata": {},
   "outputs": [],
   "source": []
  }
 ],
 "metadata": {
  "kernelspec": {
   "display_name": "base",
   "language": "python",
   "name": "python3"
  },
  "language_info": {
   "codemirror_mode": {
    "name": "ipython",
    "version": 3
   },
   "file_extension": ".py",
   "mimetype": "text/x-python",
   "name": "python",
   "nbconvert_exporter": "python",
   "pygments_lexer": "ipython3",
   "version": "3.12.3"
  }
 },
 "nbformat": 4,
 "nbformat_minor": 5
}
