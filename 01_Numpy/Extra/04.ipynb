{
 "cells": [
  {
   "cell_type": "code",
   "execution_count": 1,
   "id": "6a2e0fb1",
   "metadata": {},
   "outputs": [],
   "source": [
    "import numpy as np"
   ]
  },
  {
   "cell_type": "code",
   "execution_count": 2,
   "id": "1a74decd",
   "metadata": {},
   "outputs": [],
   "source": [
    "dt = np.dtype(\n",
    "    [\n",
    "        ('name','U20'),\n",
    "        ('iq',np.int32),\n",
    "        ('cgpa',np.float32),\n",
    "        ('placed','U30')\n",
    "    ]\n",
    ")\n"
   ]
  },
  {
   "cell_type": "code",
   "execution_count": 3,
   "id": "ad9184e7",
   "metadata": {},
   "outputs": [
    {
     "data": {
      "text/plain": [
       "dtype([('name', '<U20'), ('iq', '<i4'), ('cgpa', '<f4'), ('placed', '<U30')])"
      ]
     },
     "execution_count": 3,
     "metadata": {},
     "output_type": "execute_result"
    }
   ],
   "source": [
    "dt"
   ]
  },
  {
   "cell_type": "code",
   "execution_count": 4,
   "id": "dae3a6b8",
   "metadata": {},
   "outputs": [],
   "source": [
    "stu = np.array([\n",
    "    ('A',100,9.7,'yes'),\n",
    "    ('B',90,8.3,'yes'),\n",
    "    ('C',70,7.8,'yes')\n",
    "],dtype=dt)"
   ]
  },
  {
   "cell_type": "code",
   "execution_count": 5,
   "id": "d8162687",
   "metadata": {},
   "outputs": [
    {
     "data": {
      "text/plain": [
       "array([('A', 100, 9.7, 'yes'), ('B',  90, 8.3, 'yes'),\n",
       "       ('C',  70, 7.8, 'yes')],\n",
       "      dtype=[('name', '<U20'), ('iq', '<i4'), ('cgpa', '<f4'), ('placed', '<U30')])"
      ]
     },
     "execution_count": 5,
     "metadata": {},
     "output_type": "execute_result"
    }
   ],
   "source": [
    "stu"
   ]
  },
  {
   "cell_type": "code",
   "execution_count": 6,
   "id": "7ecea038",
   "metadata": {},
   "outputs": [
    {
     "data": {
      "text/plain": [
       "(('A', 100, 9.7, 'yes'), 100, array(['A', 'B', 'C'], dtype='<U20'))"
      ]
     },
     "execution_count": 6,
     "metadata": {},
     "output_type": "execute_result"
    }
   ],
   "source": [
    "stu[0],stu[0][1],stu['name']"
   ]
  },
  {
   "cell_type": "code",
   "execution_count": 7,
   "id": "1eb8049f",
   "metadata": {},
   "outputs": [],
   "source": [
    "np.save('student.npy' , stu)"
   ]
  },
  {
   "cell_type": "code",
   "execution_count": 8,
   "id": "3c2ad61b",
   "metadata": {},
   "outputs": [
    {
     "name": "stdout",
     "output_type": "stream",
     "text": [
      "['A' 'B' 'C']\n"
     ]
    }
   ],
   "source": [
    "a = np.load('student.npy', allow_pickle=True)\n",
    "print(a['name'])  \n"
   ]
  }
 ],
 "metadata": {
  "kernelspec": {
   "display_name": "base",
   "language": "python",
   "name": "python3"
  },
  "language_info": {
   "codemirror_mode": {
    "name": "ipython",
    "version": 3
   },
   "file_extension": ".py",
   "mimetype": "text/x-python",
   "name": "python",
   "nbconvert_exporter": "python",
   "pygments_lexer": "ipython3",
   "version": "3.12.3"
  }
 },
 "nbformat": 4,
 "nbformat_minor": 5
}
