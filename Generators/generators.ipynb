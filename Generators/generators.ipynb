{
 "cells": [
  {
   "cell_type": "markdown",
   "id": "b7270af8",
   "metadata": {},
   "source": [
    "Generators"
   ]
  },
  {
   "cell_type": "code",
   "execution_count": null,
   "id": "cc50a565",
   "metadata": {},
   "outputs": [],
   "source": [
    "class my_range_iterator:\n",
    "    \n",
    "    def __init__(self,iterable_obj):\n",
    "        self.iterable = iterable_obj\n",
    "    \n",
    "    def __iter__(self):\n",
    "        return self\n",
    "    \n",
    "    def __next__(self):\n",
    "        if self.iterable.start >= self.iterable.end:\n",
    "            raise StopIteration\n",
    "        \n",
    "        current = self.iterable.start\n",
    "        self.iterable.start+=1\n",
    "        return current"
   ]
  },
  {
   "cell_type": "code",
   "execution_count": null,
   "id": "bcd1dca4",
   "metadata": {},
   "outputs": [],
   "source": [
    "class my_range:\n",
    "\n",
    "    def __init__(self,start,end):\n",
    "        self.start = start\n",
    "        self.end = end\n",
    "\n",
    "    def __iter__(self):\n",
    "        return my_range_iterator(self)"
   ]
  },
  {
   "cell_type": "code",
   "execution_count": null,
   "id": "375d7824",
   "metadata": {},
   "outputs": [],
   "source": [
    "x = my_range(1,11)\n",
    "print(x)\n",
    "print(type(x))\n",
    "print(iter(x))"
   ]
  },
  {
   "cell_type": "code",
   "execution_count": null,
   "id": "d755f8e4",
   "metadata": {},
   "outputs": [],
   "source": [
    "def gen_demo():\n",
    "    yield \"S1\"\n",
    "    yield \"S2\"\n",
    "    yield \"S3\"\n",
    "    yield \"S4\"\n",
    "    "
   ]
  },
  {
   "cell_type": "code",
   "execution_count": null,
   "id": "5876b512",
   "metadata": {},
   "outputs": [],
   "source": [
    "gen=gen_demo()\n",
    "print(gen)"
   ]
  }
 ],
 "metadata": {
  "kernelspec": {
   "display_name": "base",
   "language": "python",
   "name": "python3"
  },
  "language_info": {
   "name": "python",
   "version": "3.12.3"
  }
 },
 "nbformat": 4,
 "nbformat_minor": 5
}
