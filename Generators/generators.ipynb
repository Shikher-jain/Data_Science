{
 "cells": [
  {
   "cell_type": "markdown",
   "id": "b7270af8",
   "metadata": {},
   "source": [
    "Generators"
   ]
  },
  {
   "cell_type": "code",
   "execution_count": null,
   "id": "cc50a565",
   "metadata": {},
   "outputs": [],
   "source": [
    "class my_range_iterator:\n",
    "    \n",
    "    def __init__(self,iterable_obj):\n",
    "        self.iterable = iterable_obj\n",
    "    \n",
    "    def __iter__(self):\n",
    "        return self\n",
    "    \n",
    "    def __next__(self):\n",
    "        if self.iterable.start >= self.iterable.end:\n",
    "            raise StopIteration\n",
    "        \n",
    "        current = self.iterable.start\n",
    "        self.iterable.start+=1\n",
    "        return current"
   ]
  },
  {
   "cell_type": "code",
   "execution_count": null,
   "id": "bcd1dca4",
   "metadata": {},
   "outputs": [],
   "source": [
    "class my_range:\n",
    "\n",
    "    def __init__(self,start,end):\n",
    "        self.start = start\n",
    "        self.end = end\n",
    "\n",
    "    def __iter__(self):\n",
    "        return my_range_iterator(self)"
   ]
  },
  {
   "cell_type": "code",
   "execution_count": null,
   "id": "375d7824",
   "metadata": {},
   "outputs": [],
   "source": [
    "x = my_range(1,11)\n",
    "print(x)\n",
    "print(type(x))\n",
    "print(iter(x))"
   ]
  },
  {
   "cell_type": "code",
   "execution_count": null,
   "id": "d755f8e4",
   "metadata": {},
   "outputs": [],
   "source": [
    "def gen_demo():\n",
    "    yield \"S1\"\n",
    "    yield \"S2\"\n",
    "    yield \"S3\"\n",
    "    yield \"S4\"\n",
    "    "
   ]
  },
  {
   "cell_type": "code",
   "execution_count": null,
   "id": "5876b512",
   "metadata": {},
   "outputs": [],
   "source": [
    "gen=gen_demo()\n",
    "print(next(gen))\n",
    "print(next(gen))\n",
    "print(next(gen))\n",
    "print(next(gen))\n",
    "# print(next(gen))  # -->StopIteration                             \n"
   ]
  },
  {
   "cell_type": "code",
   "execution_count": null,
   "id": "5da8ee80",
   "metadata": {},
   "outputs": [],
   "source": [
    "gen2 = gen_demo()\n",
    "\n",
    "for i in gen2:\n",
    "    print(i)"
   ]
  },
  {
   "cell_type": "code",
   "execution_count": null,
   "id": "affe97ff",
   "metadata": {},
   "outputs": [],
   "source": [
    "def square(n):\n",
    "    for i in range(1,1+n):\n",
    "        yield i*i\n",
    "    \n",
    "\n",
    "squares = square(10)\n",
    "print(next(squares))\n",
    "print(next(squares))\n",
    "print(next(squares))\n",
    "print(next(squares))\n",
    "print(\"loop started\")\n",
    "\n",
    "for i in squares:\n",
    "    print(i)\n"
   ]
  },
  {
   "cell_type": "markdown",
   "id": "1c4773ec",
   "metadata": {},
   "source": [
    "Range Fx using Generators"
   ]
  },
  {
   "cell_type": "code",
   "execution_count": null,
   "id": "9f4cb568",
   "metadata": {},
   "outputs": [],
   "source": [
    "def my_range_gen(start, end):\n",
    "    for i in range(start, end):\n",
    "        yield i\n",
    "\n",
    "gen3 = my_range_gen(1, 11)\n",
    "print(next(gen3))\n",
    "for i in gen3:\n",
    "    print(i)"
   ]
  },
  {
   "cell_type": "code",
   "execution_count": null,
   "id": "0b214a37",
   "metadata": {},
   "outputs": [],
   "source": [
    "# List Comprehension:\n",
    "squares_list = [i*i for i in range(1, 11)]\n",
    "print(squares_list)\n",
    "print(type(squares_list))\n",
    "for i in squares_list:\n",
    "    print(i, end=' ')\n",
    "\n",
    "print()\n",
    "\n",
    "# Generator Expression:\n",
    "squares_gen = (i*i for i in range(1, 11))\n",
    "print(type(squares_gen))\n",
    "print(next(squares_gen),end=' ')\n",
    "print(next(squares_gen),end=' ')\n",
    "for i in squares_gen:\n",
    "    print(i, end =' ')"
   ]
  }
 ],
 "metadata": {
  "kernelspec": {
   "display_name": "base",
   "language": "python",
   "name": "python3"
  },
  "language_info": {
   "codemirror_mode": {
    "name": "ipython",
    "version": 3
   },
   "file_extension": ".py",
   "mimetype": "text/x-python",
   "name": "python",
   "nbconvert_exporter": "python",
   "pygments_lexer": "ipython3",
   "version": "3.12.3"
  }
 },
 "nbformat": 4,
 "nbformat_minor": 5
}
