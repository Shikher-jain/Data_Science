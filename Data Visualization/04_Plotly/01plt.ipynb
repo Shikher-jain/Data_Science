{
 "cells": [
  {
   "cell_type": "code",
   "execution_count": 73,
   "id": "a4f8a73a",
   "metadata": {},
   "outputs": [],
   "source": [
    "import plotly.graph_objects as go\n",
    "import plotly.express as px\n",
    "import numpy as np\n",
    "import pandas as pd"
   ]
  },
  {
   "cell_type": "code",
   "execution_count": null,
   "id": "35491c75",
   "metadata": {},
   "outputs": [],
   "source": [
    "tips = px.data.tips()\n",
    "iris = px.data.iris()\n",
    "gap = px.data.gapminder()\n",
    "gap.head()"
   ]
  },
  {
   "cell_type": "code",
   "execution_count": null,
   "id": "7b54f514",
   "metadata": {},
   "outputs": [],
   "source": [
    "t= gap[gap['year']==2008]\n",
    "t"
   ]
  },
  {
   "cell_type": "code",
   "execution_count": null,
   "id": "ee4442b3",
   "metadata": {},
   "outputs": [],
   "source": [
    "trace1 = go.Scatter(x=t['gdpPercap'], y=t['lifeExp'])\n",
    "trace2 = go.Scatter(x=t['gdpPercap'], y=t['lifeExp'])\n",
    "\n",
    "\n",
    "data = [trace1, trace2]\n",
    "layout = go.Layout(title='GDP per Capita vs Life Expectancy',\n",
    "                   xaxis=dict(title='GDP per Capita'),\n",
    "                   yaxis=dict(title='Life Expectancy'))\n",
    "\n",
    "fig = go.Figure(data=data, layout=layout)\n",
    "fig.show()\n"
   ]
  }
 ],
 "metadata": {
  "kernelspec": {
   "display_name": "Python 3",
   "language": "python",
   "name": "python3"
  },
  "language_info": {
   "codemirror_mode": {
    "name": "ipython",
    "version": 3
   },
   "file_extension": ".py",
   "mimetype": "text/x-python",
   "name": "python",
   "nbconvert_exporter": "python",
   "pygments_lexer": "ipython3",
   "version": "3.13.7"
  }
 },
 "nbformat": 4,
 "nbformat_minor": 5
}
