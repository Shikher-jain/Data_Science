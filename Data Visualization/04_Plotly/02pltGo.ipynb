{
 "cells": [
  {
   "cell_type": "code",
   "execution_count": null,
   "id": "c79705ca",
   "metadata": {},
   "outputs": [],
   "source": [
    "import plotly.offline as pyo\n",
    "import plotly.graph_objs as go\n",
    "import numpy as np\n",
    "import pandas as pd"
   ]
  },
  {
   "cell_type": "code",
   "execution_count": null,
   "id": "152d88bc",
   "metadata": {},
   "outputs": [],
   "source": [
    "matches = pd.read_csv(\"C:\\\\shikher_jain\\\\Data_Science\\\\Data Visualization\\\\datasets\\\\extra datasets\\\\matches.csv\")\n",
    "deliveries = pd.read_csv(\"C:\\\\shikher_jain\\\\Data_Science\\\\Data Visualization\\\\datasets\\\\extra datasets\\\\deliveries.csv\")\n",
    "matches.head()\n"
   ]
  },
  {
   "cell_type": "code",
   "execution_count": null,
   "id": "d81a864c",
   "metadata": {},
   "outputs": [],
   "source": [
    "deliveries.head()"
   ]
  },
  {
   "cell_type": "code",
   "execution_count": null,
   "id": "2be18e11",
   "metadata": {},
   "outputs": [],
   "source": [
    "ipl = deliveries.merge(matches, left_on='match_id', right_on='id' )\n",
    "ipl.head()"
   ]
  },
  {
   "cell_type": "code",
   "execution_count": null,
   "id": "5486b2eb",
   "metadata": {},
   "outputs": [],
   "source": [
    "top50 = ipl.groupby('batsman')['batsman_runs'].sum().sort_values(ascending=False).head(50).index.to_list()\n",
    "top50\n",
    "\n",
    "new_ipl = ipl[ipl['batsman'].isin(top50)]\n",
    "new_ipl"
   ]
  },
  {
   "cell_type": "code",
   "execution_count": null,
   "id": "bfa9ad42",
   "metadata": {},
   "outputs": [],
   "source": [
    "\n",
    "runs = new_ipl.groupby('batsman')['batsman_runs'].sum()\n",
    "balls = new_ipl.groupby('batsman')['ball'].count()\n",
    "\n",
    "sr  = (runs/balls)*100\n",
    "sr = sr.reset_index()\n",
    "\n",
    "sr.columns = ['batsman', 'Strike Rate']\n",
    "sr"
   ]
  },
  {
   "cell_type": "code",
   "execution_count": null,
   "id": "856fc1aa",
   "metadata": {},
   "outputs": [],
   "source": [
    "out = ipl[ipl['player_dismissed'].isin(top50)]\n",
    "out"
   ]
  },
  {
   "cell_type": "code",
   "execution_count": null,
   "id": "88555a5b",
   "metadata": {},
   "outputs": [],
   "source": [
    "nouts = out['player_dismissed'].value_counts()\n",
    "nouts"
   ]
  },
  {
   "cell_type": "code",
   "execution_count": null,
   "id": "ed890a77",
   "metadata": {},
   "outputs": [],
   "source": [
    "avg = runs/nouts\n",
    "avg = avg.reset_index()\n",
    "avg.columns = ['batsman', 'Average']\n",
    "# avg.columns = ['batsman', 'Average','Strike Rate']\n",
    "\n",
    "avg = avg.merge(sr,on='batsman')\n",
    "avg.rename(columns={'index':'batsman', 0:'Average','0' :'Strike Rate'}, inplace=True)\n",
    "\n",
    "avg"
   ]
  },
  {
   "cell_type": "code",
   "execution_count": null,
   "metadata": {},
   "outputs": [],
   "source": [
    "y# trace = go.Scatter(x=avg['batsman'], y=avg['Average'], mode='lines+markers', name='Average')\n",
    "trace = go.Scatter(x=avg['Average'], y=avg[0], mode='markers', name='Average',text=avg['batsman'], marker=dict(size=12, color='rgba(152, 45, 0, .8)', line=dict(width=2, color='rgb(0, 0, 0)')))\n",
    "\n",
    "layout = go.Layout(title='Top 50 Batsman Average', xaxis={'title':'Batsman'},  yaxis={'title':'Average'})\n",
    "\n",
    "data = [trace]\n",
    "fig= go.Figure(data=data,layout=layout)\n",
    "\n",
    "pyo.plot(fig,filename='top_50_batsman_average.html')"
   ]
  },
  {
   "cell_type": "code",
   "execution_count": null,
   "metadata": {},
   "outputs": [],
   "source": [
    "# trace = go.Scatter(x=avg['batsman'], y=avg['Average'], mode='lines+markers', name='Average')\n",
    "\n",
    "single = ipl[ipl['batsman']=='V Kohli']\n",
    "\n",
    "# performance = single.groupby('season').agg({'batsman_runs':'sum','balls':'count'}).reset_index()\n",
    "\n",
    "trace = go.Scatter(x=avg['Average'], y=avg[0], mode='lines+markers', name='Average')\n",
    "\n",
    "layout = go.Layout(title='Top 50 Batsman Average', xaxis={'title':'Batsman'},  yaxis={'title':'Average'})\n",
    "\n",
    "data = [trace]\n",
    "fig= go.Figure(data=data,layout=layout)\n",
    "\n",
    "pyo.plot(fig)"
   ]
  },
  {
   "cell_type": "code",
   "execution_count": null,
   "id": "3babd4cc",
   "metadata": {},
   "outputs": [],
   "source": [
    "# trace = go.Scatter(x=avg['batsman'], y=avg['Average'], mode='lines+markers', name='Average')\n",
    "\n",
    "single = ipl[ipl['batsman']=='V Kohli']\n",
    "\n",
    "# performance = single.groupby('season').agg({'batsman_runs':'sum','balls':'count'}).reset_index()\n",
    "performance = single.groupby('season')['batsman_runs'].sum().reset_index()\n",
    "performance"
   ]
  },
  {
   "cell_type": "code",
   "execution_count": null,
   "id": "10ec7d89",
   "metadata": {},
   "outputs": [],
   "source": [
    "\n",
    "trace = go.Scatter(x=performance['season'], y=performance['batsman_runs'], mode='lines+markers', name='Batsman Performance')\n",
    "\n",
    "layout = go.Layout(title='V Kohli Performance Over Seasons', xaxis={'title':'Season'},  yaxis={'title':'Runs Scored'})\n",
    "\n",
    "data = [trace]\n",
    "fig= go.Figure(data=data,layout=layout)\n",
    "\n",
    "pyo.plot(fig,filename='v_kohli_performance_over_seasons.html')"
   ]
  },
  {
   "cell_type": "code",
   "execution_count": null,
   "id": "7a88ab80",
   "metadata": {},
   "outputs": [],
   "source": [
    "def batsman_comp(*name):\n",
    "    data = []\n",
    "    for n in name:\n",
    "        single = ipl[ipl['batsman']==n]\n",
    "        performance = single.groupby('season')['batsman_runs'].sum().reset_index()\n",
    "        trace = go.Scatter(x=performance['season'], y=performance['batsman_runs'], mode='lines+markers', name=n)\n",
    "        data.append(trace)\n",
    "\n",
    "    layout = go.Layout(title='Batsman Performance Over Seasons', xaxis={'title':'Season'},  yaxis={'title':'Runs Scored'})\n",
    "\n",
    "    fig = go.Figure(data=data, layout=layout)\n",
    "\n",
    "    pyo.plot(fig,filename='batsman_performance_over_seasons.html')\n",
    "\n",
    "    return fig"
   ]
  },
  {
   "cell_type": "code",
   "execution_count": null,
   "id": "3a980a42",
   "metadata": {},
   "outputs": [],
   "source": [
    "ipl"
   ]
  },
  {
   "cell_type": "code",
   "execution_count": null,
   "id": "ce571753",
   "metadata": {},
   "outputs": [],
   "source": [
    "batsman_comp('V Kohli','RG Sharma','S Dhawan','DA Warner','MS Dhoni')"
   ]
  },
  {
   "cell_type": "code",
   "execution_count": null,
   "id": "37fbd3b2",
   "metadata": {},
   "outputs": [],
   "source": [
    "top10 = ipl.groupby('batsman')['batsman_runs'].sum().sort_values(ascending=False).head(10).index.to_list()\n",
    "top10"
   ]
  },
  {
   "cell_type": "code",
   "execution_count": null,
   "id": "e074c37f",
   "metadata": {},
   "outputs": [],
   "source": [
    "top10_df = ipl[ipl['batsman'].isin(top10)]\n",
    "top10_df"
   ]
  },
  {
   "cell_type": "code",
   "execution_count": null,
   "id": "9b296e2a",
   "metadata": {},
   "outputs": [],
   "source": [
    "# top_scorers = top10_df.groupby('batsman')['batsman_runs'].sum().sort_values(ascending=False).head(10)\n",
    "top_scorers = top10_df.groupby('batsman')['batsman_runs'].sum().reset_index()\n",
    "top_scorers"
   ]
  },
  {
   "cell_type": "code",
   "execution_count": null,
   "id": "adc02ef6",
   "metadata": {},
   "outputs": [],
   "source": [
    "trace = go.Bar(x=top_scorers['batsman'], y=top_scorers['batsman_runs'], name='Top Scorers')\n",
    "data = [trace]\n",
    "layout = go.Layout(title='Top Batsmen in IPL', xaxis=dict(title='Batsman'), yaxis=dict(title='Runs'))\n",
    "\n",
    "fig = go.Figure(data=data, layout=layout)\n",
    "\n",
    "pyo.plot(fig, filename='top_batsmen_ipl.html')"
   ]
  },
  {
   "cell_type": "code",
   "execution_count": null,
   "id": "a0bf4101",
   "metadata": {},
   "outputs": [],
   "source": [
    "iw  =top10_df.groupby(['batsman','inning'])['batsman_runs'].sum().reset_index()\n",
    "\n",
    "mask1 = iw['inning']==1\n",
    "mask2 = iw['inning']==2\n",
    "\n",
    "one = iw[mask1]\n",
    "two = iw[mask2]\n",
    "\n",
    "one.rename(columns={'batsman_runs':'1st_inning'}, inplace=True)\n",
    "two.rename(columns={'batsman_runs':'2nd_inning'}, inplace=True)\n",
    "\n",
    "final = one.merge(two, on='batsman')[['batsman','1st_inning','2nd_inning']]\n",
    "final"
   ]
  },
  {
   "cell_type": "code",
   "execution_count": null,
   "id": "deedb8ec",
   "metadata": {},
   "outputs": [],
   "source": [
    "trace1 = go.Bar(x=final['batsman'], y=final['1st_inning'], name='1st Inning')\n",
    "trace2 = go.Bar(x=final['batsman'], y=final['2nd_inning'], name='2nd Inning')\n",
    "\n",
    "data = [trace1, trace2]\n",
    "\n",
    "layout = go.Layout(title='Top Batsmen in IPL - Inning Wise', xaxis=dict(title='Batsman'), yaxis=dict(title='Runs'), barmode='stack')\n",
    "\n",
    "fig = go.Figure(data=data, layout=layout)\n",
    "pyo.plot(fig, filename='top_batsmen_ipl_inning_wise.html')"
   ]
  },
  {
   "cell_type": "code",
   "execution_count": null,
   "id": "f7fb1d79",
   "metadata": {},
   "outputs": [],
   "source": [
    "trace1 = go.Bar(x=final['batsman'], y=final['1st_inning'], name='1st Inning')\n",
    "trace2 = go.Bar(x=final['batsman'], y=final['2nd_inning'], name='2nd Inning')\n",
    "\n",
    "data = [trace1, trace2]\n",
    "\n",
    "layout = go.Layout(title='Top Batsmen in IPL - Inning Wise', xaxis=dict(title='Batsman'), yaxis=dict(title='Runs'), barmode='overlay')\n",
    "\n",
    "fig = go.Figure(data=data, layout=layout)\n",
    "pyo.plot(fig, filename='top_batsmen_ipl_inning_wise.html')"
   ]
  },
  {
   "cell_type": "code",
   "execution_count": null,
   "id": "179b4dc5",
   "metadata": {},
   "outputs": [],
   "source": [
    "trace1 = go.Bar(x=final['batsman'], y=final['1st_inning'], name='1st Inning')\n",
    "trace2 = go.Bar(x=final['batsman'], y=final['2nd_inning'], name='2nd Inning')\n",
    "\n",
    "data = [trace1, trace2]\n",
    "\n",
    "layout = go.Layout(title='Top Batsmen in IPL - Inning Wise', xaxis=dict(title='Batsman'), yaxis=dict(title='Runs'), barmode='group')\n",
    "\n",
    "fig = go.Figure(data=data, layout=layout)\n",
    "pyo.plot(fig, filename='top_batsmen_ipl_inning_wise.html')"
   ]
  },
  {
   "cell_type": "code",
   "execution_count": null,
   "id": "66efeb90",
   "metadata": {},
   "outputs": [],
   "source": [
    "new_ipl=new_ipl[new_ipl['batsman_runs']==6]\n",
    "six = new_ipl.groupby('batsman')['batsman_runs'].count().reset_index()\n",
    "six \n",
    "x = avg.merge(six, on='batsman')\n",
    "x"
   ]
  },
  {
   "cell_type": "code",
   "execution_count": null,
   "id": "3a56f492",
   "metadata": {},
   "outputs": [],
   "source": [
    "\n",
    "trace = go.Scatter(x=x['Average'], y=x['Strike Rate'], mode='markers', name='batsman',text=x['batsman'], marker=dict(size=x['batsman_runs'],color=x['batsman_runs'], colorscale='Viridis', showscale=True) )\n",
    "layout = go.Layout(title='Batsman Performance',xaxis=dict(title='Average'),yaxis=dict(title='Strike Rate'),showlegend=True)\n",
    "data = [trace]\n",
    "fig = go.Figure(data=data, layout=layout)   \n",
    "pyo.plot(fig,filename='batsman_performance.html')"
   ]
  },
  {
   "cell_type": "code",
   "execution_count": null,
   "id": "8516adb7",
   "metadata": {},
   "outputs": [],
   "source": [
    "match_agg = deliveries.groupby('match_id')['total_runs'].sum().reset_index()\n",
    "season_wise = match_agg.merge(matches, left_on='match_id', right_on='id')[['match_id','total_runs','season']]\n",
    "season_wise"
   ]
  },
  {
   "cell_type": "code",
   "execution_count": null,
   "metadata": {},
   "outputs": [],
   "source": [
    "trace1 = go.Box(x=season_wise[season_wise['season'] == 2008]['total_runs'], name=2008)\n",
    "trace2 = go.Box(x=season_wise[season_wise['season'] == 2017]['total_runs'], name=2017)\n",
    "\n",
    "\n",
    "layout = go.Layout(title='Total Runs by Season', xaxis=dict(title='Season'), yaxis=dict(title='Total Runs'))\n",
    "data = [trace1, trace2]\n",
    "fig = go.Figure(data=data, layout=layout)\n",
    "pyo.plot(fig, filename='total_runs_by_season.html')"
   ]
  },
  {
   "cell_type": "code",
   "execution_count": null,
   "metadata": {},
   "outputs": [],
   "source": [
    "trace = go.Box(x=season_wise['total_runs'], name='Total Runs by Season')\n",
    "\n",
    "layout = go.Layout(title='Total Runs by Season', xaxis=dict(title='Season'), yaxis=dict(title='Total Runs'))\n",
    "data = [trace]\n",
    "fig = go.Figure(data=data, layout=layout)\n",
    "pyo.plot(fig, filename='total_runs_by_season.html')"
   ]
  },
  {
   "cell_type": "code",
   "execution_count": null,
   "metadata": {},
   "outputs": [],
   "source": [
    "import plotly.figure_factory as ff"
   ]
  },
  {
   "cell_type": "code",
   "execution_count": null,
   "metadata": {},
   "outputs": [],
   "source": [
    "avg"
   ]
  },
  {
   "cell_type": "code",
   "execution_count": null,
   "metadata": {},
   "outputs": [],
   "source": [
    "hist_data = [avg['Average'], avg['Strike Rate']]\n",
    "group_labels = ['Average', 'Strike Rate']\n",
    "fig = ff.create_distplot(hist_data, group_labels, bin_size=[1, 1])\n",
    "\n",
    "pyo.plot(fig, filename='batsman_avg_sr_dist.html')"
   ]
  },
  {
   "cell_type": "code",
   "execution_count": null,
   "metadata": {},
   "outputs": [],
   "source": [
    "x = deliveries.groupby('batsman')['batsman_runs'].count() > 150\n",
    "x = x[x].index.tolist()\n",
    "\n",
    "new = deliveries[deliveries['batsman'].isin(x)] \n",
    "\n",
    "runs = new.groupby('batsman')['batsman_runs'].sum()\n",
    "balls = new.groupby('batsman')['batsman_runs'].count()\n",
    "\n",
    "sr = (runs / balls * 100).reset_index()\n",
    "\n",
    "sr.columns = ['batsman', 'Strike Rate']\n",
    "sr"
   ]
  },
  {
   "cell_type": "code",
   "execution_count": null,
   "metadata": {},
   "outputs": [],
   "source": [
    "trace = go.Histogram(x=sr['Strike Rate'], opacity=0.75,)\n",
    "layout = go.Layout(title='Batsman Strike Rate Distribution', xaxis=dict(title='Strike Rate'), yaxis=dict(title='Count'))\n",
    "\n",
    "fig = go.Figure(data=[trace], layout=layout)\n",
    "pyo.plot(fig, filename='batsman_sr_dist.html')"
   ]
  },
  {
   "cell_type": "code",
   "execution_count": null,
   "metadata": {},
   "outputs": [],
   "source": [
    "six = deliveries[deliveries['batsman_runs']==6]\n",
    "six = six.groupby(['batting_team','over'])['batsman_runs'].count().reset_index()\n",
    "six.columns = ['batting_team', 'over', '6s']\n",
    "six"
   ]
  },
  {
   "cell_type": "code",
   "execution_count": null,
   "id": "c11e8518",
   "metadata": {},
   "outputs": [],
   "source": [
    "dots = deliveries[deliveries['batsman_runs']==0]\n",
    "dots = dots.groupby(['batting_team','over'])['batsman_runs'].count().reset_index()\n",
    "dots.columns = ['batting_team', 'over', 'Dots']\n",
    "dots"
   ]
  },
  {
   "cell_type": "code",
   "execution_count": 57,
   "metadata": {},
   "outputs": [
    {
     "data": {
      "text/plain": [
       "'6s_by_over_and_team.html'"
      ]
     },
     "execution_count": 57,
     "metadata": {},
     "output_type": "execute_result"
    }
   ],
   "source": [
    "trace = go.Heatmap(z=six['6s'], y=six['over'], x=six['batting_team'], colorscale='Viridis')\n",
    "layout = go.Layout(title='6s by Over and Team', xaxis=dict(title='Over'), yaxis=dict(title='Team'))\n",
    "\n",
    "fig = go.Figure(data=[trace], layout=layout)\n",
    "pyo.plot(fig, filename='6s_by_over_and_team.html')\n"
   ]
  },
  {
   "cell_type": "code",
   "execution_count": 56,
   "id": "bca496ec",
   "metadata": {},
   "outputs": [],
   "source": [
    "from plotly import tools"
   ]
  },
  {
   "cell_type": "code",
   "execution_count": null,
   "metadata": {},
   "outputs": [
    {
     "name": "stderr",
     "output_type": "stream",
     "text": [
      "c:\\Users\\Kirti\\AppData\\Local\\Programs\\Python\\Python313\\Lib\\site-packages\\plotly\\tools.py:453: DeprecationWarning:\n",
      "\n",
      "plotly.tools.make_subplots is deprecated, please use plotly.subplots.make_subplots instead\n",
      "\n"
     ]
    },
    {
     "data": {
      "text/plain": [
       "'6s_by_over_and_team.html'"
      ]
     },
     "execution_count": 58,
     "metadata": {},
     "output_type": "execute_result"
    }
   ],
   "source": [
    "trace1 = go.Heatmap(z=six['6s'], y=six['over'], x=six['batting_team'], colorscale='Viridis')\n",
    "trace2 = go.Heatmap(z=dots['Dots'], y=dots['over'], x=dots['batting_team'], colorscale='Viridis')\n",
    "layout = go.Layout(title='6s and Dots by Over and Team', xaxis=dict(title='Over'), yaxis=dict(title='Team'))\n",
    "\n",
    "# fig = go.Figure(data=[trace1, trace2], layout=layout)\n",
    "fig = tools.make_subplots(rows=1, cols=2, subplot_titles=('6s', 'Dots'),shared_yaxes=True)\n",
    "\n",
    "fig.append_trace(trace1, 1, 1)\n",
    "fig.append_trace(trace2, 1, 2)\n",
    "\n",
    "pyo.plot(fig, filename='6s_by_over_and_team.html')\n"
   ]
  },
  {
   "cell_type": "code",
   "execution_count": null,
   "id": "1fe71d9f",
   "metadata": {},
   "outputs": [],
   "source": []
  },
  {
   "cell_type": "code",
   "execution_count": null,
   "metadata": {},
   "outputs": [],
   "source": []
  },
  {
   "cell_type": "code",
   "execution_count": null,
   "metadata": {},
   "outputs": [],
   "source": []
  },
  {
   "cell_type": "code",
   "execution_count": null,
   "metadata": {},
   "outputs": [],
   "source": []
  },
  {
   "cell_type": "code",
   "execution_count": null,
   "metadata": {},
   "outputs": [],
   "source": []
  },
  {
   "cell_type": "code",
   "execution_count": null,
   "id": "d9a99821",
   "metadata": {},
   "outputs": [],
   "source": []
  }
 ],
 "metadata": {
  "kernelspec": {
   "display_name": "Python 3",
   "language": "python",
   "name": "python3"
  },
  "language_info": {
   "codemirror_mode": {
    "name": "ipython",
    "version": 3
   },
   "file_extension": ".py",
   "mimetype": "text/x-python",
   "name": "python",
   "nbconvert_exporter": "python",
   "pygments_lexer": "ipython3",
   "version": "3.13.7"
  }
 },
 "nbformat": 4,
 "nbformat_minor": 5
}
