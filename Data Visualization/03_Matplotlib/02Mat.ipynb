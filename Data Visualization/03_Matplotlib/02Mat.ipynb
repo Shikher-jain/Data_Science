{
 "cells": [
  {
   "cell_type": "code",
   "execution_count": null,
   "id": "25a33717",
   "metadata": {},
   "outputs": [],
   "source": [
    "import matplotlib.pyplot as plt\n",
    "import numpy as np\n",
    "import pandas as pd"
   ]
  },
  {
   "cell_type": "code",
   "execution_count": null,
   "id": "2e2bd455",
   "metadata": {},
   "outputs": [],
   "source": [
    "iris = pd.read_csv(r\"C:\\shikher_jain\\Data_Science\\Data Visualization\\datasets\\datasets-session-24\\iris.csv\")\n",
    "iris.sample(5)"
   ]
  },
  {
   "cell_type": "code",
   "execution_count": null,
   "id": "69905e49",
   "metadata": {},
   "outputs": [],
   "source": [
    "iris.sample(5)"
   ]
  },
  {
   "cell_type": "code",
   "execution_count": null,
   "id": "71c5269c",
   "metadata": {},
   "outputs": [],
   "source": [
    "\n",
    "iris['Species'].replace({'Iris-versicolor': 1, 'Iris-virginica': 2, 'Iris-setosa': 0}, inplace=True)"
   ]
  },
  {
   "cell_type": "code",
   "execution_count": null,
   "id": "9f506332",
   "metadata": {},
   "outputs": [],
   "source": [
    "plt.figure(figsize=(10,6))\n",
    "\n",
    "plt.scatter(iris['SepalLengthCm'], iris['PetalLengthCm'],c=iris['Species'])\n",
    "plt.xlabel('Sepal Length (cm)')\n",
    "plt.ylabel('Petal Length (cm)')\n",
    "plt.title('Sepal Length vs Petal Length')\n",
    "plt.colorbar()\n",
    "plt.legend(['Iris-setosa', 'Iris-versicolor', 'Iris-virginica'])\n",
    "plt.show()"
   ]
  },
  {
   "cell_type": "code",
   "execution_count": null,
   "id": "c383eeaa",
   "metadata": {},
   "outputs": [],
   "source": [
    "df = pd.read_csv(r\"C:\\shikher_jain\\Data_Science\\Data Visualization\\datasets\\datasets-session-24\\batter.csv\")\n",
    "df = df.sort_values(by=['avg','strike_rate'], ascending=False)\n",
    "\n",
    "df = df.head(20)"
   ]
  },
  {
   "cell_type": "code",
   "execution_count": null,
   "id": "e62ec19d",
   "metadata": {},
   "outputs": [],
   "source": [
    "plt.figure(figsize=(10,6))\n",
    "\n",
    "plt.scatter(df['avg'], df['strike_rate'], s=df['runs']//10)\n",
    "plt.xlabel('Average')\n",
    "plt.ylabel('Strike Rate')\n",
    "plt.title('Batsman Average vs Strike Rate')\n",
    "\n",
    "for i in range(len(df)):\n",
    "    plt.text(df['avg'].iloc[i], df['strike_rate'].iloc[i], df['batter'].iloc[i])\n",
    "\n",
    "plt.grid()\n",
    "\n",
    "\n",
    "plt.axhline(120,c='r')\n",
    "plt.axvline(35,c='r')\n",
    "plt.axhline(130,c='g')\n",
    "plt.axvline(45,c='g')\n",
    "\n",
    "plt.show()"
   ]
  },
  {
   "cell_type": "markdown",
   "id": "590774b7",
   "metadata": {},
   "source": [
    "# Subplots"
   ]
  },
  {
   "cell_type": "code",
   "execution_count": null,
   "id": "d155d861",
   "metadata": {},
   "outputs": [],
   "source": [
    "fig, ax = plt.subplots(figsize=(10,6))\n",
    "\n",
    "ax.scatter(df['avg'], df['strike_rate'])\n",
    "ax.set_title('Batsman Average vs Strike Rate')\n",
    "ax.set_xlabel('Average')\n",
    "ax.set_ylabel('Strike Rate')\n",
    "fig.show()"
   ]
  },
  {
   "cell_type": "code",
   "execution_count": null,
   "id": "c9f32d19",
   "metadata": {},
   "outputs": [],
   "source": [
    "fig, ax = plt.subplots(figsize=(10,6),nrows=1,ncols=2)\n",
    "\n",
    "ax[0].scatter(df['avg'], df['strike_rate'])\n",
    "ax[0].set_title('Batsman Average vs Strike Rate')\n",
    "ax[0].set_xlabel('Average')\n",
    "ax[0].set_ylabel('Strike Rate')\n",
    "\n",
    "ax[1].scatter(df['batter'], df['runs'])\n",
    "ax[1].set_title('Batsman Runs') \n",
    "ax[1].set_xlabel('Batter')\n",
    "ax[1].set_ylabel('Runs')\n",
    "\n",
    "fig.tight_layout()\n",
    "fig.show()"
   ]
  },
  {
   "cell_type": "code",
   "execution_count": null,
   "id": "206fe63d",
   "metadata": {},
   "outputs": [],
   "source": [
    "fig, ax = plt.subplots(figsize=(10,6),nrows=2,ncols=2)\n",
    "\n",
    "ax[0,0].scatter(df['avg'], df['strike_rate'])\n",
    "ax[0,0].set_title('Batsman Average vs Strike Rate')\n",
    "ax[0,0].set_xlabel('Average')\n",
    "ax[0,0].set_ylabel('Strike Rate')\n",
    "\n",
    "ax[1,0].scatter(df['batter'], df['runs'])\n",
    "ax[1,0].set_title('Batsman Runs') \n",
    "ax[1,0].set_xlabel('Batter')\n",
    "ax[1,0].set_ylabel('Runs')\n",
    "\n",
    "ax[0,1].hist(df['avg'])\n",
    "ax[0,1].set_title('Batsman Average Distribution')\n",
    "ax[0,1].set_xlabel('Average')\n",
    "ax[0,1].set_ylabel('Frequency')\n",
    "\n",
    "ax[1,1].hist(df['runs'], bins=10)\n",
    "ax[1,1].set_title('Batsman Runs Distribution') \n",
    "ax[1,1].set_xlabel('Runs')\n",
    "ax[1,1].set_ylabel('Frequency')\n",
    "fig.tight_layout()"
   ]
  },
  {
   "cell_type": "code",
   "execution_count": null,
   "id": "74b12cf7",
   "metadata": {},
   "outputs": [],
   "source": [
    "fig = plt.figure()\n",
    "ax1 = fig.add_subplot(2,2,1)\n",
    "ax2 = fig.add_subplot(2,2,2)\n",
    "ax3 = fig.add_subplot(2,2,3)\n",
    "ax4 = fig.add_subplot(2,2,4)\n",
    "\n",
    "ax1.scatter(df['avg'], df['strike_rate'])\n",
    "ax2.scatter(df['batter'], df['runs'])\n",
    "ax3.hist(df['avg'])\n",
    "ax4.hist(df['runs'])\n",
    "fig.tight_layout()"
   ]
  },
  {
   "cell_type": "code",
   "execution_count": null,
   "id": "bf66c222",
   "metadata": {},
   "outputs": [],
   "source": [
    "df\n",
    "\n",
    "fig = plt.figure()\n",
    "\n",
    "ax = fig.add_subplot(projection='3d')\n",
    "\n",
    "ax.scatter3D(df['avg'], df['strike_rate'], df['runs'])\n",
    "ax.set_xlabel('Average')\n",
    "ax.set_ylabel('Strike Rate')\n",
    "ax.set_zlabel('Runs')\n",
    "ax.set_title('IPL Data Analysis 3D Scatter Plot')"
   ]
  },
  {
   "cell_type": "code",
   "execution_count": null,
   "id": "5bd71fa7",
   "metadata": {},
   "outputs": [],
   "source": [
    "x = [12,9,10,0,23]\n",
    "y = [5,15,25,14,19]\n",
    "z = [100,200,300,145,250]\n",
    "\n",
    "fig = plt.figure()\n",
    "ax = fig.add_subplot(projection='3d')\n",
    "ax.scatter3D(x,y,z,c=['r','g','b','y','c'],s=150)\n",
    "ax.plot3D(x,y,z,c='pink',)\n"
   ]
  },
  {
   "cell_type": "code",
   "execution_count": null,
   "id": "aa33559a",
   "metadata": {},
   "outputs": [],
   "source": [
    "x = np.linspace(-10,10,100)\n",
    "y = np.linspace(-10,10,100)"
   ]
  },
  {
   "cell_type": "code",
   "execution_count": null,
   "id": "51a8eb84",
   "metadata": {},
   "outputs": [],
   "source": [
    "xx, yy = np.meshgrid(x,y)\n",
    "z = xx**2 + yy**2"
   ]
  },
  {
   "cell_type": "code",
   "execution_count": null,
   "id": "3152fa85",
   "metadata": {},
   "outputs": [],
   "source": [
    "fig = plt.figure(figsize=(10,8))\n",
    "ax = fig.add_subplot(projection='3d')\n",
    "\n",
    "p = ax.plot_surface(xx, yy, z, cmap='viridis')\n",
    "#p = ax.plot_surface(xx, yy, z)\n",
    "\n",
    "fig.colorbar(p)"
   ]
  },
  {
   "cell_type": "code",
   "execution_count": null,
   "id": "f3f7adb8",
   "metadata": {},
   "outputs": [],
   "source": [
    "fig = plt.figure(figsize=(10,8))\n",
    "ax = fig.add_subplot()\n",
    "\n",
    "c = ax.contour(xx, yy, z, cmap='viridis')\n",
    "fig.colorbar(c)\n"
   ]
  },
  {
   "cell_type": "code",
   "execution_count": null,
   "id": "ffc2f1b8",
   "metadata": {},
   "outputs": [],
   "source": [
    "fig = plt.figure(figsize=(10,8))\n",
    "ax = fig.add_subplot()\n",
    "cf = ax.contourf(xx, yy, z, cmap='viridis')\n",
    "\n",
    "fig.colorbar(cf)"
   ]
  },
  {
   "cell_type": "code",
   "execution_count": null,
   "metadata": {},
   "outputs": [],
   "source": []
  },
  {
   "cell_type": "code",
   "execution_count": null,
   "id": "41695dca",
   "metadata": {},
   "outputs": [],
   "source": []
  },
  {
   "cell_type": "code",
   "execution_count": null,
   "metadata": {},
   "outputs": [],
   "source": [
    "ball = pd.read_csv(r\"C:\\shikher_jain\\Data_Science\\Data Visualization\\datasets\\datasets-session-24\\IPL_Ball_by_Ball_2008_2022.csv\")\n",
    "ball.head()"
   ]
  },
  {
   "cell_type": "code",
   "execution_count": null,
   "id": "856147cc",
   "metadata": {},
   "outputs": [],
   "source": [
    "t_df = ball[(ball['ballnumber'].isin([1,2,3,4,5,6])) & (ball['batsman_run'] == 6)]\n",
    "t_df"
   ]
  },
  {
   "cell_type": "code",
   "execution_count": null,
   "id": "eb757856",
   "metadata": {},
   "outputs": [],
   "source": [
    "grid = t_df.pivot_table(index='overs', columns='ballnumber', values='batsman_run', aggfunc='count')\n",
    "grid"
   ]
  },
  {
   "cell_type": "code",
   "execution_count": null,
   "metadata": {},
   "outputs": [],
   "source": [
    "plt.figure(figsize=(10,6))\n",
    "plt.imshow(grid)\n",
    "plt.xlabel('Ball Number')\n",
    "plt.ylabel('Over')\n",
    "plt.title('6s Scored in First 6 Balls of Each Over')\n",
    "plt.xticks(ticks=range(len(grid.columns)), labels=grid.columns)\n",
    "plt.yticks(ticks=range(len(grid.index)), labels=grid.index + 1)\n",
    "plt.colorbar()"
   ]
  },
  {
   "cell_type": "code",
   "execution_count": null,
   "id": "e1c216af",
   "metadata": {},
   "outputs": [],
   "source": [
    "tips = sns.load_dataset('tips')\n",
    "tips.head() "
   ]
  },
  {
   "cell_type": "code",
   "execution_count": null,
   "id": "d009b78f",
   "metadata": {},
   "outputs": [],
   "source": [
    "tips.plot(kind='scatter', x='total_bill', y='tip', alpha=0.25,title = \"Cost Analysis\",c='sex',cmap='viridis',marker = \".\",s=tips['size']*100)"
   ]
  },
  {
   "cell_type": "code",
   "execution_count": null,
   "id": "db1ca320",
   "metadata": {},
   "outputs": [],
   "source": [
    "stocks = pd.read_csv('https://raw.githubusercontent.com/m-mehdi/pandas_tutorials/main/weekly_stocks.csv')\n",
    "stocks.head()"
   ]
  },
  {
   "cell_type": "code",
   "execution_count": null,
   "id": "74632794",
   "metadata": {},
   "outputs": [],
   "source": [
    "stocks.plot(kind='line',x='Date')\n"
   ]
  },
  {
   "cell_type": "code",
   "execution_count": 240,
   "id": "78b7cd1f",
   "metadata": {},
   "outputs": [
    {
     "data": {
      "text/plain": [
       "array([<Axes: >, <Axes: >, <Axes: >], dtype=object)"
      ]
     },
     "execution_count": 240,
     "metadata": {},
     "output_type": "execute_result"
    },
    {
     "data": {
      "image/png": "[encoded data removed]",
      "text/plain": [
       "<Figure size 640x480 with 3 Axes>"
      ]
     },
     "metadata": {},
     "output_type": "display_data"
    }
   ],
   "source": [
    "stocks.plot(kind='line',subplots=True)"
   ]
  },
  {
   "cell_type": "code",
   "execution_count": null,
   "metadata": {},
   "outputs": [],
   "source": []
  }
 ],
 "metadata": {
  "kernelspec": {
   "display_name": "Python 3",
   "language": "python",
   "name": "python3"
  },
  "language_info": {
   "codemirror_mode": {
    "name": "ipython",
    "version": 3
   },
   "file_extension": ".py",
   "mimetype": "text/x-python",
   "name": "python",
   "nbconvert_exporter": "python",
   "pygments_lexer": "ipython3",
   "version": "3.13.7"
  }
 },
 "nbformat": 4,
 "nbformat_minor": 5
}
