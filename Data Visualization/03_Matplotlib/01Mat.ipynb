{
 "cells": [
  {
   "cell_type": "code",
   "execution_count": null,
   "id": "e18eeedc",
   "metadata": {},
   "outputs": [],
   "source": [
    "import matplotlib.pyplot as plt\n",
    "import numpy as np\n",
    "import pandas as pd\n",
    "import seaborn as sns"
   ]
  },
  {
   "cell_type": "code",
   "execution_count": null,
   "id": "5dc8da82",
   "metadata": {},
   "outputs": [],
   "source": [
    "price = [100, 170, 286, 240, 150]\n",
    "year = [2018, 2019, 2020, 2021, 2022]\n",
    "\n",
    "plt.plot(year, price)\n",
    "plt.xlabel('Year')\n",
    "plt.ylabel('Price')\n",
    "plt.title('Price over Years')\n",
    "plt.show()"
   ]
  },
  {
   "cell_type": "code",
   "execution_count": null,
   "id": "4419bd62",
   "metadata": {},
   "outputs": [],
   "source": [
    "batsman = pd.read_csv(r'C:\\shikher_jain\\Data_Science\\Data Visualization\\datasets\\datasets-session-23\\sharma-kohli.csv')\n",
    "batsman"
   ]
  },
  {
   "cell_type": "code",
   "execution_count": null,
   "id": "58aefba3",
   "metadata": {},
   "outputs": [],
   "source": [
    "\n",
    "plt.plot(batsman['index'], batsman['RG Sharma'], color='blue', linestyle='-.', linewidth=2, marker='*', markersize=8,label = \"rohit sharma\")\n",
    "plt.plot(batsman['index'], batsman['V Kohli'], color='red', linestyle=':', linewidth=3, marker='>', markersize=8,label = \"virat kohli\")\n",
    "plt.xlabel('Year')\n",
    "plt.ylabel('Runs')\n",
    "\n",
    "plt.xlim(batsman['index'].min(), batsman['index'].max())\n",
    "plt.ylim(0, 750)\n",
    "\n",
    "plt.title('Batsman Performance Over Years')\n",
    "plt.legend(loc='upper left')\n",
    "plt.grid()\n",
    "plt.show()"
   ]
  },
  {
   "cell_type": "code",
   "execution_count": null,
   "id": "db4b239a",
   "metadata": {},
   "outputs": [],
   "source": [
    "x= np.linspace(-10,10,50)\n",
    "y = x*10 + 9 + np.random.randint(0,300,50)\n",
    "x,y\n",
    "\n",
    "plt.scatter(x,y)\n"
   ]
  },
  {
   "cell_type": "code",
   "execution_count": null,
   "metadata": {},
   "outputs": [],
   "source": [
    "plt.scatter(x,y)"
   ]
  },
  {
   "cell_type": "code",
   "execution_count": null,
   "id": "53b2573d",
   "metadata": {},
   "outputs": [],
   "source": []
  },
  {
   "cell_type": "code",
   "execution_count": null,
   "id": "6dd5b989",
   "metadata": {},
   "outputs": [],
   "source": [
    "df = pd.read_csv(r\"C:\\shikher_jain\\Data_Science\\Data Visualization\\datasets\\datasets-session-23\\batter.csv\")\n",
    "df = df.head(50)"
   ]
  },
  {
   "cell_type": "code",
   "execution_count": null,
   "metadata": {},
   "outputs": [],
   "source": [
    "plt.scatter(df['avg'], df['strike_rate'])\n",
    "plt.xlabel('Average')\n",
    "plt.ylabel('Strike Rate')\n",
    "plt.title('Batsman Average vs Strike Rate')\n",
    "plt.grid()\n",
    "\n",
    "plt.show()"
   ]
  },
  {
   "cell_type": "code",
   "execution_count": null,
   "id": "32879aa7",
   "metadata": {},
   "outputs": [],
   "source": [
    "tips = sns.load_dataset('tips')\n",
    "tips['size']\n"
   ]
  },
  {
   "cell_type": "code",
   "execution_count": null,
   "id": "d0119d7c",
   "metadata": {},
   "outputs": [],
   "source": [
    "plt.scatter(tips['total_bill'], tips['tip'], c=tips['size'], cmap='viridis', s=tips['size']*15, alpha=0.7)\n"
   ]
  },
  {
   "cell_type": "code",
   "execution_count": null,
   "id": "19adc559",
   "metadata": {},
   "outputs": [],
   "source": [
    "plt.plot(tips['total_bill'], tips['tip'], '+')"
   ]
  },
  {
   "cell_type": "code",
   "execution_count": null,
   "id": "1256bbc2",
   "metadata": {},
   "outputs": [],
   "source": [
    "children= [12,53,45,6,33,57]\n",
    "colors =['red','blue','green','yellow','orange','pink']\n",
    "\n",
    "plt.bar(colors,children, color=colors)\n",
    "plt.show()\n",
    "plt.barh(colors,children, color=colors)\n",
    "plt.show()"
   ]
  },
  {
   "cell_type": "code",
   "execution_count": null,
   "id": "d1021e2f",
   "metadata": {},
   "outputs": [],
   "source": [
    "df = pd.read_csv(r\"C:\\shikher_jain\\Data_Science\\Data Visualization\\datasets\\datasets-session-23\\batsman_season_record.csv\")\n",
    "df"
   ]
  },
  {
   "cell_type": "code",
   "execution_count": null,
   "id": "e1e1b12a",
   "metadata": {},
   "outputs": [],
   "source": [
    "df.plot(kind='bar')\n",
    "# df.plot(kind='barh')"
   ]
  },
  {
   "cell_type": "code",
   "execution_count": null,
   "id": "fbb9564c",
   "metadata": {},
   "outputs": [],
   "source": [
    "plt.bar(np.arange(len(df)), df['2015'], color='red',width=0.2)\n",
    "plt.bar(np.arange(len(df)) + 0.2, df['2016'], color='green',width=0.2)\n",
    "plt.bar(np.arange(len(df)) + 0.4, df['2017'], color='blue',width=0.2)\n",
    "plt.legend(['2015', '2016', '2017'])\n",
    "\n",
    "plt.xticks(np.arange(len(df)) + 0.2, df['batsman'])\n",
    "# plt.xticks(np.arange(len(df)) + 0.2, df['batsman'], rotation=45)\n",
    "# plt.xticks(np.arange(len(df)) + 0.2, df['batsman'], rotation='vertical')\n",
    "plt.show()"
   ]
  },
  {
   "cell_type": "code",
   "execution_count": null,
   "id": "e61441ad",
   "metadata": {},
   "outputs": [],
   "source": [
    "plt.bar(df['batsman'], df['2015'], color='red',)\n",
    "plt.bar(df['batsman'], df['2016'], color='green',bottom=df['2015'])\n",
    "plt.bar(df['batsman'], df['2017'], color='blue',bottom=df['2015']+df['2016'])\n",
    "plt.legend(['2015', '2016', '2017'])\n",
    "plt.xticks(rotation='vertical')\n",
    "plt.show()"
   ]
  },
  {
   "cell_type": "code",
   "execution_count": null,
   "id": "b2f12365",
   "metadata": {},
   "outputs": [],
   "source": [
    "data = [1,2,4,3,7,3,4,4,5,8,8,3,3,7,8,3,4,8,8,8,8,6]\n",
    "\n",
    "# plt.hist(data, bins=12, color='blue', edgecolor='black', alpha=0.21)\n",
    "plt.hist(data, bins=[1, 2, 3, 4, 5, 6, 7, 8], color='blue', edgecolor='black', alpha=0.21)"
   ]
  },
  {
   "cell_type": "code",
   "execution_count": null,
   "id": "4ea1bb90",
   "metadata": {},
   "outputs": [],
   "source": [
    "vk = pd.read_csv(r\"C:\\shikher_jain\\Data_Science\\Data Visualization\\datasets\\datasets-session-23\\vk.csv\")\n",
    "vk"
   ]
  },
  {
   "cell_type": "code",
   "execution_count": null,
   "metadata": {},
   "outputs": [],
   "source": [
    "plt.hist(vk['batsman_runs'], bins=[0,10, 20,30, 40,50, 60,70, 80,90, 100,110,120], color='blue', edgecolor='black', alpha=0.67)\n",
    "plt.show()"
   ]
  },
  {
   "cell_type": "code",
   "execution_count": null,
   "id": "0c8e348c",
   "metadata": {},
   "outputs": [],
   "source": [
    "arr = np.load(r\"C:\\shikher_jain\\Data_Science\\Data Visualization\\datasets\\datasets-session-23\\big-array.npy\")\n",
    "arr"
   ]
  },
  {
   "cell_type": "code",
   "execution_count": null,
   "id": "b3257670",
   "metadata": {},
   "outputs": [],
   "source": [
    "plt.hist(arr, color='blue', edgecolor='black')\n",
    "plt.show()\n",
    "plt.hist(arr, color='blue', edgecolor='black', log=True)\n",
    "plt.show()"
   ]
  },
  {
   "cell_type": "code",
   "execution_count": null,
   "metadata": {},
   "outputs": [],
   "source": [
    "data = [12, 19, 3, 5, 2, 3]\n",
    "plt.pie(data, labels=['A', 'B', 'C', 'D', 'E', 'F'])\n",
    "plt.show()\n",
    "plt.pie(data, labels=['A', 'B', 'C', 'D', 'E', 'F'], autopct='%1.1f%%', )\n",
    "plt.show()\n",
    "plt.pie(data, labels=['A', 'B', 'C', 'D', 'E', 'F'], autopct='%1.1f%%', startangle=140, explode=[0.1, 0, 0, 0, 0, 0], shadow=True)\n",
    "plt.show()"
   ]
  },
  {
   "cell_type": "code",
   "execution_count": null,
   "id": "a307f03e",
   "metadata": {},
   "outputs": [],
   "source": [
    "df = pd.read_csv(r\"C:\\shikher_jain\\Data_Science\\Data Visualization\\datasets\\datasets-session-23\\gayle-175.csv\")\n",
    "df"
   ]
  },
  {
   "cell_type": "code",
   "execution_count": null,
   "id": "c08e2011",
   "metadata": {},
   "outputs": [],
   "source": [
    "plt.pie(df['batsman_runs'], labels=df['batsman'], autopct='%1.1f%%', startangle=140)\n",
    "plt.savefig(r\"C:\\shikher_jain\\Data_Science\\Data Visualization\\All_Graphs\\pie_chart.png\") "
   ]
  },
  {
   "cell_type": "code",
   "execution_count": null,
   "id": "74ef6ee8",
   "metadata": {},
   "outputs": [],
   "source": []
  },
  {
   "cell_type": "code",
   "execution_count": null,
   "id": "a522025c",
   "metadata": {},
   "outputs": [],
   "source": []
  },
  {
   "cell_type": "code",
   "execution_count": null,
   "id": "14acf014",
   "metadata": {},
   "outputs": [],
   "source": []
  }
 ],
 "metadata": {
  "kernelspec": {
   "display_name": "Python 3",
   "language": "python",
   "name": "python3"
  },
  "language_info": {
   "codemirror_mode": {
    "name": "ipython",
    "version": 3
   },
   "file_extension": ".py",
   "mimetype": "text/x-python",
   "name": "python",
   "nbconvert_exporter": "python",
   "pygments_lexer": "ipython3",
   "version": "3.13.7"
  }
 },
 "nbformat": 4,
 "nbformat_minor": 5
}
