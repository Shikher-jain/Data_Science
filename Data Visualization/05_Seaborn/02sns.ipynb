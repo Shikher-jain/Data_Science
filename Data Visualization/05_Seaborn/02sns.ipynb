{
 "cells": [
  {
   "cell_type": "code",
   "execution_count": null,
   "id": "044fc800",
   "metadata": {},
   "outputs": [],
   "source": [
    "import numpy as np\n",
    "import pandas as pd\n",
    "\n",
    "import matplotlib.pyplot as plt\n",
    "import seaborn as sns\n",
    "plt.style.use('ggplot')"
   ]
  },
  {
   "cell_type": "code",
   "execution_count": null,
   "id": "c1f6e71f",
   "metadata": {},
   "outputs": [],
   "source": [
    "\n",
    "df = sns.load_dataset('diamonds')"
   ]
  },
  {
   "cell_type": "code",
   "execution_count": null,
   "id": "d1670aee",
   "metadata": {},
   "outputs": [],
   "source": [
    "sns.violinplot(df,x = 'cut',y = 'price')"
   ]
  },
  {
   "cell_type": "code",
   "execution_count": null,
   "metadata": {},
   "outputs": [],
   "source": [
    "sns.lmplot(df,x='carat',y='price',hue=\"cut\")"
   ]
  },
  {
   "cell_type": "code",
   "execution_count": null,
   "metadata": {},
   "outputs": [],
   "source": [
    "sns.lmplot(df,x='carat',y='price',col=\"cut\",col_wrap=3,hue='cut')"
   ]
  },
  {
   "cell_type": "code",
   "execution_count": null,
   "id": "d970203e",
   "metadata": {},
   "outputs": [],
   "source": [
    "sns.catplot(data= df,x=\"color\",y =\"price\",kind=\"box\")"
   ]
  },
  {
   "cell_type": "code",
   "execution_count": null,
   "id": "8af7c065",
   "metadata": {},
   "outputs": [],
   "source": [
    "sns.boxplot(df,x=\"color\",y =\"price\")"
   ]
  },
  {
   "cell_type": "code",
   "execution_count": null,
   "id": "b4a4ad42",
   "metadata": {},
   "outputs": [],
   "source": [
    "df1 = sns.load_dataset('taxis')"
   ]
  },
  {
   "cell_type": "code",
   "execution_count": null,
   "id": "52ac1bf4",
   "metadata": {},
   "outputs": [],
   "source": [
    "df1.shape \n",
    "df1.head(2)"
   ]
  },
  {
   "cell_type": "code",
   "execution_count": null,
   "id": "aaafd207",
   "metadata": {},
   "outputs": [],
   "source": [
    "df1.info()"
   ]
  },
  {
   "cell_type": "code",
   "execution_count": null,
   "id": "b989bb02",
   "metadata": {},
   "outputs": [],
   "source": [
    "sns.catplot(df1,x='payment',y='total',kind=\"point\")"
   ]
  },
  {
   "cell_type": "code",
   "execution_count": null,
   "id": "633acc9c",
   "metadata": {},
   "outputs": [],
   "source": [
    "df1['time'] = pd.to_datetime(df1['dropoff']) - pd.to_datetime(df1['pickup'])"
   ]
  },
  {
   "cell_type": "code",
   "execution_count": null,
   "id": "be54a425",
   "metadata": {},
   "outputs": [],
   "source": [
    "df['time'] = round(df1['time'].dt.total_seconds()/60,2)"
   ]
  },
  {
   "cell_type": "code",
   "execution_count": null,
   "id": "a513e7a5",
   "metadata": {},
   "outputs": [],
   "source": [
    "# sns.lmplot(data = df1,x='time' ,y='total')"
   ]
  }
 ],
 "metadata": {
  "kernelspec": {
   "display_name": ".venv",
   "language": "python",
   "name": "python3"
  },
  "language_info": {
   "codemirror_mode": {
    "name": "ipython",
    "version": 3
   },
   "file_extension": ".py",
   "mimetype": "text/x-python",
   "name": "python",
   "nbconvert_exporter": "python",
   "pygments_lexer": "ipython3",
   "version": "3.13.7"
  }
 },
 "nbformat": 4,
 "nbformat_minor": 5
}
