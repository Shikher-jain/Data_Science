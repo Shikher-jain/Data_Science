{
 "cells": [
  {
   "cell_type": "code",
   "execution_count": null,
   "id": "2ecd4a78",
   "metadata": {},
   "outputs": [],
   "source": [
    "import seaborn as sns\n",
    "import matplotlib.pyplot as plt\n",
    "import plotly.express as px"
   ]
  },
  {
   "cell_type": "code",
   "execution_count": null,
   "metadata": {},
   "outputs": [],
   "source": [
    "tips = sns.load_dataset(\"tips\")\n",
    "tips"
   ]
  },
  {
   "cell_type": "code",
   "execution_count": null,
   "id": "1341263a",
   "metadata": {},
   "outputs": [],
   "source": [
    "# Axes level fx\n",
    "\n",
    "# sns.scatterplot(data=tips, x=\"total_bill\", y=\"tip\", hue=\"day\", style=\"time\", size=\"size\")\n",
    "sns.scatterplot(data=tips, x=\"total_bill\", y=\"tip\", hue=\"sex\", style=\"time\", size=\"size\")"
   ]
  },
  {
   "cell_type": "code",
   "execution_count": null,
   "id": "3161c1e0",
   "metadata": {},
   "outputs": [],
   "source": [
    "# Figure level fx\n",
    "\n",
    "sns.relplot(data=tips, x=\"total_bill\", y=\"tip\", hue=\"day\", style=\"time\", size=\"size\")"
   ]
  },
  {
   "cell_type": "code",
   "execution_count": null,
   "id": "75232640",
   "metadata": {},
   "outputs": [],
   "source": [
    "gap = px.data.gapminder()\n",
    "gap.head()"
   ]
  },
  {
   "cell_type": "code",
   "execution_count": null,
   "id": "b908e55a",
   "metadata": {},
   "outputs": [],
   "source": [
    "sns.relplot(data=gap[gap['country'] == 'India'], x=\"year\", y=\"lifeExp\", hue=\"continent\", kind = \"line\")"
   ]
  },
  {
   "cell_type": "code",
   "execution_count": null,
   "id": "4f73e448",
   "metadata": {},
   "outputs": [],
   "source": [
    "sns.lineplot(data=gap[gap['country'] == 'India'], x=\"year\", y=\"lifeExp\", hue=\"continent\")"
   ]
  },
  {
   "cell_type": "code",
   "execution_count": null,
   "metadata": {},
   "outputs": [],
   "source": [
    "df = gap[gap['country'].isin(['India', 'China', 'United States'])]\n",
    "df.sample(5)"
   ]
  },
  {
   "cell_type": "code",
   "execution_count": null,
   "metadata": {},
   "outputs": [],
   "source": [
    "sns.relplot(data=df, x=\"year\", y=\"pop\", hue=\"country\", kind=\"line\")\n",
    "sns.relplot(data=df, x=\"year\", y=\"lifeExp\", hue=\"country\", kind=\"line\")"
   ]
  },
  {
   "cell_type": "code",
   "execution_count": null,
   "id": "0ea0e3a3",
   "metadata": {},
   "outputs": [],
   "source": [
    "# sns.lineplot(data=df, x=\"year\", y=\"pop\", hue=\"country\", kind=\"line\")\n",
    "sns.lineplot(data=df, x=\"year\", y=\"lifeExp\", hue=\"country\")"
   ]
  },
  {
   "cell_type": "code",
   "execution_count": null,
   "metadata": {},
   "outputs": [],
   "source": [
    "sns.relplot(data=gap, x=\"year\", y=\"pop\", hue=\"country\", kind=\"line\")\n",
    "sns.relplot(data=gap, x=\"year\", y=\"lifeExp\", hue=\"country\", kind=\"line\", col=\"continent\")"
   ]
  },
  {
   "cell_type": "code",
   "execution_count": null,
   "id": "eef76c34",
   "metadata": {},
   "outputs": [],
   "source": [
    "sns.relplot(data=gap , x=\"gdpPercap\", y=\"lifeExp\", hue=\"country\", kind=\"scatter\", col=\"year\",col_wrap=2)"
   ]
  },
  {
   "cell_type": "code",
   "execution_count": null,
   "id": "ef509cb6",
   "metadata": {},
   "outputs": [],
   "source": [
    "sns.displot(data=tips, x=\"total_bill\",kind=\"hist\")"
   ]
  },
  {
   "cell_type": "code",
   "execution_count": null,
   "id": "60978ef3",
   "metadata": {},
   "outputs": [],
   "source": [
    "sns.displot(data=tips, x=\"total_bill\",kind=\"kde\")"
   ]
  },
  {
   "cell_type": "code",
   "execution_count": null,
   "id": "4f9c6c66",
   "metadata": {},
   "outputs": [],
   "source": [
    "sns.displot(data=tips, x=\"total_bill\", kde=True)"
   ]
  },
  {
   "cell_type": "code",
   "execution_count": null,
   "id": "27d8f3dd",
   "metadata": {},
   "outputs": [],
   "source": [
    "sns.histplot(data=tips, x=\"total_bill\")\n"
   ]
  },
  {
   "cell_type": "code",
   "execution_count": null,
   "id": "e08a0683",
   "metadata": {},
   "outputs": [],
   "source": [
    "sns.histplot(data=tips, x=\"total_bill\", kde=True)"
   ]
  },
  {
   "cell_type": "code",
   "execution_count": null,
   "id": "e869178f",
   "metadata": {},
   "outputs": [],
   "source": [
    "sns.displot(data=tips, x=\"total_bill\",bins=50)"
   ]
  },
  {
   "cell_type": "code",
   "execution_count": null,
   "metadata": {},
   "outputs": [],
   "source": [
    "sns.displot(data=tips, x=\"day\")"
   ]
  },
  {
   "cell_type": "code",
   "execution_count": null,
   "id": "7081e262",
   "metadata": {},
   "outputs": [],
   "source": [
    "sns.displot(data=tips, x=\"tip\", hue=\"sex\",element=\"step\")"
   ]
  },
  {
   "cell_type": "code",
   "execution_count": null,
   "id": "2d6ec042",
   "metadata": {},
   "outputs": [],
   "source": [
    "sns.displot(data=tips, x=\"tip\", hue=\"sex\", multiple=\"stack\")"
   ]
  },
  {
   "cell_type": "code",
   "execution_count": null,
   "id": "4874c7a2",
   "metadata": {},
   "outputs": [],
   "source": [
    "sns.displot(data=tips, x=\"tip\", hue=\"sex\")\n"
   ]
  },
  {
   "cell_type": "code",
   "execution_count": null,
   "id": "cc3d4b66",
   "metadata": {},
   "outputs": [],
   "source": [
    "sns.displot(data=tips, x=\"tip\", hue=\"day\")\n"
   ]
  },
  {
   "cell_type": "code",
   "execution_count": null,
   "id": "d34cdf66",
   "metadata": {},
   "outputs": [],
   "source": [
    "sns.displot(data=tips, x=\"tip\", hue=\"day\", multiple=\"stack\")"
   ]
  },
  {
   "cell_type": "code",
   "execution_count": null,
   "metadata": {},
   "outputs": [],
   "source": [
    "titanic = sns.load_dataset(\"titanic\")\n",
    "titanic.head()"
   ]
  },
  {
   "cell_type": "code",
   "execution_count": null,
   "id": "39514517",
   "metadata": {},
   "outputs": [],
   "source": [
    "sns.displot(data=titanic, x=\"age\", hue=\"sex\")"
   ]
  },
  {
   "cell_type": "code",
   "execution_count": null,
   "metadata": {},
   "outputs": [],
   "source": [
    "sns.displot(data=titanic, x=\"age\", hue=\"class\")"
   ]
  },
  {
   "cell_type": "code",
   "execution_count": null,
   "metadata": {},
   "outputs": [],
   "source": [
    "sns.displot(data=titanic, x=\"age\", hue=\"class\", multiple=\"stack\", col='sex')\n"
   ]
  },
  {
   "cell_type": "code",
   "execution_count": null,
   "id": "e39f86f5",
   "metadata": {},
   "outputs": [],
   "source": [
    "sns.displot(data=titanic, x=\"age\", hue=\"sex\", multiple=\"stack\", col='class')"
   ]
  },
  {
   "cell_type": "code",
   "execution_count": null,
   "metadata": {},
   "outputs": [],
   "source": [
    "sns.kdeplot(data=tips, x=\"total_bill\")"
   ]
  },
  {
   "cell_type": "code",
   "execution_count": null,
   "metadata": {},
   "outputs": [],
   "source": [
    "sns.displot(data=tips, x=\"total_bill\", hue=\"sex\", kind=\"kde\")\n"
   ]
  },
  {
   "cell_type": "code",
   "execution_count": null,
   "metadata": {},
   "outputs": [],
   "source": [
    "sns.kdeplot(data=tips, x=\"total_bill\")\n",
    "sns.rugplot(data=tips, x=\"total_bill\")\n",
    "\n"
   ]
  },
  {
   "cell_type": "code",
   "execution_count": null,
   "metadata": {},
   "outputs": [],
   "source": [
    "sns.histplot(data=tips, x=\"total_bill\", y=\"tip\", kde=True)"
   ]
  },
  {
   "cell_type": "code",
   "execution_count": null,
   "metadata": {},
   "outputs": [],
   "source": [
    "sns.kdeplot(data=tips, x=\"total_bill\", y=\"tip\", kde=True)\n"
   ]
  },
  {
   "cell_type": "code",
   "execution_count": null,
   "id": "e28a7d8f",
   "metadata": {},
   "outputs": [],
   "source": [
    "gap.groupby('country')['lifeExp'].sum()"
   ]
  },
  {
   "cell_type": "code",
   "execution_count": null,
   "id": "516c7b6d",
   "metadata": {},
   "outputs": [],
   "source": [
    "gap.groupby(['country', 'year'])['lifeExp'].sum().reset_index()"
   ]
  },
  {
   "cell_type": "code",
   "execution_count": null,
   "id": "a93469e1",
   "metadata": {},
   "outputs": [],
   "source": [
    "gap.groupby(['country', 'year'])['lifeExp'].sum().unstack().reset_index()"
   ]
  },
  {
   "cell_type": "code",
   "execution_count": null,
   "id": "7c10f911",
   "metadata": {},
   "outputs": [],
   "source": [
    "df = gap.pivot_table(index='country', columns='year', values='lifeExp', aggfunc='sum')\n",
    "plt.figure(figsize=(20,80))\n",
    "sns.heatmap(df)"
   ]
  },
  {
   "cell_type": "code",
   "execution_count": null,
   "metadata": {},
   "outputs": [],
   "source": [
    "df = gap[gap['continent']==\"Asia\"].pivot_table(index='country', columns='year', values='lifeExp')\n",
    "\n",
    "plt.figure(figsize=(10,8))\n",
    "sns.heatmap(df,annot=True)"
   ]
  },
  {
   "cell_type": "code",
   "execution_count": null,
   "id": "05eb313e",
   "metadata": {},
   "outputs": [],
   "source": [
    "df = gap[gap['continent']==\"Asia\"].pivot_table(index='country', columns='year', values='lifeExp')\n",
    "\n",
    "plt.figure(figsize=(10,8))\n",
    "sns.heatmap(df,annot=True,linewidths=0.4)"
   ]
  },
  {
   "cell_type": "code",
   "execution_count": null,
   "metadata": {},
   "outputs": [],
   "source": [
    "df = gap[gap['continent']==\"Asia\"].pivot_table(index='country', columns='year', values='lifeExp')\n",
    "\n",
    "plt.figure(figsize=(10,8))\n",
    "sns.heatmap(df,annot=True,linewidths=0.4,cmap='YlGnBu')"
   ]
  },
  {
   "cell_type": "code",
   "execution_count": null,
   "metadata": {},
   "outputs": [],
   "source": [
    "iris = sns.load_dataset(\"iris\")\n",
    "iris.head()"
   ]
  },
  {
   "cell_type": "code",
   "execution_count": null,
   "id": "5c394128",
   "metadata": {},
   "outputs": [],
   "source": [
    "sns.clustermap(data=iris.iloc[:,:4])"
   ]
  },
  {
   "cell_type": "code",
   "execution_count": null,
   "id": "bfb4401b",
   "metadata": {},
   "outputs": [],
   "source": [
    "sns.scatterplot(tips,y=\"total_bill\",x='day')"
   ]
  },
  {
   "cell_type": "code",
   "execution_count": null,
   "metadata": {},
   "outputs": [],
   "source": [
    "sns.stripplot(data = tips,y=\"total_bill\",x='day')"
   ]
  },
  {
   "cell_type": "code",
   "execution_count": null,
   "metadata": {},
   "outputs": [],
   "source": [
    "sns.catplot(data = tips,y=\"total_bill\",x='day',kind='strip')"
   ]
  },
  {
   "cell_type": "code",
   "execution_count": null,
   "metadata": {},
   "outputs": [],
   "source": [
    "sns.catplot(data = tips,y=\"total_bill\",x='day',kind='strip',jitter =0.1,hue='sex')"
   ]
  },
  {
   "cell_type": "code",
   "execution_count": null,
   "id": "4c7f1e2d",
   "metadata": {},
   "outputs": [],
   "source": [
    "sns.swarmplot(data = tips,x='day',y=\"total_bill\",)"
   ]
  },
  {
   "cell_type": "code",
   "execution_count": null,
   "id": "086fa5ff",
   "metadata": {},
   "outputs": [],
   "source": [
    "sns.catplot(data = tips,x='day',y=\"total_bill\",hue='sex',kind='swarm')"
   ]
  },
  {
   "cell_type": "code",
   "execution_count": null,
   "id": "71937f64",
   "metadata": {},
   "outputs": [],
   "source": [
    "sns.boxplot(data=tips, x=\"day\", y=\"total_bill\")"
   ]
  },
  {
   "cell_type": "code",
   "execution_count": null,
   "id": "73457e4b",
   "metadata": {},
   "outputs": [],
   "source": [
    "sns.catplot(data=tips, x=\"day\", y=\"total_bill\", kind=\"box\")"
   ]
  },
  {
   "cell_type": "code",
   "execution_count": null,
   "id": "d18bde04",
   "metadata": {},
   "outputs": [],
   "source": [
    "sns.catplot(data=tips, x=\"day\", y=\"total_bill\", kind=\"box\", cols ='smoker',row='time')"
   ]
  },
  {
   "cell_type": "code",
   "execution_count": null,
   "metadata": {},
   "outputs": [],
   "source": [
    "sns.boxplot(data=tips, x=\"day\", y=\"total_bill\",hue='sex')"
   ]
  },
  {
   "cell_type": "code",
   "execution_count": null,
   "metadata": {},
   "outputs": [],
   "source": [
    "sns.boxplot(data=tips,  y=\"total_bill\")"
   ]
  },
  {
   "cell_type": "code",
   "execution_count": null,
   "id": "3d7a8dca",
   "metadata": {},
   "outputs": [],
   "source": [
    "sns.violinplot(data=tips, x=\"day\", y=\"total_bill\")"
   ]
  },
  {
   "cell_type": "code",
   "execution_count": null,
   "metadata": {},
   "outputs": [],
   "source": [
    "sns.violinplot(data=tips, x=\"day\", y=\"total_bill\", hue=\"sex\")"
   ]
  },
  {
   "cell_type": "code",
   "execution_count": null,
   "metadata": {},
   "outputs": [],
   "source": [
    "sns.violinplot(data=tips, x=\"day\", y=\"total_bill\", hue=\"sex\", split=True)"
   ]
  },
  {
   "cell_type": "code",
   "execution_count": null,
   "metadata": {},
   "outputs": [],
   "source": [
    "sns.catplot(data=tips, x=\"day\", y=\"total_bill\", hue=\"sex\", split=True, kind=\"violin\")\n"
   ]
  },
  {
   "cell_type": "code",
   "execution_count": null,
   "id": "38d08cc6",
   "metadata": {},
   "outputs": [],
   "source": [
    "sns.barplot(data=tips, x=\"day\", y=\"total_bill\", hue=\"sex\")"
   ]
  },
  {
   "cell_type": "code",
   "execution_count": null,
   "metadata": {},
   "outputs": [],
   "source": [
    "sns.catplot(data=tips, x=\"day\", y=\"total_bill\", hue=\"sex\",kind=\"bar\")"
   ]
  },
  {
   "cell_type": "code",
   "execution_count": null,
   "metadata": {},
   "outputs": [],
   "source": [
    "sns.barplot(data=tips, x=\"day\", y=\"total_bill\", hue=\"sex\",estimator=min)"
   ]
  },
  {
   "cell_type": "code",
   "execution_count": null,
   "metadata": {},
   "outputs": [],
   "source": [
    "sns.pointplot(data=tips, x=\"day\", y=\"total_bill\", hue=\"sex\",estimator=min)"
   ]
  },
  {
   "cell_type": "code",
   "execution_count": null,
   "id": "2214f0cf",
   "metadata": {},
   "outputs": [],
   "source": [
    "sns.countplot(data=tips, x=\"day\", hue=\"sex\")\n"
   ]
  },
  {
   "cell_type": "code",
   "execution_count": null,
   "id": "22c238a8",
   "metadata": {},
   "outputs": [],
   "source": [
    "sns.regplot(data=tips, x=\"total_bill\", y=\"tip\")"
   ]
  },
  {
   "cell_type": "code",
   "execution_count": null,
   "id": "af41298a",
   "metadata": {},
   "outputs": [],
   "source": [
    "sns.lmplot(data=tips, x=\"total_bill\", y=\"tip\", hue=\"sex\")"
   ]
  },
  {
   "cell_type": "code",
   "execution_count": null,
   "id": "8798f5c4",
   "metadata": {},
   "outputs": [],
   "source": [
    "sns.residplot(data=tips, x=\"total_bill\", y=\"tip\")"
   ]
  },
  {
   "cell_type": "code",
   "execution_count": null,
   "id": "88890301",
   "metadata": {},
   "outputs": [],
   "source": [
    "# sns.catplot(data=tips, x=\"sex\", y=\"total_bill\",kind =\"violin\",col='day' ,row='time', split=True)\n",
    "sns.catplot(data=tips, x=\"sex\", y=\"total_bill\",kind =\"violin\",col='day' ,row='time')\n"
   ]
  },
  {
   "cell_type": "code",
   "execution_count": 60,
   "metadata": {},
   "outputs": [
    {
     "name": "stderr",
     "output_type": "stream",
     "text": [
      "c:\\Users\\Kirti\\AppData\\Local\\Programs\\Python\\Python313\\Lib\\site-packages\\seaborn\\axisgrid.py:718: UserWarning: Using the violinplot function without specifying `order` is likely to produce an incorrect plot.\n",
      "  warnings.warn(warning)\n"
     ]
    },
    {
     "data": {
      "text/plain": [
       "<seaborn.axisgrid.FacetGrid at 0x21db2cafc50>"
      ]
     },
     "execution_count": 60,
     "metadata": {},
     "output_type": "execute_result"
    },
    {
     "data": {
      "image/png": "[encoded data removed]",
      "text/plain": [
       "<Figure size 1200x600 with 8 Axes>"
      ]
     },
     "metadata": {},
     "output_type": "display_data"
    }
   ],
   "source": [
    "sns.FacetGrid(tips,col=\"day\",row='time').map(sns.violinplot,'sex',\"total_bill\")"
   ]
  },
  {
   "cell_type": "code",
   "execution_count": null,
   "metadata": {},
   "outputs": [],
   "source": []
  },
  {
   "cell_type": "code",
   "execution_count": null,
   "id": "53385ba7",
   "metadata": {},
   "outputs": [],
   "source": []
  },
  {
   "cell_type": "code",
   "execution_count": null,
   "id": "87be13f3",
   "metadata": {},
   "outputs": [],
   "source": []
  },
  {
   "cell_type": "code",
   "execution_count": null,
   "id": "cd04f42f",
   "metadata": {},
   "outputs": [],
   "source": []
  },
  {
   "cell_type": "code",
   "execution_count": null,
   "metadata": {},
   "outputs": [],
   "source": []
  },
  {
   "cell_type": "code",
   "execution_count": null,
   "metadata": {},
   "outputs": [],
   "source": []
  },
  {
   "cell_type": "code",
   "execution_count": null,
   "metadata": {},
   "outputs": [],
   "source": []
  },
  {
   "cell_type": "code",
   "execution_count": null,
   "id": "e65c63d5",
   "metadata": {},
   "outputs": [],
   "source": []
  },
  {
   "cell_type": "code",
   "execution_count": null,
   "id": "704cec48",
   "metadata": {},
   "outputs": [],
   "source": []
  },
  {
   "cell_type": "code",
   "execution_count": null,
   "id": "f3ea3a83",
   "metadata": {},
   "outputs": [],
   "source": []
  }
 ],
 "metadata": {
  "kernelspec": {
   "display_name": "Python 3",
   "language": "python",
   "name": "python3"
  },
  "language_info": {
   "codemirror_mode": {
    "name": "ipython",
    "version": 3
   },
   "file_extension": ".py",
   "mimetype": "text/x-python",
   "name": "python",
   "nbconvert_exporter": "python",
   "pygments_lexer": "ipython3",
   "version": "3.13.7"
  }
 },
 "nbformat": 4,
 "nbformat_minor": 5
}
