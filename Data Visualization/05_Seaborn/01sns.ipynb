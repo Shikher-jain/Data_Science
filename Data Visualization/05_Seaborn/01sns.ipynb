{
 "cells": [
  {
   "cell_type": "code",
   "execution_count": null,
   "id": "c87988c0",
   "metadata": {},
   "outputs": [],
   "source": [
    "# # !pip install -r requirements.txt\n",
    "# !pip install seaborn matplotlib pandas numpy scipy statsmodels \n",
    "# !pip install scikit-learn\n",
    "# !pip install plotly\n",
    "\n"
   ]
  },
  {
   "cell_type": "code",
   "execution_count": null,
   "id": "2ecd4a78",
   "metadata": {},
   "outputs": [],
   "source": [
    "import seaborn as sns\n",
    "import matplotlib.pyplot as plt\n",
    "import plotly.express as px"
   ]
  },
  {
   "cell_type": "code",
   "execution_count": null,
   "metadata": {},
   "outputs": [],
   "source": [
    "tips = sns.load_dataset(\"tips\")\n",
    "tips"
   ]
  },
  {
   "cell_type": "code",
   "execution_count": null,
   "id": "1341263a",
   "metadata": {},
   "outputs": [],
   "source": [
    "# Axes level fx\n",
    "\n",
    "# sns.scatterplot(data=tips, x=\"total_bill\", y=\"tip\", hue=\"day\", style=\"time\", size=\"size\")\n",
    "sns.scatterplot(data=tips, x=\"total_bill\", y=\"tip\", hue=\"sex\", style=\"time\", size=\"size\")"
   ]
  },
  {
   "cell_type": "code",
   "execution_count": null,
   "id": "3161c1e0",
   "metadata": {},
   "outputs": [],
   "source": [
    "# Figure level fx\n",
    "\n",
    "sns.relplot(data=tips, x=\"total_bill\", y=\"tip\", hue=\"day\", style=\"time\", size=\"size\")"
   ]
  },
  {
   "cell_type": "code",
   "execution_count": null,
   "id": "75232640",
   "metadata": {},
   "outputs": [],
   "source": [
    "gap = px.data.gapminder()\n",
    "gap.head()"
   ]
  },
  {
   "cell_type": "code",
   "execution_count": null,
   "id": "b908e55a",
   "metadata": {},
   "outputs": [],
   "source": [
    "sns.relplot(data=gap[gap['country'] == 'India'], x=\"year\", y=\"lifeExp\", hue=\"continent\", kind = \"line\")"
   ]
  },
  {
   "cell_type": "code",
   "execution_count": null,
   "id": "4f73e448",
   "metadata": {},
   "outputs": [],
   "source": [
    "sns.lineplot(data=gap[gap['country'] == 'India'], x=\"year\", y=\"lifeExp\", hue=\"continent\")"
   ]
  },
  {
   "cell_type": "code",
   "execution_count": null,
   "metadata": {},
   "outputs": [],
   "source": [
    "df = gap[gap['country'].isin(['India', 'China', 'United States'])]\n",
    "df.sample(5)"
   ]
  },
  {
   "cell_type": "code",
   "execution_count": null,
   "metadata": {},
   "outputs": [],
   "source": [
    "sns.relplot(data=df, x=\"year\", y=\"pop\", hue=\"country\", kind=\"line\")\n",
    "sns.relplot(data=df, x=\"year\", y=\"lifeExp\", hue=\"country\", kind=\"line\")"
   ]
  },
  {
   "cell_type": "code",
   "execution_count": null,
   "id": "0ea0e3a3",
   "metadata": {},
   "outputs": [],
   "source": [
    "# sns.lineplot(data=df, x=\"year\", y=\"pop\", hue=\"country\", kind=\"line\")\n",
    "sns.lineplot(data=df, x=\"year\", y=\"lifeExp\", hue=\"country\")"
   ]
  },
  {
   "cell_type": "code",
   "execution_count": null,
   "metadata": {},
   "outputs": [],
   "source": [
    "sns.relplot(data=gap, x=\"year\", y=\"pop\", hue=\"country\", kind=\"line\")\n",
    "sns.relplot(data=gap, x=\"year\", y=\"lifeExp\", hue=\"country\", kind=\"line\", col=\"continent\")"
   ]
  },
  {
   "cell_type": "code",
   "execution_count": null,
   "id": "eef76c34",
   "metadata": {},
   "outputs": [],
   "source": [
    "sns.relplot(data=gap , x=\"gdpPercap\", y=\"lifeExp\", hue=\"country\", kind=\"scatter\", col=\"year\",col_wrap=2)"
   ]
  },
  {
   "cell_type": "code",
   "execution_count": null,
   "id": "ef509cb6",
   "metadata": {},
   "outputs": [],
   "source": [
    "sns.displot(data=tips, x=\"total_bill\",kind=\"hist\")"
   ]
  },
  {
   "cell_type": "code",
   "execution_count": null,
   "id": "60978ef3",
   "metadata": {},
   "outputs": [],
   "source": [
    "sns.displot(data=tips, x=\"total_bill\",kind=\"kde\")"
   ]
  },
  {
   "cell_type": "code",
   "execution_count": null,
   "id": "4f9c6c66",
   "metadata": {},
   "outputs": [],
   "source": [
    "sns.displot(data=tips, x=\"total_bill\", kde=True)"
   ]
  },
  {
   "cell_type": "code",
   "execution_count": null,
   "id": "27d8f3dd",
   "metadata": {},
   "outputs": [],
   "source": [
    "sns.histplot(data=tips, x=\"total_bill\")\n"
   ]
  },
  {
   "cell_type": "code",
   "execution_count": null,
   "id": "e08a0683",
   "metadata": {},
   "outputs": [],
   "source": [
    "sns.histplot(data=tips, x=\"total_bill\", kde=True)"
   ]
  },
  {
   "cell_type": "code",
   "execution_count": null,
   "id": "e869178f",
   "metadata": {},
   "outputs": [],
   "source": [
    "sns.displot(data=tips, x=\"total_bill\",bins=50)"
   ]
  },
  {
   "cell_type": "code",
   "execution_count": null,
   "metadata": {},
   "outputs": [],
   "source": [
    "sns.displot(data=tips, x=\"day\")"
   ]
  },
  {
   "cell_type": "code",
   "execution_count": null,
   "id": "7081e262",
   "metadata": {},
   "outputs": [],
   "source": [
    "sns.displot(data=tips, x=\"tip\", hue=\"sex\",element=\"step\")"
   ]
  },
  {
   "cell_type": "code",
   "execution_count": null,
   "id": "2d6ec042",
   "metadata": {},
   "outputs": [],
   "source": [
    "sns.displot(data=tips, x=\"tip\", hue=\"sex\", multiple=\"stack\")"
   ]
  },
  {
   "cell_type": "code",
   "execution_count": null,
   "id": "4874c7a2",
   "metadata": {},
   "outputs": [],
   "source": [
    "sns.displot(data=tips, x=\"tip\", hue=\"sex\")\n"
   ]
  },
  {
   "cell_type": "code",
   "execution_count": null,
   "id": "cc3d4b66",
   "metadata": {},
   "outputs": [],
   "source": [
    "sns.displot(data=tips, x=\"tip\", hue=\"day\")\n"
   ]
  },
  {
   "cell_type": "code",
   "execution_count": null,
   "id": "d34cdf66",
   "metadata": {},
   "outputs": [],
   "source": [
    "sns.displot(data=tips, x=\"tip\", hue=\"day\", multiple=\"stack\")"
   ]
  },
  {
   "cell_type": "code",
   "execution_count": null,
   "metadata": {},
   "outputs": [],
   "source": [
    "titanic = sns.load_dataset(\"titanic\")\n",
    "titanic.head()"
   ]
  },
  {
   "cell_type": "code",
   "execution_count": null,
   "id": "39514517",
   "metadata": {},
   "outputs": [],
   "source": [
    "sns.displot(data=titanic, x=\"age\", hue=\"sex\")"
   ]
  },
  {
   "cell_type": "code",
   "execution_count": null,
   "metadata": {},
   "outputs": [],
   "source": [
    "sns.displot(data=titanic, x=\"age\", hue=\"class\")"
   ]
  },
  {
   "cell_type": "code",
   "execution_count": null,
   "metadata": {},
   "outputs": [],
   "source": [
    "sns.displot(data=titanic, x=\"age\", hue=\"class\", multiple=\"stack\", col='sex')\n"
   ]
  },
  {
   "cell_type": "code",
   "execution_count": null,
   "id": "e39f86f5",
   "metadata": {},
   "outputs": [],
   "source": [
    "sns.displot(data=titanic, x=\"age\", hue=\"sex\", multiple=\"stack\", col='class')"
   ]
  },
  {
   "cell_type": "code",
   "execution_count": null,
   "metadata": {},
   "outputs": [],
   "source": [
    "sns.kdeplot(data=tips, x=\"total_bill\")"
   ]
  },
  {
   "cell_type": "code",
   "execution_count": null,
   "metadata": {},
   "outputs": [],
   "source": [
    "# sns.displot(data=tips, x=\"total_bill\", hue=\"sex\", kind=\"kde\")\n"
   ]
  },
  {
   "cell_type": "code",
   "execution_count": null,
   "metadata": {},
   "outputs": [],
   "source": [
    "sns.kdeplot(data=tips, x=\"total_bill\")\n",
    "sns.rugplot(data=tips, x=\"total_bill\")\n",
    "\n"
   ]
  },
  {
   "cell_type": "code",
   "execution_count": null,
   "metadata": {},
   "outputs": [],
   "source": [
    "sns.histplot(data=tips, x=\"total_bill\", y=\"tip\", kde=True)"
   ]
  },
  {
   "cell_type": "code",
   "execution_count": null,
   "metadata": {},
   "outputs": [],
   "source": [
    "sns.kdeplot(data=tips, x=\"total_bill\", y=\"tip\", kde=True)\n"
   ]
  },
  {
   "cell_type": "code",
   "execution_count": null,
   "id": "e28a7d8f",
   "metadata": {},
   "outputs": [],
   "source": [
    "gap.groupby('country')['lifeExp'].sum()"
   ]
  },
  {
   "cell_type": "code",
   "execution_count": null,
   "id": "516c7b6d",
   "metadata": {},
   "outputs": [],
   "source": [
    "gap.groupby(['country', 'year'])['lifeExp'].sum().reset_index()"
   ]
  },
  {
   "cell_type": "code",
   "execution_count": null,
   "id": "a93469e1",
   "metadata": {},
   "outputs": [],
   "source": [
    "gap.groupby(['country', 'year'])['lifeExp'].sum().unstack().reset_index()"
   ]
  },
  {
   "cell_type": "code",
   "execution_count": null,
   "id": "7c10f911",
   "metadata": {},
   "outputs": [],
   "source": [
    "df = gap.pivot_table(index='country', columns='year', values='lifeExp', aggfunc='sum')\n",
    "plt.figure(figsize=(20,80))\n",
    "sns.heatmap(df)"
   ]
  },
  {
   "cell_type": "code",
   "execution_count": null,
   "metadata": {},
   "outputs": [],
   "source": [
    "df = gap[gap['continent']==\"Asia\"].pivot_table(index='country', columns='year', values='lifeExp')\n",
    "\n",
    "plt.figure(figsize=(10,8))\n",
    "sns.heatmap(df,annot=True)"
   ]
  },
  {
   "cell_type": "code",
   "execution_count": null,
   "id": "05eb313e",
   "metadata": {},
   "outputs": [],
   "source": [
    "df = gap[gap['continent']==\"Asia\"].pivot_table(index='country', columns='year', values='lifeExp')\n",
    "\n",
    "plt.figure(figsize=(10,8))\n",
    "sns.heatmap(df,annot=True,linewidths=0.4)"
   ]
  },
  {
   "cell_type": "code",
   "execution_count": null,
   "metadata": {},
   "outputs": [],
   "source": [
    "df = gap[gap['continent']==\"Asia\"].pivot_table(index='country', columns='year', values='lifeExp')\n",
    "\n",
    "plt.figure(figsize=(10,8))\n",
    "sns.heatmap(df,annot=True,linewidths=0.4,cmap='YlGnBu')"
   ]
  },
  {
   "cell_type": "code",
   "execution_count": null,
   "metadata": {},
   "outputs": [],
   "source": [
    "iris = sns.load_dataset(\"iris\")\n",
    "iris.head()"
   ]
  },
  {
   "cell_type": "code",
   "execution_count": null,
   "id": "5c394128",
   "metadata": {},
   "outputs": [],
   "source": [
    "sns.clustermap(data=iris.iloc[:,:4])"
   ]
  },
  {
   "cell_type": "code",
   "execution_count": null,
   "id": "bfb4401b",
   "metadata": {},
   "outputs": [],
   "source": [
    "sns.scatterplot(tips,y=\"total_bill\",x='day')"
   ]
  },
  {
   "cell_type": "code",
   "execution_count": null,
   "metadata": {},
   "outputs": [],
   "source": [
    "sns.stripplot(data = tips,y=\"total_bill\",x='day')"
   ]
  },
  {
   "cell_type": "code",
   "execution_count": null,
   "metadata": {},
   "outputs": [],
   "source": [
    "sns.catplot(data = tips,y=\"total_bill\",x='day',kind='strip')"
   ]
  },
  {
   "cell_type": "code",
   "execution_count": null,
   "metadata": {},
   "outputs": [],
   "source": [
    "sns.catplot(data = tips,y=\"total_bill\",x='day',kind='strip',jitter =0.1,hue='sex')"
   ]
  },
  {
   "cell_type": "code",
   "execution_count": null,
   "id": "4c7f1e2d",
   "metadata": {},
   "outputs": [],
   "source": [
    "sns.swarmplot(data = tips,x='day',y=\"total_bill\",)"
   ]
  },
  {
   "cell_type": "code",
   "execution_count": null,
   "id": "086fa5ff",
   "metadata": {},
   "outputs": [],
   "source": [
    "sns.catplot(data = tips,x='day',y=\"total_bill\",hue='sex',kind='swarm')"
   ]
  },
  {
   "cell_type": "code",
   "execution_count": null,
   "id": "71937f64",
   "metadata": {},
   "outputs": [],
   "source": [
    "sns.boxplot(data=tips, x=\"day\", y=\"total_bill\")"
   ]
  },
  {
   "cell_type": "code",
   "execution_count": null,
   "id": "73457e4b",
   "metadata": {},
   "outputs": [],
   "source": [
    "sns.catplot(data=tips, x=\"day\", y=\"total_bill\", kind=\"box\")"
   ]
  },
  {
   "cell_type": "code",
   "execution_count": null,
   "id": "d18bde04",
   "metadata": {},
   "outputs": [],
   "source": [
    "sns.catplot(data=tips, x=\"day\", y=\"total_bill\", kind=\"box\",row='time')"
   ]
  },
  {
   "cell_type": "code",
   "execution_count": null,
   "metadata": {},
   "outputs": [],
   "source": [
    "sns.boxplot(data=tips, x=\"day\", y=\"total_bill\",hue='sex')"
   ]
  },
  {
   "cell_type": "code",
   "execution_count": null,
   "metadata": {},
   "outputs": [],
   "source": [
    "sns.boxplot(data=tips,  y=\"total_bill\")"
   ]
  },
  {
   "cell_type": "code",
   "execution_count": null,
   "id": "3d7a8dca",
   "metadata": {},
   "outputs": [],
   "source": [
    "sns.violinplot(data=tips, x=\"day\", y=\"total_bill\")"
   ]
  },
  {
   "cell_type": "code",
   "execution_count": null,
   "metadata": {},
   "outputs": [],
   "source": [
    "sns.violinplot(data=tips, x=\"day\", y=\"total_bill\", hue=\"sex\")"
   ]
  },
  {
   "cell_type": "code",
   "execution_count": null,
   "metadata": {},
   "outputs": [],
   "source": [
    "sns.violinplot(data=tips, x=\"day\", y=\"total_bill\", hue=\"sex\", split=True)"
   ]
  },
  {
   "cell_type": "code",
   "execution_count": null,
   "metadata": {},
   "outputs": [],
   "source": [
    "sns.catplot(data=tips, x=\"day\", y=\"total_bill\", hue=\"sex\", split=True, kind=\"violin\")\n"
   ]
  },
  {
   "cell_type": "code",
   "execution_count": null,
   "id": "38d08cc6",
   "metadata": {},
   "outputs": [],
   "source": [
    "sns.barplot(data=tips, x=\"day\", y=\"total_bill\", hue=\"sex\")"
   ]
  },
  {
   "cell_type": "code",
   "execution_count": null,
   "metadata": {},
   "outputs": [],
   "source": [
    "sns.catplot(data=tips, x=\"day\", y=\"total_bill\", hue=\"sex\",kind=\"bar\")"
   ]
  },
  {
   "cell_type": "code",
   "execution_count": null,
   "metadata": {},
   "outputs": [],
   "source": [
    "sns.barplot(data=tips, x=\"day\", y=\"total_bill\", hue=\"sex\",estimator=min)"
   ]
  },
  {
   "cell_type": "code",
   "execution_count": null,
   "metadata": {},
   "outputs": [],
   "source": [
    "sns.pointplot(data=tips, x=\"day\", y=\"total_bill\", hue=\"sex\",estimator=min)"
   ]
  },
  {
   "cell_type": "code",
   "execution_count": null,
   "id": "2214f0cf",
   "metadata": {},
   "outputs": [],
   "source": [
    "sns.countplot(data=tips, x=\"day\", hue=\"sex\")\n"
   ]
  },
  {
   "cell_type": "code",
   "execution_count": null,
   "id": "22c238a8",
   "metadata": {},
   "outputs": [],
   "source": [
    "sns.regplot(data=tips, x=\"total_bill\", y=\"tip\")"
   ]
  },
  {
   "cell_type": "code",
   "execution_count": null,
   "id": "af41298a",
   "metadata": {},
   "outputs": [],
   "source": [
    "sns.lmplot(data=tips, x=\"total_bill\", y=\"tip\", hue=\"sex\")"
   ]
  },
  {
   "cell_type": "code",
   "execution_count": null,
   "id": "8798f5c4",
   "metadata": {},
   "outputs": [],
   "source": [
    "sns.residplot(data=tips, x=\"total_bill\", y=\"tip\")"
   ]
  },
  {
   "cell_type": "code",
   "execution_count": null,
   "id": "88890301",
   "metadata": {},
   "outputs": [],
   "source": [
    "# sns.catplot(data=tips, x=\"sex\", y=\"total_bill\",kind =\"violin\",col='day' ,row='time', split=True)\n",
    "sns.catplot(data=tips, x=\"sex\", y=\"total_bill\",kind =\"violin\",col='day' ,row='time')\n"
   ]
  },
  {
   "cell_type": "code",
   "execution_count": null,
   "metadata": {},
   "outputs": [],
   "source": [
    "sns.FacetGrid(tips,col=\"day\",row='time').map(sns.violinplot,'sex',\"total_bill\")"
   ]
  },
  {
   "cell_type": "code",
   "execution_count": null,
   "metadata": {},
   "outputs": [],
   "source": [
    "iris.head()"
   ]
  },
  {
   "cell_type": "code",
   "execution_count": null,
   "id": "53385ba7",
   "metadata": {},
   "outputs": [],
   "source": [
    "sns.pairplot(iris)"
   ]
  },
  {
   "cell_type": "code",
   "execution_count": null,
   "id": "87be13f3",
   "metadata": {},
   "outputs": [],
   "source": [
    "sns.pairplot(iris,hue='species')"
   ]
  },
  {
   "cell_type": "code",
   "execution_count": null,
   "metadata": {},
   "outputs": [],
   "source": [
    "g = sns.PairGrid(iris,hue='species',palette='Dark2')\n",
    "g.map(sns.scatterplot)"
   ]
  },
  {
   "cell_type": "code",
   "execution_count": null,
   "id": "c06ad513",
   "metadata": {},
   "outputs": [],
   "source": [
    "g = sns.PairGrid(iris)\n",
    "g.map_diag(sns.kdeplot)\n",
    "g.map_offdiag(sns.scatterplot)"
   ]
  },
  {
   "cell_type": "code",
   "execution_count": null,
   "metadata": {},
   "outputs": [],
   "source": [
    "g = sns.PairGrid(iris,hue='species',palette='Set2')\n",
    "g.map_diag(sns.histplot)\n",
    "g.map_upper(sns.scatterplot)\n",
    "g.map_lower(sns.kdeplot)"
   ]
  },
  {
   "cell_type": "code",
   "execution_count": null,
   "id": "e65c63d5",
   "metadata": {},
   "outputs": [],
   "source": [
    "g = sns.PairGrid(iris,hue='species',palette='Set2',vars=['sepal_length','petal_width'])\n",
    "g.map_diag(sns.histplot)\n",
    "g.map_upper(sns.scatterplot)\n",
    "g.map_lower(sns.kdeplot)"
   ]
  },
  {
   "cell_type": "code",
   "execution_count": null,
   "id": "704cec48",
   "metadata": {},
   "outputs": [],
   "source": [
    "sns.jointplot(x='total_bill',y='tip',data=tips,kind='hex')"
   ]
  },
  {
   "cell_type": "code",
   "execution_count": null,
   "id": "8ab839c0",
   "metadata": {},
   "outputs": [],
   "source": [
    "sns.jointplot(x='total_bill',y='tip',data=tips,kind='scatter')"
   ]
  },
  {
   "cell_type": "code",
   "execution_count": null,
   "id": "92204f77",
   "metadata": {},
   "outputs": [],
   "source": [
    "sns.jointplot(x='total_bill',y='tip',data=tips,kind='reg')"
   ]
  },
  {
   "cell_type": "code",
   "execution_count": null,
   "id": "cdbddd52",
   "metadata": {},
   "outputs": [],
   "source": [
    "sns.jointplot(x='total_bill',y='tip',data=tips,kind='hist')"
   ]
  },
  {
   "cell_type": "code",
   "execution_count": null,
   "metadata": {},
   "outputs": [],
   "source": [
    "sns.jointplot(x='total_bill',y='tip',data=tips,kind='hist',hue='sex')"
   ]
  },
  {
   "cell_type": "code",
   "execution_count": null,
   "id": "fa7a67a9",
   "metadata": {},
   "outputs": [],
   "source": [
    "g= sns.JointGrid(x=\"total_bill\", y=\"tip\", data=tips)\n",
    "g.plot(sns.regplot, sns.distplot)"
   ]
  },
  {
   "cell_type": "code",
   "execution_count": 111,
   "metadata": {},
   "outputs": [
    {
     "data": {
      "text/plain": [
       "['anagrams',\n",
       " 'anscombe',\n",
       " 'attention',\n",
       " 'brain_networks',\n",
       " 'car_crashes',\n",
       " 'diamonds',\n",
       " 'dots',\n",
       " 'dowjones',\n",
       " 'exercise',\n",
       " 'flights',\n",
       " 'fmri',\n",
       " 'geyser',\n",
       " 'glue',\n",
       " 'healthexp',\n",
       " 'iris',\n",
       " 'mpg',\n",
       " 'penguins',\n",
       " 'planets',\n",
       " 'seaice',\n",
       " 'taxis',\n",
       " 'tips',\n",
       " 'titanic']"
      ]
     },
     "execution_count": 111,
     "metadata": {},
     "output_type": "execute_result"
    }
   ],
   "source": [
    "sns.get_dataset_names()"
   ]
  },
  {
   "cell_type": "code",
   "execution_count": 112,
   "metadata": {},
   "outputs": [
    {
     "data": {
      "application/vnd.microsoft.datawrangler.viewer.v0+json": {
       "columns": [
        {
         "name": "index",
         "rawType": "int64",
         "type": "integer"
        },
        {
         "name": "align",
         "rawType": "object",
         "type": "string"
        },
        {
         "name": "choice",
         "rawType": "object",
         "type": "string"
        },
        {
         "name": "time",
         "rawType": "int64",
         "type": "integer"
        },
        {
         "name": "coherence",
         "rawType": "float64",
         "type": "float"
        },
        {
         "name": "firing_rate",
         "rawType": "float64",
         "type": "float"
        }
       ],
       "ref": "c60bfbff-e684-46f2-ba45-0797078dc0f0",
       "rows": [
        [
         "0",
         "dots",
         "T1",
         "-80",
         "0.0",
         "33.1899674031"
        ],
        [
         "1",
         "dots",
         "T1",
         "-80",
         "3.2",
         "31.6917255152"
        ],
        [
         "2",
         "dots",
         "T1",
         "-80",
         "6.4",
         "34.2798399644"
        ],
        [
         "3",
         "dots",
         "T1",
         "-80",
         "12.8",
         "32.6318742985"
        ],
        [
         "4",
         "dots",
         "T1",
         "-80",
         "25.6",
         "35.0604874577"
        ],
        [
         "5",
         "dots",
         "T1",
         "-80",
         "51.2",
         "34.9875710227"
        ],
        [
         "6",
         "dots",
         "T1",
         "-60",
         "0.0",
         "32.8685258964"
        ],
        [
         "7",
         "dots",
         "T1",
         "-60",
         "3.2",
         "35.119047619"
        ],
        [
         "8",
         "dots",
         "T1",
         "-60",
         "6.4",
         "34.8410757946"
        ],
        [
         "9",
         "dots",
         "T1",
         "-60",
         "12.8",
         "35.6481481481"
        ],
        [
         "10",
         "dots",
         "T1",
         "-60",
         "25.6",
         "33.6105675147"
        ],
        [
         "11",
         "dots",
         "T1",
         "-60",
         "51.2",
         "34.27734375"
        ],
        [
         "12",
         "dots",
         "T1",
         "-40",
         "0.0",
         "34.561752988"
        ],
        [
         "13",
         "dots",
         "T1",
         "-40",
         "3.2",
         "34.8958333333"
        ],
        [
         "14",
         "dots",
         "T1",
         "-40",
         "6.4",
         "34.9633251834"
        ],
        [
         "15",
         "dots",
         "T1",
         "-40",
         "12.8",
         "36.4711934156"
        ],
        [
         "16",
         "dots",
         "T1",
         "-40",
         "25.6",
         "32.5342465753"
        ],
        [
         "17",
         "dots",
         "T1",
         "-40",
         "51.2",
         "35.009765625"
        ],
        [
         "18",
         "dots",
         "T1",
         "-20",
         "0.0",
         "35.3585657371"
        ],
        [
         "19",
         "dots",
         "T1",
         "-20",
         "3.2",
         "31.1011904762"
        ],
        [
         "20",
         "dots",
         "T1",
         "-20",
         "6.4",
         "35.5134474328"
        ],
        [
         "21",
         "dots",
         "T1",
         "-20",
         "12.8",
         "34.5164609053"
        ],
        [
         "22",
         "dots",
         "T1",
         "-20",
         "25.6",
         "34.7847358121"
        ],
        [
         "23",
         "dots",
         "T1",
         "-20",
         "51.2",
         "36.669921875"
        ],
        [
         "24",
         "dots",
         "T1",
         "0",
         "0.0",
         "36.2549800797"
        ],
        [
         "25",
         "dots",
         "T1",
         "0",
         "3.2",
         "32.3660714286"
        ],
        [
         "26",
         "dots",
         "T1",
         "0",
         "6.4",
         "36.9193154034"
        ],
        [
         "27",
         "dots",
         "T1",
         "0",
         "12.8",
         "35.6995884774"
        ],
        [
         "28",
         "dots",
         "T1",
         "0",
         "25.6",
         "35.8610567515"
        ],
        [
         "29",
         "dots",
         "T1",
         "0",
         "51.2",
         "37.060546875"
        ],
        [
         "30",
         "dots",
         "T1",
         "20",
         "0.0",
         "38.4960159363"
        ],
        [
         "31",
         "dots",
         "T1",
         "20",
         "3.2",
         "33.4821428571"
        ],
        [
         "32",
         "dots",
         "T1",
         "20",
         "6.4",
         "36.1858190709"
        ],
        [
         "33",
         "dots",
         "T1",
         "20",
         "12.8",
         "36.0082304527"
        ],
        [
         "34",
         "dots",
         "T1",
         "20",
         "25.6",
         "34.8825831703"
        ],
        [
         "35",
         "dots",
         "T1",
         "20",
         "51.2",
         "35.888671875"
        ],
        [
         "36",
         "dots",
         "T1",
         "40",
         "0.0",
         "36.2051792829"
        ],
        [
         "37",
         "dots",
         "T1",
         "40",
         "3.2",
         "34.375"
        ],
        [
         "38",
         "dots",
         "T1",
         "40",
         "6.4",
         "36.7970660147"
        ],
        [
         "39",
         "dots",
         "T1",
         "40",
         "12.8",
         "35.3909465021"
        ],
        [
         "40",
         "dots",
         "T1",
         "40",
         "25.6",
         "36.9863013699"
        ],
        [
         "41",
         "dots",
         "T1",
         "40",
         "51.2",
         "36.279296875"
        ],
        [
         "42",
         "dots",
         "T1",
         "60",
         "0.0",
         "34.7609561753"
        ],
        [
         "43",
         "dots",
         "T1",
         "60",
         "3.2",
         "34.6726190476"
        ],
        [
         "44",
         "dots",
         "T1",
         "60",
         "6.4",
         "38.2029339853"
        ],
        [
         "45",
         "dots",
         "T1",
         "60",
         "12.8",
         "35.6481481481"
        ],
        [
         "46",
         "dots",
         "T1",
         "60",
         "25.6",
         "38.0136986301"
        ],
        [
         "47",
         "dots",
         "T1",
         "60",
         "51.2",
         "37.79296875"
        ],
        [
         "48",
         "dots",
         "T1",
         "80",
         "0.0",
         "36.5537848606"
        ],
        [
         "49",
         "dots",
         "T1",
         "80",
         "3.2",
         "32.3660714286"
        ]
       ],
       "shape": {
        "columns": 5,
        "rows": 848
       }
      },
      "text/html": [
       "<div>\n",
       "<style scoped>\n",
       "    .dataframe tbody tr th:only-of-type {\n",
       "        vertical-align: middle;\n",
       "    }\n",
       "\n",
       "    .dataframe tbody tr th {\n",
       "        vertical-align: top;\n",
       "    }\n",
       "\n",
       "    .dataframe thead th {\n",
       "        text-align: right;\n",
       "    }\n",
       "</style>\n",
       "<table border=\"1\" class=\"dataframe\">\n",
       "  <thead>\n",
       "    <tr style=\"text-align: right;\">\n",
       "      <th></th>\n",
       "      <th>align</th>\n",
       "      <th>choice</th>\n",
       "      <th>time</th>\n",
       "      <th>coherence</th>\n",
       "      <th>firing_rate</th>\n",
       "    </tr>\n",
       "  </thead>\n",
       "  <tbody>\n",
       "    <tr>\n",
       "      <th>0</th>\n",
       "      <td>dots</td>\n",
       "      <td>T1</td>\n",
       "      <td>-80</td>\n",
       "      <td>0.0</td>\n",
       "      <td>33.189967</td>\n",
       "    </tr>\n",
       "    <tr>\n",
       "      <th>1</th>\n",
       "      <td>dots</td>\n",
       "      <td>T1</td>\n",
       "      <td>-80</td>\n",
       "      <td>3.2</td>\n",
       "      <td>31.691726</td>\n",
       "    </tr>\n",
       "    <tr>\n",
       "      <th>2</th>\n",
       "      <td>dots</td>\n",
       "      <td>T1</td>\n",
       "      <td>-80</td>\n",
       "      <td>6.4</td>\n",
       "      <td>34.279840</td>\n",
       "    </tr>\n",
       "    <tr>\n",
       "      <th>3</th>\n",
       "      <td>dots</td>\n",
       "      <td>T1</td>\n",
       "      <td>-80</td>\n",
       "      <td>12.8</td>\n",
       "      <td>32.631874</td>\n",
       "    </tr>\n",
       "    <tr>\n",
       "      <th>4</th>\n",
       "      <td>dots</td>\n",
       "      <td>T1</td>\n",
       "      <td>-80</td>\n",
       "      <td>25.6</td>\n",
       "      <td>35.060487</td>\n",
       "    </tr>\n",
       "    <tr>\n",
       "      <th>...</th>\n",
       "      <td>...</td>\n",
       "      <td>...</td>\n",
       "      <td>...</td>\n",
       "      <td>...</td>\n",
       "      <td>...</td>\n",
       "    </tr>\n",
       "    <tr>\n",
       "      <th>843</th>\n",
       "      <td>sacc</td>\n",
       "      <td>T2</td>\n",
       "      <td>300</td>\n",
       "      <td>3.2</td>\n",
       "      <td>33.281734</td>\n",
       "    </tr>\n",
       "    <tr>\n",
       "      <th>844</th>\n",
       "      <td>sacc</td>\n",
       "      <td>T2</td>\n",
       "      <td>300</td>\n",
       "      <td>6.4</td>\n",
       "      <td>27.583979</td>\n",
       "    </tr>\n",
       "    <tr>\n",
       "      <th>845</th>\n",
       "      <td>sacc</td>\n",
       "      <td>T2</td>\n",
       "      <td>300</td>\n",
       "      <td>12.8</td>\n",
       "      <td>28.511530</td>\n",
       "    </tr>\n",
       "    <tr>\n",
       "      <th>846</th>\n",
       "      <td>sacc</td>\n",
       "      <td>T2</td>\n",
       "      <td>300</td>\n",
       "      <td>25.6</td>\n",
       "      <td>27.009804</td>\n",
       "    </tr>\n",
       "    <tr>\n",
       "      <th>847</th>\n",
       "      <td>sacc</td>\n",
       "      <td>T2</td>\n",
       "      <td>300</td>\n",
       "      <td>51.2</td>\n",
       "      <td>30.959302</td>\n",
       "    </tr>\n",
       "  </tbody>\n",
       "</table>\n",
       "<p>848 rows × 5 columns</p>\n",
       "</div>"
      ],
      "text/plain": [
       "    align choice  time  coherence  firing_rate\n",
       "0    dots     T1   -80        0.0    33.189967\n",
       "1    dots     T1   -80        3.2    31.691726\n",
       "2    dots     T1   -80        6.4    34.279840\n",
       "3    dots     T1   -80       12.8    32.631874\n",
       "4    dots     T1   -80       25.6    35.060487\n",
       "..    ...    ...   ...        ...          ...\n",
       "843  sacc     T2   300        3.2    33.281734\n",
       "844  sacc     T2   300        6.4    27.583979\n",
       "845  sacc     T2   300       12.8    28.511530\n",
       "846  sacc     T2   300       25.6    27.009804\n",
       "847  sacc     T2   300       51.2    30.959302\n",
       "\n",
       "[848 rows x 5 columns]"
      ]
     },
     "execution_count": 112,
     "metadata": {},
     "output_type": "execute_result"
    }
   ],
   "source": [
    "sns.load_dataset(\"dots\")"
   ]
  },
  {
   "cell_type": "code",
   "execution_count": null,
   "metadata": {},
   "outputs": [],
   "source": []
  },
  {
   "cell_type": "code",
   "execution_count": null,
   "id": "f3ea3a83",
   "metadata": {},
   "outputs": [],
   "source": []
  }
 ],
 "metadata": {
  "kernelspec": {
   "display_name": ".venv",
   "language": "python",
   "name": "python3"
  },
  "language_info": {
   "codemirror_mode": {
    "name": "ipython",
    "version": 3
   },
   "file_extension": ".py",
   "mimetype": "text/x-python",
   "name": "python",
   "nbconvert_exporter": "python",
   "pygments_lexer": "ipython3",
   "version": "3.13.7"
  }
 },
 "nbformat": 4,
 "nbformat_minor": 5
}
